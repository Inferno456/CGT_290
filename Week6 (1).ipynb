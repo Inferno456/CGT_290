{
  "nbformat": 4,
  "nbformat_minor": 0,
  "metadata": {
    "kernelspec": {
      "display_name": "Python 3",
      "language": "python",
      "name": "python3"
    },
    "language_info": {
      "codemirror_mode": {
        "name": "ipython",
        "version": 3
      },
      "file_extension": ".py",
      "mimetype": "text/x-python",
      "name": "python",
      "nbconvert_exporter": "python",
      "pygments_lexer": "ipython3",
      "version": "3.7.4"
    },
    "colab": {
      "name": "Week6.ipynb",
      "provenance": [],
      "collapsed_sections": [
        "GNpsq9NSDKK_",
        "9ODFuIWVDKLW",
        "7xQU3t4oDKLv",
        "vovp4d_PDKL2",
        "4YDw9BKlDKL9",
        "_cBYvYBbDKM8",
        "MAVa49VrDKNc"
      ]
    }
  },
  "cells": [
    {
      "cell_type": "markdown",
      "metadata": {
        "id": "iYQLeCxLDKKB",
        "colab_type": "text"
      },
      "source": [
        "# Python Tutorial\n",
        "## Week 6 Pandas\n",
        "### Zongcheng Chu\n",
        "### 2/19/2020"
      ]
    },
    {
      "cell_type": "markdown",
      "metadata": {
        "id": "0movQaoZDKKE",
        "colab_type": "text"
      },
      "source": [
        "## Series\n",
        "\n",
        "Series is a one-dimensional labeled array capable of holding data of any type (integer, string, float, python objects, etc.). The axis labels are collectively called index."
      ]
    },
    {
      "cell_type": "code",
      "metadata": {
        "id": "lwwbqFhzDKKF",
        "colab_type": "code",
        "colab": {
          "base_uri": "https://localhost:8080/",
          "height": 104
        },
        "outputId": "5c067ad9-3f18-4083-d6e3-92e22981fc1f"
      },
      "source": [
        "import pandas as pd\n",
        "import numpy as np\n",
        "\n",
        "data = np.array(['a','b','c','d'])\n",
        "s = pd.Series(data)\n",
        "print(s)"
      ],
      "execution_count": 1,
      "outputs": [
        {
          "output_type": "stream",
          "text": [
            "0    a\n",
            "1    b\n",
            "2    c\n",
            "3    d\n",
            "dtype: object\n"
          ],
          "name": "stdout"
        }
      ]
    },
    {
      "cell_type": "code",
      "metadata": {
        "id": "5lFmCTwZDKKL",
        "colab_type": "code",
        "colab": {},
        "outputId": "4d63b8ad-72ec-4e0a-e1cc-4f97e72616e8"
      },
      "source": [
        "# set index\n",
        "data = np.array(['a','b','c','d'])\n",
        "s = pd.Series(data,index=[100,101,102,103])\n",
        "print(s)"
      ],
      "execution_count": 0,
      "outputs": [
        {
          "output_type": "stream",
          "text": [
            "100    a\n",
            "101    b\n",
            "102    c\n",
            "103    d\n",
            "dtype: object\n"
          ],
          "name": "stdout"
        }
      ]
    },
    {
      "cell_type": "code",
      "metadata": {
        "id": "XD_wOBwCDKKO",
        "colab_type": "code",
        "colab": {},
        "outputId": "382807f1-68b0-4b8a-e5cf-76d4c6a52eb8"
      },
      "source": [
        "# create series from a dictionary\n",
        "data = {'a' : 0., 'b' : 1., 'c' : 2.}\n",
        "s = pd.Series(data)\n",
        "print(s)"
      ],
      "execution_count": 0,
      "outputs": [
        {
          "output_type": "stream",
          "text": [
            "a    0.0\n",
            "b    1.0\n",
            "c    2.0\n",
            "dtype: float64\n"
          ],
          "name": "stdout"
        }
      ]
    },
    {
      "cell_type": "code",
      "metadata": {
        "id": "Fd8mNTQ_DKKS",
        "colab_type": "code",
        "colab": {},
        "outputId": "d8db17a6-ac7e-4e40-8f53-6ab1de547f4c"
      },
      "source": [
        "# create series from scalar\n",
        "import pandas as pd\n",
        "import numpy as np\n",
        "s = pd.Series(5, index=[0, 1, 2, 3])\n",
        "print(s)"
      ],
      "execution_count": 0,
      "outputs": [
        {
          "output_type": "stream",
          "text": [
            "0    5\n",
            "1    5\n",
            "2    5\n",
            "3    5\n",
            "dtype: int64\n"
          ],
          "name": "stdout"
        }
      ]
    },
    {
      "cell_type": "markdown",
      "metadata": {
        "id": "W0Wv0757DKKV",
        "colab_type": "text"
      },
      "source": [
        "## Accessing data from series"
      ]
    },
    {
      "cell_type": "code",
      "metadata": {
        "id": "Bt4ZV5nWDKKW",
        "colab_type": "code",
        "colab": {},
        "outputId": "12ebeae6-5833-46a5-ca4a-22a037069d2a"
      },
      "source": [
        "s = pd.Series([1,2,3,4,5],index = ['a','b','c','d','e'])\n",
        "\n",
        "#get first element\n",
        "print(s[0])\n",
        "\n",
        "print(\"-\"*30)\n",
        "\n",
        "# get first three element\n",
        "print(s[:3])"
      ],
      "execution_count": 0,
      "outputs": [
        {
          "output_type": "stream",
          "text": [
            "1\n",
            "------------------------------\n",
            "a    1\n",
            "b    2\n",
            "c    3\n",
            "dtype: int64\n"
          ],
          "name": "stdout"
        }
      ]
    },
    {
      "cell_type": "code",
      "metadata": {
        "id": "wzs44fjXDKKZ",
        "colab_type": "code",
        "colab": {},
        "outputId": "7454312c-e248-4167-bd9d-9dd6b4082704"
      },
      "source": [
        "# set values by index label\n",
        "s = pd.Series([1,2,3,4,5],index = ['a','b','c','d','e'])\n",
        "\n",
        "#retrieve multiple elements\n",
        "print(s[['a','c','d']])"
      ],
      "execution_count": 0,
      "outputs": [
        {
          "output_type": "stream",
          "text": [
            "a    1\n",
            "c    3\n",
            "d    4\n",
            "dtype: int64\n"
          ],
          "name": "stdout"
        }
      ]
    },
    {
      "cell_type": "markdown",
      "metadata": {
        "id": "6TmZxrP9DKKc",
        "colab_type": "text"
      },
      "source": [
        "## Dataframe"
      ]
    },
    {
      "cell_type": "code",
      "metadata": {
        "id": "xKe2W1VVDKKe",
        "colab_type": "code",
        "colab": {},
        "outputId": "edaa3bff-1925-4654-b796-813aa3293ed9"
      },
      "source": [
        "# create dataframe from a list\n",
        "data = [['Alex',10],['Bob',12],['Clarke',13]]\n",
        "df = pd.DataFrame(data,columns=['Name','Age'])\n",
        "print(df)"
      ],
      "execution_count": 0,
      "outputs": [
        {
          "output_type": "stream",
          "text": [
            "     Name  Age\n",
            "0    Alex   10\n",
            "1     Bob   12\n",
            "2  Clarke   13\n"
          ],
          "name": "stdout"
        }
      ]
    },
    {
      "cell_type": "code",
      "metadata": {
        "id": "2tOHFO0JDKKi",
        "colab_type": "code",
        "colab": {},
        "outputId": "6f86dcf8-347b-4195-cde6-c4513a8da613"
      },
      "source": [
        "# create dataframe from a dictionary\n",
        "data = {'Name':['Tom', 'Jack', 'Steve', 'Ricky'],'Age':[28,34,29,42]}\n",
        "df = pd.DataFrame(data)\n",
        "print(df)"
      ],
      "execution_count": 0,
      "outputs": [
        {
          "output_type": "stream",
          "text": [
            "    Name  Age\n",
            "0    Tom   28\n",
            "1   Jack   34\n",
            "2  Steve   29\n",
            "3  Ricky   42\n"
          ],
          "name": "stdout"
        }
      ]
    },
    {
      "cell_type": "code",
      "metadata": {
        "id": "uKGLKmhSDKKm",
        "colab_type": "code",
        "colab": {},
        "outputId": "bafb4894-a484-4ebc-b819-48dfc0a54277"
      },
      "source": [
        "# create dataframe from series\n",
        "d = {'one' : pd.Series([5, 6, 7, 8], index=['a', 'b', 'c','d']),\n",
        "   'two' : pd.Series([1, 2, 3, 4], index=['a', 'b', 'c', 'd'])}\n",
        "\n",
        "df = pd.DataFrame(d)\n",
        "print(df)"
      ],
      "execution_count": 0,
      "outputs": [
        {
          "output_type": "stream",
          "text": [
            "   one  two\n",
            "a    5    1\n",
            "b    6    2\n",
            "c    7    3\n",
            "d    8    4\n"
          ],
          "name": "stdout"
        }
      ]
    },
    {
      "cell_type": "markdown",
      "metadata": {
        "id": "Vkho0HyQDKKp",
        "colab_type": "text"
      },
      "source": [
        "## Accessing data from dataframe"
      ]
    },
    {
      "cell_type": "code",
      "metadata": {
        "id": "T09vCdUuDKKq",
        "colab_type": "code",
        "colab": {},
        "outputId": "1bcbf77e-ed11-4853-8281-b5a428418391"
      },
      "source": [
        "# Column Selection\n",
        "d = {'one' : pd.Series([11, 22, 33, 44], index=['a', 'b', 'c','d']),\n",
        "   'two' : pd.Series([1, 2, 3, 4], index=['a', 'b', 'c', 'd'])}\n",
        "\n",
        "df = pd.DataFrame(d)\n",
        "print(df['one'])"
      ],
      "execution_count": 0,
      "outputs": [
        {
          "output_type": "stream",
          "text": [
            "a    11\n",
            "b    22\n",
            "c    33\n",
            "d    44\n",
            "Name: one, dtype: int64\n"
          ],
          "name": "stdout"
        }
      ]
    },
    {
      "cell_type": "code",
      "metadata": {
        "id": "p3jlgE6qDKKu",
        "colab_type": "code",
        "colab": {},
        "outputId": "55240304-d74a-43c9-d8e0-3643abc78665"
      },
      "source": [
        "# Column Addition\n",
        "d = {'one' : pd.Series([1, 2, 3,4], index=['a', 'b', 'c','d']),\n",
        "   'two' : pd.Series([1, 2, 3, 4], index=['a', 'b', 'c', 'd'])}\n",
        "\n",
        "df = pd.DataFrame(d)\n",
        "\n",
        "# Adding a new column to an existing DataFrame object with column label by passing new series\n",
        "df['three']=pd.Series([10,20,30,40],index=['a','b','c','d'])\n",
        "\n",
        "df['four']=df['one']+df['three']\n",
        "\n",
        "print(df)"
      ],
      "execution_count": 0,
      "outputs": [
        {
          "output_type": "stream",
          "text": [
            "   one  two  three  four\n",
            "a    1    1     10    11\n",
            "b    2    2     20    22\n",
            "c    3    3     30    33\n",
            "d    4    4     40    44\n"
          ],
          "name": "stdout"
        }
      ]
    },
    {
      "cell_type": "code",
      "metadata": {
        "id": "x-mpDsA8DKKx",
        "colab_type": "code",
        "colab": {},
        "outputId": "535c9443-7f2a-4c3b-87a7-fe195d329da2"
      },
      "source": [
        "# Column deletion\n",
        "d = {'one' : pd.Series([1, 2, 3,4], index=['a', 'b', 'c','d']), \n",
        "   'two' : pd.Series([1, 2, 3, 4], index=['a', 'b', 'c', 'd']), \n",
        "   'three' : pd.Series([10,20,30,40], index=['a','b','c','d'])}\n",
        "\n",
        "df = pd.DataFrame(d)\n",
        "\n",
        "\n",
        "# using del function\n",
        "del df['one']\n",
        "print(df)\n",
        "\n",
        "# using pop function\n",
        "df.pop('two')\n",
        "print(df)"
      ],
      "execution_count": 0,
      "outputs": [
        {
          "output_type": "stream",
          "text": [
            "   two  three\n",
            "a    1     10\n",
            "b    2     20\n",
            "c    3     30\n",
            "d    4     40\n",
            "   three\n",
            "a     10\n",
            "b     20\n",
            "c     30\n",
            "d     40\n"
          ],
          "name": "stdout"
        }
      ]
    },
    {
      "cell_type": "code",
      "metadata": {
        "id": "3pcT6ieJDKK0",
        "colab_type": "code",
        "colab": {},
        "outputId": "93cd1008-0b94-4bff-b5cc-b1072b2e9830"
      },
      "source": [
        "# row selection by label\n",
        "d = {'one' : pd.Series([11, 22, 33, 44], index=['a', 'b', 'c','d']), \n",
        "   'two' : pd.Series([1, 2, 3, 4], index=['a', 'b', 'c', 'd'])}\n",
        "\n",
        "df = pd.DataFrame(d)\n",
        "print(df)\n",
        "print(df.loc['b'])"
      ],
      "execution_count": 0,
      "outputs": [
        {
          "output_type": "stream",
          "text": [
            "   one  two\n",
            "a   11    1\n",
            "b   22    2\n",
            "c   33    3\n",
            "d   44    4\n",
            "one    22\n",
            "two     2\n",
            "Name: b, dtype: int64\n"
          ],
          "name": "stdout"
        }
      ]
    },
    {
      "cell_type": "code",
      "metadata": {
        "id": "HSiM5WwVDKK2",
        "colab_type": "code",
        "colab": {},
        "outputId": "bd5d2ad2-6484-41e9-f76f-c78340a60ce4"
      },
      "source": [
        "#selection by integer location\n",
        "d = {'one' : pd.Series([11, 22, 33, 44], index=['a', 'b', 'c','d']),\n",
        "   'two' : pd.Series([1, 2, 3, 4], index=['a', 'b', 'c', 'd'])}\n",
        "\n",
        "df = pd.DataFrame(d)\n",
        "print(df)\n",
        "print(df.iloc[2])"
      ],
      "execution_count": 0,
      "outputs": [
        {
          "output_type": "stream",
          "text": [
            "   one  two\n",
            "a   11    1\n",
            "b   22    2\n",
            "c   33    3\n",
            "d   44    4\n",
            "one    33\n",
            "two     3\n",
            "Name: c, dtype: int64\n"
          ],
          "name": "stdout"
        }
      ]
    },
    {
      "cell_type": "code",
      "metadata": {
        "id": "YK8m9Hg8DKK6",
        "colab_type": "code",
        "colab": {},
        "outputId": "a85b4531-ca93-479c-c551-84aac56fdd49"
      },
      "source": [
        "# Slice Rows\n",
        "# Multiple rows can be selected using ‘ : ’ operator.\n",
        "d = {'one' : pd.Series([11, 22, 33, 44], index=['a', 'b', 'c','d']),\n",
        "   'two' : pd.Series([1, 2, 3, 4], index=['a', 'b', 'c', 'd'])}\n",
        "\n",
        "df = pd.DataFrame(d)\n",
        "print(df[2:4])"
      ],
      "execution_count": 0,
      "outputs": [
        {
          "output_type": "stream",
          "text": [
            "   one  two\n",
            "c   33    3\n",
            "d   44    4\n"
          ],
          "name": "stdout"
        }
      ]
    },
    {
      "cell_type": "code",
      "metadata": {
        "id": "R1NXwZHIDKK9",
        "colab_type": "code",
        "colab": {},
        "outputId": "b5842cdc-aaa5-4e61-b8c2-58396c5c5b1e"
      },
      "source": [
        "# deletion of rows\n",
        "df = pd.DataFrame([[1, 2], [3, 4]], columns = ['a','b'])\n",
        "print(df)\n",
        "\n",
        "print(\"-\"*30)\n",
        "# Drop rows with label 0\n",
        "df = df.drop(0)\n",
        "print(df)"
      ],
      "execution_count": 0,
      "outputs": [
        {
          "output_type": "stream",
          "text": [
            "   a  b\n",
            "0  1  2\n",
            "1  3  4\n",
            "------------------------------\n",
            "   a  b\n",
            "1  3  4\n"
          ],
          "name": "stdout"
        }
      ]
    },
    {
      "cell_type": "markdown",
      "metadata": {
        "id": "GNpsq9NSDKK_",
        "colab_type": "text"
      },
      "source": [
        "## Basic Functionality"
      ]
    },
    {
      "cell_type": "code",
      "metadata": {
        "id": "HnLrKVWNDKLA",
        "colab_type": "code",
        "colab": {},
        "outputId": "f8562f09-549d-467b-c2b7-884da78203b1"
      },
      "source": [
        "#size\n",
        "#Returns the size(length) of the series.\n",
        "\n",
        "#Create a series with 4 random numbers\n",
        "s = pd.Series(np.random.randn(4))\n",
        "print(s)\n",
        "print (\"The size of the object:\")\n",
        "print(s.size)"
      ],
      "execution_count": 0,
      "outputs": [
        {
          "output_type": "stream",
          "text": [
            "0   -0.643456\n",
            "1    0.395074\n",
            "2   -0.675197\n",
            "3    0.083673\n",
            "dtype: float64\n",
            "The size of the object:\n",
            "4\n"
          ],
          "name": "stdout"
        }
      ]
    },
    {
      "cell_type": "code",
      "metadata": {
        "id": "mykEi2vHDKLC",
        "colab_type": "code",
        "colab": {},
        "outputId": "07bf6c73-fc90-4a9f-ae4e-e9520537255d"
      },
      "source": [
        "#values\n",
        "#Returns the actual data in the series as an array.\n",
        "s = pd.Series(np.random.randn(4))\n",
        "s.values"
      ],
      "execution_count": 0,
      "outputs": [
        {
          "output_type": "execute_result",
          "data": {
            "text/plain": [
              "array([-0.72977152, -0.93274563, -0.39415613, -0.02808291])"
            ]
          },
          "metadata": {
            "tags": []
          },
          "execution_count": 33
        }
      ]
    },
    {
      "cell_type": "code",
      "metadata": {
        "id": "iFuHZZWZDKLF",
        "colab_type": "code",
        "colab": {},
        "outputId": "6ed4435b-a6fc-4aee-dd60-0a363eaa847e"
      },
      "source": [
        "#T (Transpose)\n",
        "#Returns the transpose of the DataFrame. The rows and columns will interchange.\n",
        "\n",
        "d = {'Name':pd.Series(['Tom','James','Ricky','Vin','Steve','Smith','Jack']),\n",
        "   'Age':pd.Series([25,26,25,23,30,29,23]),\n",
        "   'Rating':pd.Series([4.23,3.24,3.98,2.56,3.20,4.6,3.8])}\n",
        "\n",
        "# Create a DataFrame\n",
        "df = pd.DataFrame(d)\n",
        "print (\"The original data series is:\")\n",
        "print(df)\n",
        "print (\"The transpose of the data series is:\")\n",
        "print(df.T)"
      ],
      "execution_count": 0,
      "outputs": [
        {
          "output_type": "stream",
          "text": [
            "The original data series is:\n",
            "    Name  Age  Rating\n",
            "0    Tom   25    4.23\n",
            "1  James   26    3.24\n",
            "2  Ricky   25    3.98\n",
            "3    Vin   23    2.56\n",
            "4  Steve   30    3.20\n",
            "5  Smith   29    4.60\n",
            "6   Jack   23    3.80\n",
            "The transpose of the data series is:\n",
            "           0      1      2     3      4      5     6\n",
            "Name     Tom  James  Ricky   Vin  Steve  Smith  Jack\n",
            "Age       25     26     25    23     30     29    23\n",
            "Rating  4.23   3.24   3.98  2.56    3.2    4.6   3.8\n"
          ],
          "name": "stdout"
        }
      ]
    },
    {
      "cell_type": "code",
      "metadata": {
        "id": "2hy12I19DKLK",
        "colab_type": "code",
        "colab": {},
        "outputId": "320e6e65-7cc7-4ce1-85b7-2109925a4bbd"
      },
      "source": [
        "# shape\n",
        "#Returns a tuple representing the dimensionality of the DataFrame. \n",
        "#Tuple (a,b), where a represents the number of rows and b represents the number of columns.\n",
        "df.shape"
      ],
      "execution_count": 0,
      "outputs": [
        {
          "output_type": "execute_result",
          "data": {
            "text/plain": [
              "(7, 3)"
            ]
          },
          "metadata": {
            "tags": []
          },
          "execution_count": 38
        }
      ]
    },
    {
      "cell_type": "code",
      "metadata": {
        "id": "lbzA0R1GDKLN",
        "colab_type": "code",
        "colab": {},
        "outputId": "968048dd-1997-46cd-9d83-dcab03a59dda"
      },
      "source": [
        "# values\n",
        "# Returns the actual data in the DataFrame as an NDarray.\n",
        "df.values"
      ],
      "execution_count": 0,
      "outputs": [
        {
          "output_type": "execute_result",
          "data": {
            "text/plain": [
              "array([['Tom', 25, 4.23],\n",
              "       ['James', 26, 3.24],\n",
              "       ['Ricky', 25, 3.98],\n",
              "       ['Vin', 23, 2.56],\n",
              "       ['Steve', 30, 3.2],\n",
              "       ['Smith', 29, 4.6],\n",
              "       ['Jack', 23, 3.8]], dtype=object)"
            ]
          },
          "metadata": {
            "tags": []
          },
          "execution_count": 39
        }
      ]
    },
    {
      "cell_type": "code",
      "metadata": {
        "id": "jH-YxR9RDKLQ",
        "colab_type": "code",
        "colab": {},
        "outputId": "20788b2b-3e9c-49c8-84f7-aab61c799560"
      },
      "source": [
        "# head\n",
        "df.head(2)"
      ],
      "execution_count": 0,
      "outputs": [
        {
          "output_type": "execute_result",
          "data": {
            "text/html": [
              "<div>\n",
              "<style scoped>\n",
              "    .dataframe tbody tr th:only-of-type {\n",
              "        vertical-align: middle;\n",
              "    }\n",
              "\n",
              "    .dataframe tbody tr th {\n",
              "        vertical-align: top;\n",
              "    }\n",
              "\n",
              "    .dataframe thead th {\n",
              "        text-align: right;\n",
              "    }\n",
              "</style>\n",
              "<table border=\"1\" class=\"dataframe\">\n",
              "  <thead>\n",
              "    <tr style=\"text-align: right;\">\n",
              "      <th></th>\n",
              "      <th>Name</th>\n",
              "      <th>Age</th>\n",
              "      <th>Rating</th>\n",
              "    </tr>\n",
              "  </thead>\n",
              "  <tbody>\n",
              "    <tr>\n",
              "      <td>0</td>\n",
              "      <td>Tom</td>\n",
              "      <td>25</td>\n",
              "      <td>4.23</td>\n",
              "    </tr>\n",
              "    <tr>\n",
              "      <td>1</td>\n",
              "      <td>James</td>\n",
              "      <td>26</td>\n",
              "      <td>3.24</td>\n",
              "    </tr>\n",
              "  </tbody>\n",
              "</table>\n",
              "</div>"
            ],
            "text/plain": [
              "    Name  Age  Rating\n",
              "0    Tom   25    4.23\n",
              "1  James   26    3.24"
            ]
          },
          "metadata": {
            "tags": []
          },
          "execution_count": 41
        }
      ]
    },
    {
      "cell_type": "code",
      "metadata": {
        "id": "IsLKm4FDDKLS",
        "colab_type": "code",
        "colab": {},
        "outputId": "385e2171-7989-4b96-f0e3-03f9b4067ee1"
      },
      "source": [
        "#tail\n",
        "df.tail(2)"
      ],
      "execution_count": 0,
      "outputs": [
        {
          "output_type": "execute_result",
          "data": {
            "text/html": [
              "<div>\n",
              "<style scoped>\n",
              "    .dataframe tbody tr th:only-of-type {\n",
              "        vertical-align: middle;\n",
              "    }\n",
              "\n",
              "    .dataframe tbody tr th {\n",
              "        vertical-align: top;\n",
              "    }\n",
              "\n",
              "    .dataframe thead th {\n",
              "        text-align: right;\n",
              "    }\n",
              "</style>\n",
              "<table border=\"1\" class=\"dataframe\">\n",
              "  <thead>\n",
              "    <tr style=\"text-align: right;\">\n",
              "      <th></th>\n",
              "      <th>Name</th>\n",
              "      <th>Age</th>\n",
              "      <th>Rating</th>\n",
              "    </tr>\n",
              "  </thead>\n",
              "  <tbody>\n",
              "    <tr>\n",
              "      <td>5</td>\n",
              "      <td>Smith</td>\n",
              "      <td>29</td>\n",
              "      <td>4.6</td>\n",
              "    </tr>\n",
              "    <tr>\n",
              "      <td>6</td>\n",
              "      <td>Jack</td>\n",
              "      <td>23</td>\n",
              "      <td>3.8</td>\n",
              "    </tr>\n",
              "  </tbody>\n",
              "</table>\n",
              "</div>"
            ],
            "text/plain": [
              "    Name  Age  Rating\n",
              "5  Smith   29     4.6\n",
              "6   Jack   23     3.8"
            ]
          },
          "metadata": {
            "tags": []
          },
          "execution_count": 42
        }
      ]
    },
    {
      "cell_type": "markdown",
      "metadata": {
        "id": "9ODFuIWVDKLW",
        "colab_type": "text"
      },
      "source": [
        "## Descriptive Statistics"
      ]
    },
    {
      "cell_type": "code",
      "metadata": {
        "id": "7ZpWY3cADKLX",
        "colab_type": "code",
        "colab": {},
        "outputId": "46b833c6-6430-4165-d59e-c7b09444418f"
      },
      "source": [
        "#Create a Dictionary of series\n",
        "d = {'Name':pd.Series(['Tom','James','Ricky','Vin','Steve','Smith','Jack',\n",
        "   'Lee','David','Gasper','Betina','Andres']),\n",
        "   'Age':pd.Series([25,26,25,23,30,29,23,34,40,30,51,46]),\n",
        "   'Rating':pd.Series([4.23,3.24,3.98,2.56,3.20,4.6,3.8,3.78,2.98,4.80,4.10,3.65])\n",
        "}\n",
        "\n",
        "#Create a DataFrame\n",
        "df = pd.DataFrame(d)\n",
        "print(df)"
      ],
      "execution_count": 0,
      "outputs": [
        {
          "output_type": "stream",
          "text": [
            "      Name  Age  Rating\n",
            "0      Tom   25    4.23\n",
            "1    James   26    3.24\n",
            "2    Ricky   25    3.98\n",
            "3      Vin   23    2.56\n",
            "4    Steve   30    3.20\n",
            "5    Smith   29    4.60\n",
            "6     Jack   23    3.80\n",
            "7      Lee   34    3.78\n",
            "8    David   40    2.98\n",
            "9   Gasper   30    4.80\n",
            "10  Betina   51    4.10\n",
            "11  Andres   46    3.65\n"
          ],
          "name": "stdout"
        }
      ]
    },
    {
      "cell_type": "code",
      "metadata": {
        "id": "M27NwFYlDKLa",
        "colab_type": "code",
        "colab": {},
        "outputId": "afdc5344-68be-4342-fdb2-f3138d800298"
      },
      "source": [
        "# sum()\n",
        "# Returns the sum of the values for the requested axis. By default, axis is index (axis=0).\n",
        "df.sum()"
      ],
      "execution_count": 0,
      "outputs": [
        {
          "output_type": "execute_result",
          "data": {
            "text/plain": [
              "Name      TomJamesRickyVinSteveSmithJackLeeDavidGasperBe...\n",
              "Age                                                     382\n",
              "Rating                                                44.92\n",
              "dtype: object"
            ]
          },
          "metadata": {
            "tags": []
          },
          "execution_count": 44
        }
      ]
    },
    {
      "cell_type": "code",
      "metadata": {
        "id": "pQAf8yDFDKLc",
        "colab_type": "code",
        "colab": {},
        "outputId": "d81aafd6-d241-498e-89da-433ae783c8d9"
      },
      "source": [
        "df.sum(1) # on a row level"
      ],
      "execution_count": 0,
      "outputs": [
        {
          "output_type": "execute_result",
          "data": {
            "text/plain": [
              "0     29.23\n",
              "1     29.24\n",
              "2     28.98\n",
              "3     25.56\n",
              "4     33.20\n",
              "5     33.60\n",
              "6     26.80\n",
              "7     37.78\n",
              "8     42.98\n",
              "9     34.80\n",
              "10    55.10\n",
              "11    49.65\n",
              "dtype: float64"
            ]
          },
          "metadata": {
            "tags": []
          },
          "execution_count": 45
        }
      ]
    },
    {
      "cell_type": "code",
      "metadata": {
        "id": "YaIgDZXpDKLe",
        "colab_type": "code",
        "colab": {},
        "outputId": "3415cad0-23ff-4a94-f134-47f9e129bffc"
      },
      "source": [
        "#mean()\n",
        "#Returns the average value\n",
        "df.mean()"
      ],
      "execution_count": 0,
      "outputs": [
        {
          "output_type": "execute_result",
          "data": {
            "text/plain": [
              "Age       31.833333\n",
              "Rating     3.743333\n",
              "dtype: float64"
            ]
          },
          "metadata": {
            "tags": []
          },
          "execution_count": 46
        }
      ]
    },
    {
      "cell_type": "code",
      "metadata": {
        "id": "pejl4xrrDKLh",
        "colab_type": "code",
        "colab": {},
        "outputId": "3529cc8e-9fa2-4487-de0f-f727b8d7f4dd"
      },
      "source": [
        "# std()\n",
        "df.std()"
      ],
      "execution_count": 0,
      "outputs": [
        {
          "output_type": "execute_result",
          "data": {
            "text/plain": [
              "Age       9.232682\n",
              "Rating    0.661628\n",
              "dtype: float64"
            ]
          },
          "metadata": {
            "tags": []
          },
          "execution_count": 47
        }
      ]
    },
    {
      "cell_type": "code",
      "metadata": {
        "id": "rD7ulpZMDKLj",
        "colab_type": "code",
        "colab": {},
        "outputId": "aab7c987-9079-402c-cd9d-4585af9fcec7"
      },
      "source": [
        "df.max()"
      ],
      "execution_count": 0,
      "outputs": [
        {
          "output_type": "execute_result",
          "data": {
            "text/plain": [
              "Name      Vin\n",
              "Age        51\n",
              "Rating    4.8\n",
              "dtype: object"
            ]
          },
          "metadata": {
            "tags": []
          },
          "execution_count": 49
        }
      ]
    },
    {
      "cell_type": "code",
      "metadata": {
        "id": "X1h6hRfBDKLm",
        "colab_type": "code",
        "colab": {},
        "outputId": "9c98d45b-c0dc-41a5-be83-7674c1c808a8"
      },
      "source": [
        "df.min()"
      ],
      "execution_count": 0,
      "outputs": [
        {
          "output_type": "execute_result",
          "data": {
            "text/plain": [
              "Name      Andres\n",
              "Age           23\n",
              "Rating      2.56\n",
              "dtype: object"
            ]
          },
          "metadata": {
            "tags": []
          },
          "execution_count": 50
        }
      ]
    },
    {
      "cell_type": "code",
      "metadata": {
        "id": "Y2tctJS9DKLp",
        "colab_type": "code",
        "colab": {},
        "outputId": "96e7d58e-59cf-4c1f-cb34-b88418c88842"
      },
      "source": [
        "df.median()"
      ],
      "execution_count": 0,
      "outputs": [
        {
          "output_type": "execute_result",
          "data": {
            "text/plain": [
              "Age       29.50\n",
              "Rating     3.79\n",
              "dtype: float64"
            ]
          },
          "metadata": {
            "tags": []
          },
          "execution_count": 51
        }
      ]
    },
    {
      "cell_type": "code",
      "metadata": {
        "id": "0L0JXd4IDKLs",
        "colab_type": "code",
        "colab": {},
        "outputId": "3f23f57b-3593-4bfd-81b9-89ad7503212e"
      },
      "source": [
        "# Summarizing Data\n",
        "# The describe() function computes a summary of statistics pertaining to the DataFrame columns.\n",
        "df.describe()"
      ],
      "execution_count": 0,
      "outputs": [
        {
          "output_type": "execute_result",
          "data": {
            "text/html": [
              "<div>\n",
              "<style scoped>\n",
              "    .dataframe tbody tr th:only-of-type {\n",
              "        vertical-align: middle;\n",
              "    }\n",
              "\n",
              "    .dataframe tbody tr th {\n",
              "        vertical-align: top;\n",
              "    }\n",
              "\n",
              "    .dataframe thead th {\n",
              "        text-align: right;\n",
              "    }\n",
              "</style>\n",
              "<table border=\"1\" class=\"dataframe\">\n",
              "  <thead>\n",
              "    <tr style=\"text-align: right;\">\n",
              "      <th></th>\n",
              "      <th>Age</th>\n",
              "      <th>Rating</th>\n",
              "    </tr>\n",
              "  </thead>\n",
              "  <tbody>\n",
              "    <tr>\n",
              "      <td>count</td>\n",
              "      <td>12.000000</td>\n",
              "      <td>12.000000</td>\n",
              "    </tr>\n",
              "    <tr>\n",
              "      <td>mean</td>\n",
              "      <td>31.833333</td>\n",
              "      <td>3.743333</td>\n",
              "    </tr>\n",
              "    <tr>\n",
              "      <td>std</td>\n",
              "      <td>9.232682</td>\n",
              "      <td>0.661628</td>\n",
              "    </tr>\n",
              "    <tr>\n",
              "      <td>min</td>\n",
              "      <td>23.000000</td>\n",
              "      <td>2.560000</td>\n",
              "    </tr>\n",
              "    <tr>\n",
              "      <td>25%</td>\n",
              "      <td>25.000000</td>\n",
              "      <td>3.230000</td>\n",
              "    </tr>\n",
              "    <tr>\n",
              "      <td>50%</td>\n",
              "      <td>29.500000</td>\n",
              "      <td>3.790000</td>\n",
              "    </tr>\n",
              "    <tr>\n",
              "      <td>75%</td>\n",
              "      <td>35.500000</td>\n",
              "      <td>4.132500</td>\n",
              "    </tr>\n",
              "    <tr>\n",
              "      <td>max</td>\n",
              "      <td>51.000000</td>\n",
              "      <td>4.800000</td>\n",
              "    </tr>\n",
              "  </tbody>\n",
              "</table>\n",
              "</div>"
            ],
            "text/plain": [
              "             Age     Rating\n",
              "count  12.000000  12.000000\n",
              "mean   31.833333   3.743333\n",
              "std     9.232682   0.661628\n",
              "min    23.000000   2.560000\n",
              "25%    25.000000   3.230000\n",
              "50%    29.500000   3.790000\n",
              "75%    35.500000   4.132500\n",
              "max    51.000000   4.800000"
            ]
          },
          "metadata": {
            "tags": []
          },
          "execution_count": 52
        }
      ]
    },
    {
      "cell_type": "markdown",
      "metadata": {
        "id": "7xQU3t4oDKLv",
        "colab_type": "text"
      },
      "source": [
        "## Rename"
      ]
    },
    {
      "cell_type": "code",
      "metadata": {
        "id": "wOoaim3zDKLw",
        "colab_type": "code",
        "colab": {},
        "outputId": "21566876-6f56-477c-f3e1-c326e6e4b14c"
      },
      "source": [
        "df1 = pd.DataFrame(np.random.randn(6,3),columns=['col1','col2','col3'])\n",
        "print(df1)\n",
        "\n",
        "print (\"After renaming the rows and columns:\")\n",
        "df1.rename(columns={'col1' : 'c1', 'col2' : 'c2'},index = {0 : 'apple', 1 : 'banana', 2 : 'durian'})"
      ],
      "execution_count": 0,
      "outputs": [
        {
          "output_type": "stream",
          "text": [
            "       col1      col2      col3\n",
            "0  0.247696 -0.997520  0.626368\n",
            "1  0.483043 -1.204707  0.833685\n",
            "2 -0.357949 -0.231965 -1.397834\n",
            "3  1.225137  0.311912 -0.762000\n",
            "4 -1.500123  0.853652 -0.451185\n",
            "5 -1.189524  0.829433  0.982848\n",
            "After renaming the rows and columns:\n"
          ],
          "name": "stdout"
        },
        {
          "output_type": "execute_result",
          "data": {
            "text/html": [
              "<div>\n",
              "<style scoped>\n",
              "    .dataframe tbody tr th:only-of-type {\n",
              "        vertical-align: middle;\n",
              "    }\n",
              "\n",
              "    .dataframe tbody tr th {\n",
              "        vertical-align: top;\n",
              "    }\n",
              "\n",
              "    .dataframe thead th {\n",
              "        text-align: right;\n",
              "    }\n",
              "</style>\n",
              "<table border=\"1\" class=\"dataframe\">\n",
              "  <thead>\n",
              "    <tr style=\"text-align: right;\">\n",
              "      <th></th>\n",
              "      <th>c1</th>\n",
              "      <th>c2</th>\n",
              "      <th>col3</th>\n",
              "    </tr>\n",
              "  </thead>\n",
              "  <tbody>\n",
              "    <tr>\n",
              "      <td>apple</td>\n",
              "      <td>0.247696</td>\n",
              "      <td>-0.997520</td>\n",
              "      <td>0.626368</td>\n",
              "    </tr>\n",
              "    <tr>\n",
              "      <td>banana</td>\n",
              "      <td>0.483043</td>\n",
              "      <td>-1.204707</td>\n",
              "      <td>0.833685</td>\n",
              "    </tr>\n",
              "    <tr>\n",
              "      <td>durian</td>\n",
              "      <td>-0.357949</td>\n",
              "      <td>-0.231965</td>\n",
              "      <td>-1.397834</td>\n",
              "    </tr>\n",
              "    <tr>\n",
              "      <td>3</td>\n",
              "      <td>1.225137</td>\n",
              "      <td>0.311912</td>\n",
              "      <td>-0.762000</td>\n",
              "    </tr>\n",
              "    <tr>\n",
              "      <td>4</td>\n",
              "      <td>-1.500123</td>\n",
              "      <td>0.853652</td>\n",
              "      <td>-0.451185</td>\n",
              "    </tr>\n",
              "    <tr>\n",
              "      <td>5</td>\n",
              "      <td>-1.189524</td>\n",
              "      <td>0.829433</td>\n",
              "      <td>0.982848</td>\n",
              "    </tr>\n",
              "  </tbody>\n",
              "</table>\n",
              "</div>"
            ],
            "text/plain": [
              "              c1        c2      col3\n",
              "apple   0.247696 -0.997520  0.626368\n",
              "banana  0.483043 -1.204707  0.833685\n",
              "durian -0.357949 -0.231965 -1.397834\n",
              "3       1.225137  0.311912 -0.762000\n",
              "4      -1.500123  0.853652 -0.451185\n",
              "5      -1.189524  0.829433  0.982848"
            ]
          },
          "metadata": {
            "tags": []
          },
          "execution_count": 53
        }
      ]
    },
    {
      "cell_type": "markdown",
      "metadata": {
        "id": "vovp4d_PDKL2",
        "colab_type": "text"
      },
      "source": [
        "## Iteration"
      ]
    },
    {
      "cell_type": "code",
      "metadata": {
        "id": "aMxZOoWaDKL3",
        "colab_type": "code",
        "colab": {},
        "outputId": "ea4a5129-bc97-468f-dbfe-fd51c19ae3ee"
      },
      "source": [
        "# Iterating a DataFrame gives column names\n",
        "N=20\n",
        "df = pd.DataFrame({\n",
        "   'A': pd.date_range(start='2016-01-01',periods=N,freq='D'),\n",
        "   'x': np.linspace(0,stop=N-1,num=N),\n",
        "   'y': np.random.rand(N),\n",
        "   'C': np.random.choice(['Low','Medium','High'],N).tolist(),\n",
        "   'D': np.random.normal(100, 10, size=(N)).tolist()\n",
        "   })\n",
        "\n",
        "print(df)\n",
        "print(\"printing column names\")\n",
        "for col in df:\n",
        "    print(col)"
      ],
      "execution_count": 0,
      "outputs": [
        {
          "output_type": "stream",
          "text": [
            "            A     x         y       C           D\n",
            "0  2016-01-01   0.0  0.909765  Medium  108.031332\n",
            "1  2016-01-02   1.0  0.111406     Low   92.066900\n",
            "2  2016-01-03   2.0  0.002837  Medium  103.218086\n",
            "3  2016-01-04   3.0  0.735447    High  102.956832\n",
            "4  2016-01-05   4.0  0.968383    High  109.755968\n",
            "5  2016-01-06   5.0  0.308518     Low  105.722324\n",
            "6  2016-01-07   6.0  0.203941  Medium  110.715550\n",
            "7  2016-01-08   7.0  0.843251  Medium  104.952474\n",
            "8  2016-01-09   8.0  0.323754     Low   77.060194\n",
            "9  2016-01-10   9.0  0.748270  Medium   99.644270\n",
            "10 2016-01-11  10.0  0.743663    High   85.642198\n",
            "11 2016-01-12  11.0  0.847792  Medium  112.255562\n",
            "12 2016-01-13  12.0  0.198488     Low   91.197233\n",
            "13 2016-01-14  13.0  0.759532    High  108.743730\n",
            "14 2016-01-15  14.0  0.951543     Low  104.363137\n",
            "15 2016-01-16  15.0  0.838933    High   84.177280\n",
            "16 2016-01-17  16.0  0.440585     Low  121.712505\n",
            "17 2016-01-18  17.0  0.404359    High  100.131619\n",
            "18 2016-01-19  18.0  0.231786    High   83.983749\n",
            "19 2016-01-20  19.0  0.561849     Low  107.537011\n",
            "printing column names\n",
            "A\n",
            "x\n",
            "y\n",
            "C\n",
            "D\n"
          ],
          "name": "stdout"
        }
      ]
    },
    {
      "cell_type": "code",
      "metadata": {
        "id": "Qb6EHoXfDKL6",
        "colab_type": "code",
        "colab": {},
        "outputId": "eee8df55-9a61-4ecf-94f2-de3542e8219a"
      },
      "source": [
        "# To iterate over the rows of the DataFrame\n",
        "for row in df.iterrows():\n",
        "    print(row[1]['C'])"
      ],
      "execution_count": 0,
      "outputs": [
        {
          "output_type": "stream",
          "text": [
            "Medium\n",
            "Low\n",
            "Medium\n",
            "High\n",
            "High\n",
            "Low\n",
            "Medium\n",
            "Medium\n",
            "Low\n",
            "Medium\n",
            "High\n",
            "Medium\n",
            "Low\n",
            "High\n",
            "Low\n",
            "High\n",
            "Low\n",
            "High\n",
            "High\n",
            "Low\n"
          ],
          "name": "stdout"
        }
      ]
    },
    {
      "cell_type": "markdown",
      "metadata": {
        "id": "4YDw9BKlDKL9",
        "colab_type": "text"
      },
      "source": [
        "## Sorting"
      ]
    },
    {
      "cell_type": "code",
      "metadata": {
        "id": "GIs9feBLDKL9",
        "colab_type": "code",
        "colab": {},
        "outputId": "8851d484-7b23-4352-acb6-b3163673f636"
      },
      "source": [
        "unsorted_df=pd.DataFrame(np.random.randn(10,2),index=[1,4,6,2,3,5,9,8,0,7],columns=['col2','col1'])\n",
        "print(unsorted_df)"
      ],
      "execution_count": 0,
      "outputs": [
        {
          "output_type": "stream",
          "text": [
            "       col2      col1\n",
            "1  0.330783  1.356848\n",
            "4  0.882037  1.530766\n",
            "6  0.784493  0.397434\n",
            "2  0.328289  0.232696\n",
            "3 -0.507618  0.939422\n",
            "5  0.242022 -1.147194\n",
            "9 -1.456935  1.812756\n",
            "8  2.237754 -1.468803\n",
            "0  0.885650  1.355595\n",
            "7  0.217845  0.102969\n"
          ],
          "name": "stdout"
        }
      ]
    },
    {
      "cell_type": "code",
      "metadata": {
        "id": "j8VOsaX6DKL_",
        "colab_type": "code",
        "colab": {},
        "outputId": "93f8c0b4-1e39-4271-fffa-515cf27b0bc4"
      },
      "source": [
        "sorted_df = unsorted_df.sort_values(by='col1')\n",
        "sorted_df"
      ],
      "execution_count": 0,
      "outputs": [
        {
          "output_type": "execute_result",
          "data": {
            "text/html": [
              "<div>\n",
              "<style scoped>\n",
              "    .dataframe tbody tr th:only-of-type {\n",
              "        vertical-align: middle;\n",
              "    }\n",
              "\n",
              "    .dataframe tbody tr th {\n",
              "        vertical-align: top;\n",
              "    }\n",
              "\n",
              "    .dataframe thead th {\n",
              "        text-align: right;\n",
              "    }\n",
              "</style>\n",
              "<table border=\"1\" class=\"dataframe\">\n",
              "  <thead>\n",
              "    <tr style=\"text-align: right;\">\n",
              "      <th></th>\n",
              "      <th>col2</th>\n",
              "      <th>col1</th>\n",
              "    </tr>\n",
              "  </thead>\n",
              "  <tbody>\n",
              "    <tr>\n",
              "      <td>8</td>\n",
              "      <td>2.237754</td>\n",
              "      <td>-1.468803</td>\n",
              "    </tr>\n",
              "    <tr>\n",
              "      <td>5</td>\n",
              "      <td>0.242022</td>\n",
              "      <td>-1.147194</td>\n",
              "    </tr>\n",
              "    <tr>\n",
              "      <td>7</td>\n",
              "      <td>0.217845</td>\n",
              "      <td>0.102969</td>\n",
              "    </tr>\n",
              "    <tr>\n",
              "      <td>2</td>\n",
              "      <td>0.328289</td>\n",
              "      <td>0.232696</td>\n",
              "    </tr>\n",
              "    <tr>\n",
              "      <td>6</td>\n",
              "      <td>0.784493</td>\n",
              "      <td>0.397434</td>\n",
              "    </tr>\n",
              "    <tr>\n",
              "      <td>3</td>\n",
              "      <td>-0.507618</td>\n",
              "      <td>0.939422</td>\n",
              "    </tr>\n",
              "    <tr>\n",
              "      <td>0</td>\n",
              "      <td>0.885650</td>\n",
              "      <td>1.355595</td>\n",
              "    </tr>\n",
              "    <tr>\n",
              "      <td>1</td>\n",
              "      <td>0.330783</td>\n",
              "      <td>1.356848</td>\n",
              "    </tr>\n",
              "    <tr>\n",
              "      <td>4</td>\n",
              "      <td>0.882037</td>\n",
              "      <td>1.530766</td>\n",
              "    </tr>\n",
              "    <tr>\n",
              "      <td>9</td>\n",
              "      <td>-1.456935</td>\n",
              "      <td>1.812756</td>\n",
              "    </tr>\n",
              "  </tbody>\n",
              "</table>\n",
              "</div>"
            ],
            "text/plain": [
              "       col2      col1\n",
              "8  2.237754 -1.468803\n",
              "5  0.242022 -1.147194\n",
              "7  0.217845  0.102969\n",
              "2  0.328289  0.232696\n",
              "6  0.784493  0.397434\n",
              "3 -0.507618  0.939422\n",
              "0  0.885650  1.355595\n",
              "1  0.330783  1.356848\n",
              "4  0.882037  1.530766\n",
              "9 -1.456935  1.812756"
            ]
          },
          "metadata": {
            "tags": []
          },
          "execution_count": 66
        }
      ]
    },
    {
      "cell_type": "code",
      "metadata": {
        "id": "DQd-jzZHDKMD",
        "colab_type": "code",
        "colab": {},
        "outputId": "9fc138ea-7567-4f4b-e24d-6276df37ad00"
      },
      "source": [
        "sorted_df = unsorted_df.sort_values(by='col1', ascending=False)\n",
        "sorted_df"
      ],
      "execution_count": 0,
      "outputs": [
        {
          "output_type": "execute_result",
          "data": {
            "text/html": [
              "<div>\n",
              "<style scoped>\n",
              "    .dataframe tbody tr th:only-of-type {\n",
              "        vertical-align: middle;\n",
              "    }\n",
              "\n",
              "    .dataframe tbody tr th {\n",
              "        vertical-align: top;\n",
              "    }\n",
              "\n",
              "    .dataframe thead th {\n",
              "        text-align: right;\n",
              "    }\n",
              "</style>\n",
              "<table border=\"1\" class=\"dataframe\">\n",
              "  <thead>\n",
              "    <tr style=\"text-align: right;\">\n",
              "      <th></th>\n",
              "      <th>col2</th>\n",
              "      <th>col1</th>\n",
              "    </tr>\n",
              "  </thead>\n",
              "  <tbody>\n",
              "    <tr>\n",
              "      <td>9</td>\n",
              "      <td>-1.456935</td>\n",
              "      <td>1.812756</td>\n",
              "    </tr>\n",
              "    <tr>\n",
              "      <td>4</td>\n",
              "      <td>0.882037</td>\n",
              "      <td>1.530766</td>\n",
              "    </tr>\n",
              "    <tr>\n",
              "      <td>1</td>\n",
              "      <td>0.330783</td>\n",
              "      <td>1.356848</td>\n",
              "    </tr>\n",
              "    <tr>\n",
              "      <td>0</td>\n",
              "      <td>0.885650</td>\n",
              "      <td>1.355595</td>\n",
              "    </tr>\n",
              "    <tr>\n",
              "      <td>3</td>\n",
              "      <td>-0.507618</td>\n",
              "      <td>0.939422</td>\n",
              "    </tr>\n",
              "    <tr>\n",
              "      <td>6</td>\n",
              "      <td>0.784493</td>\n",
              "      <td>0.397434</td>\n",
              "    </tr>\n",
              "    <tr>\n",
              "      <td>2</td>\n",
              "      <td>0.328289</td>\n",
              "      <td>0.232696</td>\n",
              "    </tr>\n",
              "    <tr>\n",
              "      <td>7</td>\n",
              "      <td>0.217845</td>\n",
              "      <td>0.102969</td>\n",
              "    </tr>\n",
              "    <tr>\n",
              "      <td>5</td>\n",
              "      <td>0.242022</td>\n",
              "      <td>-1.147194</td>\n",
              "    </tr>\n",
              "    <tr>\n",
              "      <td>8</td>\n",
              "      <td>2.237754</td>\n",
              "      <td>-1.468803</td>\n",
              "    </tr>\n",
              "  </tbody>\n",
              "</table>\n",
              "</div>"
            ],
            "text/plain": [
              "       col2      col1\n",
              "9 -1.456935  1.812756\n",
              "4  0.882037  1.530766\n",
              "1  0.330783  1.356848\n",
              "0  0.885650  1.355595\n",
              "3 -0.507618  0.939422\n",
              "6  0.784493  0.397434\n",
              "2  0.328289  0.232696\n",
              "7  0.217845  0.102969\n",
              "5  0.242022 -1.147194\n",
              "8  2.237754 -1.468803"
            ]
          },
          "metadata": {
            "tags": []
          },
          "execution_count": 69
        }
      ]
    },
    {
      "cell_type": "markdown",
      "metadata": {
        "id": "Ll-ltKLLDKMH",
        "colab_type": "text"
      },
      "source": [
        "## Mapping Data"
      ]
    },
    {
      "cell_type": "code",
      "metadata": {
        "id": "pH3L5s95DKMI",
        "colab_type": "code",
        "colab": {},
        "outputId": "9de8666d-939b-4596-a9b9-0ef22f971fd0"
      },
      "source": [
        "df = pd.DataFrame({'item':['ball', 'mug', 'pen', 'pencil', 'ashtray'],\n",
        "                      'price':[1, 2, 3, 4, 5]})\n",
        "print(df)\n",
        "df.price = df.price.map(lambda x: x + 1)\n",
        "df"
      ],
      "execution_count": 0,
      "outputs": [
        {
          "output_type": "stream",
          "text": [
            "      item  price\n",
            "0     ball      1\n",
            "1      mug      2\n",
            "2      pen      3\n",
            "3   pencil      4\n",
            "4  ashtray      5\n"
          ],
          "name": "stdout"
        },
        {
          "output_type": "execute_result",
          "data": {
            "text/html": [
              "<div>\n",
              "<style scoped>\n",
              "    .dataframe tbody tr th:only-of-type {\n",
              "        vertical-align: middle;\n",
              "    }\n",
              "\n",
              "    .dataframe tbody tr th {\n",
              "        vertical-align: top;\n",
              "    }\n",
              "\n",
              "    .dataframe thead th {\n",
              "        text-align: right;\n",
              "    }\n",
              "</style>\n",
              "<table border=\"1\" class=\"dataframe\">\n",
              "  <thead>\n",
              "    <tr style=\"text-align: right;\">\n",
              "      <th></th>\n",
              "      <th>item</th>\n",
              "      <th>price</th>\n",
              "    </tr>\n",
              "  </thead>\n",
              "  <tbody>\n",
              "    <tr>\n",
              "      <td>0</td>\n",
              "      <td>ball</td>\n",
              "      <td>2</td>\n",
              "    </tr>\n",
              "    <tr>\n",
              "      <td>1</td>\n",
              "      <td>mug</td>\n",
              "      <td>3</td>\n",
              "    </tr>\n",
              "    <tr>\n",
              "      <td>2</td>\n",
              "      <td>pen</td>\n",
              "      <td>4</td>\n",
              "    </tr>\n",
              "    <tr>\n",
              "      <td>3</td>\n",
              "      <td>pencil</td>\n",
              "      <td>5</td>\n",
              "    </tr>\n",
              "    <tr>\n",
              "      <td>4</td>\n",
              "      <td>ashtray</td>\n",
              "      <td>6</td>\n",
              "    </tr>\n",
              "  </tbody>\n",
              "</table>\n",
              "</div>"
            ],
            "text/plain": [
              "      item  price\n",
              "0     ball      2\n",
              "1      mug      3\n",
              "2      pen      4\n",
              "3   pencil      5\n",
              "4  ashtray      6"
            ]
          },
          "metadata": {
            "tags": []
          },
          "execution_count": 110
        }
      ]
    },
    {
      "cell_type": "code",
      "metadata": {
        "id": "CXlN7L5wDKMO",
        "colab_type": "code",
        "colab": {},
        "outputId": "1de14d43-14a8-42f3-92ec-570c055c143c"
      },
      "source": [
        "df = pd.DataFrame({'item':['ball', 'mug', 'pen', 'pencil', 'ashtray'],\n",
        "                      'price':[1, 2, 3, 4, 5]})\n",
        "print(df)\n",
        "\n",
        "maps = {1:\"Strongly Disagree\",2:\"Disagree\",3:\"Neutral\",4:\"Agree\",5:\"Strongly Agree\"}\n",
        "df[\"scale\"] = df.price.map(maps)\n",
        "df"
      ],
      "execution_count": 0,
      "outputs": [
        {
          "output_type": "stream",
          "text": [
            "      item  price\n",
            "0     ball      1\n",
            "1      mug      2\n",
            "2      pen      3\n",
            "3   pencil      4\n",
            "4  ashtray      5\n"
          ],
          "name": "stdout"
        },
        {
          "output_type": "execute_result",
          "data": {
            "text/html": [
              "<div>\n",
              "<style scoped>\n",
              "    .dataframe tbody tr th:only-of-type {\n",
              "        vertical-align: middle;\n",
              "    }\n",
              "\n",
              "    .dataframe tbody tr th {\n",
              "        vertical-align: top;\n",
              "    }\n",
              "\n",
              "    .dataframe thead th {\n",
              "        text-align: right;\n",
              "    }\n",
              "</style>\n",
              "<table border=\"1\" class=\"dataframe\">\n",
              "  <thead>\n",
              "    <tr style=\"text-align: right;\">\n",
              "      <th></th>\n",
              "      <th>item</th>\n",
              "      <th>price</th>\n",
              "      <th>scale</th>\n",
              "    </tr>\n",
              "  </thead>\n",
              "  <tbody>\n",
              "    <tr>\n",
              "      <td>0</td>\n",
              "      <td>ball</td>\n",
              "      <td>1</td>\n",
              "      <td>Strongly Disagree</td>\n",
              "    </tr>\n",
              "    <tr>\n",
              "      <td>1</td>\n",
              "      <td>mug</td>\n",
              "      <td>2</td>\n",
              "      <td>Disagree</td>\n",
              "    </tr>\n",
              "    <tr>\n",
              "      <td>2</td>\n",
              "      <td>pen</td>\n",
              "      <td>3</td>\n",
              "      <td>Neutral</td>\n",
              "    </tr>\n",
              "    <tr>\n",
              "      <td>3</td>\n",
              "      <td>pencil</td>\n",
              "      <td>4</td>\n",
              "      <td>Agree</td>\n",
              "    </tr>\n",
              "    <tr>\n",
              "      <td>4</td>\n",
              "      <td>ashtray</td>\n",
              "      <td>5</td>\n",
              "      <td>Strongly Agree</td>\n",
              "    </tr>\n",
              "  </tbody>\n",
              "</table>\n",
              "</div>"
            ],
            "text/plain": [
              "      item  price              scale\n",
              "0     ball      1  Strongly Disagree\n",
              "1      mug      2           Disagree\n",
              "2      pen      3            Neutral\n",
              "3   pencil      4              Agree\n",
              "4  ashtray      5     Strongly Agree"
            ]
          },
          "metadata": {
            "tags": []
          },
          "execution_count": 112
        }
      ]
    },
    {
      "cell_type": "markdown",
      "metadata": {
        "id": "9nQ8ETJRDKMQ",
        "colab_type": "text"
      },
      "source": [
        "## Selecting Data"
      ]
    },
    {
      "cell_type": "code",
      "metadata": {
        "id": "4M0UIWF8DKMR",
        "colab_type": "code",
        "colab": {},
        "outputId": "60a6a249-913e-44ce-f6b7-786eb7e98e6d"
      },
      "source": [
        "# loc()\n",
        "# loc takes two single/list/range operator separated by ','. \n",
        "# The first one indicates the row and the second one indicates columns.\n",
        "\n",
        "df = pd.DataFrame(np.random.randn(8, 4),\n",
        "index = ['a','b','c','d','e','f','g','h'], columns = ['A', 'B', 'C', 'D'])\n",
        "print(df)\n",
        "\n",
        "#select all rows for a specific column\n",
        "df.loc[:,'A']"
      ],
      "execution_count": 0,
      "outputs": [
        {
          "output_type": "stream",
          "text": [
            "          A         B         C         D\n",
            "a  0.708633 -0.377059  0.791805 -0.247001\n",
            "b -0.793903  1.435243 -0.977261  2.717676\n",
            "c  2.512481 -1.427591  0.590483  0.498605\n",
            "d  0.686299 -1.629100 -0.631537 -0.548331\n",
            "e  1.041686 -0.803465  0.508428  2.172501\n",
            "f -0.026731 -0.966350 -1.152908 -0.364991\n",
            "g -0.085008  0.384339  0.613961 -1.589249\n",
            "h -0.251855  0.275211 -0.922785  1.654489\n"
          ],
          "name": "stdout"
        },
        {
          "output_type": "execute_result",
          "data": {
            "text/plain": [
              "a    0.708633\n",
              "b   -0.793903\n",
              "c    2.512481\n",
              "d    0.686299\n",
              "e    1.041686\n",
              "f   -0.026731\n",
              "g   -0.085008\n",
              "h   -0.251855\n",
              "Name: A, dtype: float64"
            ]
          },
          "metadata": {
            "tags": []
          },
          "execution_count": 70
        }
      ]
    },
    {
      "cell_type": "code",
      "metadata": {
        "id": "2KZmaKfIDKMU",
        "colab_type": "code",
        "colab": {},
        "outputId": "0d4d8afa-23e8-4ac1-9043-12312b53e82f"
      },
      "source": [
        "# Select all rows for multiple columns, say list[]\n",
        "df.loc[:,['A','C']]"
      ],
      "execution_count": 0,
      "outputs": [
        {
          "output_type": "execute_result",
          "data": {
            "text/html": [
              "<div>\n",
              "<style scoped>\n",
              "    .dataframe tbody tr th:only-of-type {\n",
              "        vertical-align: middle;\n",
              "    }\n",
              "\n",
              "    .dataframe tbody tr th {\n",
              "        vertical-align: top;\n",
              "    }\n",
              "\n",
              "    .dataframe thead th {\n",
              "        text-align: right;\n",
              "    }\n",
              "</style>\n",
              "<table border=\"1\" class=\"dataframe\">\n",
              "  <thead>\n",
              "    <tr style=\"text-align: right;\">\n",
              "      <th></th>\n",
              "      <th>A</th>\n",
              "      <th>C</th>\n",
              "    </tr>\n",
              "  </thead>\n",
              "  <tbody>\n",
              "    <tr>\n",
              "      <td>a</td>\n",
              "      <td>0.708633</td>\n",
              "      <td>0.791805</td>\n",
              "    </tr>\n",
              "    <tr>\n",
              "      <td>b</td>\n",
              "      <td>-0.793903</td>\n",
              "      <td>-0.977261</td>\n",
              "    </tr>\n",
              "    <tr>\n",
              "      <td>c</td>\n",
              "      <td>2.512481</td>\n",
              "      <td>0.590483</td>\n",
              "    </tr>\n",
              "    <tr>\n",
              "      <td>d</td>\n",
              "      <td>0.686299</td>\n",
              "      <td>-0.631537</td>\n",
              "    </tr>\n",
              "    <tr>\n",
              "      <td>e</td>\n",
              "      <td>1.041686</td>\n",
              "      <td>0.508428</td>\n",
              "    </tr>\n",
              "    <tr>\n",
              "      <td>f</td>\n",
              "      <td>-0.026731</td>\n",
              "      <td>-1.152908</td>\n",
              "    </tr>\n",
              "    <tr>\n",
              "      <td>g</td>\n",
              "      <td>-0.085008</td>\n",
              "      <td>0.613961</td>\n",
              "    </tr>\n",
              "    <tr>\n",
              "      <td>h</td>\n",
              "      <td>-0.251855</td>\n",
              "      <td>-0.922785</td>\n",
              "    </tr>\n",
              "  </tbody>\n",
              "</table>\n",
              "</div>"
            ],
            "text/plain": [
              "          A         C\n",
              "a  0.708633  0.791805\n",
              "b -0.793903 -0.977261\n",
              "c  2.512481  0.590483\n",
              "d  0.686299 -0.631537\n",
              "e  1.041686  0.508428\n",
              "f -0.026731 -1.152908\n",
              "g -0.085008  0.613961\n",
              "h -0.251855 -0.922785"
            ]
          },
          "metadata": {
            "tags": []
          },
          "execution_count": 72
        }
      ]
    },
    {
      "cell_type": "code",
      "metadata": {
        "id": "iC9gM9aLDKMZ",
        "colab_type": "code",
        "colab": {},
        "outputId": "4c4fe3b6-2cec-4fdd-add0-d800de417426"
      },
      "source": [
        "# Select few rows for multiple columns, say list[]\n",
        "df.loc[['a','b','f','h'],['A','C']]"
      ],
      "execution_count": 0,
      "outputs": [
        {
          "output_type": "execute_result",
          "data": {
            "text/html": [
              "<div>\n",
              "<style scoped>\n",
              "    .dataframe tbody tr th:only-of-type {\n",
              "        vertical-align: middle;\n",
              "    }\n",
              "\n",
              "    .dataframe tbody tr th {\n",
              "        vertical-align: top;\n",
              "    }\n",
              "\n",
              "    .dataframe thead th {\n",
              "        text-align: right;\n",
              "    }\n",
              "</style>\n",
              "<table border=\"1\" class=\"dataframe\">\n",
              "  <thead>\n",
              "    <tr style=\"text-align: right;\">\n",
              "      <th></th>\n",
              "      <th>A</th>\n",
              "      <th>C</th>\n",
              "    </tr>\n",
              "  </thead>\n",
              "  <tbody>\n",
              "    <tr>\n",
              "      <td>a</td>\n",
              "      <td>0.708633</td>\n",
              "      <td>0.791805</td>\n",
              "    </tr>\n",
              "    <tr>\n",
              "      <td>b</td>\n",
              "      <td>-0.793903</td>\n",
              "      <td>-0.977261</td>\n",
              "    </tr>\n",
              "    <tr>\n",
              "      <td>f</td>\n",
              "      <td>-0.026731</td>\n",
              "      <td>-1.152908</td>\n",
              "    </tr>\n",
              "    <tr>\n",
              "      <td>h</td>\n",
              "      <td>-0.251855</td>\n",
              "      <td>-0.922785</td>\n",
              "    </tr>\n",
              "  </tbody>\n",
              "</table>\n",
              "</div>"
            ],
            "text/plain": [
              "          A         C\n",
              "a  0.708633  0.791805\n",
              "b -0.793903 -0.977261\n",
              "f -0.026731 -1.152908\n",
              "h -0.251855 -0.922785"
            ]
          },
          "metadata": {
            "tags": []
          },
          "execution_count": 73
        }
      ]
    },
    {
      "cell_type": "code",
      "metadata": {
        "id": "34tVHN7hDKMd",
        "colab_type": "code",
        "colab": {},
        "outputId": "5f0b9340-ab84-45ca-f841-9e016089f31e"
      },
      "source": [
        "# iloc()\n",
        "df = pd.DataFrame(np.random.randn(8, 4), columns = ['A', 'B', 'C', 'D'])\n",
        "print(df)\n",
        "\n",
        "# select rows(0,1,2,3) for all columns\n",
        "df.iloc[:4]"
      ],
      "execution_count": 0,
      "outputs": [
        {
          "output_type": "stream",
          "text": [
            "          A         B         C         D\n",
            "0 -0.624857 -1.249300  0.809063  0.061812\n",
            "1 -1.079665 -0.746837 -1.263361 -1.567046\n",
            "2 -0.213776 -0.701055  1.982911 -1.383959\n",
            "3 -0.099048  0.148414  0.374658  0.404633\n",
            "4  0.311073  0.302397  1.063568  0.347607\n",
            "5  0.604660 -2.341612  0.176572 -0.088469\n",
            "6  2.208907  0.015250 -0.156084  1.376597\n",
            "7  0.328269  0.378291 -0.519350  0.572462\n"
          ],
          "name": "stdout"
        },
        {
          "output_type": "execute_result",
          "data": {
            "text/html": [
              "<div>\n",
              "<style scoped>\n",
              "    .dataframe tbody tr th:only-of-type {\n",
              "        vertical-align: middle;\n",
              "    }\n",
              "\n",
              "    .dataframe tbody tr th {\n",
              "        vertical-align: top;\n",
              "    }\n",
              "\n",
              "    .dataframe thead th {\n",
              "        text-align: right;\n",
              "    }\n",
              "</style>\n",
              "<table border=\"1\" class=\"dataframe\">\n",
              "  <thead>\n",
              "    <tr style=\"text-align: right;\">\n",
              "      <th></th>\n",
              "      <th>A</th>\n",
              "      <th>B</th>\n",
              "      <th>C</th>\n",
              "      <th>D</th>\n",
              "    </tr>\n",
              "  </thead>\n",
              "  <tbody>\n",
              "    <tr>\n",
              "      <td>0</td>\n",
              "      <td>-0.624857</td>\n",
              "      <td>-1.249300</td>\n",
              "      <td>0.809063</td>\n",
              "      <td>0.061812</td>\n",
              "    </tr>\n",
              "    <tr>\n",
              "      <td>1</td>\n",
              "      <td>-1.079665</td>\n",
              "      <td>-0.746837</td>\n",
              "      <td>-1.263361</td>\n",
              "      <td>-1.567046</td>\n",
              "    </tr>\n",
              "    <tr>\n",
              "      <td>2</td>\n",
              "      <td>-0.213776</td>\n",
              "      <td>-0.701055</td>\n",
              "      <td>1.982911</td>\n",
              "      <td>-1.383959</td>\n",
              "    </tr>\n",
              "    <tr>\n",
              "      <td>3</td>\n",
              "      <td>-0.099048</td>\n",
              "      <td>0.148414</td>\n",
              "      <td>0.374658</td>\n",
              "      <td>0.404633</td>\n",
              "    </tr>\n",
              "  </tbody>\n",
              "</table>\n",
              "</div>"
            ],
            "text/plain": [
              "          A         B         C         D\n",
              "0 -0.624857 -1.249300  0.809063  0.061812\n",
              "1 -1.079665 -0.746837 -1.263361 -1.567046\n",
              "2 -0.213776 -0.701055  1.982911 -1.383959\n",
              "3 -0.099048  0.148414  0.374658  0.404633"
            ]
          },
          "metadata": {
            "tags": []
          },
          "execution_count": 76
        }
      ]
    },
    {
      "cell_type": "code",
      "metadata": {
        "id": "Zni3m-ySDKMf",
        "colab_type": "code",
        "colab": {},
        "outputId": "c335578d-b43f-44ae-a02e-791536f9148a"
      },
      "source": [
        "df = pd.DataFrame(np.random.randn(8, 4), columns = ['A', 'B', 'C', 'D'])\n",
        "\n",
        "# Integer slicing\n",
        "print(df.iloc[:4])\n",
        "df.iloc[1:5, 2:4]"
      ],
      "execution_count": 0,
      "outputs": [
        {
          "output_type": "stream",
          "text": [
            "          A         B         C         D\n",
            "0 -0.438098 -0.291441 -0.035516 -0.080188\n",
            "1  0.425289  0.646466  0.139807 -0.086836\n",
            "2  0.500887 -0.715578 -0.092785  0.743226\n",
            "3  1.673269 -0.597281 -1.432426 -0.988941\n"
          ],
          "name": "stdout"
        },
        {
          "output_type": "execute_result",
          "data": {
            "text/html": [
              "<div>\n",
              "<style scoped>\n",
              "    .dataframe tbody tr th:only-of-type {\n",
              "        vertical-align: middle;\n",
              "    }\n",
              "\n",
              "    .dataframe tbody tr th {\n",
              "        vertical-align: top;\n",
              "    }\n",
              "\n",
              "    .dataframe thead th {\n",
              "        text-align: right;\n",
              "    }\n",
              "</style>\n",
              "<table border=\"1\" class=\"dataframe\">\n",
              "  <thead>\n",
              "    <tr style=\"text-align: right;\">\n",
              "      <th></th>\n",
              "      <th>C</th>\n",
              "      <th>D</th>\n",
              "    </tr>\n",
              "  </thead>\n",
              "  <tbody>\n",
              "    <tr>\n",
              "      <td>1</td>\n",
              "      <td>0.139807</td>\n",
              "      <td>-0.086836</td>\n",
              "    </tr>\n",
              "    <tr>\n",
              "      <td>2</td>\n",
              "      <td>-0.092785</td>\n",
              "      <td>0.743226</td>\n",
              "    </tr>\n",
              "    <tr>\n",
              "      <td>3</td>\n",
              "      <td>-1.432426</td>\n",
              "      <td>-0.988941</td>\n",
              "    </tr>\n",
              "    <tr>\n",
              "      <td>4</td>\n",
              "      <td>-0.509556</td>\n",
              "      <td>0.276629</td>\n",
              "    </tr>\n",
              "  </tbody>\n",
              "</table>\n",
              "</div>"
            ],
            "text/plain": [
              "          C         D\n",
              "1  0.139807 -0.086836\n",
              "2 -0.092785  0.743226\n",
              "3 -1.432426 -0.988941\n",
              "4 -0.509556  0.276629"
            ]
          },
          "metadata": {
            "tags": []
          },
          "execution_count": 77
        }
      ]
    },
    {
      "cell_type": "code",
      "metadata": {
        "id": "8O5mFfXeDKMi",
        "colab_type": "code",
        "colab": {},
        "outputId": "e6ad4025-df41-4cba-bb42-08b9dee5d408"
      },
      "source": [
        "df = pd.DataFrame(np.random.randn(8, 4), columns = ['A', 'B', 'C', 'D'])\n",
        "\n",
        "# Slicing through list of values\n",
        "print(df.iloc[[1, 3, 5], [1, 3]])\n",
        "print(df.iloc[1:3, :])\n",
        "print(df.iloc[:,1:3])"
      ],
      "execution_count": 0,
      "outputs": [
        {
          "output_type": "stream",
          "text": [
            "          B         D\n",
            "1 -2.529830  0.366486\n",
            "3 -1.936597  1.484488\n",
            "5 -1.425305  0.137900\n",
            "          A         B         C         D\n",
            "1 -1.029516 -2.529830 -0.360313  0.366486\n",
            "2  0.607627  0.164292  0.597521 -1.971126\n",
            "          B         C\n",
            "0 -0.513967 -1.066167\n",
            "1 -2.529830 -0.360313\n",
            "2  0.164292  0.597521\n",
            "3 -1.936597 -0.652263\n",
            "4 -1.907082 -1.658401\n",
            "5 -1.425305 -1.429624\n",
            "6 -0.141127  0.811319\n",
            "7  1.167713  1.362293\n"
          ],
          "name": "stdout"
        }
      ]
    },
    {
      "cell_type": "code",
      "metadata": {
        "id": "D9-H4VCqDKMl",
        "colab_type": "code",
        "colab": {},
        "outputId": "7418c4ae-138a-457c-8e0b-7ee2c4953b1f"
      },
      "source": [
        "# get data by column names\n",
        "\n",
        "df = pd.DataFrame(np.random.randn(8, 4), columns = ['A', 'B', 'C', 'D'])\n",
        "\n",
        "df[['A','B']]"
      ],
      "execution_count": 0,
      "outputs": [
        {
          "output_type": "execute_result",
          "data": {
            "text/html": [
              "<div>\n",
              "<style scoped>\n",
              "    .dataframe tbody tr th:only-of-type {\n",
              "        vertical-align: middle;\n",
              "    }\n",
              "\n",
              "    .dataframe tbody tr th {\n",
              "        vertical-align: top;\n",
              "    }\n",
              "\n",
              "    .dataframe thead th {\n",
              "        text-align: right;\n",
              "    }\n",
              "</style>\n",
              "<table border=\"1\" class=\"dataframe\">\n",
              "  <thead>\n",
              "    <tr style=\"text-align: right;\">\n",
              "      <th></th>\n",
              "      <th>A</th>\n",
              "      <th>B</th>\n",
              "    </tr>\n",
              "  </thead>\n",
              "  <tbody>\n",
              "    <tr>\n",
              "      <td>0</td>\n",
              "      <td>-0.221181</td>\n",
              "      <td>0.587036</td>\n",
              "    </tr>\n",
              "    <tr>\n",
              "      <td>1</td>\n",
              "      <td>0.042736</td>\n",
              "      <td>2.719581</td>\n",
              "    </tr>\n",
              "    <tr>\n",
              "      <td>2</td>\n",
              "      <td>-0.896029</td>\n",
              "      <td>-1.234506</td>\n",
              "    </tr>\n",
              "    <tr>\n",
              "      <td>3</td>\n",
              "      <td>-1.080779</td>\n",
              "      <td>0.657993</td>\n",
              "    </tr>\n",
              "    <tr>\n",
              "      <td>4</td>\n",
              "      <td>0.940850</td>\n",
              "      <td>-1.524256</td>\n",
              "    </tr>\n",
              "    <tr>\n",
              "      <td>5</td>\n",
              "      <td>-0.857611</td>\n",
              "      <td>-0.969800</td>\n",
              "    </tr>\n",
              "    <tr>\n",
              "      <td>6</td>\n",
              "      <td>0.102091</td>\n",
              "      <td>0.164080</td>\n",
              "    </tr>\n",
              "    <tr>\n",
              "      <td>7</td>\n",
              "      <td>-0.127962</td>\n",
              "      <td>-0.307379</td>\n",
              "    </tr>\n",
              "  </tbody>\n",
              "</table>\n",
              "</div>"
            ],
            "text/plain": [
              "          A         B\n",
              "0 -0.221181  0.587036\n",
              "1  0.042736  2.719581\n",
              "2 -0.896029 -1.234506\n",
              "3 -1.080779  0.657993\n",
              "4  0.940850 -1.524256\n",
              "5 -0.857611 -0.969800\n",
              "6  0.102091  0.164080\n",
              "7 -0.127962 -0.307379"
            ]
          },
          "metadata": {
            "tags": []
          },
          "execution_count": 80
        }
      ]
    },
    {
      "cell_type": "code",
      "metadata": {
        "id": "rt0yGUZ2DKMq",
        "colab_type": "code",
        "colab": {},
        "outputId": "ff977324-5519-45a6-cde8-10772b12adbc"
      },
      "source": [
        "#Attribute Access\n",
        "#Columns can be selected using the attribute operator '.'.\n",
        "df.A"
      ],
      "execution_count": 0,
      "outputs": [
        {
          "output_type": "execute_result",
          "data": {
            "text/plain": [
              "0   -0.221181\n",
              "1    0.042736\n",
              "2   -0.896029\n",
              "3   -1.080779\n",
              "4    0.940850\n",
              "5   -0.857611\n",
              "6    0.102091\n",
              "7   -0.127962\n",
              "Name: A, dtype: float64"
            ]
          },
          "metadata": {
            "tags": []
          },
          "execution_count": 81
        }
      ]
    },
    {
      "cell_type": "markdown",
      "metadata": {
        "id": "IRhc-PYqDKMs",
        "colab_type": "text"
      },
      "source": [
        "## Missing Data"
      ]
    },
    {
      "cell_type": "code",
      "metadata": {
        "id": "P4YKtCebDKMt",
        "colab_type": "code",
        "colab": {},
        "outputId": "daac38e9-a9b3-4620-a357-6126a408d4da"
      },
      "source": [
        "df = pd.DataFrame(np.random.randn(5, 3), index=['a', 'c', 'e', 'f','h'],columns=['one', 'two', 'three'])\n",
        "\n",
        "df = df.reindex(['a', 'b', 'c', 'd', 'e', 'f', 'g', 'h'])\n",
        "\n",
        "df"
      ],
      "execution_count": 0,
      "outputs": [
        {
          "output_type": "execute_result",
          "data": {
            "text/html": [
              "<div>\n",
              "<style scoped>\n",
              "    .dataframe tbody tr th:only-of-type {\n",
              "        vertical-align: middle;\n",
              "    }\n",
              "\n",
              "    .dataframe tbody tr th {\n",
              "        vertical-align: top;\n",
              "    }\n",
              "\n",
              "    .dataframe thead th {\n",
              "        text-align: right;\n",
              "    }\n",
              "</style>\n",
              "<table border=\"1\" class=\"dataframe\">\n",
              "  <thead>\n",
              "    <tr style=\"text-align: right;\">\n",
              "      <th></th>\n",
              "      <th>one</th>\n",
              "      <th>two</th>\n",
              "      <th>three</th>\n",
              "    </tr>\n",
              "  </thead>\n",
              "  <tbody>\n",
              "    <tr>\n",
              "      <td>a</td>\n",
              "      <td>0.641504</td>\n",
              "      <td>1.538097</td>\n",
              "      <td>0.197480</td>\n",
              "    </tr>\n",
              "    <tr>\n",
              "      <td>b</td>\n",
              "      <td>NaN</td>\n",
              "      <td>NaN</td>\n",
              "      <td>NaN</td>\n",
              "    </tr>\n",
              "    <tr>\n",
              "      <td>c</td>\n",
              "      <td>-0.738784</td>\n",
              "      <td>1.771795</td>\n",
              "      <td>-0.174851</td>\n",
              "    </tr>\n",
              "    <tr>\n",
              "      <td>d</td>\n",
              "      <td>NaN</td>\n",
              "      <td>NaN</td>\n",
              "      <td>NaN</td>\n",
              "    </tr>\n",
              "    <tr>\n",
              "      <td>e</td>\n",
              "      <td>0.721065</td>\n",
              "      <td>-1.137984</td>\n",
              "      <td>1.141446</td>\n",
              "    </tr>\n",
              "    <tr>\n",
              "      <td>f</td>\n",
              "      <td>-1.564579</td>\n",
              "      <td>1.391001</td>\n",
              "      <td>-0.818807</td>\n",
              "    </tr>\n",
              "    <tr>\n",
              "      <td>g</td>\n",
              "      <td>NaN</td>\n",
              "      <td>NaN</td>\n",
              "      <td>NaN</td>\n",
              "    </tr>\n",
              "    <tr>\n",
              "      <td>h</td>\n",
              "      <td>0.127696</td>\n",
              "      <td>-0.737376</td>\n",
              "      <td>0.700805</td>\n",
              "    </tr>\n",
              "  </tbody>\n",
              "</table>\n",
              "</div>"
            ],
            "text/plain": [
              "        one       two     three\n",
              "a  0.641504  1.538097  0.197480\n",
              "b       NaN       NaN       NaN\n",
              "c -0.738784  1.771795 -0.174851\n",
              "d       NaN       NaN       NaN\n",
              "e  0.721065 -1.137984  1.141446\n",
              "f -1.564579  1.391001 -0.818807\n",
              "g       NaN       NaN       NaN\n",
              "h  0.127696 -0.737376  0.700805"
            ]
          },
          "metadata": {
            "tags": []
          },
          "execution_count": 82
        }
      ]
    },
    {
      "cell_type": "code",
      "metadata": {
        "id": "VDjoA5l9DKMv",
        "colab_type": "code",
        "colab": {},
        "outputId": "3195fc12-1c04-4fa6-d1f3-a90578a05323"
      },
      "source": [
        "# Check for Missing Values\n",
        "df['one'].isnull()"
      ],
      "execution_count": 0,
      "outputs": [
        {
          "output_type": "execute_result",
          "data": {
            "text/plain": [
              "a    False\n",
              "b     True\n",
              "c    False\n",
              "d     True\n",
              "e    False\n",
              "f    False\n",
              "g     True\n",
              "h    False\n",
              "Name: one, dtype: bool"
            ]
          },
          "metadata": {
            "tags": []
          },
          "execution_count": 83
        }
      ]
    },
    {
      "cell_type": "code",
      "metadata": {
        "id": "aoBC0m6MDKMx",
        "colab_type": "code",
        "colab": {},
        "outputId": "07f10a57-e14b-4a47-bfa0-8273706ae1b8"
      },
      "source": [
        "# Calculations with Missing Data\n",
        "# 1. When summing data, NA will be treated as Zero\n",
        "# 2. If the data are all NA, then the result will be NA\n",
        "df['one'].sum()"
      ],
      "execution_count": 0,
      "outputs": [
        {
          "output_type": "execute_result",
          "data": {
            "text/plain": [
              "-0.8130973032806629"
            ]
          },
          "metadata": {
            "tags": []
          },
          "execution_count": 84
        }
      ]
    },
    {
      "cell_type": "code",
      "metadata": {
        "id": "mfP-FFBUDKMz",
        "colab_type": "code",
        "colab": {},
        "outputId": "cefaab57-54ef-443d-a8ac-d272a65d4230"
      },
      "source": [
        "# Cleaning / Filling Missing Data\n",
        "# replace NA with 0\n",
        "\n",
        "df = pd.DataFrame(np.random.randn(3, 3), index=['a', 'c', 'e'],columns=['one',\n",
        "'two', 'three'])\n",
        "\n",
        "df = df.reindex(['a', 'b', 'c'])\n",
        "\n",
        "print(df)\n",
        "print (\"NaN replaced with '0':\")\n",
        "df.fillna(0)"
      ],
      "execution_count": 0,
      "outputs": [
        {
          "output_type": "stream",
          "text": [
            "        one       two     three\n",
            "a  0.211271  0.030430 -0.452256\n",
            "b       NaN       NaN       NaN\n",
            "c  1.589002  0.373146 -0.553134\n",
            "NaN replaced with '0':\n"
          ],
          "name": "stdout"
        },
        {
          "output_type": "execute_result",
          "data": {
            "text/html": [
              "<div>\n",
              "<style scoped>\n",
              "    .dataframe tbody tr th:only-of-type {\n",
              "        vertical-align: middle;\n",
              "    }\n",
              "\n",
              "    .dataframe tbody tr th {\n",
              "        vertical-align: top;\n",
              "    }\n",
              "\n",
              "    .dataframe thead th {\n",
              "        text-align: right;\n",
              "    }\n",
              "</style>\n",
              "<table border=\"1\" class=\"dataframe\">\n",
              "  <thead>\n",
              "    <tr style=\"text-align: right;\">\n",
              "      <th></th>\n",
              "      <th>one</th>\n",
              "      <th>two</th>\n",
              "      <th>three</th>\n",
              "    </tr>\n",
              "  </thead>\n",
              "  <tbody>\n",
              "    <tr>\n",
              "      <td>a</td>\n",
              "      <td>0.211271</td>\n",
              "      <td>0.030430</td>\n",
              "      <td>-0.452256</td>\n",
              "    </tr>\n",
              "    <tr>\n",
              "      <td>b</td>\n",
              "      <td>0.000000</td>\n",
              "      <td>0.000000</td>\n",
              "      <td>0.000000</td>\n",
              "    </tr>\n",
              "    <tr>\n",
              "      <td>c</td>\n",
              "      <td>1.589002</td>\n",
              "      <td>0.373146</td>\n",
              "      <td>-0.553134</td>\n",
              "    </tr>\n",
              "  </tbody>\n",
              "</table>\n",
              "</div>"
            ],
            "text/plain": [
              "        one       two     three\n",
              "a  0.211271  0.030430 -0.452256\n",
              "b  0.000000  0.000000  0.000000\n",
              "c  1.589002  0.373146 -0.553134"
            ]
          },
          "metadata": {
            "tags": []
          },
          "execution_count": 87
        }
      ]
    },
    {
      "cell_type": "code",
      "metadata": {
        "id": "rGy_u9J7DKM2",
        "colab_type": "code",
        "colab": {},
        "outputId": "7dc51409-84a8-40c4-eb17-63d7d073269e"
      },
      "source": [
        "# Drop Missing Values\n",
        "# dropna()\n",
        "# By default, axis=0, i.e., along row, which means that if any value within a row is NA then the whole row is excluded.\n",
        "\n",
        "df = pd.DataFrame(np.random.randn(5, 3), index=['a', 'c', 'e', 'f',\n",
        "'h'],columns=['one', 'two', 'three'])\n",
        "\n",
        "df = df.reindex(['a', 'b', 'c', 'd', 'e', 'f', 'g', 'h'])\n",
        "print(df)\n",
        "df.dropna()"
      ],
      "execution_count": 0,
      "outputs": [
        {
          "output_type": "stream",
          "text": [
            "        one       two     three\n",
            "a  0.819213 -0.664838  0.068982\n",
            "b       NaN       NaN       NaN\n",
            "c -1.739407 -1.677461 -0.221483\n",
            "d       NaN       NaN       NaN\n",
            "e  1.204050  0.227922  0.513837\n",
            "f -0.222621 -1.223031 -1.055109\n",
            "g       NaN       NaN       NaN\n",
            "h  1.261528  0.281814 -0.113019\n"
          ],
          "name": "stdout"
        },
        {
          "output_type": "execute_result",
          "data": {
            "text/html": [
              "<div>\n",
              "<style scoped>\n",
              "    .dataframe tbody tr th:only-of-type {\n",
              "        vertical-align: middle;\n",
              "    }\n",
              "\n",
              "    .dataframe tbody tr th {\n",
              "        vertical-align: top;\n",
              "    }\n",
              "\n",
              "    .dataframe thead th {\n",
              "        text-align: right;\n",
              "    }\n",
              "</style>\n",
              "<table border=\"1\" class=\"dataframe\">\n",
              "  <thead>\n",
              "    <tr style=\"text-align: right;\">\n",
              "      <th></th>\n",
              "      <th>one</th>\n",
              "      <th>two</th>\n",
              "      <th>three</th>\n",
              "    </tr>\n",
              "  </thead>\n",
              "  <tbody>\n",
              "    <tr>\n",
              "      <td>a</td>\n",
              "      <td>0.819213</td>\n",
              "      <td>-0.664838</td>\n",
              "      <td>0.068982</td>\n",
              "    </tr>\n",
              "    <tr>\n",
              "      <td>c</td>\n",
              "      <td>-1.739407</td>\n",
              "      <td>-1.677461</td>\n",
              "      <td>-0.221483</td>\n",
              "    </tr>\n",
              "    <tr>\n",
              "      <td>e</td>\n",
              "      <td>1.204050</td>\n",
              "      <td>0.227922</td>\n",
              "      <td>0.513837</td>\n",
              "    </tr>\n",
              "    <tr>\n",
              "      <td>f</td>\n",
              "      <td>-0.222621</td>\n",
              "      <td>-1.223031</td>\n",
              "      <td>-1.055109</td>\n",
              "    </tr>\n",
              "    <tr>\n",
              "      <td>h</td>\n",
              "      <td>1.261528</td>\n",
              "      <td>0.281814</td>\n",
              "      <td>-0.113019</td>\n",
              "    </tr>\n",
              "  </tbody>\n",
              "</table>\n",
              "</div>"
            ],
            "text/plain": [
              "        one       two     three\n",
              "a  0.819213 -0.664838  0.068982\n",
              "c -1.739407 -1.677461 -0.221483\n",
              "e  1.204050  0.227922  0.513837\n",
              "f -0.222621 -1.223031 -1.055109\n",
              "h  1.261528  0.281814 -0.113019"
            ]
          },
          "metadata": {
            "tags": []
          },
          "execution_count": 88
        }
      ]
    },
    {
      "cell_type": "code",
      "metadata": {
        "id": "rob7qIBBDKM4",
        "colab_type": "code",
        "colab": {},
        "outputId": "1be36818-f3c3-4c8e-b1bd-7fd06909bc2a"
      },
      "source": [
        "df.dropna(axis=1)"
      ],
      "execution_count": 0,
      "outputs": [
        {
          "output_type": "execute_result",
          "data": {
            "text/html": [
              "<div>\n",
              "<style scoped>\n",
              "    .dataframe tbody tr th:only-of-type {\n",
              "        vertical-align: middle;\n",
              "    }\n",
              "\n",
              "    .dataframe tbody tr th {\n",
              "        vertical-align: top;\n",
              "    }\n",
              "\n",
              "    .dataframe thead th {\n",
              "        text-align: right;\n",
              "    }\n",
              "</style>\n",
              "<table border=\"1\" class=\"dataframe\">\n",
              "  <thead>\n",
              "    <tr style=\"text-align: right;\">\n",
              "      <th></th>\n",
              "    </tr>\n",
              "  </thead>\n",
              "  <tbody>\n",
              "    <tr>\n",
              "      <td>a</td>\n",
              "    </tr>\n",
              "    <tr>\n",
              "      <td>b</td>\n",
              "    </tr>\n",
              "    <tr>\n",
              "      <td>c</td>\n",
              "    </tr>\n",
              "    <tr>\n",
              "      <td>d</td>\n",
              "    </tr>\n",
              "    <tr>\n",
              "      <td>e</td>\n",
              "    </tr>\n",
              "    <tr>\n",
              "      <td>f</td>\n",
              "    </tr>\n",
              "    <tr>\n",
              "      <td>g</td>\n",
              "    </tr>\n",
              "    <tr>\n",
              "      <td>h</td>\n",
              "    </tr>\n",
              "  </tbody>\n",
              "</table>\n",
              "</div>"
            ],
            "text/plain": [
              "Empty DataFrame\n",
              "Columns: []\n",
              "Index: [a, b, c, d, e, f, g, h]"
            ]
          },
          "metadata": {
            "tags": []
          },
          "execution_count": 89
        }
      ]
    },
    {
      "cell_type": "code",
      "metadata": {
        "id": "hFywxCp1DKM6",
        "colab_type": "code",
        "colab": {},
        "outputId": "f586dff6-de96-441b-de16-6b4ec2fd3063"
      },
      "source": [
        "# replace value\n",
        "df = pd.DataFrame({'one':[10,20,30,40,50,2000], 'two':[1000,0,30,40,50,60]})\n",
        "print(df)\n",
        "df.replace({1000:20,2000:60})"
      ],
      "execution_count": 0,
      "outputs": [
        {
          "output_type": "stream",
          "text": [
            "    one   two\n",
            "0    10  1000\n",
            "1    20     0\n",
            "2    30    30\n",
            "3    40    40\n",
            "4    50    50\n",
            "5  2000    60\n"
          ],
          "name": "stdout"
        },
        {
          "output_type": "execute_result",
          "data": {
            "text/html": [
              "<div>\n",
              "<style scoped>\n",
              "    .dataframe tbody tr th:only-of-type {\n",
              "        vertical-align: middle;\n",
              "    }\n",
              "\n",
              "    .dataframe tbody tr th {\n",
              "        vertical-align: top;\n",
              "    }\n",
              "\n",
              "    .dataframe thead th {\n",
              "        text-align: right;\n",
              "    }\n",
              "</style>\n",
              "<table border=\"1\" class=\"dataframe\">\n",
              "  <thead>\n",
              "    <tr style=\"text-align: right;\">\n",
              "      <th></th>\n",
              "      <th>one</th>\n",
              "      <th>two</th>\n",
              "    </tr>\n",
              "  </thead>\n",
              "  <tbody>\n",
              "    <tr>\n",
              "      <td>0</td>\n",
              "      <td>10</td>\n",
              "      <td>20</td>\n",
              "    </tr>\n",
              "    <tr>\n",
              "      <td>1</td>\n",
              "      <td>20</td>\n",
              "      <td>0</td>\n",
              "    </tr>\n",
              "    <tr>\n",
              "      <td>2</td>\n",
              "      <td>30</td>\n",
              "      <td>30</td>\n",
              "    </tr>\n",
              "    <tr>\n",
              "      <td>3</td>\n",
              "      <td>40</td>\n",
              "      <td>40</td>\n",
              "    </tr>\n",
              "    <tr>\n",
              "      <td>4</td>\n",
              "      <td>50</td>\n",
              "      <td>50</td>\n",
              "    </tr>\n",
              "    <tr>\n",
              "      <td>5</td>\n",
              "      <td>60</td>\n",
              "      <td>60</td>\n",
              "    </tr>\n",
              "  </tbody>\n",
              "</table>\n",
              "</div>"
            ],
            "text/plain": [
              "   one  two\n",
              "0   10   20\n",
              "1   20    0\n",
              "2   30   30\n",
              "3   40   40\n",
              "4   50   50\n",
              "5   60   60"
            ]
          },
          "metadata": {
            "tags": []
          },
          "execution_count": 92
        }
      ]
    },
    {
      "cell_type": "markdown",
      "metadata": {
        "id": "_cBYvYBbDKM8",
        "colab_type": "text"
      },
      "source": [
        "## Group Data"
      ]
    },
    {
      "cell_type": "code",
      "metadata": {
        "id": "aOIDuaBbDKM9",
        "colab_type": "code",
        "colab": {},
        "outputId": "5a843c30-0ba1-42f5-cb03-7139d01e5c99"
      },
      "source": [
        "data = {'Team': ['Riders', 'Riders', 'Devils', 'Devils', 'Kings',\n",
        "   'kings', 'Kings', 'Kings', 'Riders', 'Royals', 'Royals', 'Riders'],\n",
        "   'Rank': [1, 2, 2, 3, 3,4 ,1 ,1,2 , 4,1,2],\n",
        "   'Year': [2014,2015,2014,2015,2014,2015,2016,2017,2016,2014,2015,2017],\n",
        "   'Points':[876,789,863,673,741,812,756,788,694,701,804,690]}\n",
        "df = pd.DataFrame(data)\n",
        "df"
      ],
      "execution_count": 0,
      "outputs": [
        {
          "output_type": "execute_result",
          "data": {
            "text/html": [
              "<div>\n",
              "<style scoped>\n",
              "    .dataframe tbody tr th:only-of-type {\n",
              "        vertical-align: middle;\n",
              "    }\n",
              "\n",
              "    .dataframe tbody tr th {\n",
              "        vertical-align: top;\n",
              "    }\n",
              "\n",
              "    .dataframe thead th {\n",
              "        text-align: right;\n",
              "    }\n",
              "</style>\n",
              "<table border=\"1\" class=\"dataframe\">\n",
              "  <thead>\n",
              "    <tr style=\"text-align: right;\">\n",
              "      <th></th>\n",
              "      <th>Team</th>\n",
              "      <th>Rank</th>\n",
              "      <th>Year</th>\n",
              "      <th>Points</th>\n",
              "    </tr>\n",
              "  </thead>\n",
              "  <tbody>\n",
              "    <tr>\n",
              "      <td>0</td>\n",
              "      <td>Riders</td>\n",
              "      <td>1</td>\n",
              "      <td>2014</td>\n",
              "      <td>876</td>\n",
              "    </tr>\n",
              "    <tr>\n",
              "      <td>1</td>\n",
              "      <td>Riders</td>\n",
              "      <td>2</td>\n",
              "      <td>2015</td>\n",
              "      <td>789</td>\n",
              "    </tr>\n",
              "    <tr>\n",
              "      <td>2</td>\n",
              "      <td>Devils</td>\n",
              "      <td>2</td>\n",
              "      <td>2014</td>\n",
              "      <td>863</td>\n",
              "    </tr>\n",
              "    <tr>\n",
              "      <td>3</td>\n",
              "      <td>Devils</td>\n",
              "      <td>3</td>\n",
              "      <td>2015</td>\n",
              "      <td>673</td>\n",
              "    </tr>\n",
              "    <tr>\n",
              "      <td>4</td>\n",
              "      <td>Kings</td>\n",
              "      <td>3</td>\n",
              "      <td>2014</td>\n",
              "      <td>741</td>\n",
              "    </tr>\n",
              "    <tr>\n",
              "      <td>5</td>\n",
              "      <td>kings</td>\n",
              "      <td>4</td>\n",
              "      <td>2015</td>\n",
              "      <td>812</td>\n",
              "    </tr>\n",
              "    <tr>\n",
              "      <td>6</td>\n",
              "      <td>Kings</td>\n",
              "      <td>1</td>\n",
              "      <td>2016</td>\n",
              "      <td>756</td>\n",
              "    </tr>\n",
              "    <tr>\n",
              "      <td>7</td>\n",
              "      <td>Kings</td>\n",
              "      <td>1</td>\n",
              "      <td>2017</td>\n",
              "      <td>788</td>\n",
              "    </tr>\n",
              "    <tr>\n",
              "      <td>8</td>\n",
              "      <td>Riders</td>\n",
              "      <td>2</td>\n",
              "      <td>2016</td>\n",
              "      <td>694</td>\n",
              "    </tr>\n",
              "    <tr>\n",
              "      <td>9</td>\n",
              "      <td>Royals</td>\n",
              "      <td>4</td>\n",
              "      <td>2014</td>\n",
              "      <td>701</td>\n",
              "    </tr>\n",
              "    <tr>\n",
              "      <td>10</td>\n",
              "      <td>Royals</td>\n",
              "      <td>1</td>\n",
              "      <td>2015</td>\n",
              "      <td>804</td>\n",
              "    </tr>\n",
              "    <tr>\n",
              "      <td>11</td>\n",
              "      <td>Riders</td>\n",
              "      <td>2</td>\n",
              "      <td>2017</td>\n",
              "      <td>690</td>\n",
              "    </tr>\n",
              "  </tbody>\n",
              "</table>\n",
              "</div>"
            ],
            "text/plain": [
              "      Team  Rank  Year  Points\n",
              "0   Riders     1  2014     876\n",
              "1   Riders     2  2015     789\n",
              "2   Devils     2  2014     863\n",
              "3   Devils     3  2015     673\n",
              "4    Kings     3  2014     741\n",
              "5    kings     4  2015     812\n",
              "6    Kings     1  2016     756\n",
              "7    Kings     1  2017     788\n",
              "8   Riders     2  2016     694\n",
              "9   Royals     4  2014     701\n",
              "10  Royals     1  2015     804\n",
              "11  Riders     2  2017     690"
            ]
          },
          "metadata": {
            "tags": []
          },
          "execution_count": 115
        }
      ]
    },
    {
      "cell_type": "code",
      "metadata": {
        "id": "2LFQ_UZTDKNA",
        "colab_type": "code",
        "colab": {},
        "outputId": "937cb52f-0bfb-4638-d7bd-c702ebf417f0"
      },
      "source": [
        "df.groupby('Team').groups"
      ],
      "execution_count": 0,
      "outputs": [
        {
          "output_type": "execute_result",
          "data": {
            "text/plain": [
              "{'Devils': Int64Index([2, 3], dtype='int64'),\n",
              " 'Kings': Int64Index([4, 6, 7], dtype='int64'),\n",
              " 'Riders': Int64Index([0, 1, 8, 11], dtype='int64'),\n",
              " 'Royals': Int64Index([9, 10], dtype='int64'),\n",
              " 'kings': Int64Index([5], dtype='int64')}"
            ]
          },
          "metadata": {
            "tags": []
          },
          "execution_count": 116
        }
      ]
    },
    {
      "cell_type": "code",
      "metadata": {
        "id": "sySkN8XVDKNE",
        "colab_type": "code",
        "colab": {},
        "outputId": "564d8580-a1e2-4f8e-f97f-16eea998b8f9"
      },
      "source": [
        "# Group by multiple columns\n",
        "df.groupby(['Team','Year']).groups"
      ],
      "execution_count": 0,
      "outputs": [
        {
          "output_type": "execute_result",
          "data": {
            "text/plain": [
              "{('Devils', 2014): Int64Index([2], dtype='int64'),\n",
              " ('Devils', 2015): Int64Index([3], dtype='int64'),\n",
              " ('Kings', 2014): Int64Index([4], dtype='int64'),\n",
              " ('Kings', 2016): Int64Index([6], dtype='int64'),\n",
              " ('Kings', 2017): Int64Index([7], dtype='int64'),\n",
              " ('Riders', 2014): Int64Index([0], dtype='int64'),\n",
              " ('Riders', 2015): Int64Index([1], dtype='int64'),\n",
              " ('Riders', 2016): Int64Index([8], dtype='int64'),\n",
              " ('Riders', 2017): Int64Index([11], dtype='int64'),\n",
              " ('Royals', 2014): Int64Index([9], dtype='int64'),\n",
              " ('Royals', 2015): Int64Index([10], dtype='int64'),\n",
              " ('kings', 2015): Int64Index([5], dtype='int64')}"
            ]
          },
          "metadata": {
            "tags": []
          },
          "execution_count": 117
        }
      ]
    },
    {
      "cell_type": "code",
      "metadata": {
        "id": "F2syWyVNDKNH",
        "colab_type": "code",
        "colab": {},
        "outputId": "19f059db-9f70-4735-863a-d6cab99a6dbb"
      },
      "source": [
        "# Iterating through Groups\n",
        "\n",
        "grouped = df.groupby('Year')\n",
        "\n",
        "for name,group in grouped:\n",
        "    print(name)\n",
        "    print(group)"
      ],
      "execution_count": 0,
      "outputs": [
        {
          "output_type": "stream",
          "text": [
            "2014\n",
            "     Team  Rank  Year  Points\n",
            "0  Riders     1  2014     876\n",
            "2  Devils     2  2014     863\n",
            "4   Kings     3  2014     741\n",
            "9  Royals     4  2014     701\n",
            "2015\n",
            "      Team  Rank  Year  Points\n",
            "1   Riders     2  2015     789\n",
            "3   Devils     3  2015     673\n",
            "5    kings     4  2015     812\n",
            "10  Royals     1  2015     804\n",
            "2016\n",
            "     Team  Rank  Year  Points\n",
            "6   Kings     1  2016     756\n",
            "8  Riders     2  2016     694\n",
            "2017\n",
            "      Team  Rank  Year  Points\n",
            "7    Kings     1  2017     788\n",
            "11  Riders     2  2017     690\n"
          ],
          "name": "stdout"
        }
      ]
    },
    {
      "cell_type": "code",
      "metadata": {
        "id": "5GnpmI5EDKNJ",
        "colab_type": "code",
        "colab": {},
        "outputId": "6395e47f-9972-4f1f-cae7-374a5f29ccbf"
      },
      "source": [
        "# Select a Group\n",
        "\n",
        "grouped = df.groupby('Year')\n",
        "grouped.get_group(2014)"
      ],
      "execution_count": 0,
      "outputs": [
        {
          "output_type": "execute_result",
          "data": {
            "text/html": [
              "<div>\n",
              "<style scoped>\n",
              "    .dataframe tbody tr th:only-of-type {\n",
              "        vertical-align: middle;\n",
              "    }\n",
              "\n",
              "    .dataframe tbody tr th {\n",
              "        vertical-align: top;\n",
              "    }\n",
              "\n",
              "    .dataframe thead th {\n",
              "        text-align: right;\n",
              "    }\n",
              "</style>\n",
              "<table border=\"1\" class=\"dataframe\">\n",
              "  <thead>\n",
              "    <tr style=\"text-align: right;\">\n",
              "      <th></th>\n",
              "      <th>Team</th>\n",
              "      <th>Rank</th>\n",
              "      <th>Year</th>\n",
              "      <th>Points</th>\n",
              "    </tr>\n",
              "  </thead>\n",
              "  <tbody>\n",
              "    <tr>\n",
              "      <td>0</td>\n",
              "      <td>Riders</td>\n",
              "      <td>1</td>\n",
              "      <td>2014</td>\n",
              "      <td>876</td>\n",
              "    </tr>\n",
              "    <tr>\n",
              "      <td>2</td>\n",
              "      <td>Devils</td>\n",
              "      <td>2</td>\n",
              "      <td>2014</td>\n",
              "      <td>863</td>\n",
              "    </tr>\n",
              "    <tr>\n",
              "      <td>4</td>\n",
              "      <td>Kings</td>\n",
              "      <td>3</td>\n",
              "      <td>2014</td>\n",
              "      <td>741</td>\n",
              "    </tr>\n",
              "    <tr>\n",
              "      <td>9</td>\n",
              "      <td>Royals</td>\n",
              "      <td>4</td>\n",
              "      <td>2014</td>\n",
              "      <td>701</td>\n",
              "    </tr>\n",
              "  </tbody>\n",
              "</table>\n",
              "</div>"
            ],
            "text/plain": [
              "     Team  Rank  Year  Points\n",
              "0  Riders     1  2014     876\n",
              "2  Devils     2  2014     863\n",
              "4   Kings     3  2014     741\n",
              "9  Royals     4  2014     701"
            ]
          },
          "metadata": {
            "tags": []
          },
          "execution_count": 99
        }
      ]
    },
    {
      "cell_type": "code",
      "metadata": {
        "id": "cpCArSdrDKNM",
        "colab_type": "code",
        "colab": {},
        "outputId": "27bc99b1-ba28-4b12-9afc-e4d5a8564af4"
      },
      "source": [
        "# Aggregations\n",
        "\n",
        "# Once the group by object is created, \n",
        "# several aggregation operations can be performed on the grouped data.\n",
        "\n",
        "grouped = df.groupby('Year')\n",
        "grouped['Points'].agg(np.mean)"
      ],
      "execution_count": 0,
      "outputs": [
        {
          "output_type": "execute_result",
          "data": {
            "text/plain": [
              "Year\n",
              "2014    795.25\n",
              "2015    769.50\n",
              "2016    725.00\n",
              "2017    739.00\n",
              "Name: Points, dtype: float64"
            ]
          },
          "metadata": {
            "tags": []
          },
          "execution_count": 100
        }
      ]
    },
    {
      "cell_type": "code",
      "metadata": {
        "id": "W0pRi_v4DKNP",
        "colab_type": "code",
        "colab": {},
        "outputId": "efc3177a-5e98-4a39-8106-0948acbd30f0"
      },
      "source": [
        "grouped = df.groupby('Team')\n",
        "for name,group in grouped:\n",
        "    print(name)\n",
        "    print(group)\n",
        "\n",
        "print(\"-\"*30)\n",
        "print(grouped['Points'].agg([np.sum, np.mean, np.std]))"
      ],
      "execution_count": 0,
      "outputs": [
        {
          "output_type": "stream",
          "text": [
            "Devils\n",
            "     Team  Rank  Year  Points\n",
            "2  Devils     2  2014     863\n",
            "3  Devils     3  2015     673\n",
            "Kings\n",
            "    Team  Rank  Year  Points\n",
            "4  Kings     3  2014     741\n",
            "6  Kings     1  2016     756\n",
            "7  Kings     1  2017     788\n",
            "Riders\n",
            "      Team  Rank  Year  Points\n",
            "0   Riders     1  2014     876\n",
            "1   Riders     2  2015     789\n",
            "8   Riders     2  2016     694\n",
            "11  Riders     2  2017     690\n",
            "Royals\n",
            "      Team  Rank  Year  Points\n",
            "9   Royals     4  2014     701\n",
            "10  Royals     1  2015     804\n",
            "kings\n",
            "    Team  Rank  Year  Points\n",
            "5  kings     4  2015     812\n",
            "------------------------------\n",
            "         sum        mean         std\n",
            "Team                                \n",
            "Devils  1536  768.000000  134.350288\n",
            "Kings   2285  761.666667   24.006943\n",
            "Riders  3049  762.250000   88.567771\n",
            "Royals  1505  752.500000   72.831998\n",
            "kings    812  812.000000         NaN\n"
          ],
          "name": "stdout"
        }
      ]
    },
    {
      "cell_type": "markdown",
      "metadata": {
        "id": "ZWcmTQ3hDKNS",
        "colab_type": "text"
      },
      "source": [
        "## Read csv/xlsx"
      ]
    },
    {
      "cell_type": "code",
      "metadata": {
        "id": "LJ6pvtWrDKNS",
        "colab_type": "code",
        "colab": {},
        "outputId": "9fa7e8dd-ee42-43c6-95d0-06d366a4ca20"
      },
      "source": [
        "df = pd.read_csv(\"titanic.csv\")\n",
        "df.head(5)"
      ],
      "execution_count": 0,
      "outputs": [
        {
          "output_type": "execute_result",
          "data": {
            "text/html": [
              "<div>\n",
              "<style scoped>\n",
              "    .dataframe tbody tr th:only-of-type {\n",
              "        vertical-align: middle;\n",
              "    }\n",
              "\n",
              "    .dataframe tbody tr th {\n",
              "        vertical-align: top;\n",
              "    }\n",
              "\n",
              "    .dataframe thead th {\n",
              "        text-align: right;\n",
              "    }\n",
              "</style>\n",
              "<table border=\"1\" class=\"dataframe\">\n",
              "  <thead>\n",
              "    <tr style=\"text-align: right;\">\n",
              "      <th></th>\n",
              "      <th>PassengerId</th>\n",
              "      <th>Survived</th>\n",
              "      <th>Pclass</th>\n",
              "      <th>Name</th>\n",
              "      <th>Sex</th>\n",
              "      <th>Age</th>\n",
              "      <th>SibSp</th>\n",
              "      <th>Parch</th>\n",
              "      <th>Ticket</th>\n",
              "      <th>Fare</th>\n",
              "      <th>Cabin</th>\n",
              "      <th>Embarked</th>\n",
              "    </tr>\n",
              "  </thead>\n",
              "  <tbody>\n",
              "    <tr>\n",
              "      <td>0</td>\n",
              "      <td>1</td>\n",
              "      <td>0</td>\n",
              "      <td>3</td>\n",
              "      <td>Braund, Mr. Owen Harris</td>\n",
              "      <td>male</td>\n",
              "      <td>22.0</td>\n",
              "      <td>1</td>\n",
              "      <td>0</td>\n",
              "      <td>A/5 21171</td>\n",
              "      <td>7.2500</td>\n",
              "      <td>NaN</td>\n",
              "      <td>S</td>\n",
              "    </tr>\n",
              "    <tr>\n",
              "      <td>1</td>\n",
              "      <td>2</td>\n",
              "      <td>1</td>\n",
              "      <td>1</td>\n",
              "      <td>Cumings, Mrs. John Bradley (Florence Briggs Th...</td>\n",
              "      <td>female</td>\n",
              "      <td>38.0</td>\n",
              "      <td>1</td>\n",
              "      <td>0</td>\n",
              "      <td>PC 17599</td>\n",
              "      <td>71.2833</td>\n",
              "      <td>C85</td>\n",
              "      <td>C</td>\n",
              "    </tr>\n",
              "    <tr>\n",
              "      <td>2</td>\n",
              "      <td>3</td>\n",
              "      <td>1</td>\n",
              "      <td>3</td>\n",
              "      <td>Heikkinen, Miss. Laina</td>\n",
              "      <td>female</td>\n",
              "      <td>26.0</td>\n",
              "      <td>0</td>\n",
              "      <td>0</td>\n",
              "      <td>STON/O2. 3101282</td>\n",
              "      <td>7.9250</td>\n",
              "      <td>NaN</td>\n",
              "      <td>S</td>\n",
              "    </tr>\n",
              "    <tr>\n",
              "      <td>3</td>\n",
              "      <td>4</td>\n",
              "      <td>1</td>\n",
              "      <td>1</td>\n",
              "      <td>Futrelle, Mrs. Jacques Heath (Lily May Peel)</td>\n",
              "      <td>female</td>\n",
              "      <td>35.0</td>\n",
              "      <td>1</td>\n",
              "      <td>0</td>\n",
              "      <td>113803</td>\n",
              "      <td>53.1000</td>\n",
              "      <td>C123</td>\n",
              "      <td>S</td>\n",
              "    </tr>\n",
              "    <tr>\n",
              "      <td>4</td>\n",
              "      <td>5</td>\n",
              "      <td>0</td>\n",
              "      <td>3</td>\n",
              "      <td>Allen, Mr. William Henry</td>\n",
              "      <td>male</td>\n",
              "      <td>35.0</td>\n",
              "      <td>0</td>\n",
              "      <td>0</td>\n",
              "      <td>373450</td>\n",
              "      <td>8.0500</td>\n",
              "      <td>NaN</td>\n",
              "      <td>S</td>\n",
              "    </tr>\n",
              "  </tbody>\n",
              "</table>\n",
              "</div>"
            ],
            "text/plain": [
              "   PassengerId  Survived  Pclass  \\\n",
              "0            1         0       3   \n",
              "1            2         1       1   \n",
              "2            3         1       3   \n",
              "3            4         1       1   \n",
              "4            5         0       3   \n",
              "\n",
              "                                                Name     Sex   Age  SibSp  \\\n",
              "0                            Braund, Mr. Owen Harris    male  22.0      1   \n",
              "1  Cumings, Mrs. John Bradley (Florence Briggs Th...  female  38.0      1   \n",
              "2                             Heikkinen, Miss. Laina  female  26.0      0   \n",
              "3       Futrelle, Mrs. Jacques Heath (Lily May Peel)  female  35.0      1   \n",
              "4                           Allen, Mr. William Henry    male  35.0      0   \n",
              "\n",
              "   Parch            Ticket     Fare Cabin Embarked  \n",
              "0      0         A/5 21171   7.2500   NaN        S  \n",
              "1      0          PC 17599  71.2833   C85        C  \n",
              "2      0  STON/O2. 3101282   7.9250   NaN        S  \n",
              "3      0            113803  53.1000  C123        S  \n",
              "4      0            373450   8.0500   NaN        S  "
            ]
          },
          "metadata": {
            "tags": []
          },
          "execution_count": 105
        }
      ]
    },
    {
      "cell_type": "code",
      "metadata": {
        "id": "DY6c-ew7DKNX",
        "colab_type": "code",
        "colab": {},
        "outputId": "5241fff5-809b-4800-bfed-3aa93fc874bf"
      },
      "source": [
        "df = pd.read_excel(\"Q1data\")\n",
        "g = df.groupby(\"section\")\n",
        "df.head(5)"
      ],
      "execution_count": 0,
      "outputs": [
        {
          "output_type": "execute_result",
          "data": {
            "text/html": [
              "<div>\n",
              "<style scoped>\n",
              "    .dataframe tbody tr th:only-of-type {\n",
              "        vertical-align: middle;\n",
              "    }\n",
              "\n",
              "    .dataframe tbody tr th {\n",
              "        vertical-align: top;\n",
              "    }\n",
              "\n",
              "    .dataframe thead th {\n",
              "        text-align: right;\n",
              "    }\n",
              "</style>\n",
              "<table border=\"1\" class=\"dataframe\">\n",
              "  <thead>\n",
              "    <tr style=\"text-align: right;\">\n",
              "      <th></th>\n",
              "      <th>Timestamp</th>\n",
              "      <th>Date</th>\n",
              "      <th>Student</th>\n",
              "      <th>Academic status</th>\n",
              "      <th>section</th>\n",
              "      <th>scale</th>\n",
              "      <th>Value</th>\n",
              "    </tr>\n",
              "  </thead>\n",
              "  <tbody>\n",
              "    <tr>\n",
              "      <td>0</td>\n",
              "      <td>2019/09/10 10:01:55 AM EST</td>\n",
              "      <td>43718.0</td>\n",
              "      <td>Student_5283</td>\n",
              "      <td>Sophomore</td>\n",
              "      <td>CGT 27000-001 (Tuesday/Thursday)</td>\n",
              "      <td>Strongly agree</td>\n",
              "      <td>3</td>\n",
              "    </tr>\n",
              "    <tr>\n",
              "      <td>1</td>\n",
              "      <td>2019/09/10 10:03:45 AM EST</td>\n",
              "      <td>43718.0</td>\n",
              "      <td>Student_5337</td>\n",
              "      <td>NaN</td>\n",
              "      <td>CGT 27000-001 (Tuesday/Thursday)</td>\n",
              "      <td>Agree</td>\n",
              "      <td>4</td>\n",
              "    </tr>\n",
              "    <tr>\n",
              "      <td>2</td>\n",
              "      <td>2019/09/10 10:04:24 AM EST</td>\n",
              "      <td>43718.0</td>\n",
              "      <td>Student_7502</td>\n",
              "      <td>NaN</td>\n",
              "      <td>CGT 27000-001 (Tuesday/Thursday)</td>\n",
              "      <td>Agree</td>\n",
              "      <td>4</td>\n",
              "    </tr>\n",
              "    <tr>\n",
              "      <td>3</td>\n",
              "      <td>2019/09/15 3:17:09 AM EST</td>\n",
              "      <td>43723.0</td>\n",
              "      <td>Student_5798</td>\n",
              "      <td>Sophomore</td>\n",
              "      <td>CGT 27000-001 (Tuesday/Thursday)</td>\n",
              "      <td>Agree</td>\n",
              "      <td>4</td>\n",
              "    </tr>\n",
              "    <tr>\n",
              "      <td>4</td>\n",
              "      <td>2019/09/15 10:59:48 PM EST</td>\n",
              "      <td>43723.0</td>\n",
              "      <td>Student_4522</td>\n",
              "      <td>Sophomore</td>\n",
              "      <td>CGT 27000-001 (Tuesday/Thursday)</td>\n",
              "      <td>Neutral</td>\n",
              "      <td>3</td>\n",
              "    </tr>\n",
              "  </tbody>\n",
              "</table>\n",
              "</div>"
            ],
            "text/plain": [
              "                    Timestamp     Date       Student Academic status  \\\n",
              "0  2019/09/10 10:01:55 AM EST  43718.0  Student_5283       Sophomore   \n",
              "1  2019/09/10 10:03:45 AM EST  43718.0  Student_5337             NaN   \n",
              "2  2019/09/10 10:04:24 AM EST  43718.0  Student_7502             NaN   \n",
              "3   2019/09/15 3:17:09 AM EST  43723.0  Student_5798       Sophomore   \n",
              "4  2019/09/15 10:59:48 PM EST  43723.0  Student_4522       Sophomore   \n",
              "\n",
              "                            section           scale  Value  \n",
              "0  CGT 27000-001 (Tuesday/Thursday)  Strongly agree      3  \n",
              "1  CGT 27000-001 (Tuesday/Thursday)           Agree      4  \n",
              "2  CGT 27000-001 (Tuesday/Thursday)           Agree      4  \n",
              "3  CGT 27000-001 (Tuesday/Thursday)           Agree      4  \n",
              "4  CGT 27000-001 (Tuesday/Thursday)         Neutral      3  "
            ]
          },
          "metadata": {
            "tags": []
          },
          "execution_count": 127
        }
      ]
    },
    {
      "cell_type": "code",
      "metadata": {
        "id": "_P-fuPhRDKNa",
        "colab_type": "code",
        "colab": {},
        "outputId": "885ca550-8a00-4fd5-92c4-a28a2f91a396"
      },
      "source": [
        "g.get_group(\"CGT 27000-001 (Tuesday/Thursday)\")[\"scale\"].value_counts()"
      ],
      "execution_count": 0,
      "outputs": [
        {
          "output_type": "execute_result",
          "data": {
            "text/plain": [
              "Agree             13\n",
              "Neutral            4\n",
              "Strongly agree     3\n",
              "Disagree           1\n",
              "Name: scale, dtype: int64"
            ]
          },
          "metadata": {
            "tags": []
          },
          "execution_count": 136
        }
      ]
    },
    {
      "cell_type": "markdown",
      "metadata": {
        "id": "MAVa49VrDKNc",
        "colab_type": "text"
      },
      "source": [
        "## Save Dataframe to a csv file"
      ]
    },
    {
      "cell_type": "code",
      "metadata": {
        "id": "GSfVu_1BDKNc",
        "colab_type": "code",
        "colab": {},
        "outputId": "00db383f-a583-4ed3-fb50-b314067a7e3f"
      },
      "source": [
        "df = pd.DataFrame({'name': ['Raphael', 'Donatello'],\n",
        "                   'mask': ['red', 'purple'],\n",
        "                   'weapon': ['sai', 'bo staff']})\n",
        "print(df)\n",
        "df.to_csv(\"demo.csv\", index=False)"
      ],
      "execution_count": 0,
      "outputs": [
        {
          "output_type": "stream",
          "text": [
            "        name    mask    weapon\n",
            "0    Raphael     red       sai\n",
            "1  Donatello  purple  bo staff\n"
          ],
          "name": "stdout"
        }
      ]
    },
    {
      "cell_type": "markdown",
      "metadata": {
        "id": "0WtIrNjPDKNe",
        "colab_type": "text"
      },
      "source": [
        "# Assignment (15 points)"
      ]
    },
    {
      "cell_type": "markdown",
      "metadata": {
        "id": "y8j410rKDKNe",
        "colab_type": "text"
      },
      "source": [
        "### 1. Use your own spreadsheet(Q1) for practice. Read the excel sheet using Pandas.  "
      ]
    },
    {
      "cell_type": "code",
      "metadata": {
        "id": "4qjJPi9HDKNe",
        "colab_type": "code",
        "colab": {
          "base_uri": "https://localhost:8080/",
          "height": 289
        },
        "outputId": "395263e6-e504-408e-d978-3505a8ea0e8b"
      },
      "source": [
        "df = pd.read_excel(\"Q1data.xlsx\")\n",
        "g = df.groupby(\"Section\")\n",
        "df.head(5)"
      ],
      "execution_count": 32,
      "outputs": [
        {
          "output_type": "execute_result",
          "data": {
            "text/html": [
              "<div>\n",
              "<style scoped>\n",
              "    .dataframe tbody tr th:only-of-type {\n",
              "        vertical-align: middle;\n",
              "    }\n",
              "\n",
              "    .dataframe tbody tr th {\n",
              "        vertical-align: top;\n",
              "    }\n",
              "\n",
              "    .dataframe thead th {\n",
              "        text-align: right;\n",
              "    }\n",
              "</style>\n",
              "<table border=\"1\" class=\"dataframe\">\n",
              "  <thead>\n",
              "    <tr style=\"text-align: right;\">\n",
              "      <th></th>\n",
              "      <th>Timestamp</th>\n",
              "      <th>Date</th>\n",
              "      <th>StudentID</th>\n",
              "      <th>Grade</th>\n",
              "      <th>Major</th>\n",
              "      <th>Section</th>\n",
              "      <th>Q1</th>\n",
              "    </tr>\n",
              "  </thead>\n",
              "  <tbody>\n",
              "    <tr>\n",
              "      <th>0</th>\n",
              "      <td>2019/09/25 9:21:54 AM EST</td>\n",
              "      <td>2019-09-25</td>\n",
              "      <td>StudentID_0000</td>\n",
              "      <td>Sophomore</td>\n",
              "      <td>civil engineering</td>\n",
              "      <td>CGT 2700-LC (Wednesday/Friday)</td>\n",
              "      <td>Agree</td>\n",
              "    </tr>\n",
              "    <tr>\n",
              "      <th>1</th>\n",
              "      <td>2019/09/25 8:34:23 AM EST</td>\n",
              "      <td>2019-09-25</td>\n",
              "      <td>StudentID_0049</td>\n",
              "      <td>Freshman</td>\n",
              "      <td>Data Science</td>\n",
              "      <td>CGT 2700-LC (Wednesday/Friday)</td>\n",
              "      <td>Strongly agree</td>\n",
              "    </tr>\n",
              "    <tr>\n",
              "      <th>2</th>\n",
              "      <td>2019/08/28 8:57:36 AM EST</td>\n",
              "      <td>2019-08-28</td>\n",
              "      <td>StudentID_1287</td>\n",
              "      <td>Sophomore</td>\n",
              "      <td>UX Design</td>\n",
              "      <td>CGT 2700-LC (Wednesday/Friday)</td>\n",
              "      <td>Neutral</td>\n",
              "    </tr>\n",
              "    <tr>\n",
              "      <th>3</th>\n",
              "      <td>2019/08/28 9:00:58 AM EST</td>\n",
              "      <td>2019-08-28</td>\n",
              "      <td>StudentID_1418</td>\n",
              "      <td>Sophomore</td>\n",
              "      <td>Cybersecurity</td>\n",
              "      <td>CGT 2700-LC (Wednesday/Friday)</td>\n",
              "      <td>Neutral</td>\n",
              "    </tr>\n",
              "    <tr>\n",
              "      <th>4</th>\n",
              "      <td>2019/09/04 8:51:30 AM EST</td>\n",
              "      <td>2019-09-04</td>\n",
              "      <td>StudentID_2049</td>\n",
              "      <td>Freshman</td>\n",
              "      <td>Data Science</td>\n",
              "      <td>CGT 2700-LC (Wednesday/Friday)</td>\n",
              "      <td>Agree</td>\n",
              "    </tr>\n",
              "  </tbody>\n",
              "</table>\n",
              "</div>"
            ],
            "text/plain": [
              "                   Timestamp  ...              Q1\n",
              "0  2019/09/25 9:21:54 AM EST  ...           Agree\n",
              "1  2019/09/25 8:34:23 AM EST  ...  Strongly agree\n",
              "2  2019/08/28 8:57:36 AM EST  ...         Neutral\n",
              "3  2019/08/28 9:00:58 AM EST  ...         Neutral\n",
              "4  2019/09/04 8:51:30 AM EST  ...           Agree\n",
              "\n",
              "[5 rows x 7 columns]"
            ]
          },
          "metadata": {
            "tags": []
          },
          "execution_count": 32
        }
      ]
    },
    {
      "cell_type": "markdown",
      "metadata": {
        "id": "5LiaGg_YDKNg",
        "colab_type": "text"
      },
      "source": [
        "### 2. check missing values for all the columns, if missing values exist, simply delete the entire row."
      ]
    },
    {
      "cell_type": "code",
      "metadata": {
        "id": "-04HDo3yDKNg",
        "colab_type": "code",
        "colab": {
          "base_uri": "https://localhost:8080/",
          "height": 1000
        },
        "outputId": "59a8f999-6970-4a53-877c-3db19f5495a4"
      },
      "source": [
        "df['Date'].isnull()\n",
        "df.dropna()"
      ],
      "execution_count": 73,
      "outputs": [
        {
          "output_type": "execute_result",
          "data": {
            "text/html": [
              "<div>\n",
              "<style scoped>\n",
              "    .dataframe tbody tr th:only-of-type {\n",
              "        vertical-align: middle;\n",
              "    }\n",
              "\n",
              "    .dataframe tbody tr th {\n",
              "        vertical-align: top;\n",
              "    }\n",
              "\n",
              "    .dataframe thead th {\n",
              "        text-align: right;\n",
              "    }\n",
              "</style>\n",
              "<table border=\"1\" class=\"dataframe\">\n",
              "  <thead>\n",
              "    <tr style=\"text-align: right;\">\n",
              "      <th></th>\n",
              "      <th>Timestamp</th>\n",
              "      <th>Date</th>\n",
              "      <th>StudentID</th>\n",
              "      <th>Grade</th>\n",
              "      <th>Major</th>\n",
              "      <th>Section</th>\n",
              "      <th>Q1</th>\n",
              "      <th>degree</th>\n",
              "    </tr>\n",
              "  </thead>\n",
              "  <tbody>\n",
              "    <tr>\n",
              "      <th>0</th>\n",
              "      <td>2019/09/25 9:21:54 AM EST</td>\n",
              "      <td>2019-09-25</td>\n",
              "      <td>StudentID_0000</td>\n",
              "      <td>Sophomore</td>\n",
              "      <td>civil engineering</td>\n",
              "      <td>CGT 2700-LC (Wednesday/Friday)</td>\n",
              "      <td>Agree</td>\n",
              "      <td>4</td>\n",
              "    </tr>\n",
              "    <tr>\n",
              "      <th>1</th>\n",
              "      <td>2019/09/25 8:34:23 AM EST</td>\n",
              "      <td>2019-09-25</td>\n",
              "      <td>StudentID_0049</td>\n",
              "      <td>Freshman</td>\n",
              "      <td>Data Science</td>\n",
              "      <td>CGT 2700-LC (Wednesday/Friday)</td>\n",
              "      <td>Strongly agree</td>\n",
              "      <td>5</td>\n",
              "    </tr>\n",
              "    <tr>\n",
              "      <th>2</th>\n",
              "      <td>2019/08/28 8:57:36 AM EST</td>\n",
              "      <td>2019-08-28</td>\n",
              "      <td>StudentID_1287</td>\n",
              "      <td>Sophomore</td>\n",
              "      <td>UX Design</td>\n",
              "      <td>CGT 2700-LC (Wednesday/Friday)</td>\n",
              "      <td>Neutral</td>\n",
              "      <td>3</td>\n",
              "    </tr>\n",
              "    <tr>\n",
              "      <th>3</th>\n",
              "      <td>2019/08/28 9:00:58 AM EST</td>\n",
              "      <td>2019-08-28</td>\n",
              "      <td>StudentID_1418</td>\n",
              "      <td>Sophomore</td>\n",
              "      <td>Cybersecurity</td>\n",
              "      <td>CGT 2700-LC (Wednesday/Friday)</td>\n",
              "      <td>Neutral</td>\n",
              "      <td>3</td>\n",
              "    </tr>\n",
              "    <tr>\n",
              "      <th>4</th>\n",
              "      <td>2019/09/04 8:51:30 AM EST</td>\n",
              "      <td>2019-09-04</td>\n",
              "      <td>StudentID_2049</td>\n",
              "      <td>Freshman</td>\n",
              "      <td>Data Science</td>\n",
              "      <td>CGT 2700-LC (Wednesday/Friday)</td>\n",
              "      <td>Agree</td>\n",
              "      <td>4</td>\n",
              "    </tr>\n",
              "    <tr>\n",
              "      <th>5</th>\n",
              "      <td>2019/08/28 8:56:16 AM EST</td>\n",
              "      <td>2019-08-28</td>\n",
              "      <td>StudentID_2495</td>\n",
              "      <td>Sophomore</td>\n",
              "      <td>Industrial Engineering</td>\n",
              "      <td>CGT 2700-LC (Wednesday/Friday)</td>\n",
              "      <td>Agree</td>\n",
              "      <td>4</td>\n",
              "    </tr>\n",
              "    <tr>\n",
              "      <th>6</th>\n",
              "      <td>2019/08/28 9:02:11 AM EST</td>\n",
              "      <td>2019-08-28</td>\n",
              "      <td>StudentID_2501</td>\n",
              "      <td>Sophomore</td>\n",
              "      <td>Computer and Information Technology</td>\n",
              "      <td>CGT 2700-LC (Wednesday/Friday)</td>\n",
              "      <td>Agree</td>\n",
              "      <td>4</td>\n",
              "    </tr>\n",
              "    <tr>\n",
              "      <th>7</th>\n",
              "      <td>2019/08/28 9:02:14 AM EST</td>\n",
              "      <td>2019-08-28</td>\n",
              "      <td>StudentID_3146</td>\n",
              "      <td>Sophomore</td>\n",
              "      <td>Statistics</td>\n",
              "      <td>CGT 2700-LC (Wednesday/Friday)</td>\n",
              "      <td>Agree</td>\n",
              "      <td>4</td>\n",
              "    </tr>\n",
              "    <tr>\n",
              "      <th>8</th>\n",
              "      <td>2019/09/04 8:50:48 AM EST</td>\n",
              "      <td>2019-09-04</td>\n",
              "      <td>StudentID_3151</td>\n",
              "      <td>Sophomore</td>\n",
              "      <td>Data Science</td>\n",
              "      <td>CGT 2700-LC (Wednesday/Friday)</td>\n",
              "      <td>Agree</td>\n",
              "      <td>4</td>\n",
              "    </tr>\n",
              "    <tr>\n",
              "      <th>9</th>\n",
              "      <td>2019/08/28 8:56:05 AM EST</td>\n",
              "      <td>2019-08-27</td>\n",
              "      <td>StudentID_3867</td>\n",
              "      <td>Sophomore</td>\n",
              "      <td>Computer Science</td>\n",
              "      <td>CGT 2700-LC (Wednesday/Friday)</td>\n",
              "      <td>Neutral</td>\n",
              "      <td>3</td>\n",
              "    </tr>\n",
              "    <tr>\n",
              "      <th>10</th>\n",
              "      <td>2019/08/28 8:55:52 AM EST</td>\n",
              "      <td>2019-08-28</td>\n",
              "      <td>StudentID_4031</td>\n",
              "      <td>Sophomore</td>\n",
              "      <td>Computer Science</td>\n",
              "      <td>CGT 2700-LC (Wednesday/Friday)</td>\n",
              "      <td>Agree</td>\n",
              "      <td>4</td>\n",
              "    </tr>\n",
              "    <tr>\n",
              "      <th>11</th>\n",
              "      <td>2019/08/28 9:01:21 AM EST</td>\n",
              "      <td>2019-08-28</td>\n",
              "      <td>StudentID_4160</td>\n",
              "      <td>Sophomore</td>\n",
              "      <td>Applied Statistics</td>\n",
              "      <td>CGT 2700-LC (Wednesday/Friday)</td>\n",
              "      <td>Agree</td>\n",
              "      <td>4</td>\n",
              "    </tr>\n",
              "    <tr>\n",
              "      <th>12</th>\n",
              "      <td>2019/08/28 8:57:40 AM EST</td>\n",
              "      <td>2019-08-28</td>\n",
              "      <td>StudentID_4794</td>\n",
              "      <td>Sophomore</td>\n",
              "      <td>Accounting</td>\n",
              "      <td>CGT 2700-LC (Wednesday/Friday)</td>\n",
              "      <td>Agree</td>\n",
              "      <td>4</td>\n",
              "    </tr>\n",
              "    <tr>\n",
              "      <th>13</th>\n",
              "      <td>2019/08/28 8:54:58 AM EST</td>\n",
              "      <td>2019-08-28</td>\n",
              "      <td>StudentID_5462</td>\n",
              "      <td>Senior</td>\n",
              "      <td>Web Programming &amp; Design</td>\n",
              "      <td>CGT 2700-LC (Wednesday/Friday)</td>\n",
              "      <td>Agree</td>\n",
              "      <td>4</td>\n",
              "    </tr>\n",
              "    <tr>\n",
              "      <th>14</th>\n",
              "      <td>2019/08/28 2:01:45 PM EST</td>\n",
              "      <td>2019-08-28</td>\n",
              "      <td>StudentID_6720</td>\n",
              "      <td>Junior</td>\n",
              "      <td>Web Development and Design</td>\n",
              "      <td>CGT 2700-LC (Wednesday/Friday)</td>\n",
              "      <td>Agree</td>\n",
              "      <td>4</td>\n",
              "    </tr>\n",
              "    <tr>\n",
              "      <th>16</th>\n",
              "      <td>2019/08/28 9:07:30 AM EST</td>\n",
              "      <td>2019-08-28</td>\n",
              "      <td>StudentID_7164</td>\n",
              "      <td>Sophomore</td>\n",
              "      <td>Physics</td>\n",
              "      <td>CGT 2700-LC (Wednesday/Friday)</td>\n",
              "      <td>Neutral</td>\n",
              "      <td>3</td>\n",
              "    </tr>\n",
              "    <tr>\n",
              "      <th>17</th>\n",
              "      <td>2019/08/28 9:24:56 AM EST</td>\n",
              "      <td>2019-08-28</td>\n",
              "      <td>StudentID_7367</td>\n",
              "      <td>Sophomore</td>\n",
              "      <td>Data Science</td>\n",
              "      <td>CGT 2700-LC (Wednesday/Friday)</td>\n",
              "      <td>Agree</td>\n",
              "      <td>4</td>\n",
              "    </tr>\n",
              "    <tr>\n",
              "      <th>18</th>\n",
              "      <td>2019/08/28 8:54:57 AM EST</td>\n",
              "      <td>2019-08-28</td>\n",
              "      <td>StudentID_7449</td>\n",
              "      <td>Sophomore</td>\n",
              "      <td>Data Science</td>\n",
              "      <td>CGT 2700-LC (Wednesday/Friday)</td>\n",
              "      <td>Agree</td>\n",
              "      <td>4</td>\n",
              "    </tr>\n",
              "    <tr>\n",
              "      <th>19</th>\n",
              "      <td>2019/08/28 8:56:18 AM EST</td>\n",
              "      <td>2019-08-28</td>\n",
              "      <td>StudentID_9609</td>\n",
              "      <td>Junior</td>\n",
              "      <td>Computer Science</td>\n",
              "      <td>CGT 2700-LC (Wednesday/Friday)</td>\n",
              "      <td>Agree</td>\n",
              "      <td>4</td>\n",
              "    </tr>\n",
              "    <tr>\n",
              "      <th>20</th>\n",
              "      <td>2019/08/28 8:43:59 AM EST</td>\n",
              "      <td>2019-08-28</td>\n",
              "      <td>StudentID_9853</td>\n",
              "      <td>Junior</td>\n",
              "      <td>Computer Science, Data Science</td>\n",
              "      <td>CGT 2700-LC (Wednesday/Friday)</td>\n",
              "      <td>Agree</td>\n",
              "      <td>4</td>\n",
              "    </tr>\n",
              "    <tr>\n",
              "      <th>21</th>\n",
              "      <td>2019/08/28 8:58:39 AM EST</td>\n",
              "      <td>2019-08-28</td>\n",
              "      <td>StudentID_9887</td>\n",
              "      <td>Sophomore</td>\n",
              "      <td>Civil engineering</td>\n",
              "      <td>CGT 2700-LC (Wednesday/Friday)</td>\n",
              "      <td>Agree</td>\n",
              "      <td>4</td>\n",
              "    </tr>\n",
              "    <tr>\n",
              "      <th>22</th>\n",
              "      <td>2019/08/28 9:00:07 AM EST</td>\n",
              "      <td>2019-08-28</td>\n",
              "      <td>StudentID_9923</td>\n",
              "      <td>Sophomore</td>\n",
              "      <td>Psychology</td>\n",
              "      <td>CGT 2700-LC (Wednesday/Friday)</td>\n",
              "      <td>Agree</td>\n",
              "      <td>4</td>\n",
              "    </tr>\n",
              "    <tr>\n",
              "      <th>23</th>\n",
              "      <td>2019/08/27 11:24:49 PM EST</td>\n",
              "      <td>2019-08-28</td>\n",
              "      <td>StudentID_0038</td>\n",
              "      <td>Sophomore</td>\n",
              "      <td>Data vis and Web programming &amp; design</td>\n",
              "      <td>CGT2700-001 (Tuesday/Thursday)</td>\n",
              "      <td>Agree</td>\n",
              "      <td>4</td>\n",
              "    </tr>\n",
              "    <tr>\n",
              "      <th>24</th>\n",
              "      <td>2019/08/27 10:23:43 AM EST</td>\n",
              "      <td>2019-08-27</td>\n",
              "      <td>StudentID_1572</td>\n",
              "      <td>Senior</td>\n",
              "      <td>Web</td>\n",
              "      <td>CGT2700-001 (Tuesday/Thursday)</td>\n",
              "      <td>Agree</td>\n",
              "      <td>4</td>\n",
              "    </tr>\n",
              "    <tr>\n",
              "      <th>25</th>\n",
              "      <td>2019/08/27 10:56:52 AM EST</td>\n",
              "      <td>2019-08-27</td>\n",
              "      <td>StudentID_2179</td>\n",
              "      <td>Sophomore</td>\n",
              "      <td>Chemical Engineering</td>\n",
              "      <td>CGT2700-001 (Tuesday/Thursday)</td>\n",
              "      <td>Agree</td>\n",
              "      <td>4</td>\n",
              "    </tr>\n",
              "    <tr>\n",
              "      <th>26</th>\n",
              "      <td>2019/09/24 10:09:15 AM EST</td>\n",
              "      <td>2019-09-24</td>\n",
              "      <td>StudentID_3986</td>\n",
              "      <td>Junior</td>\n",
              "      <td>Web Dev</td>\n",
              "      <td>CGT2700-001 (Tuesday/Thursday)</td>\n",
              "      <td>Agree</td>\n",
              "      <td>4</td>\n",
              "    </tr>\n",
              "    <tr>\n",
              "      <th>27</th>\n",
              "      <td>2019/09/16 10:31:57 PM EST</td>\n",
              "      <td>2019-09-16</td>\n",
              "      <td>StudentID_4070</td>\n",
              "      <td>Sophomore</td>\n",
              "      <td>Animation</td>\n",
              "      <td>CGT2700-001 (Tuesday/Thursday)</td>\n",
              "      <td>Agree</td>\n",
              "      <td>4</td>\n",
              "    </tr>\n",
              "    <tr>\n",
              "      <th>28</th>\n",
              "      <td>2019/08/27 10:20:47 AM EST</td>\n",
              "      <td>2019-08-27</td>\n",
              "      <td>StudentID_4522</td>\n",
              "      <td>Sophomore</td>\n",
              "      <td>Data Visualization</td>\n",
              "      <td>CGT2700-001 (Tuesday/Thursday)</td>\n",
              "      <td>Agree</td>\n",
              "      <td>4</td>\n",
              "    </tr>\n",
              "    <tr>\n",
              "      <th>29</th>\n",
              "      <td>2019/09/11 12:13:45 PM EST</td>\n",
              "      <td>2019-09-11</td>\n",
              "      <td>StudentID_4625</td>\n",
              "      <td>Junior</td>\n",
              "      <td>undecided</td>\n",
              "      <td>CGT2700-001 (Tuesday/Thursday)</td>\n",
              "      <td>Disagree</td>\n",
              "      <td>2</td>\n",
              "    </tr>\n",
              "    <tr>\n",
              "      <th>30</th>\n",
              "      <td>2019/08/27 10:27:15 AM EST</td>\n",
              "      <td>2019-08-27</td>\n",
              "      <td>StudentID_4927</td>\n",
              "      <td>Senior</td>\n",
              "      <td>Web Development</td>\n",
              "      <td>CGT2700-001 (Tuesday/Thursday)</td>\n",
              "      <td>Agree</td>\n",
              "      <td>4</td>\n",
              "    </tr>\n",
              "    <tr>\n",
              "      <th>31</th>\n",
              "      <td>2019/08/27 11:33:09 AM EST</td>\n",
              "      <td>2019-08-27</td>\n",
              "      <td>StudentID_5283</td>\n",
              "      <td>Sophomore</td>\n",
              "      <td>Data Visualization and Animation</td>\n",
              "      <td>CGT2700-001 (Tuesday/Thursday)</td>\n",
              "      <td>Neutral</td>\n",
              "      <td>3</td>\n",
              "    </tr>\n",
              "    <tr>\n",
              "      <th>32</th>\n",
              "      <td>2019/09/10 10:01:38 AM EST</td>\n",
              "      <td>2019-09-10</td>\n",
              "      <td>StudentID_5337</td>\n",
              "      <td>Junior</td>\n",
              "      <td>Web Programming and Design</td>\n",
              "      <td>CGT2700-001 (Tuesday/Thursday)</td>\n",
              "      <td>Neutral</td>\n",
              "      <td>3</td>\n",
              "    </tr>\n",
              "    <tr>\n",
              "      <th>33</th>\n",
              "      <td>2019/08/27 10:21:54 AM EST</td>\n",
              "      <td>2019-08-27</td>\n",
              "      <td>StudentID_5370</td>\n",
              "      <td>Senior</td>\n",
              "      <td>Virtual Product Integration</td>\n",
              "      <td>CGT2700-001 (Tuesday/Thursday)</td>\n",
              "      <td>Agree</td>\n",
              "      <td>4</td>\n",
              "    </tr>\n",
              "    <tr>\n",
              "      <th>34</th>\n",
              "      <td>2019/08/28 5:54:31 PM EST</td>\n",
              "      <td>2019-08-28</td>\n",
              "      <td>StudentID_5389</td>\n",
              "      <td>Sophomore</td>\n",
              "      <td>User Experience Design</td>\n",
              "      <td>CGT2700-001 (Tuesday/Thursday)</td>\n",
              "      <td>Neutral</td>\n",
              "      <td>3</td>\n",
              "    </tr>\n",
              "    <tr>\n",
              "      <th>35</th>\n",
              "      <td>2019/09/15 3:00:26 AM EST</td>\n",
              "      <td>2019-09-15</td>\n",
              "      <td>StudentID_5798</td>\n",
              "      <td>Junior</td>\n",
              "      <td>Web Development</td>\n",
              "      <td>CGT2700-001 (Tuesday/Thursday)</td>\n",
              "      <td>Neutral</td>\n",
              "      <td>3</td>\n",
              "    </tr>\n",
              "    <tr>\n",
              "      <th>36</th>\n",
              "      <td>2019/08/27 10:11:39 AM EST</td>\n",
              "      <td>2019-08-27</td>\n",
              "      <td>StudentID_6558</td>\n",
              "      <td>Senior</td>\n",
              "      <td>Building Information Modeling</td>\n",
              "      <td>CGT2700-001 (Tuesday/Thursday)</td>\n",
              "      <td>Neutral</td>\n",
              "      <td>3</td>\n",
              "    </tr>\n",
              "    <tr>\n",
              "      <th>37</th>\n",
              "      <td>2019/08/27 10:21:37 AM EST</td>\n",
              "      <td>2019-08-27</td>\n",
              "      <td>StudentID_7139</td>\n",
              "      <td>Junior</td>\n",
              "      <td>Web Programming and Design</td>\n",
              "      <td>CGT2700-001 (Tuesday/Thursday)</td>\n",
              "      <td>Agree</td>\n",
              "      <td>4</td>\n",
              "    </tr>\n",
              "    <tr>\n",
              "      <th>38</th>\n",
              "      <td>2019/08/27 10:23:24 AM EST</td>\n",
              "      <td>2019-08-27</td>\n",
              "      <td>StudentID_7482</td>\n",
              "      <td>Junior</td>\n",
              "      <td>Web Programming &amp; Design</td>\n",
              "      <td>CGT2700-001 (Tuesday/Thursday)</td>\n",
              "      <td>Agree</td>\n",
              "      <td>4</td>\n",
              "    </tr>\n",
              "    <tr>\n",
              "      <th>39</th>\n",
              "      <td>2019/08/27 11:40:30 AM EST</td>\n",
              "      <td>2019-08-27</td>\n",
              "      <td>StudentID_7502</td>\n",
              "      <td>Junior</td>\n",
              "      <td>Web Programming &amp; Public Relations</td>\n",
              "      <td>CGT2700-001 (Tuesday/Thursday)</td>\n",
              "      <td>Neutral</td>\n",
              "      <td>3</td>\n",
              "    </tr>\n",
              "    <tr>\n",
              "      <th>41</th>\n",
              "      <td>2019/09/24 7:45:41 PM EST</td>\n",
              "      <td>2019-09-24</td>\n",
              "      <td>StudentID_8842</td>\n",
              "      <td>Junior</td>\n",
              "      <td>Web Dev</td>\n",
              "      <td>CGT2700-001 (Tuesday/Thursday)</td>\n",
              "      <td>Neutral</td>\n",
              "      <td>3</td>\n",
              "    </tr>\n",
              "    <tr>\n",
              "      <th>42</th>\n",
              "      <td>2019/09/10 10:02:20 AM EST</td>\n",
              "      <td>2019-09-10</td>\n",
              "      <td>StudentID_9097</td>\n",
              "      <td>Junior</td>\n",
              "      <td>data visualization</td>\n",
              "      <td>CGT2700-001 (Tuesday/Thursday)</td>\n",
              "      <td>Agree</td>\n",
              "      <td>4</td>\n",
              "    </tr>\n",
              "    <tr>\n",
              "      <th>43</th>\n",
              "      <td>2019/08/27 11:58:10 AM EST</td>\n",
              "      <td>2019-08-27</td>\n",
              "      <td>StudentID_9386</td>\n",
              "      <td>Junior</td>\n",
              "      <td>Web Development</td>\n",
              "      <td>CGT2700-001 (Tuesday/Thursday)</td>\n",
              "      <td>Agree</td>\n",
              "      <td>4</td>\n",
              "    </tr>\n",
              "    <tr>\n",
              "      <th>44</th>\n",
              "      <td>2019/09/24 9:06:35 PM EST</td>\n",
              "      <td>2019-09-24</td>\n",
              "      <td>StudentID_9802</td>\n",
              "      <td>Sophomore</td>\n",
              "      <td>Web Programming and Design</td>\n",
              "      <td>CGT2700-001 (Tuesday/Thursday)</td>\n",
              "      <td>Agree</td>\n",
              "      <td>4</td>\n",
              "    </tr>\n",
              "  </tbody>\n",
              "</table>\n",
              "</div>"
            ],
            "text/plain": [
              "                     Timestamp       Date  ...              Q1 degree\n",
              "0    2019/09/25 9:21:54 AM EST 2019-09-25  ...           Agree      4\n",
              "1    2019/09/25 8:34:23 AM EST 2019-09-25  ...  Strongly agree      5\n",
              "2    2019/08/28 8:57:36 AM EST 2019-08-28  ...         Neutral      3\n",
              "3    2019/08/28 9:00:58 AM EST 2019-08-28  ...         Neutral      3\n",
              "4    2019/09/04 8:51:30 AM EST 2019-09-04  ...           Agree      4\n",
              "5    2019/08/28 8:56:16 AM EST 2019-08-28  ...           Agree      4\n",
              "6    2019/08/28 9:02:11 AM EST 2019-08-28  ...           Agree      4\n",
              "7    2019/08/28 9:02:14 AM EST 2019-08-28  ...           Agree      4\n",
              "8    2019/09/04 8:50:48 AM EST 2019-09-04  ...           Agree      4\n",
              "9    2019/08/28 8:56:05 AM EST 2019-08-27  ...         Neutral      3\n",
              "10   2019/08/28 8:55:52 AM EST 2019-08-28  ...           Agree      4\n",
              "11   2019/08/28 9:01:21 AM EST 2019-08-28  ...           Agree      4\n",
              "12   2019/08/28 8:57:40 AM EST 2019-08-28  ...           Agree      4\n",
              "13   2019/08/28 8:54:58 AM EST 2019-08-28  ...           Agree      4\n",
              "14   2019/08/28 2:01:45 PM EST 2019-08-28  ...           Agree      4\n",
              "16   2019/08/28 9:07:30 AM EST 2019-08-28  ...         Neutral      3\n",
              "17   2019/08/28 9:24:56 AM EST 2019-08-28  ...           Agree      4\n",
              "18   2019/08/28 8:54:57 AM EST 2019-08-28  ...           Agree      4\n",
              "19   2019/08/28 8:56:18 AM EST 2019-08-28  ...           Agree      4\n",
              "20   2019/08/28 8:43:59 AM EST 2019-08-28  ...           Agree      4\n",
              "21   2019/08/28 8:58:39 AM EST 2019-08-28  ...           Agree      4\n",
              "22   2019/08/28 9:00:07 AM EST 2019-08-28  ...           Agree      4\n",
              "23  2019/08/27 11:24:49 PM EST 2019-08-28  ...           Agree      4\n",
              "24  2019/08/27 10:23:43 AM EST 2019-08-27  ...           Agree      4\n",
              "25  2019/08/27 10:56:52 AM EST 2019-08-27  ...           Agree      4\n",
              "26  2019/09/24 10:09:15 AM EST 2019-09-24  ...           Agree      4\n",
              "27  2019/09/16 10:31:57 PM EST 2019-09-16  ...           Agree      4\n",
              "28  2019/08/27 10:20:47 AM EST 2019-08-27  ...           Agree      4\n",
              "29  2019/09/11 12:13:45 PM EST 2019-09-11  ...        Disagree      2\n",
              "30  2019/08/27 10:27:15 AM EST 2019-08-27  ...           Agree      4\n",
              "31  2019/08/27 11:33:09 AM EST 2019-08-27  ...         Neutral      3\n",
              "32  2019/09/10 10:01:38 AM EST 2019-09-10  ...         Neutral      3\n",
              "33  2019/08/27 10:21:54 AM EST 2019-08-27  ...           Agree      4\n",
              "34   2019/08/28 5:54:31 PM EST 2019-08-28  ...         Neutral      3\n",
              "35   2019/09/15 3:00:26 AM EST 2019-09-15  ...         Neutral      3\n",
              "36  2019/08/27 10:11:39 AM EST 2019-08-27  ...         Neutral      3\n",
              "37  2019/08/27 10:21:37 AM EST 2019-08-27  ...           Agree      4\n",
              "38  2019/08/27 10:23:24 AM EST 2019-08-27  ...           Agree      4\n",
              "39  2019/08/27 11:40:30 AM EST 2019-08-27  ...         Neutral      3\n",
              "41   2019/09/24 7:45:41 PM EST 2019-09-24  ...         Neutral      3\n",
              "42  2019/09/10 10:02:20 AM EST 2019-09-10  ...           Agree      4\n",
              "43  2019/08/27 11:58:10 AM EST 2019-08-27  ...           Agree      4\n",
              "44   2019/09/24 9:06:35 PM EST 2019-09-24  ...           Agree      4\n",
              "\n",
              "[43 rows x 8 columns]"
            ]
          },
          "metadata": {
            "tags": []
          },
          "execution_count": 73
        }
      ]
    },
    {
      "cell_type": "markdown",
      "metadata": {
        "id": "0Pp9CK9bDKNi",
        "colab_type": "text"
      },
      "source": [
        "### 3. Map the Likert Score to {1:\"Strongly Disagree\",2:\"Disagree\",3:\"Neutral\",4:\"Agree\",5:\"Strongly Agree\"}\n",
        "### create another column called \"degree\" for these new values."
      ]
    },
    {
      "cell_type": "code",
      "metadata": {
        "id": "GG4NOleWDKNi",
        "colab_type": "code",
        "colab": {
          "base_uri": "https://localhost:8080/",
          "height": 289
        },
        "outputId": "817c7a41-cc2c-4c6a-a5e9-a5c58dcfb4f0"
      },
      "source": [
        "maps = {\"Strongly disagree\":1,\"Disagree\":2,\"Neutral\":3,\"Agree\":4,\"Strongly agree\":5}\n",
        "df[\"degree\"] = df.Q1.map(maps)\n",
        "df.head(5)\n",
        "\n"
      ],
      "execution_count": 72,
      "outputs": [
        {
          "output_type": "execute_result",
          "data": {
            "text/html": [
              "<div>\n",
              "<style scoped>\n",
              "    .dataframe tbody tr th:only-of-type {\n",
              "        vertical-align: middle;\n",
              "    }\n",
              "\n",
              "    .dataframe tbody tr th {\n",
              "        vertical-align: top;\n",
              "    }\n",
              "\n",
              "    .dataframe thead th {\n",
              "        text-align: right;\n",
              "    }\n",
              "</style>\n",
              "<table border=\"1\" class=\"dataframe\">\n",
              "  <thead>\n",
              "    <tr style=\"text-align: right;\">\n",
              "      <th></th>\n",
              "      <th>Timestamp</th>\n",
              "      <th>Date</th>\n",
              "      <th>StudentID</th>\n",
              "      <th>Grade</th>\n",
              "      <th>Major</th>\n",
              "      <th>Section</th>\n",
              "      <th>Q1</th>\n",
              "      <th>degree</th>\n",
              "    </tr>\n",
              "  </thead>\n",
              "  <tbody>\n",
              "    <tr>\n",
              "      <th>0</th>\n",
              "      <td>2019/09/25 9:21:54 AM EST</td>\n",
              "      <td>2019-09-25</td>\n",
              "      <td>StudentID_0000</td>\n",
              "      <td>Sophomore</td>\n",
              "      <td>civil engineering</td>\n",
              "      <td>CGT 2700-LC (Wednesday/Friday)</td>\n",
              "      <td>Agree</td>\n",
              "      <td>4</td>\n",
              "    </tr>\n",
              "    <tr>\n",
              "      <th>1</th>\n",
              "      <td>2019/09/25 8:34:23 AM EST</td>\n",
              "      <td>2019-09-25</td>\n",
              "      <td>StudentID_0049</td>\n",
              "      <td>Freshman</td>\n",
              "      <td>Data Science</td>\n",
              "      <td>CGT 2700-LC (Wednesday/Friday)</td>\n",
              "      <td>Strongly agree</td>\n",
              "      <td>5</td>\n",
              "    </tr>\n",
              "    <tr>\n",
              "      <th>2</th>\n",
              "      <td>2019/08/28 8:57:36 AM EST</td>\n",
              "      <td>2019-08-28</td>\n",
              "      <td>StudentID_1287</td>\n",
              "      <td>Sophomore</td>\n",
              "      <td>UX Design</td>\n",
              "      <td>CGT 2700-LC (Wednesday/Friday)</td>\n",
              "      <td>Neutral</td>\n",
              "      <td>3</td>\n",
              "    </tr>\n",
              "    <tr>\n",
              "      <th>3</th>\n",
              "      <td>2019/08/28 9:00:58 AM EST</td>\n",
              "      <td>2019-08-28</td>\n",
              "      <td>StudentID_1418</td>\n",
              "      <td>Sophomore</td>\n",
              "      <td>Cybersecurity</td>\n",
              "      <td>CGT 2700-LC (Wednesday/Friday)</td>\n",
              "      <td>Neutral</td>\n",
              "      <td>3</td>\n",
              "    </tr>\n",
              "    <tr>\n",
              "      <th>4</th>\n",
              "      <td>2019/09/04 8:51:30 AM EST</td>\n",
              "      <td>2019-09-04</td>\n",
              "      <td>StudentID_2049</td>\n",
              "      <td>Freshman</td>\n",
              "      <td>Data Science</td>\n",
              "      <td>CGT 2700-LC (Wednesday/Friday)</td>\n",
              "      <td>Agree</td>\n",
              "      <td>4</td>\n",
              "    </tr>\n",
              "  </tbody>\n",
              "</table>\n",
              "</div>"
            ],
            "text/plain": [
              "                   Timestamp       Date  ...              Q1 degree\n",
              "0  2019/09/25 9:21:54 AM EST 2019-09-25  ...           Agree      4\n",
              "1  2019/09/25 8:34:23 AM EST 2019-09-25  ...  Strongly agree      5\n",
              "2  2019/08/28 8:57:36 AM EST 2019-08-28  ...         Neutral      3\n",
              "3  2019/08/28 9:00:58 AM EST 2019-08-28  ...         Neutral      3\n",
              "4  2019/09/04 8:51:30 AM EST 2019-09-04  ...           Agree      4\n",
              "\n",
              "[5 rows x 8 columns]"
            ]
          },
          "metadata": {
            "tags": []
          },
          "execution_count": 72
        }
      ]
    },
    {
      "cell_type": "markdown",
      "metadata": {
        "id": "IqKH-59BDKNk",
        "colab_type": "text"
      },
      "source": [
        "### 4. Group the data by different sections and compute the mean, median and std for each section"
      ]
    },
    {
      "cell_type": "code",
      "metadata": {
        "id": "795F49B5DKNk",
        "colab_type": "code",
        "colab": {
          "base_uri": "https://localhost:8080/",
          "height": 69
        },
        "outputId": "88a72b2e-d021-4ee0-9de8-0e357b5cf351"
      },
      "source": [
        "main = df\n",
        "LC = df.iloc[:23]\n",
        "print(LC['degree'].mean())\n",
        "print(LC['degree'].median())\n",
        "LC['degree'].std()"
      ],
      "execution_count": 71,
      "outputs": [
        {
          "output_type": "stream",
          "text": [
            "3.869565217391304\n",
            "4.0\n"
          ],
          "name": "stdout"
        },
        {
          "output_type": "execute_result",
          "data": {
            "text/plain": [
              "0.45769658728016005"
            ]
          },
          "metadata": {
            "tags": []
          },
          "execution_count": 71
        }
      ]
    },
    {
      "cell_type": "code",
      "metadata": {
        "id": "nKqQK6xiNdt-",
        "colab_type": "code",
        "colab": {
          "base_uri": "https://localhost:8080/",
          "height": 69
        },
        "outputId": "127b182e-c7a9-49a5-8cb1-d2d14204795e"
      },
      "source": [
        "main = df.iloc[23:]\n",
        "print(main['degree'].mean())\n",
        "print(main['degree'].median())\n",
        "main['degree'].std()\n"
      ],
      "execution_count": 70,
      "outputs": [
        {
          "output_type": "stream",
          "text": [
            "3.5454545454545454\n",
            "4.0\n"
          ],
          "name": "stdout"
        },
        {
          "output_type": "execute_result",
          "data": {
            "text/plain": [
              "0.5958006000151015"
            ]
          },
          "metadata": {
            "tags": []
          },
          "execution_count": 70
        }
      ]
    },
    {
      "cell_type": "markdown",
      "metadata": {
        "id": "x0Y9G79pDKNn",
        "colab_type": "text"
      },
      "source": [
        "### 5. Group the data by different sections and report the student count for each likert score in each section."
      ]
    },
    {
      "cell_type": "code",
      "metadata": {
        "id": "2rrHx2tZDKNo",
        "colab_type": "code",
        "colab": {
          "base_uri": "https://localhost:8080/",
          "height": 87
        },
        "outputId": "e4e694d8-2413-498d-810f-198e1287cc88"
      },
      "source": [
        "g.get_group(\"CGT 2700-LC (Wednesday/Friday)\")[\"Q1\"].value_counts()\n"
      ],
      "execution_count": 31,
      "outputs": [
        {
          "output_type": "execute_result",
          "data": {
            "text/plain": [
              "Agree             18\n",
              "Neutral            4\n",
              "Strongly agree     1\n",
              "Name: Q1, dtype: int64"
            ]
          },
          "metadata": {
            "tags": []
          },
          "execution_count": 31
        }
      ]
    },
    {
      "cell_type": "code",
      "metadata": {
        "id": "yy1UDnOzFhO-",
        "colab_type": "code",
        "colab": {
          "base_uri": "https://localhost:8080/",
          "height": 87
        },
        "outputId": "c7955013-4814-4ca6-b114-505f96986174"
      },
      "source": [
        "g.get_group(\"CGT2700-001 (Tuesday/Thursday)\")[\"Q1\"].value_counts()"
      ],
      "execution_count": 30,
      "outputs": [
        {
          "output_type": "execute_result",
          "data": {
            "text/plain": [
              "Agree       13\n",
              "Neutral      8\n",
              "Disagree     1\n",
              "Name: Q1, dtype: int64"
            ]
          },
          "metadata": {
            "tags": []
          },
          "execution_count": 30
        }
      ]
    }
  ]
}