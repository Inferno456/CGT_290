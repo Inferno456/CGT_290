{
  "nbformat": 4,
  "nbformat_minor": 0,
  "metadata": {
    "kernelspec": {
      "display_name": "Python 3",
      "language": "python",
      "name": "python3"
    },
    "language_info": {
      "codemirror_mode": {
        "name": "ipython",
        "version": 3
      },
      "file_extension": ".py",
      "mimetype": "text/x-python",
      "name": "python",
      "nbconvert_exporter": "python",
      "pygments_lexer": "ipython3",
      "version": "3.7.4"
    },
    "colab": {
      "name": "CGT290-Week2.ipynb",
      "provenance": [],
      "collapsed_sections": []
    }
  },
  "cells": [
    {
      "cell_type": "markdown",
      "metadata": {
        "id": "bmGy3Ii9TQkN",
        "colab_type": "text"
      },
      "source": [
        "# CGT 290 Week2\n",
        "## Python Tutorial: list, tuple, dictionary, set, function\n",
        "\n",
        "### Jan 22, 2020\n",
        "Zongcheng Chu"
      ]
    },
    {
      "cell_type": "markdown",
      "metadata": {
        "id": "cPoNnIdaTQkR",
        "colab_type": "text"
      },
      "source": [
        "# 1. List"
      ]
    },
    {
      "cell_type": "code",
      "metadata": {
        "id": "RtN81xIlTQkT",
        "colab_type": "code",
        "outputId": "fa6fe0ef-baab-4ec6-9ec8-0e2be8acc237",
        "colab": {}
      },
      "source": [
        "# list initialization\n",
        "l1=['Python','C++','Java','C#','Julia']\n",
        "l2=list(range(1,6))\n",
        "l3=list(range(1,18,2))\n",
        "\n",
        "\n",
        "#built-in function to get the length of the list\n",
        "len(l1)\n",
        "\n",
        "'AI' in l1  # >> False\n",
        "'JS' not in l1 # >> True\n",
        "\n",
        "# slice\n",
        "l1[2]\n",
        "l1[0:4]\n",
        "l1[0:-1:2]\n",
        "\n",
        "#list operations\n",
        "l1[3]='Scala' #change elements\n",
        "\n",
        "\"\"\"\n",
        "1. append adds its argument as a single element to the end of a list. \n",
        "   The length of the list itself will increase by one.\n",
        "   \n",
        "2. extend iterates over its argument adding each element to the list, extending the list. \n",
        "   The length of the list will increase by however many elements were in the iterable argument.\n",
        "\"\"\"\n",
        "l1.append(l2)\n",
        "l1.extend(['Torch'])# \n",
        "\n",
        "l1.insert(0,'sklearn') # insert element \"sklearn\" at the position of index 0\n",
        "\n",
        "l1.index('sklearn')# return the index of this element(if this element is duplicate, only return the first one)\n",
        "l1.count('AI')#\n",
        "\n",
        "l1.pop()#remove the last element and return the last element(the list will be changed)\n",
        "l1.pop(3)#remove an element with a specified index and return this element(the list will be changed)\n",
        "\n",
        "min(l3) # return the largest number\n",
        "max(l3) # return the smallest number\n",
        "\n",
        "del l1[-1] #remove an element(the list will be changed)\n",
        "l1.remove('C++')#remove an element by its name, if this element is duplicate then only the first one will be removed\n",
        "l1\n",
        "\n",
        "reversed(l1) # reverse the list\n",
        "sorted(l1) # sort the list in an ascending order\n",
        "\n",
        "l2<l3 # element-wise comparision"
      ],
      "execution_count": 0,
      "outputs": [
        {
          "output_type": "execute_result",
          "data": {
            "text/plain": [
              "True"
            ]
          },
          "metadata": {
            "tags": []
          },
          "execution_count": 4
        }
      ]
    },
    {
      "cell_type": "markdown",
      "metadata": {
        "id": "_oac2891TQka",
        "colab_type": "text"
      },
      "source": [
        "# 2. list+for"
      ]
    },
    {
      "cell_type": "code",
      "metadata": {
        "id": "kUgDmHoeTQkb",
        "colab_type": "code",
        "outputId": "00cb87ac-1990-46e7-d751-d43c86544a35",
        "colab": {}
      },
      "source": [
        "l1=list(range(300))  #l1 -> [0,1,2,3,...,299]\n",
        "\n",
        "[x for x in l1 if x>=288]\n",
        "# how to read this code:\n",
        "# 1. for x in l1\n",
        "# 2. if x >= 288\n",
        "# 3. keep x\n",
        "\n",
        "# >> [288, 289, 290, ... , 299]\n",
        "\n",
        "\n",
        "[i for i in range(9) if i%2==0]\n",
        "# >> [0,2,4,6,8]\n",
        "\n",
        "\n",
        "# two list + for loop\n",
        "[(i,j) for i in range(5) for j in range(5)]\n",
        "# how to read\n",
        "# 1. for i in range(5)\n",
        "# 2. for j in range(5)\n",
        "# keep(i,j)\n",
        "\n",
        "# >>[(0,0),(0,1),(0,2),...,(4,3),(4,4)]"
      ],
      "execution_count": 0,
      "outputs": [
        {
          "output_type": "stream",
          "text": [
            "[(0, 0), (0, 1), (0, 2), (0, 3), (0, 4), (1, 0), (1, 1), (1, 2), (1, 3), (1, 4), (2, 0), (2, 1), (2, 2), (2, 3), (2, 4), (3, 0), (3, 1), (3, 2), (3, 3), (3, 4), (4, 0), (4, 1), (4, 2), (4, 3), (4, 4)]\n"
          ],
          "name": "stdout"
        }
      ]
    },
    {
      "cell_type": "markdown",
      "metadata": {
        "id": "J-0GKKdbTQke",
        "colab_type": "text"
      },
      "source": [
        "# 3. Tuple"
      ]
    },
    {
      "cell_type": "code",
      "metadata": {
        "id": "ov0IYWuBTQkf",
        "colab_type": "code",
        "outputId": "14201990-2f40-4ed8-f5aa-4477830f8c87",
        "colab": {}
      },
      "source": [
        "# create a new tuple(we use \"()\" for tuple)\n",
        "t1=(5,6,7)\n",
        "t2 = \"a\", \"b\", \"c\", \"d\"   #you can create a tuple even without the brackets\n",
        "type(t2)\n",
        "\n",
        "#create an empty tupe\n",
        "t3 = ()\n",
        "\n",
        "#create a tuple that contains only one element\n",
        "t4 = (10,) # NOTE: must have ',' at the end\n",
        "\n",
        "#unpack tuple\n",
        "a,b,c=t1\n",
        "\n",
        "# slice\n",
        "tup1 = ('Google', 'Runoob', 1997, 2000)\n",
        "tup2 = (1, 2, 3, 4, 5, 6, 7 )\n",
        "print (\"tup1[0]: \", tup1[0])\n",
        "print (\"tup2[1:5]: \", tup2[1:5])\n",
        "\n",
        "#concat\n",
        "tup1 = (12, 34.56)\n",
        "tup2 = ('abc', 'xyz')\n",
        "tup3 = tup1 + tup2\n",
        "print (tup3)\n",
        "\n",
        "\n",
        "\n",
        "t1=(1,2,3,[4,5,6])\n",
        "#t1[0]=0 gives us error message\n",
        "#'tuple' object does not support item assignment\n",
        "# but list can!\n",
        "\n",
        "# tuple has no attribute called append, but if the element in the tuple is a list,\n",
        "# then we can first access to that list and append elements.\n",
        "t1[-1].append(7)\n",
        "print(t1)"
      ],
      "execution_count": 0,
      "outputs": [
        {
          "output_type": "stream",
          "text": [
            "tup1[0]:  Google\n",
            "tup2[1:5]:  (2, 3, 4, 5)\n",
            "(12, 34.56, 'abc', 'xyz')\n",
            "(1, 2, 3, [4, 5, 6, 7])\n"
          ],
          "name": "stdout"
        }
      ]
    },
    {
      "cell_type": "markdown",
      "metadata": {
        "id": "9otku_WCTQki",
        "colab_type": "text"
      },
      "source": [
        "# 4. Dictionary"
      ]
    },
    {
      "cell_type": "code",
      "metadata": {
        "id": "zKme4rEJTQkj",
        "colab_type": "code",
        "outputId": "15143db0-1591-4386-f05f-f0247a0f219b",
        "colab": {
          "base_uri": "https://localhost:8080/",
          "height": 121
        }
      },
      "source": [
        "\"\"\"\n",
        "Basic data structre for dictionary in Python:\n",
        " -------------------------------------\n",
        "| d = {key1 : value1, key2 : value2 } |\n",
        " -------------------------------------\n",
        " \n",
        " Note:\n",
        " 1. key has to be unique, but value doesn't have to be.\n",
        " 2. value could be any data type, but key must be number, string or tuple\n",
        "\n",
        "\"\"\"\n",
        "\n",
        "# create a dictionary(either is ok)\n",
        "d1={'name':'jack','age':24}\n",
        "d2=dict({'salary':9999,'level':5})\n",
        "\n",
        "\n",
        "'name' in d1 # if 'name' is in the key list of d1\n",
        "'address' in d1 # if 'address' is in the key list of a1\n",
        "\n",
        "\n",
        "#add a new key (if this key exists in the dictionary, the value will be changed.)\n",
        "d1['address']='West Lafayette'\n",
        "d1['name'] = d1['name']\n",
        "\n",
        "#get the value by the key name\n",
        "print(d1['name'])\n",
        "\n",
        "#get all the keys\n",
        "print('Keys:',d1.keys())\n",
        "#get all the vlaues\n",
        "print('Values:',d1.values())\n",
        "\n",
        "#get all the paris of key:value\n",
        "print('All the paris:',d1.items())\n",
        "\n",
        "\n",
        "#delete \n",
        "d1.pop('name')# remove the pair 'name:jack', and return the value 'jack' \n",
        "d1.popitem()# remove the last item, and return this item.\n",
        "\n",
        "#empty dictionary\n",
        "d1.clear()\n",
        "\n",
        "d1={'name':'jack','age':24}\n",
        "# iterate the dictionary\n",
        "for key, value in d1.items():\n",
        "    print('key:',key,' ','value:',value)"
      ],
      "execution_count": 3,
      "outputs": [
        {
          "output_type": "stream",
          "text": [
            "jackhi\n",
            "Keys: dict_keys(['name', 'age', 'address'])\n",
            "Values: dict_values(['jackhi', 24, 'West Lafayette'])\n",
            "All the paris: dict_items([('name', 'jackhi'), ('age', 24), ('address', 'West Lafayette')])\n",
            "key: name   value: jack\n",
            "key: age   value: 24\n"
          ],
          "name": "stdout"
        }
      ]
    },
    {
      "cell_type": "markdown",
      "metadata": {
        "id": "pI9K5t4PTQkn",
        "colab_type": "text"
      },
      "source": [
        "# 5. Set"
      ]
    },
    {
      "cell_type": "code",
      "metadata": {
        "id": "jW2gPe1bTQko",
        "colab_type": "code",
        "outputId": "a1361b8c-fb27-4c43-cb98-607cdfcc95f3",
        "colab": {}
      },
      "source": [
        "\"\"\"\n",
        "A set is a collection which is unordered, no duplicate element in a set.\n",
        "\"\"\"\n",
        "\n",
        "#create an empty set\n",
        "s1 = set()\n",
        "\n",
        "#create a set with elements, use \"{}\"\n",
        "s2 = {'Python','C++','Java'}\n",
        "\n",
        "# convert a list to a set\n",
        "l1=['Python','C++','Java','C++']\n",
        "a=set(l1)\n",
        "print(a) # >> ['Python','C++','Java']\n",
        "\n",
        "# a[0]# 'set' object does not support indexing\n",
        "\n",
        "\n",
        "'Python' in a # >> True\n",
        "\n",
        "#add elements\n",
        "a.add('C#')\n",
        "#remove elements\n",
        "a.remove('C++')\n",
        "\n",
        "# Add multiple items to a set, using the update() method:\n",
        "thisset = {\"apple\", \"banana\", \"cherry\"}\n",
        "thisset.update([\"orange\", \"mango\", \"grapes\"])\n",
        "print(thisset)\n",
        "#>> {\"apple\", \"banana\", \"cherry\", \"orange\", \"mango\", \"grapes\"}\n",
        "\n",
        "\n",
        "# operation between two sets\n",
        "a=set('abcde')\n",
        "b=set('cdefg')\n",
        "\n",
        "# &\n",
        "a&b\n",
        "# >> {'c', 'd', 'e'}\n",
        "\n",
        "# |\n",
        "a|b\n",
        "# >> {'a', 'b', 'c', 'd', 'e', 'f', 'g'}\n",
        "\n",
        "# -\n",
        "a-b\n",
        "# >> {'a', 'b'}\n",
        "\n",
        "\n",
        "#other function:\n",
        "\"\"\"\n",
        "len()\n",
        "pop()\n",
        "\"\"\""
      ],
      "execution_count": 0,
      "outputs": [
        {
          "output_type": "stream",
          "text": [
            "{'Java', 'C++', 'Python'}\n",
            "{'apple', 'mango', 'grapes', 'banana', 'cherry', 'orange'}\n"
          ],
          "name": "stdout"
        },
        {
          "output_type": "execute_result",
          "data": {
            "text/plain": [
              "'\\nlen()\\npop()\\n'"
            ]
          },
          "metadata": {
            "tags": []
          },
          "execution_count": 23
        }
      ]
    },
    {
      "cell_type": "markdown",
      "metadata": {
        "id": "vvukrBMXTQkt",
        "colab_type": "text"
      },
      "source": [
        "# 6. Function\n",
        "\n",
        "### A function is a block of code which only runs when it is called. \n",
        "### You can pass data, known as parameters, into a function. \n",
        "### A function can return data as a result."
      ]
    },
    {
      "cell_type": "markdown",
      "metadata": {
        "id": "5DKOhJxsTQku",
        "colab_type": "text"
      },
      "source": [
        "## 6.1 define a function"
      ]
    },
    {
      "cell_type": "code",
      "metadata": {
        "id": "uA52PZ4NTQkv",
        "colab_type": "code",
        "outputId": "9f3bcb44-5ceb-4785-ece1-72f220dd8142",
        "colab": {}
      },
      "source": [
        "# In Python a function is defined using the def keyword:\n",
        "\n",
        "#define a function\n",
        "def my_function():\n",
        "    print(\"Hello from a function\")\n",
        "\n",
        "#call the function\n",
        "my_function()"
      ],
      "execution_count": 0,
      "outputs": [
        {
          "output_type": "stream",
          "text": [
            "Hello from a function\n"
          ],
          "name": "stdout"
        }
      ]
    },
    {
      "cell_type": "markdown",
      "metadata": {
        "id": "fljjR4tITQky",
        "colab_type": "text"
      },
      "source": [
        "## 6.2 pass arguments"
      ]
    },
    {
      "cell_type": "code",
      "metadata": {
        "id": "1FeFSFuPTQkz",
        "colab_type": "code",
        "outputId": "5353e206-5bae-47de-ee12-db784003cdc4",
        "colab": {}
      },
      "source": [
        "# Arguments are specified after the function name, inside the parentheses. \n",
        "# You can add as many arguments as you want, just separate them with a comma.\n",
        "\n",
        "def my_function(fname):\n",
        "    print(fname + \" Refsnes\")\n",
        "\n",
        "my_function(\"Emil\")\n",
        "my_function(\"Tobias\")\n",
        "my_function(\"Linus\")\n",
        "\n",
        "# two arguments\n",
        "def my_function(fname, lname):\n",
        "    print(fname + \" \" + lname)\n",
        "\n",
        "my_function(\"Emil\", \"Refsnes\")"
      ],
      "execution_count": 0,
      "outputs": [
        {
          "output_type": "stream",
          "text": [
            "Emil Refsnes\n",
            "Tobias Refsnes\n",
            "Linus Refsnes\n",
            "Emil Refsnes\n"
          ],
          "name": "stdout"
        }
      ]
    },
    {
      "cell_type": "markdown",
      "metadata": {
        "id": "3fi0XQwRTQk2",
        "colab_type": "text"
      },
      "source": [
        "## 6.3 Default Parameter Value"
      ]
    },
    {
      "cell_type": "code",
      "metadata": {
        "id": "TmlV-iJlTQk3",
        "colab_type": "code",
        "outputId": "027792bb-7e45-44ea-aabc-1a62084b478b",
        "colab": {}
      },
      "source": [
        "# If we call the function without argument, it uses the default value\n",
        "\n",
        "def my_function(country = \"Norway\"):\n",
        "    print(\"I am from \" + country)\n",
        "\n",
        "my_function(\"Sweden\")\n",
        "my_function(\"India\")\n",
        "my_function()\n",
        "my_function(\"Brazil\")"
      ],
      "execution_count": 0,
      "outputs": [
        {
          "output_type": "stream",
          "text": [
            "I am from Sweden\n",
            "I am from India\n",
            "I am from Norway\n",
            "I am from Brazil\n"
          ],
          "name": "stdout"
        }
      ]
    },
    {
      "cell_type": "markdown",
      "metadata": {
        "id": "4Y30i3iOTQk6",
        "colab_type": "text"
      },
      "source": [
        "## 6.4 Passing a List as an Argument"
      ]
    },
    {
      "cell_type": "code",
      "metadata": {
        "id": "p8O5kfJpTQk7",
        "colab_type": "code",
        "outputId": "2abce331-159b-4957-f4cc-040c8788242d",
        "colab": {}
      },
      "source": [
        "# You can send any data types of argument to a function (string, number, list, dictionary etc.), \n",
        "# and it will be treated as the same data type inside the function.\n",
        "\n",
        "def my_function(food):\n",
        "    for x in food:\n",
        "        print(x)\n",
        "\n",
        "fruits = [\"apple\", \"banana\", \"cherry\"]\n",
        "\n",
        "my_function(fruits)"
      ],
      "execution_count": 0,
      "outputs": [
        {
          "output_type": "stream",
          "text": [
            "apple\n",
            "banana\n",
            "cherry\n"
          ],
          "name": "stdout"
        }
      ]
    },
    {
      "cell_type": "markdown",
      "metadata": {
        "id": "yq0GO93KTQk-",
        "colab_type": "text"
      },
      "source": [
        "## 6.5 Return Values"
      ]
    },
    {
      "cell_type": "code",
      "metadata": {
        "id": "6XB_dwPFTQk_",
        "colab_type": "code",
        "outputId": "7a80242e-e43f-42bc-d213-0c5075c41c20",
        "colab": {}
      },
      "source": [
        "# To let a function return a value, use the return statement:\n",
        "\n",
        "def my_function(x):\n",
        "    return 5 * x\n",
        "\n",
        "print(my_function(3))\n",
        "print(my_function(5))\n",
        "print(my_function(9))"
      ],
      "execution_count": 0,
      "outputs": [
        {
          "output_type": "stream",
          "text": [
            "15\n",
            "25\n",
            "45\n"
          ],
          "name": "stdout"
        }
      ]
    },
    {
      "cell_type": "markdown",
      "metadata": {
        "id": "pT_ES1VXTQlC",
        "colab_type": "text"
      },
      "source": [
        "# 6.6 how values change when passing arguments?"
      ]
    },
    {
      "cell_type": "code",
      "metadata": {
        "id": "i8oC5NObTQlD",
        "colab_type": "code",
        "outputId": "6eea94da-34b0-4117-917d-80ade8923e78",
        "colab": {}
      },
      "source": [
        "#passing a number or a string to a function, this value will not be changed.\n",
        "a=7\n",
        "b='purdue'\n",
        "print('before:',a,b)\n",
        "\n",
        "def foo1(a,b):\n",
        "    a+=1\n",
        "    b+='.com'\n",
        "    print('In foo1 a,b has changed to',a,b)\n",
        "\n",
        "foo1(a,b)\n",
        "print('after:',a,b)\n",
        "\n",
        "\n",
        "print('-'*40)\n",
        "\n",
        "\n",
        "#passing a list or a dictionary, the value will be changed. \n",
        "l1=[1,2,3.4]\n",
        "d1={'name':'jack'}\n",
        "def foo2(a,b):\n",
        "    a[0] = 100\n",
        "    b['name']='Joe'\n",
        "    \n",
        "print('before:',l1,d1)\n",
        "\n",
        "foo2(l1,d1)\n",
        "\n",
        "\n",
        "print('after:',l1,d1)"
      ],
      "execution_count": 0,
      "outputs": [
        {
          "output_type": "stream",
          "text": [
            "before: 7 purdue\n",
            "In foo1 a,b has changed to 8 purdue.com\n",
            "after: 7 purdue\n",
            "----------------------------------------\n",
            "before: [1, 2, 3.4] {'name': 'jack'}\n",
            "after: [100, 2, 3.4] {'name': 'Joe'}\n"
          ],
          "name": "stdout"
        }
      ]
    },
    {
      "cell_type": "markdown",
      "metadata": {
        "id": "-j0V4EfJTQlG",
        "colab_type": "text"
      },
      "source": [
        "# 6.7 \"global\" data type in the function"
      ]
    },
    {
      "cell_type": "code",
      "metadata": {
        "id": "AqVlzWvSTQlH",
        "colab_type": "code",
        "outputId": "272e1e38-daed-465d-8ee5-f16ab7271433",
        "colab": {}
      },
      "source": [
        "# In Python, global keyword allows you to modify the variable outside of the current scope. \n",
        "# It is used to create a global variable and make changes to the variable in a local context.\n",
        "\n",
        "c = 1 # global variable\n",
        "    \n",
        "def add():\n",
        "    c = c + 2 # increment c by 2\n",
        "    print(c)\n",
        "\n",
        "add()\n",
        "\n",
        "# We get the error message. \n",
        "# This is because we can only access the global variable but cannot modify it from inside the function.\n",
        "# The solution for this is to use the global keyword."
      ],
      "execution_count": 0,
      "outputs": [
        {
          "output_type": "error",
          "ename": "UnboundLocalError",
          "evalue": "local variable 'c' referenced before assignment",
          "traceback": [
            "\u001b[1;31m---------------------------------------------------------------------------\u001b[0m",
            "\u001b[1;31mUnboundLocalError\u001b[0m                         Traceback (most recent call last)",
            "\u001b[1;32m<ipython-input-40-19ce39e1250a>\u001b[0m in \u001b[0;36m<module>\u001b[1;34m\u001b[0m\n\u001b[0;32m      8\u001b[0m     \u001b[0mprint\u001b[0m\u001b[1;33m(\u001b[0m\u001b[0mc\u001b[0m\u001b[1;33m)\u001b[0m\u001b[1;33m\u001b[0m\u001b[1;33m\u001b[0m\u001b[0m\n\u001b[0;32m      9\u001b[0m \u001b[1;33m\u001b[0m\u001b[0m\n\u001b[1;32m---> 10\u001b[1;33m \u001b[0madd\u001b[0m\u001b[1;33m(\u001b[0m\u001b[1;33m)\u001b[0m\u001b[1;33m\u001b[0m\u001b[1;33m\u001b[0m\u001b[0m\n\u001b[0m\u001b[0;32m     11\u001b[0m \u001b[1;33m\u001b[0m\u001b[0m\n\u001b[0;32m     12\u001b[0m \u001b[1;31m# We get the error message.\u001b[0m\u001b[1;33m\u001b[0m\u001b[1;33m\u001b[0m\u001b[1;33m\u001b[0m\u001b[0m\n",
            "\u001b[1;32m<ipython-input-40-19ce39e1250a>\u001b[0m in \u001b[0;36madd\u001b[1;34m()\u001b[0m\n\u001b[0;32m      5\u001b[0m \u001b[1;33m\u001b[0m\u001b[0m\n\u001b[0;32m      6\u001b[0m \u001b[1;32mdef\u001b[0m \u001b[0madd\u001b[0m\u001b[1;33m(\u001b[0m\u001b[1;33m)\u001b[0m\u001b[1;33m:\u001b[0m\u001b[1;33m\u001b[0m\u001b[1;33m\u001b[0m\u001b[0m\n\u001b[1;32m----> 7\u001b[1;33m     \u001b[0mc\u001b[0m \u001b[1;33m=\u001b[0m \u001b[0mc\u001b[0m \u001b[1;33m+\u001b[0m \u001b[1;36m2\u001b[0m \u001b[1;31m# increment c by 2\u001b[0m\u001b[1;33m\u001b[0m\u001b[1;33m\u001b[0m\u001b[0m\n\u001b[0m\u001b[0;32m      8\u001b[0m     \u001b[0mprint\u001b[0m\u001b[1;33m(\u001b[0m\u001b[0mc\u001b[0m\u001b[1;33m)\u001b[0m\u001b[1;33m\u001b[0m\u001b[1;33m\u001b[0m\u001b[0m\n\u001b[0;32m      9\u001b[0m \u001b[1;33m\u001b[0m\u001b[0m\n",
            "\u001b[1;31mUnboundLocalError\u001b[0m: local variable 'c' referenced before assignment"
          ]
        }
      ]
    },
    {
      "cell_type": "code",
      "metadata": {
        "id": "9ShExSShTQlM",
        "colab_type": "code",
        "outputId": "5e2cd97b-97e3-470f-d917-494b1e412d8c",
        "colab": {}
      },
      "source": [
        "c = 0 # global variable\n",
        "\n",
        "def add():\n",
        "    global c\n",
        "    c = c + 2 # increment by 2\n",
        "    print(\"Inside add():\", c)\n",
        "\n",
        "add()\n",
        "print(\"Outside add():\", c)"
      ],
      "execution_count": 0,
      "outputs": [
        {
          "output_type": "stream",
          "text": [
            "Inside add(): 2\n",
            "Outside add(): 2\n"
          ],
          "name": "stdout"
        }
      ]
    },
    {
      "cell_type": "markdown",
      "metadata": {
        "id": "SAlILUcnTQlR",
        "colab_type": "text"
      },
      "source": [
        "# 7. break, continue, pass\n",
        "In Python, break, continue and pass statements can alter the flow of a normal loop.\n",
        "\n",
        "Loops iterate over a block of code until test expression is false, but sometimes we wish to terminate the current iteration or even the whole loop without checking test expression.\n",
        "\n",
        "The break and continue statements are used in these cases."
      ]
    },
    {
      "cell_type": "markdown",
      "metadata": {
        "id": "5cj7vBJ_TQlS",
        "colab_type": "text"
      },
      "source": [
        "## 7.1 break"
      ]
    },
    {
      "cell_type": "code",
      "metadata": {
        "id": "tNuIwkr9TQlT",
        "colab_type": "code",
        "outputId": "42eeb615-b82d-41c7-a8df-05f098c4c49c",
        "colab": {}
      },
      "source": [
        "# The break statement terminates the loop containing it. \n",
        "# Control of the program flows to the statement immediately after the body of the loop.\n",
        "\n",
        "for val in \"string\":\n",
        "    if val == \"i\":\n",
        "        break\n",
        "    print(val)\n",
        "\n",
        "print(\"The end\")"
      ],
      "execution_count": 0,
      "outputs": [
        {
          "output_type": "stream",
          "text": [
            "s\n",
            "t\n",
            "r\n",
            "The end\n"
          ],
          "name": "stdout"
        }
      ]
    },
    {
      "cell_type": "markdown",
      "metadata": {
        "id": "z9metQcfTQlV",
        "colab_type": "text"
      },
      "source": [
        "## 7.2 continue"
      ]
    },
    {
      "cell_type": "code",
      "metadata": {
        "id": "19qBg5rDTQlW",
        "colab_type": "code",
        "outputId": "e1d572c4-3b2d-49bf-854c-563aa208c848",
        "colab": {}
      },
      "source": [
        "# The continue statement is used to skip the rest of the code inside a loop for the current iteration only. \n",
        "# Loop does not terminate but continues on with the next iteration.\n",
        "\n",
        "for val in \"string\":\n",
        "    if val == \"i\":\n",
        "        continue\n",
        "    print(val)\n",
        "\n",
        "print(\"The end\")"
      ],
      "execution_count": 0,
      "outputs": [
        {
          "output_type": "stream",
          "text": [
            "s\n",
            "t\n",
            "r\n",
            "n\n",
            "g\n",
            "The end\n"
          ],
          "name": "stdout"
        }
      ]
    },
    {
      "cell_type": "markdown",
      "metadata": {
        "id": "sMVqI98wTQlb",
        "colab_type": "text"
      },
      "source": [
        "## 7.3 pass"
      ]
    },
    {
      "cell_type": "code",
      "metadata": {
        "id": "HyKlkSdpTQlc",
        "colab_type": "code",
        "outputId": "e90217cb-c224-43cf-ede6-2bed321ef92e",
        "colab": {}
      },
      "source": [
        "# nothing happens when pass is executed. It results into no operation (NOP).\n",
        "for val in \"string\":\n",
        "    if val == \"i\":\n",
        "        pass\n",
        "    print(val)\n",
        "\n",
        "print(\"The end\")"
      ],
      "execution_count": 0,
      "outputs": [
        {
          "output_type": "stream",
          "text": [
            "s\n",
            "t\n",
            "r\n",
            "i\n",
            "n\n",
            "g\n",
            "The end\n"
          ],
          "name": "stdout"
        }
      ]
    },
    {
      "cell_type": "markdown",
      "metadata": {
        "id": "40XU90GWTQli",
        "colab_type": "text"
      },
      "source": [
        "# Homework"
      ]
    },
    {
      "cell_type": "markdown",
      "metadata": {
        "id": "ig8ErcJFTQlj",
        "colab_type": "text"
      },
      "source": [
        "1. Given a list containing string elements, create a Python dictionary to count the number of each element shown in the list  \n",
        "## (4 points)"
      ]
    },
    {
      "cell_type": "code",
      "metadata": {
        "id": "yOQYm5HtTQlj",
        "colab_type": "code",
        "outputId": "8870ae20-3ca5-4dba-cd90-8ff7688b6818",
        "colab": {
          "base_uri": "https://localhost:8080/",
          "height": 35
        }
      },
      "source": [
        "s = ['person','bike','car','person','phone','person','car','car','phone','bike','plane']\n",
        "\n",
        "def make_dictionary(s):\n",
        "    \n",
        "    dict = {}\n",
        "    for x in s:\n",
        "\n",
        "      if x in dict:\n",
        "        dict[x] = dict[x] + 1\n",
        "      else:\n",
        "        dict[x] = 1\n",
        "    \n",
        "    \n",
        "    return dict\n",
        "\n",
        "# test\n",
        "print(make_dictionary(s))"
      ],
      "execution_count": 7,
      "outputs": [
        {
          "output_type": "stream",
          "text": [
            "{'person': 3, 'bike': 2, 'car': 3, 'phone': 2, 'plane': 1}\n"
          ],
          "name": "stdout"
        }
      ]
    },
    {
      "cell_type": "markdown",
      "metadata": {
        "id": "uOZWE0coTQlm",
        "colab_type": "text"
      },
      "source": [
        "2. Compute the result: 1+2!+3!+...+20! \n",
        "## (4 points)"
      ]
    },
    {
      "cell_type": "code",
      "metadata": {
        "id": "WLKhBBptTQln",
        "colab_type": "code",
        "colab": {
          "base_uri": "https://localhost:8080/",
          "height": 35
        },
        "outputId": "b935836f-2a68-40b2-c411-37f2aea72acb"
      },
      "source": [
        "# n! = n * (n-1) * (n-2) * ... * 1\n",
        "\n",
        "# let's first define a function to compute n!\n",
        "def factorial(n):\n",
        "    \n",
        "    total = 1\n",
        "    for x in range(1,n+1):\n",
        "      total = total * x\n",
        "    \n",
        "    return total\n",
        "\n",
        "\n",
        "# we can loop through 1 to 20, and each time we call the factorial() function.\n",
        "\n",
        "sum = 0\n",
        "for x in range(1,21):\n",
        "  sum = sum + factorial(x)\n",
        "\n",
        "print (sum)\n"
      ],
      "execution_count": 15,
      "outputs": [
        {
          "output_type": "stream",
          "text": [
            "33\n"
          ],
          "name": "stdout"
        }
      ]
    },
    {
      "cell_type": "markdown",
      "metadata": {
        "id": "3lKtdY3pTQlp",
        "colab_type": "text"
      },
      "source": [
        "3. remove all the duplicate elements in the given list.\n",
        "# (4 points)"
      ]
    },
    {
      "cell_type": "code",
      "metadata": {
        "id": "c7ffrlTaTQlr",
        "colab_type": "code",
        "outputId": "e439560c-32bc-4973-9320-c345ccbd8633",
        "colab": {
          "base_uri": "https://localhost:8080/",
          "height": 35
        }
      },
      "source": [
        "S = ['a','A','1','1','b','2','a','1','2','c','d']\n",
        "# output -> ['a','A','1','b','2','c','d']\n",
        "\n",
        "def remove_duplicate(S):\n",
        "    \n",
        "    a = []\n",
        "    for x in S:\n",
        "      if x not in a:\n",
        "        a.append(x)\n",
        "    \n",
        "    return a\n",
        "\n",
        "print(remove_duplicate(S))"
      ],
      "execution_count": 17,
      "outputs": [
        {
          "output_type": "stream",
          "text": [
            "['a', 'A', '1', 'b', '2', 'c', 'd']\n"
          ],
          "name": "stdout"
        }
      ]
    },
    {
      "cell_type": "markdown",
      "metadata": {
        "id": "s_J2-AG_TQlu",
        "colab_type": "text"
      },
      "source": [
        "4. brackets matching\n",
        "# (6 points)"
      ]
    },
    {
      "cell_type": "code",
      "metadata": {
        "id": "CimV0PQETQlu",
        "colab_type": "code",
        "colab": {
          "base_uri": "https://localhost:8080/",
          "height": 69
        },
        "outputId": "05a98c7d-6531-466c-9699-eb1cd3f7a576"
      },
      "source": [
        "# given a string that only contains '[' or ']', decide if all the brakets can find their matching ones.\n",
        "\n",
        "# []        OK  \n",
        "\n",
        "# ][        NOT OK\n",
        "\n",
        "# [][]      OK  \n",
        "\n",
        "# ][][      NOT OK\n",
        "\n",
        "# [[][]]    OK   \n",
        "\n",
        "# []][[]    NOT OK\n",
        "\n",
        "# [[][[]]]  OK   \n",
        "\n",
        "# ][]][[][  NOT OK\n",
        "\n",
        "# Hint: \n",
        "# initialize an empty list a = []\n",
        "# for case '[][]', starting from the first element, we add them to list a\n",
        "# a = ['[']\n",
        "# a = ['[',']']\n",
        "# each time, we check the previous element in list a, if the current element and the previous one is a matching pair,\n",
        "# pop both two element.\n",
        "# Keep doing this until we reach to the last element.\n",
        "# return True if we have an empty list in the end.\n",
        "# return False if we still have elements left in the end.\n",
        "\n",
        "test1 = '][]][[]['\n",
        "test2 = '[[][[]]]'\n",
        "test3 = '[[[[]]]]'\n",
        "\n",
        "def matching(test):\n",
        "    \n",
        "    a = []\n",
        "    a.append(test[0])\n",
        "    \n",
        "    for i in range(1,len(test)):\n",
        "      a.append(test[i])\n",
        "      if a[len(a)-1] == ']' and a[len(a)-2] == '[':\n",
        "        a.pop()\n",
        "        a.pop()\n",
        "\n",
        "    if a == []:\n",
        "      return (\"True\")\n",
        "    else:\n",
        "      return (\"False\")\n",
        "\n",
        "print(matching(test1))\n",
        "print(matching(test2))\n",
        "print(matching(test3))"
      ],
      "execution_count": 39,
      "outputs": [
        {
          "output_type": "stream",
          "text": [
            "False\n",
            "True\n",
            "True\n"
          ],
          "name": "stdout"
        }
      ]
    }
  ]
}