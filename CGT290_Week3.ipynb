{
  "nbformat": 4,
  "nbformat_minor": 0,
  "metadata": {
    "kernelspec": {
      "display_name": "Python 3",
      "language": "python",
      "name": "python3"
    },
    "language_info": {
      "codemirror_mode": {
        "name": "ipython",
        "version": 3
      },
      "file_extension": ".py",
      "mimetype": "text/x-python",
      "name": "python",
      "nbconvert_exporter": "python",
      "pygments_lexer": "ipython3",
      "version": "3.7.4"
    },
    "colab": {
      "name": "CGT290-Week3.ipynb",
      "provenance": [],
      "collapsed_sections": [],
      "toc_visible": true
    }
  },
  "cells": [
    {
      "cell_type": "markdown",
      "metadata": {
        "id": "xUeFwDERLdRR",
        "colab_type": "text"
      },
      "source": [
        "# CGT 290 Week3\n",
        "## Python Tutorial: Class(Object-Oriented Programming), IO, OS\n",
        "\n",
        "### Jan, 29\n",
        "Zongcheng Chu"
      ]
    },
    {
      "cell_type": "markdown",
      "metadata": {
        "id": "75mjYVT_LdRX",
        "colab_type": "text"
      },
      "source": [
        "## What Is Object-Oriented Programming (OOP)?\n",
        "\n",
        "Object-oriented Programming, or OOP for short, is a programming paradigm which provides a means of structuring programs so that properties and behaviors are bundled into individual objects.\n",
        "\n",
        "### Advantages:\n",
        "<ol>\n",
        "<li> Development is faster and cheaper, with better software maintainability.</li>\n",
        "<li> This, in turn, leads to higher-quality software, which is also extensible with new methods and attributes.</li>\n",
        "</ol>\n",
        "\n",
        "### Let's start with an example..."
      ]
    },
    {
      "cell_type": "markdown",
      "metadata": {
        "id": "q54bJfOhLdRa",
        "colab_type": "text"
      },
      "source": [
        "OOP Example \n",
        "\n",
        "An example of a class is the class **Person**. Don't think of it as a specific person. We're describing what a person is and can do, in general. Person usually has a name and age; these are instance attributes. Person can also speak; this is a method.\n",
        "\n",
        "When you talk about a specific **Person**, you would have an object in programming: an object is an instantiation of a class. This is the basic principle on which object-oriented programming is based. So a person named 'Bob', for example, belongs to the class Person. His attributes are name = 'Bob' and age = '20'. A different **Person** will have different attributes."
      ]
    },
    {
      "cell_type": "markdown",
      "metadata": {
        "id": "o9K7z-ixLdRc",
        "colab_type": "text"
      },
      "source": [
        "## How to create a class\n",
        "\n",
        "To define a class in Python, you can use the **class** keyword, followed by the class name and a colon. Inside the class, an **__init__** method has to be defined with keyword **def**. This is the initializer that you can later use to instantiate objects. It's similar to a constructor in Java. **__init__** must always be present! It takes one argument: **self**, which refers to the object itself. Inside the method, the pass keyword is used as of now, because Python expects you to type something there. Remember to use correct indentation!"
      ]
    },
    {
      "cell_type": "code",
      "metadata": {
        "id": "48asP1-OLdRf",
        "colab_type": "code",
        "colab": {}
      },
      "source": [
        "class Person:\n",
        "\n",
        "    def __init__(self):\n",
        "        pass"
      ],
      "execution_count": 0,
      "outputs": []
    },
    {
      "cell_type": "code",
      "metadata": {
        "id": "bvglnCEOLdRm",
        "colab_type": "code",
        "outputId": "530a007e-bc91-474c-e5bb-bea727f522c8",
        "colab": {}
      },
      "source": [
        "# now we have a class called Person, but we have no objects! Let's make one.\n",
        "\n",
        "# -----------------------\n",
        "# Instantiating objects \n",
        "# -----------------------\n",
        "\n",
        "# To instantiate an object, type the class name, followed by two brackets. \n",
        "# You can assign this to a variable to keep track of the object.\n",
        "\n",
        "Bob = Person()\n",
        "print(Bob)"
      ],
      "execution_count": 0,
      "outputs": [
        {
          "output_type": "stream",
          "text": [
            "<__main__.Person object at 0x000002646F6E1788>\n"
          ],
          "name": "stdout"
        }
      ]
    },
    {
      "cell_type": "markdown",
      "metadata": {
        "id": "6odcOEv-LdRv",
        "colab_type": "text"
      },
      "source": [
        "## Adding attributes to a class\n",
        "\n",
        "After printing Bob, it is clear that this object is now in the PC memory. \n",
        "But you haven't added any attributes yet. Let's give the Person class a name and age, by rewriting it:"
      ]
    },
    {
      "cell_type": "code",
      "metadata": {
        "id": "12vj_Eg1LdRx",
        "colab_type": "code",
        "colab": {}
      },
      "source": [
        "class Person:\n",
        "\n",
        "    def __init__(self, name, age):  \n",
        "        self.name = name\n",
        "        self.age = age"
      ],
      "execution_count": 0,
      "outputs": []
    },
    {
      "cell_type": "code",
      "metadata": {
        "id": "s2bAciaNLdR7",
        "colab_type": "code",
        "colab": {}
      },
      "source": [
        "# You can see that the function now takes two arguments after self: name and age. \n",
        "# These then get assigned to self.name and self.age respectively. \n",
        "# You can now now create a new Person object, with a name and age:\n",
        "\n",
        "Bob = Person(\"Bob\", 20)"
      ],
      "execution_count": 0,
      "outputs": []
    },
    {
      "cell_type": "code",
      "metadata": {
        "id": "n5lkok2xLdSC",
        "colab_type": "code",
        "outputId": "b06bafe5-cda0-46ce-a6c3-6200beb11d5e",
        "colab": {}
      },
      "source": [
        "# To access an object's attributes in Python, you can use the dot notation. \n",
        "# This is done by typing the name of the object, followed by a dot and the attribute's name.\n",
        "\n",
        "print(Bob.name, Bob.age)"
      ],
      "execution_count": 0,
      "outputs": [
        {
          "output_type": "stream",
          "text": [
            "Bob 20\n"
          ],
          "name": "stdout"
        }
      ]
    },
    {
      "cell_type": "code",
      "metadata": {
        "id": "Z5WVNoXMLdSL",
        "colab_type": "code",
        "outputId": "88c33465-8405-423e-d645-7bab3176c17e",
        "colab": {}
      },
      "source": [
        "# This can also be combined in a more elaborate sentence:\n",
        "print(Bob.name + \" is \" + str(Bob.age) + \" year(s) old.\")"
      ],
      "execution_count": 0,
      "outputs": [
        {
          "output_type": "stream",
          "text": [
            "Bob is 20 year(s) old.\n"
          ],
          "name": "stdout"
        }
      ]
    },
    {
      "cell_type": "markdown",
      "metadata": {
        "id": "u3cK-jk2LdSS",
        "colab_type": "text"
      },
      "source": [
        "## Define methods in a class\n",
        "\n",
        "Now that you have a **Person** class, it does have a name and age which you can keep track of, but it doesn't actually do anything. This is where instance methods come in. You can rewrite the class to include a speak() method. Notice how the def keyword is used again, as well as the self argument."
      ]
    },
    {
      "cell_type": "code",
      "metadata": {
        "id": "3gMTbaznLdST",
        "colab_type": "code",
        "colab": {}
      },
      "source": [
        "class Person:\n",
        "\n",
        "    def __init__(self, name, age):  \n",
        "        self.name = name\n",
        "        self.age = age\n",
        "\n",
        "    def speak(self):\n",
        "        print(\"hello\")"
      ],
      "execution_count": 0,
      "outputs": []
    },
    {
      "cell_type": "code",
      "metadata": {
        "id": "66dGv9bTLdSY",
        "colab_type": "code",
        "outputId": "a6ff7261-c6b9-4977-ca99-60a3d772b4ee",
        "colab": {}
      },
      "source": [
        "# The speak method can now be called using the dot notation, after instantiating a new person object. \n",
        "# The method should print \"hello\" to the screen. \n",
        "# Notice the parentheses (curly brackets) in .speak(). These are always used when calling a method. \n",
        "# They're empty in this case, since the speak() method does not take any arguments.\n",
        "\n",
        "Bob = Person('Bob',20)\n",
        "Bob.speak()"
      ],
      "execution_count": 0,
      "outputs": [
        {
          "output_type": "stream",
          "text": [
            "hello\n"
          ],
          "name": "stdout"
        }
      ]
    },
    {
      "cell_type": "code",
      "metadata": {
        "id": "0sbKhZohLdSe",
        "colab_type": "code",
        "colab": {}
      },
      "source": [
        "# Recall how you printed Bob's infomation earlier? \n",
        "# The code below now implements this functionality in the Person class, with the personinfo() method. \n",
        "# You then instantiate some objects with different properties, and call the method on them.\n",
        "\n",
        "class Person:\n",
        "\n",
        "    def __init__(self, name, age):  \n",
        "        self.name = name\n",
        "        self.age = age\n",
        "\n",
        "    def speak(self):\n",
        "        print(\"hello\")\n",
        "\n",
        "    def personinfo(self):\n",
        "        print(self.name + \" is \" + str(self.age) + \" year(s) old.\")"
      ],
      "execution_count": 0,
      "outputs": []
    },
    {
      "cell_type": "code",
      "metadata": {
        "id": "cj4SJp2qLdSj",
        "colab_type": "code",
        "outputId": "03a18560-759e-4516-a539-5ca1bfae190f",
        "colab": {}
      },
      "source": [
        "A = Person(\"A\",20)\n",
        "B = Person(\"B\",21)\n",
        "C = Person(\"C\",22)\n",
        "\n",
        "A.personinfo()\n",
        "B.personinfo()\n",
        "C.personinfo()\n",
        "\n",
        "# As you can see, you can call the personinfo() method on objects with the dot notation. \n",
        "# The response now depends on which Person object you are calling the method on."
      ],
      "execution_count": 0,
      "outputs": [
        {
          "output_type": "stream",
          "text": [
            "A is 20 year(s) old.\n",
            "B is 21 year(s) old.\n",
            "C is 22 year(s) old.\n"
          ],
          "name": "stdout"
        }
      ]
    },
    {
      "cell_type": "code",
      "metadata": {
        "id": "LcEm66CFLdSr",
        "colab_type": "code",
        "outputId": "f41f310d-d055-4d9c-8f9f-1198638789dc",
        "colab": {}
      },
      "source": [
        "# It's as easy as assigning a new value to the attribute.\n",
        "Bob = Person(\"Bob\",20)\n",
        "print(Bob.age)\n",
        "\n",
        "Bob.age = 21\n",
        "print(Bob.age)"
      ],
      "execution_count": 0,
      "outputs": [
        {
          "output_type": "stream",
          "text": [
            "20\n",
            "21\n"
          ],
          "name": "stdout"
        }
      ]
    },
    {
      "cell_type": "code",
      "metadata": {
        "id": "ffh6ujp2LdSy",
        "colab_type": "code",
        "colab": {}
      },
      "source": [
        "# You could also implement this as a birthday() method in the Person class:\n",
        "\n",
        "class Person:\n",
        "\n",
        "    def __init__(self, name, age):  \n",
        "        self.name = name\n",
        "        self.age = age\n",
        "\n",
        "    def speak(self):\n",
        "        print(\"hello\")\n",
        "\n",
        "    def personinfo(self):\n",
        "        print(self.name + \" is \" + str(self.age) + \" year(s) old.\")\n",
        "        \n",
        "    def birthday(self):\n",
        "        self.age += 1  # equals to self.age = self.age + 1"
      ],
      "execution_count": 0,
      "outputs": []
    },
    {
      "cell_type": "code",
      "metadata": {
        "id": "eNM8PRadLdS4",
        "colab_type": "code",
        "outputId": "a5adfb2a-59b9-4d23-a67d-c6679c140816",
        "colab": {}
      },
      "source": [
        "Bob = Person(\"Bob\",20)\n",
        "print(Bob.age)\n",
        "\n",
        "Bob.birthday()\n",
        "print(Bob.age)"
      ],
      "execution_count": 0,
      "outputs": [
        {
          "output_type": "stream",
          "text": [
            "20\n",
            "21\n"
          ],
          "name": "stdout"
        }
      ]
    },
    {
      "cell_type": "markdown",
      "metadata": {
        "id": "zgSh5U20LdS-",
        "colab_type": "text"
      },
      "source": [
        "## Passing arguments to methods"
      ]
    },
    {
      "cell_type": "markdown",
      "metadata": {
        "id": "cpHW0HbvLdTB",
        "colab_type": "text"
      },
      "source": [
        "Take a look at the makefriends() method below. It takes self, as per usual, and friend as arguments. In this case, friend will be another Person object. Set the self.friend attribute to friend, and the friend.friend attribute to self. This means that the relationship is reciprocal; you are your buddy's buddy."
      ]
    },
    {
      "cell_type": "code",
      "metadata": {
        "id": "0aMxfWo_LdTD",
        "colab_type": "code",
        "colab": {}
      },
      "source": [
        "class Person:\n",
        "\n",
        "    def __init__(self, name, age):  \n",
        "        self.name = name\n",
        "        self.age = age\n",
        "\n",
        "    def speak(self):\n",
        "        print(\"hello\")\n",
        "\n",
        "    def personinfo(self):\n",
        "        print(self.name + \" is \" + str(self.age) + \" year(s) old.\")\n",
        "        \n",
        "    def birthday(self):\n",
        "        self.age += 1  # equals to self.age = self.age + 1\n",
        "        \n",
        "    def makefriends(self, friend):\n",
        "        self.friend = friend\n",
        "        friend.friend = self\n",
        "        "
      ],
      "execution_count": 0,
      "outputs": []
    },
    {
      "cell_type": "code",
      "metadata": {
        "id": "KTnSymiaLdTI",
        "colab_type": "code",
        "colab": {}
      },
      "source": [
        "# You can now call the method with the dot notation, and pass it another Person object.\n",
        "A = Person(\"A\",20)\n",
        "B = Person(\"B\",21)\n",
        "\n",
        "A.makefriends(B)"
      ],
      "execution_count": 0,
      "outputs": []
    },
    {
      "cell_type": "code",
      "metadata": {
        "id": "m1DxhKO8LdTQ",
        "colab_type": "code",
        "outputId": "5e3ea610-9059-4e33-d098-309cf290f488",
        "colab": {}
      },
      "source": [
        "# let's find out who is A's friend\n",
        "\n",
        "print(A.friend.name)\n",
        "print(A.friend.age)"
      ],
      "execution_count": 0,
      "outputs": [
        {
          "output_type": "stream",
          "text": [
            "B\n",
            "21\n"
          ],
          "name": "stdout"
        }
      ]
    },
    {
      "cell_type": "code",
      "metadata": {
        "id": "4Q4pyezhLdTW",
        "colab_type": "code",
        "outputId": "033989ab-7969-4266-b8ae-2355b05e7701",
        "colab": {}
      },
      "source": [
        "print(B.friend.name)\n",
        "print(B.friend.age)"
      ],
      "execution_count": 0,
      "outputs": [
        {
          "output_type": "stream",
          "text": [
            "A\n",
            "20\n"
          ],
          "name": "stdout"
        }
      ]
    },
    {
      "cell_type": "markdown",
      "metadata": {
        "id": "X4Jmp77cLdTf",
        "colab_type": "text"
      },
      "source": [
        "### Another Example"
      ]
    },
    {
      "cell_type": "code",
      "metadata": {
        "id": "d7hZdKMDLdTh",
        "colab_type": "code",
        "colab": {}
      },
      "source": [
        "class Person:\n",
        "\n",
        "    def __init__(self, name, age):  \n",
        "        self.name = name\n",
        "        self.age = age\n",
        "\n",
        "    def speak(self):\n",
        "        print(\"hello\")\n",
        "\n",
        "    def personinfo(self):\n",
        "        print(self.name + \" is \" + str(self.age) + \" year(s) old.\")\n",
        "        \n",
        "    def birthday(self):\n",
        "        self.age += 1  # equals to self.age = self.age + 1\n",
        "        \n",
        "    def makefriends(self, friend):\n",
        "        self.friend = friend\n",
        "        friend.friend = self\n",
        "    \n",
        "    def isTeenager(self, lower, upper):\n",
        "        if lower <= self.age <= upper:\n",
        "            print(\"Yes\")\n",
        "        else:\n",
        "            print(\"No\")"
      ],
      "execution_count": 0,
      "outputs": []
    },
    {
      "cell_type": "code",
      "metadata": {
        "id": "qf-exlvMLdTy",
        "colab_type": "code",
        "outputId": "5520fb49-41f6-4b91-f53b-dd19e9ecaedb",
        "colab": {}
      },
      "source": [
        "Bob = Person(\"Bob\", 21)\n",
        "Bob.isTeenager(13,19)"
      ],
      "execution_count": 0,
      "outputs": [
        {
          "output_type": "stream",
          "text": [
            "No\n"
          ],
          "name": "stdout"
        }
      ]
    },
    {
      "cell_type": "markdown",
      "metadata": {
        "id": "AMCKZxC9LdT8",
        "colab_type": "text"
      },
      "source": [
        "## IO: Operations on external files"
      ]
    },
    {
      "cell_type": "code",
      "metadata": {
        "id": "Cvinim0rLdUA",
        "colab_type": "code",
        "colab": {}
      },
      "source": [
        "# 1.read txt file\n",
        "\n",
        "f = open('countries.txt', 'r') #  r = read, w = write, a = append, b = binary, +: create file if not exist.\n",
        "texts = f.read()\n",
        "print(texts)\n",
        "f.close()"
      ],
      "execution_count": 0,
      "outputs": []
    },
    {
      "cell_type": "code",
      "metadata": {
        "id": "JF8kzSs9LdUG",
        "colab_type": "code",
        "colab": {}
      },
      "source": [
        "# 2. read txt file line by line\n",
        "with open('countries.txt', 'r') as f:\n",
        "    lines = f.readlines()\n",
        "    for line in lines:\n",
        "        print(line.strip()) # remove '\\n'"
      ],
      "execution_count": 0,
      "outputs": []
    },
    {
      "cell_type": "code",
      "metadata": {
        "id": "6gQZLrvyLdUM",
        "colab_type": "code",
        "colab": {}
      },
      "source": [
        "with open('countries.txt', 'r') as f:\n",
        "    for line in f.readlines():\n",
        "        print(line.strip())"
      ],
      "execution_count": 0,
      "outputs": []
    },
    {
      "cell_type": "code",
      "metadata": {
        "id": "YEjzA38gLdUT",
        "colab_type": "code",
        "colab": {
          "base_uri": "https://localhost:8080/",
          "height": 201
        },
        "outputId": "8b8f6a1c-e0e6-414a-eeb8-84f0d251a129"
      },
      "source": [
        "# 3. write content to a txt file\n",
        "\n",
        "texts = ['New line #1 hello world', 'Line #2 life is not easy']\n",
        "\n",
        "with open('new_sample.txt', 'w') as f:\n",
        "    for text in texts:\n",
        "        f.write(text + '\\n')\n",
        "with open('new_sample.txt', 'a') as f:\n",
        "    f.write('Something new\\n')\n"
      ],
      "execution_count": 40,
      "outputs": [
        {
          "output_type": "error",
          "ename": "ValueError",
          "evalue": "ignored",
          "traceback": [
            "\u001b[0;31m---------------------------------------------------------------------------\u001b[0m",
            "\u001b[0;31mValueError\u001b[0m                                Traceback (most recent call last)",
            "\u001b[0;32m<ipython-input-40-6835f8ec3d90>\u001b[0m in \u001b[0;36m<module>\u001b[0;34m()\u001b[0m\n\u001b[1;32m      7\u001b[0m \u001b[0;32mwith\u001b[0m \u001b[0mopen\u001b[0m\u001b[0;34m(\u001b[0m\u001b[0;34m'new_sample.txt'\u001b[0m\u001b[0;34m,\u001b[0m \u001b[0;34m'a'\u001b[0m\u001b[0;34m)\u001b[0m \u001b[0;32mas\u001b[0m \u001b[0mf\u001b[0m\u001b[0;34m:\u001b[0m\u001b[0;34m\u001b[0m\u001b[0;34m\u001b[0m\u001b[0m\n\u001b[1;32m      8\u001b[0m     \u001b[0mf\u001b[0m\u001b[0;34m.\u001b[0m\u001b[0mwrite\u001b[0m\u001b[0;34m(\u001b[0m\u001b[0;34m'Something new\\n'\u001b[0m\u001b[0;34m)\u001b[0m\u001b[0;34m\u001b[0m\u001b[0;34m\u001b[0m\u001b[0m\n\u001b[0;32m----> 9\u001b[0;31m \u001b[0mprint\u001b[0m\u001b[0;34m(\u001b[0m\u001b[0mf\u001b[0m\u001b[0;34m.\u001b[0m\u001b[0mread\u001b[0m\u001b[0;34m(\u001b[0m\u001b[0;34m)\u001b[0m\u001b[0;34m)\u001b[0m\u001b[0;34m\u001b[0m\u001b[0;34m\u001b[0m\u001b[0m\n\u001b[0m",
            "\u001b[0;31mValueError\u001b[0m: I/O operation on closed file."
          ]
        }
      ]
    },
    {
      "cell_type": "code",
      "metadata": {
        "id": "MlPEPHoZLdUZ",
        "colab_type": "code",
        "outputId": "b396599c-7326-4727-8825-47d24c78c9ec",
        "colab": {
          "base_uri": "https://localhost:8080/",
          "height": 52
        }
      },
      "source": [
        "# 4. read csv file\n",
        "\n",
        "import csv\n",
        "\n",
        "feature_list = []\n",
        "label_list = []\n",
        "\n",
        "with open('sales.csv','r') as f:\n",
        "    reader = csv.reader(f)\n",
        "    headers = next(reader)\n",
        "    print(headers)\n",
        "    for row in reader:\n",
        "        label_list.append(row[-1])\n",
        "\n",
        "print(label_list)\n"
      ],
      "execution_count": 0,
      "outputs": [
        {
          "output_type": "stream",
          "text": [
            "['RID', 'Age', 'Income', 'Student', 'CreditRating', 'BuyComputer']\n",
            "['no', 'no', 'yes', 'yes', 'yes', 'no', 'yes', 'no', 'yes', 'yes', 'yes', 'yes', 'yes', 'no']\n"
          ],
          "name": "stdout"
        }
      ]
    },
    {
      "cell_type": "code",
      "metadata": {
        "id": "v-LrAiiwLdUg",
        "colab_type": "code",
        "colab": {}
      },
      "source": [
        "# 5. write a csv file\n",
        "import csv\n",
        "\n",
        "with open('test.csv', 'w', newline='') as csvfile: \n",
        "    writer = csv.writer(csvfile)\n",
        "\n",
        "    #first write column names\n",
        "    writer.writerow([\"index\",\"a_name\",\"b_name\"])\n",
        "    #write content\n",
        "    for i in range(0,3):\n",
        "        writer.writerow([i*4, i*3+1, i*3+2])\n",
        "\n"
      ],
      "execution_count": 0,
      "outputs": []
    },
    {
      "cell_type": "markdown",
      "metadata": {
        "id": "fDtbqCKPLdUo",
        "colab_type": "text"
      },
      "source": [
        "## OS: Operating System Interfaces"
      ]
    },
    {
      "cell_type": "markdown",
      "metadata": {
        "id": "cOYhWSpQLdUr",
        "colab_type": "text"
      },
      "source": [
        "### Most commonly used OS api:\n",
        "<ol>\n",
        "<li> os.listdir()</li>\n",
        "<li>os.remove()</li>\n",
        "<li> os.getcwd()()</li>\n",
        "<li>os.path.split()</li>\n",
        "<li> os.path.isfile()</li>\n",
        "<li> os.path.isdir()</li>\n",
        "<li>os.path.exist()</li>\n",
        "<li> os.chdir()</li>\n",
        "<li>os.path.getsize()</li>\n",
        "<li> os.path.splitext()</li>\n",
        "<li>os.path.basename()</li>\n",
        "<li> os.path.dirname()</li>\n",
        "<li>os.path.join()</li>\n",
        "</ol>"
      ]
    },
    {
      "cell_type": "code",
      "metadata": {
        "id": "e0lnwg4WLdUt",
        "colab_type": "code",
        "outputId": "17e5cc6f-9600-42c7-c1ab-65216873e357",
        "colab": {}
      },
      "source": [
        "# 1. os.listdir()\n",
        "# To get the list of all files and directories in the specified directory. \n",
        "# If we don't specify any directory, then list of files and directories in the current working directory will be returned.\n",
        "import os\n",
        "\n",
        "os.listdir()"
      ],
      "execution_count": 0,
      "outputs": [
        {
          "output_type": "execute_result",
          "data": {
            "text/plain": [
              "['.ipynb_checkpoints',\n",
              " 'CGT290-Week1.ipynb',\n",
              " 'CGT290-Week2.ipynb',\n",
              " 'CGT290-Week3.ipynb',\n",
              " 'label.txt',\n",
              " 'new_sample.txt',\n",
              " 'sales.csv',\n",
              " 'sample.txt',\n",
              " 'Untitled.ipynb']"
            ]
          },
          "metadata": {
            "tags": []
          },
          "execution_count": 57
        }
      ]
    },
    {
      "cell_type": "code",
      "metadata": {
        "id": "JIDbUZzoLdU5",
        "colab_type": "code",
        "colab": {}
      },
      "source": [
        "# 2. os.remove(path)\n",
        "# remove a file\n",
        "os.remove(\"./test.csv\")"
      ],
      "execution_count": 0,
      "outputs": []
    },
    {
      "cell_type": "code",
      "metadata": {
        "id": "sWIIWxC3LdVB",
        "colab_type": "code",
        "outputId": "ad54af51-b9e2-4205-d2f4-637a8728c34b",
        "colab": {
          "base_uri": "https://localhost:8080/",
          "height": 35
        }
      },
      "source": [
        "# 3. os.getcwd()\n",
        "# returns current working directory of a process.\n",
        "import os\n",
        "os.getcwd()"
      ],
      "execution_count": 0,
      "outputs": [
        {
          "output_type": "execute_result",
          "data": {
            "text/plain": [
              "'/content'"
            ]
          },
          "metadata": {
            "tags": []
          },
          "execution_count": 8
        }
      ]
    },
    {
      "cell_type": "code",
      "metadata": {
        "id": "c_WV5_AxLdVK",
        "colab_type": "code",
        "outputId": "4984c9d4-872e-410b-96c7-50175aba2d8b",
        "colab": {}
      },
      "source": [
        "# 4. os.path.split()\n",
        "# Split the path name into a pair head and tail. \n",
        "# Here, tail is the last path name component and head is everything leading up to that.\n",
        "\n",
        "path = '/home/user/Desktop/file.txt' \n",
        "os.path.split(path)"
      ],
      "execution_count": 0,
      "outputs": [
        {
          "output_type": "execute_result",
          "data": {
            "text/plain": [
              "('/home/user/Desktop', 'file.txt')"
            ]
          },
          "metadata": {
            "tags": []
          },
          "execution_count": 59
        }
      ]
    },
    {
      "cell_type": "code",
      "metadata": {
        "id": "1uLVLNW9LdVR",
        "colab_type": "code",
        "outputId": "a9c88f12-48dc-4b9e-b99f-087c42c5576e",
        "colab": {}
      },
      "source": [
        "# 5. os.path.isfile()\n",
        "#  check whether the specified path is an existing regular file or not.\n",
        "\n",
        "path1 = '/home/user/Desktop'\n",
        "path2 = '/home/user/Desktop/file.txt'\n",
        "path3 = 'E:\\\\CGT290\\\\code\\\\label.txt'\n",
        "\n",
        "print(os.path.isfile(path1))\n",
        "print(os.path.isfile(path2))\n",
        "print(os.path.isfile(path3))"
      ],
      "execution_count": 0,
      "outputs": [
        {
          "output_type": "stream",
          "text": [
            "False\n",
            "False\n",
            "True\n"
          ],
          "name": "stdout"
        }
      ]
    },
    {
      "cell_type": "code",
      "metadata": {
        "id": "RKHxtlOKLdVW",
        "colab_type": "code",
        "outputId": "02d12a56-2541-4bd3-fe92-c3ec71868232",
        "colab": {}
      },
      "source": [
        "# 6. os.path.isdir()\n",
        "# check whether the specified path is an existing regular directory or not.\n",
        "\n",
        "path = 'E:\\\\CGT290\\\\code'\n",
        "\n",
        "os.path.isdir(path)"
      ],
      "execution_count": 0,
      "outputs": [
        {
          "output_type": "execute_result",
          "data": {
            "text/plain": [
              "True"
            ]
          },
          "metadata": {
            "tags": []
          },
          "execution_count": 62
        }
      ]
    },
    {
      "cell_type": "code",
      "metadata": {
        "id": "9dqQjkijLdVc",
        "colab_type": "code",
        "outputId": "8cd0406b-b97d-40dd-e99d-aeba2907d668",
        "colab": {}
      },
      "source": [
        "# 7. os.path.exists()\n",
        "# check if a path exists\n",
        "\n",
        "path1 = 'E:\\\\CGT290\\\\code'\n",
        "path2 = 'E:\\\\CGT290\\\\code1'\n",
        "\n",
        "print(os.path.exists(path1))\n",
        "print(os.path.exists(path2))"
      ],
      "execution_count": 0,
      "outputs": [
        {
          "output_type": "stream",
          "text": [
            "True\n",
            "False\n"
          ],
          "name": "stdout"
        }
      ]
    },
    {
      "cell_type": "code",
      "metadata": {
        "id": "glXqKSyJLdVo",
        "colab_type": "code",
        "outputId": "f5d6c539-3212-4677-9959-752cb5e48548",
        "colab": {}
      },
      "source": [
        "# 8. os.chdir()\n",
        "# change the current working directory to a specified path\n",
        "\n",
        "print(\"Before:\",os.getcwd())\n",
        "\n",
        "os.chdir(\"E:\\\\CGT290\")\n",
        "\n",
        "print('After:',os.getcwd())"
      ],
      "execution_count": 0,
      "outputs": [
        {
          "output_type": "stream",
          "text": [
            "Before: E:\\CGT290\\code\n",
            "After: E:\\CGT290\n"
          ],
          "name": "stdout"
        }
      ]
    },
    {
      "cell_type": "code",
      "metadata": {
        "id": "E3WpsJDuLdVu",
        "colab_type": "code",
        "outputId": "fea0727e-8593-426e-d528-fd326e56fe19",
        "colab": {}
      },
      "source": [
        "os.chdir(\"./code\")\n",
        "os.getcwd()"
      ],
      "execution_count": 0,
      "outputs": [
        {
          "output_type": "execute_result",
          "data": {
            "text/plain": [
              "'E:\\\\CGT290\\\\code'"
            ]
          },
          "metadata": {
            "tags": []
          },
          "execution_count": 67
        }
      ]
    },
    {
      "cell_type": "code",
      "metadata": {
        "id": "R8Xs3o7jLdV3",
        "colab_type": "code",
        "outputId": "4232d1f1-5323-4282-8861-f11a02074e14",
        "colab": {
          "base_uri": "https://localhost:8080/",
          "height": 35
        }
      },
      "source": [
        "# 9. os.path.getsize()\n",
        "# check the size of specified path. It returns the size of specified path in bytes. \n",
        "# The method raise OSError if the file does not exist or is somehow inaccessible.\n",
        "\n",
        "os.path.getsize(\"label.txt\")"
      ],
      "execution_count": 0,
      "outputs": [
        {
          "output_type": "execute_result",
          "data": {
            "text/plain": [
              "5"
            ]
          },
          "metadata": {
            "tags": []
          },
          "execution_count": 9
        }
      ]
    },
    {
      "cell_type": "code",
      "metadata": {
        "id": "WyQm1qWHLdV8",
        "colab_type": "code",
        "outputId": "f8c066a4-91b2-4c57-f507-d8c6d0fb963c",
        "colab": {
          "base_uri": "https://localhost:8080/",
          "height": 35
        }
      },
      "source": [
        "# 10. os.path.splitext()\n",
        "# split the path name into a pair root and ext. \n",
        "# Here, ext stands for extension and has the extension portion of the specified path\n",
        "\n",
        "path = '/home/User/Desktop/file.txt'\n",
        "os.path.splitext(path)"
      ],
      "execution_count": 79,
      "outputs": [
        {
          "output_type": "execute_result",
          "data": {
            "text/plain": [
              "'.txt'"
            ]
          },
          "metadata": {
            "tags": []
          },
          "execution_count": 79
        }
      ]
    },
    {
      "cell_type": "code",
      "metadata": {
        "id": "oXaYAC0yLdWA",
        "colab_type": "code",
        "outputId": "cda582eb-ab7a-410a-8074-043da656ba76",
        "colab": {}
      },
      "source": [
        "# 11. os.path.basename()\n",
        "# get the base name in specified path\n",
        "\n",
        "path = '/home/User/Desktop/file.txt'\n",
        "os.path.basename(path)"
      ],
      "execution_count": 0,
      "outputs": [
        {
          "output_type": "execute_result",
          "data": {
            "text/plain": [
              "'file.txt'"
            ]
          },
          "metadata": {
            "tags": []
          },
          "execution_count": 70
        }
      ]
    },
    {
      "cell_type": "code",
      "metadata": {
        "id": "RnxaaGmOLdWJ",
        "colab_type": "code",
        "outputId": "5fbcc844-758c-4c41-fb24-6074cb10c5c8",
        "colab": {
          "base_uri": "https://localhost:8080/",
          "height": 35
        }
      },
      "source": [
        "# 12. os.path.dirname()\n",
        "# get the directory name from the specified path\n",
        "\n",
        "path = '/home/User/Documents/file.txt'\n",
        "os.path.dirname(path)"
      ],
      "execution_count": 77,
      "outputs": [
        {
          "output_type": "execute_result",
          "data": {
            "text/plain": [
              "'/home/User/Documents'"
            ]
          },
          "metadata": {
            "tags": []
          },
          "execution_count": 77
        }
      ]
    },
    {
      "cell_type": "code",
      "metadata": {
        "id": "B1Dvj-QxLdWT",
        "colab_type": "code",
        "outputId": "b1178d64-e026-4ec1-f60d-8e55ac38bea3",
        "colab": {}
      },
      "source": [
        "path = 'file.txt'\n",
        "os.path.dirname(path)"
      ],
      "execution_count": 0,
      "outputs": [
        {
          "output_type": "execute_result",
          "data": {
            "text/plain": [
              "''"
            ]
          },
          "metadata": {
            "tags": []
          },
          "execution_count": 74
        }
      ]
    },
    {
      "cell_type": "code",
      "metadata": {
        "id": "bFCb_zBYLdWY",
        "colab_type": "code",
        "outputId": "17925fb9-41e7-4808-e132-357238fb38e0",
        "colab": {}
      },
      "source": [
        "# 13. os.path.join()\n",
        "#  join one or more path components intelligently.\n",
        "\n",
        "# Path \n",
        "path = \"home\"\n",
        "  \n",
        "# Join various path components  \n",
        "print(os.path.join(path, \"User\\Desktop\", \"file.txt\")) "
      ],
      "execution_count": 0,
      "outputs": [
        {
          "output_type": "stream",
          "text": [
            "home\\User\\Desktop\\file.txt\n"
          ],
          "name": "stdout"
        }
      ]
    },
    {
      "cell_type": "code",
      "metadata": {
        "id": "CTgimefjLdWc",
        "colab_type": "code",
        "outputId": "90c3f3f7-7710-4a6a-c5af-a0d3901619f9",
        "colab": {}
      },
      "source": [
        "# 14. os.path.walk(path, visit, arg)\n",
        "# OS.walk() generate the file names in a directory tree by walking the tree either top-down or bottom-up. \n",
        "# For each directory in the tree rooted at directory top (including top itself), \n",
        "# it yields a 3-tuple (dirpath, dirnames, filenames).\n",
        "import os\n",
        "\n",
        "walker = os.walk(\"E:\\\\CGT290\\\\root\")\n",
        "\n",
        "for (root,dirs,files) in walker:\n",
        "    print(\"root: \",root)\n",
        "    print(\"dirs: \",dirs)\n",
        "    print(\"files: \",files)\n",
        "    print('-'*30)"
      ],
      "execution_count": 0,
      "outputs": [
        {
          "output_type": "stream",
          "text": [
            "root:  E:\\CGT290\\root\n",
            "dirs:  ['dir1', 'dir2', 'dir3']\n",
            "files:  []\n",
            "------------------------------\n",
            "root:  E:\\CGT290\\root\\dir1\n",
            "dirs:  []\n",
            "files:  ['dir1_file1.txt']\n",
            "------------------------------\n",
            "root:  E:\\CGT290\\root\\dir2\n",
            "dirs:  []\n",
            "files:  ['dir2_file2.txt']\n",
            "------------------------------\n",
            "root:  E:\\CGT290\\root\\dir3\n",
            "dirs:  []\n",
            "files:  ['dir3_file1.txt']\n",
            "------------------------------\n"
          ],
          "name": "stdout"
        }
      ]
    },
    {
      "cell_type": "markdown",
      "metadata": {
        "id": "1gPotOkrLdWj",
        "colab_type": "text"
      },
      "source": [
        "# Homework (18 pts)"
      ]
    },
    {
      "cell_type": "markdown",
      "metadata": {
        "id": "umtvIbB3LdWr",
        "colab_type": "text"
      },
      "source": [
        "### 1. Object-oriented programming (6 pts)\n",
        "\n",
        "a. Create a Student class, each student should have attributes: name, age, gender, score. <br>\n",
        "b. Add a method called grade(score) which takes one parameter. grade() function can make changes to a student's score.<br> \n",
        "c. Add check(score) method. check() returns A(score>=90) B(80<=score<90) C(70<=score<80) D(60<=score<70) F(score<60)<br>\n",
        "d. Add add_to_list(Student) method. Add a student's name to the male_list if gender == 'male', otherwise add to female_list."
      ]
    },
    {
      "cell_type": "code",
      "metadata": {
        "id": "uJjlt64VLdWt",
        "colab_type": "code",
        "outputId": "5bf25e65-e3a0-49c6-866b-01e17b401311",
        "colab": {
          "base_uri": "https://localhost:8080/",
          "height": 69
        }
      },
      "source": [
        "\n",
        "class Student():\n",
        "    \n",
        "    male_list = []\n",
        "    female_list = []\n",
        "    \n",
        "    def __init__(self,name,age,gender,score):\n",
        "        self.name = name\n",
        "        self.age = age\n",
        "        self.gender = gender\n",
        "        self.score = score\n",
        "        \n",
        "    def grade(self, inputscore):\n",
        "        self.score = inputscore\n",
        "        \n",
        "    def check(self, score):\n",
        "        if score < 60:\n",
        "          return \"F\"\n",
        "        elif 60 <= score < 70:\n",
        "          return \"D\"\n",
        "        elif 70 <= score < 80:\n",
        "          return \"C\"\n",
        "        elif 80 <= score < 90:\n",
        "          return \"B\"\n",
        "        elif score >= 90:\n",
        "          return \"A\"\n",
        "         \n",
        "    \n",
        "    def add_to_list(self, Student):\n",
        "        if this.gender == 'male':\n",
        "          male_list.append(Student.name)\n",
        "        else:\n",
        "          female_list.append(Student.name)\n",
        "        return \n",
        "        \n",
        "Allen = Student(\"Allen\",19,\"male\",75)\n",
        "print (Allen.check(Allen.score))\n",
        "print (Allen.age)\n",
        "print (Allen.gender)\n"
      ],
      "execution_count": 0,
      "outputs": [
        {
          "output_type": "stream",
          "text": [
            "C\n",
            "19\n",
            "male\n"
          ],
          "name": "stdout"
        }
      ]
    },
    {
      "cell_type": "markdown",
      "metadata": {
        "id": "JRNe_M6SLdWx",
        "colab_type": "text"
      },
      "source": [
        "### 2. file reading and writing (6 pts)\n",
        "\n",
        "a. read countries.txt file. <br>\n",
        "b. write the content to a .csv file. (in your csv file, you should have two columns: code and countries). <br>\n",
        "\n",
        "for example:<br>\n",
        "**code**  &nbsp; **countries** <br>\n",
        "BI    &nbsp;&nbsp;     Burundi <br>\n",
        "KH    &nbsp;    Cambodia <br>\n",
        "CM    &nbsp;     Cameroon <br>\n",
        "CA    &nbsp;     Canada <br>"
      ]
    },
    {
      "cell_type": "code",
      "metadata": {
        "id": "xLTG8azsmorL",
        "colab_type": "code",
        "colab": {}
      },
      "source": [
        "import csv\n",
        "\n",
        "\n",
        "countries = open('countries.txt')\n",
        "\n",
        "with open('countries.csv', 'w', newline='') as csvfile: \n",
        "    writer = csv.writer(csvfile)\n",
        "\n",
        "    #first write column names\n",
        "    writer.writerow([\"code\",\"country\"])\n",
        "    #write content\n",
        "    for i in countries:\n",
        "        code = i[0:2]\n",
        "        country = i[3:]\n",
        "        writer.writerow([code,country])\n",
        "        \n"
      ],
      "execution_count": 0,
      "outputs": []
    },
    {
      "cell_type": "markdown",
      "metadata": {
        "id": "-aR8G299LdW1",
        "colab_type": "text"
      },
      "source": [
        "### 3. OS (6 pts)\n",
        "\n",
        "a. unzip the provided root.zip file <br>\n",
        "b. walk through all the directories and files, count the total amount of .txt files and .jpg files <br>\n",
        "c. walk through all the directories and files, get the size of each file(.txt and .jpg) <br>\n",
        "d. rename all the **image files**(name convention: for air-bubbles-230014_640.jpg in /root/dir1 rename it as **root_dir1_img1.jpg**)"
      ]
    },
    {
      "cell_type": "code",
      "metadata": {
        "id": "Da45sqUZLdW3",
        "colab_type": "code",
        "colab": {
          "base_uri": "https://localhost:8080/",
          "height": 121
        },
        "outputId": "c3f504ca-6834-45dd-8a00-28812d287560"
      },
      "source": [
        "import os\n",
        "\n",
        "txt = 0\n",
        "jpg = 0\n",
        "sizes = []\n",
        "\n",
        "for x in os.listdir():\n",
        "  sizes.append(os.path.getsize(x))\n",
        "  if os.path.splitext(x)[1] == '.txt':\n",
        "    txt += 1\n",
        "  elif os.path.splitext(x)[1] == '.jpg':\n",
        "    jpg += 1\n",
        "    #os.rename(x,\"img\"+str(jpg)+\".jpg\")\n",
        "    print(x)\n",
        "\n",
        "\n",
        "print (\"There are \" + str(txt) + \" text files and \" + str(jpg) + \" jpeg files.\")\n",
        "print (sizes)\n"
      ],
      "execution_count": 110,
      "outputs": [
        {
          "output_type": "stream",
          "text": [
            "img1.jpg\n",
            "img3.jpg\n",
            "img4.jpg\n",
            "img2.jpg\n",
            "There are 4 text files and 4 jpeg files.\n",
            "[4096, 3920, 3920, 42, 691117, 60815, 61540, 63, 39629, 5, 465, 33347, 5259, 4096]\n"
          ],
          "name": "stdout"
        }
      ]
    }
  ]
}