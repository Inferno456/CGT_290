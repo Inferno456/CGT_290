{
  "nbformat": 4,
  "nbformat_minor": 0,
  "metadata": {
    "kernelspec": {
      "display_name": "Python 3",
      "language": "python",
      "name": "python3"
    },
    "language_info": {
      "codemirror_mode": {
        "name": "ipython",
        "version": 3
      },
      "file_extension": ".py",
      "mimetype": "text/x-python",
      "name": "python",
      "nbconvert_exporter": "python",
      "pygments_lexer": "ipython3",
      "version": "3.7.4"
    },
    "colab": {
      "name": "week11.ipynb",
      "provenance": [],
      "collapsed_sections": [
        "ymeplMyUVeM4",
        "cGw9srv4VeOT",
        "iTuyg1AAVeO1"
      ]
    },
    "widgets": {
      "application/vnd.jupyter.widget-state+json": {
        "e933e2ffa2d34114a8d62f2563c0d418": {
          "model_module": "@jupyter-widgets/controls",
          "model_name": "FloatSliderModel",
          "state": {
            "_view_name": "FloatSliderView",
            "style": "IPY_MODEL_988e781c427b405590b44332cbd70739",
            "_dom_classes": [],
            "description": "Value:",
            "step": 0.1,
            "_model_name": "FloatSliderModel",
            "orientation": "horizontal",
            "max": 10,
            "_view_module": "@jupyter-widgets/controls",
            "_model_module_version": "1.5.0",
            "value": 8.1,
            "_view_count": null,
            "disabled": false,
            "_view_module_version": "1.5.0",
            "min": 5,
            "continuous_update": true,
            "readout_format": ".2f",
            "description_tooltip": null,
            "readout": true,
            "_model_module": "@jupyter-widgets/controls",
            "layout": "IPY_MODEL_cdc3653d99af4611a9aa2c7b54783e80"
          }
        },
        "988e781c427b405590b44332cbd70739": {
          "model_module": "@jupyter-widgets/controls",
          "model_name": "SliderStyleModel",
          "state": {
            "_view_name": "StyleView",
            "handle_color": null,
            "_model_name": "SliderStyleModel",
            "description_width": "",
            "_view_module": "@jupyter-widgets/base",
            "_model_module_version": "1.5.0",
            "_view_count": null,
            "_view_module_version": "1.2.0",
            "_model_module": "@jupyter-widgets/controls"
          }
        },
        "cdc3653d99af4611a9aa2c7b54783e80": {
          "model_module": "@jupyter-widgets/base",
          "model_name": "LayoutModel",
          "state": {
            "_view_name": "LayoutView",
            "grid_template_rows": null,
            "right": null,
            "justify_content": null,
            "_view_module": "@jupyter-widgets/base",
            "overflow": null,
            "_model_module_version": "1.2.0",
            "_view_count": null,
            "flex_flow": null,
            "width": null,
            "min_width": null,
            "border": null,
            "align_items": null,
            "bottom": null,
            "_model_module": "@jupyter-widgets/base",
            "top": null,
            "grid_column": null,
            "overflow_y": null,
            "overflow_x": null,
            "grid_auto_flow": null,
            "grid_area": null,
            "grid_template_columns": null,
            "flex": null,
            "_model_name": "LayoutModel",
            "justify_items": null,
            "grid_row": null,
            "max_height": null,
            "align_content": null,
            "visibility": null,
            "align_self": null,
            "height": null,
            "min_height": null,
            "padding": null,
            "grid_auto_rows": null,
            "grid_gap": null,
            "max_width": null,
            "order": null,
            "_view_module_version": "1.2.0",
            "grid_template_areas": null,
            "object_position": null,
            "object_fit": null,
            "grid_auto_columns": null,
            "margin": null,
            "display": null,
            "left": null
          }
        },
        "8ffd4e4669e94d2d8271bd0a469a21c3": {
          "model_module": "@jupyter-widgets/controls",
          "model_name": "VBoxModel",
          "state": {
            "_view_name": "VBoxView",
            "_dom_classes": [],
            "_model_name": "VBoxModel",
            "_view_module": "@jupyter-widgets/controls",
            "_model_module_version": "1.5.0",
            "_view_count": null,
            "_view_module_version": "1.5.0",
            "box_style": "",
            "layout": "IPY_MODEL_a31cac1396f749c68c19bf6b29967a0c",
            "_model_module": "@jupyter-widgets/controls",
            "children": [
              "IPY_MODEL_e933e2ffa2d34114a8d62f2563c0d418",
              "IPY_MODEL_b22272d490de4506a994fcbb0787e6e4"
            ]
          }
        },
        "a31cac1396f749c68c19bf6b29967a0c": {
          "model_module": "@jupyter-widgets/base",
          "model_name": "LayoutModel",
          "state": {
            "_view_name": "LayoutView",
            "grid_template_rows": null,
            "right": null,
            "justify_content": null,
            "_view_module": "@jupyter-widgets/base",
            "overflow": null,
            "_model_module_version": "1.2.0",
            "_view_count": null,
            "flex_flow": null,
            "width": null,
            "min_width": null,
            "border": null,
            "align_items": null,
            "bottom": null,
            "_model_module": "@jupyter-widgets/base",
            "top": null,
            "grid_column": null,
            "overflow_y": null,
            "overflow_x": null,
            "grid_auto_flow": null,
            "grid_area": null,
            "grid_template_columns": null,
            "flex": null,
            "_model_name": "LayoutModel",
            "justify_items": null,
            "grid_row": null,
            "max_height": null,
            "align_content": null,
            "visibility": null,
            "align_self": null,
            "height": null,
            "min_height": null,
            "padding": null,
            "grid_auto_rows": null,
            "grid_gap": null,
            "max_width": null,
            "order": null,
            "_view_module_version": "1.2.0",
            "grid_template_areas": null,
            "object_position": null,
            "object_fit": null,
            "grid_auto_columns": null,
            "margin": null,
            "display": null,
            "left": null
          }
        },
        "b22272d490de4506a994fcbb0787e6e4": {
          "model_module": "@jupyter-widgets/controls",
          "model_name": "FloatTextModel",
          "state": {
            "_view_name": "FloatTextView",
            "style": "IPY_MODEL_b646ae3ba42f45a4bb83d8d2910baf4f",
            "_dom_classes": [],
            "description": "Value",
            "_model_name": "FloatTextModel",
            "_view_module": "@jupyter-widgets/controls",
            "_model_module_version": "1.5.0",
            "value": 8.1,
            "_view_count": null,
            "disabled": false,
            "_view_module_version": "1.5.0",
            "continuous_update": false,
            "step": null,
            "description_tooltip": null,
            "_model_module": "@jupyter-widgets/controls",
            "layout": "IPY_MODEL_d52c510f15594db19b657d16cda2bf11"
          }
        },
        "b646ae3ba42f45a4bb83d8d2910baf4f": {
          "model_module": "@jupyter-widgets/controls",
          "model_name": "DescriptionStyleModel",
          "state": {
            "_view_name": "StyleView",
            "_model_name": "DescriptionStyleModel",
            "description_width": "",
            "_view_module": "@jupyter-widgets/base",
            "_model_module_version": "1.5.0",
            "_view_count": null,
            "_view_module_version": "1.2.0",
            "_model_module": "@jupyter-widgets/controls"
          }
        },
        "d52c510f15594db19b657d16cda2bf11": {
          "model_module": "@jupyter-widgets/base",
          "model_name": "LayoutModel",
          "state": {
            "_view_name": "LayoutView",
            "grid_template_rows": null,
            "right": null,
            "justify_content": null,
            "_view_module": "@jupyter-widgets/base",
            "overflow": null,
            "_model_module_version": "1.2.0",
            "_view_count": null,
            "flex_flow": null,
            "width": null,
            "min_width": null,
            "border": null,
            "align_items": null,
            "bottom": null,
            "_model_module": "@jupyter-widgets/base",
            "top": null,
            "grid_column": null,
            "overflow_y": null,
            "overflow_x": null,
            "grid_auto_flow": null,
            "grid_area": null,
            "grid_template_columns": null,
            "flex": null,
            "_model_name": "LayoutModel",
            "justify_items": null,
            "grid_row": null,
            "max_height": null,
            "align_content": null,
            "visibility": null,
            "align_self": null,
            "height": null,
            "min_height": null,
            "padding": null,
            "grid_auto_rows": null,
            "grid_gap": null,
            "max_width": null,
            "order": null,
            "_view_module_version": "1.2.0",
            "grid_template_areas": null,
            "object_position": null,
            "object_fit": null,
            "grid_auto_columns": null,
            "margin": null,
            "display": null,
            "left": null
          }
        },
        "ac210df1d8a647569ee27567a2b55c62": {
          "model_module": "@jupyter-widgets/controls",
          "model_name": "VBoxModel",
          "state": {
            "_view_name": "VBoxView",
            "_dom_classes": [
              "widget-interact"
            ],
            "_model_name": "VBoxModel",
            "_view_module": "@jupyter-widgets/controls",
            "_model_module_version": "1.5.0",
            "_view_count": null,
            "_view_module_version": "1.5.0",
            "box_style": "",
            "layout": "IPY_MODEL_70d62a53c66b4e469102fac7b8ad9fde",
            "_model_module": "@jupyter-widgets/controls",
            "children": [
              "IPY_MODEL_be79a9dc47934f9495401a0f6de042f4",
              "IPY_MODEL_9949b464433a4f0a91e723c3506152e6"
            ]
          }
        },
        "70d62a53c66b4e469102fac7b8ad9fde": {
          "model_module": "@jupyter-widgets/base",
          "model_name": "LayoutModel",
          "state": {
            "_view_name": "LayoutView",
            "grid_template_rows": null,
            "right": null,
            "justify_content": null,
            "_view_module": "@jupyter-widgets/base",
            "overflow": null,
            "_model_module_version": "1.2.0",
            "_view_count": null,
            "flex_flow": null,
            "width": null,
            "min_width": null,
            "border": null,
            "align_items": null,
            "bottom": null,
            "_model_module": "@jupyter-widgets/base",
            "top": null,
            "grid_column": null,
            "overflow_y": null,
            "overflow_x": null,
            "grid_auto_flow": null,
            "grid_area": null,
            "grid_template_columns": null,
            "flex": null,
            "_model_name": "LayoutModel",
            "justify_items": null,
            "grid_row": null,
            "max_height": null,
            "align_content": null,
            "visibility": null,
            "align_self": null,
            "height": null,
            "min_height": null,
            "padding": null,
            "grid_auto_rows": null,
            "grid_gap": null,
            "max_width": null,
            "order": null,
            "_view_module_version": "1.2.0",
            "grid_template_areas": null,
            "object_position": null,
            "object_fit": null,
            "grid_auto_columns": null,
            "margin": null,
            "display": null,
            "left": null
          }
        },
        "be79a9dc47934f9495401a0f6de042f4": {
          "model_module": "@jupyter-widgets/controls",
          "model_name": "IntSliderModel",
          "state": {
            "_view_name": "IntSliderView",
            "style": "IPY_MODEL_c6abf8dd033b4a9d9268643228d7cae8",
            "_dom_classes": [],
            "description": "x",
            "step": 1,
            "_model_name": "IntSliderModel",
            "orientation": "horizontal",
            "max": 30,
            "_view_module": "@jupyter-widgets/controls",
            "_model_module_version": "1.5.0",
            "value": 12,
            "_view_count": null,
            "disabled": false,
            "_view_module_version": "1.5.0",
            "min": -10,
            "continuous_update": true,
            "readout_format": "d",
            "description_tooltip": null,
            "readout": true,
            "_model_module": "@jupyter-widgets/controls",
            "layout": "IPY_MODEL_ea870bb51bf44ed4844e34fe112224a8"
          }
        },
        "9949b464433a4f0a91e723c3506152e6": {
          "model_module": "@jupyter-widgets/output",
          "model_name": "OutputModel",
          "state": {
            "_view_name": "OutputView",
            "msg_id": "",
            "_dom_classes": [],
            "_model_name": "OutputModel",
            "outputs": [
              {
                "output_type": "display_data",
                "metadata": {
                  "tags": []
                },
                "text/plain": "36"
              }
            ],
            "_view_module": "@jupyter-widgets/output",
            "_model_module_version": "1.0.0",
            "_view_count": null,
            "_view_module_version": "1.0.0",
            "layout": "IPY_MODEL_4dca9d90ed6d472ebfd1b35bbe5ea016",
            "_model_module": "@jupyter-widgets/output"
          }
        },
        "c6abf8dd033b4a9d9268643228d7cae8": {
          "model_module": "@jupyter-widgets/controls",
          "model_name": "SliderStyleModel",
          "state": {
            "_view_name": "StyleView",
            "handle_color": null,
            "_model_name": "SliderStyleModel",
            "description_width": "",
            "_view_module": "@jupyter-widgets/base",
            "_model_module_version": "1.5.0",
            "_view_count": null,
            "_view_module_version": "1.2.0",
            "_model_module": "@jupyter-widgets/controls"
          }
        },
        "ea870bb51bf44ed4844e34fe112224a8": {
          "model_module": "@jupyter-widgets/base",
          "model_name": "LayoutModel",
          "state": {
            "_view_name": "LayoutView",
            "grid_template_rows": null,
            "right": null,
            "justify_content": null,
            "_view_module": "@jupyter-widgets/base",
            "overflow": null,
            "_model_module_version": "1.2.0",
            "_view_count": null,
            "flex_flow": null,
            "width": null,
            "min_width": null,
            "border": null,
            "align_items": null,
            "bottom": null,
            "_model_module": "@jupyter-widgets/base",
            "top": null,
            "grid_column": null,
            "overflow_y": null,
            "overflow_x": null,
            "grid_auto_flow": null,
            "grid_area": null,
            "grid_template_columns": null,
            "flex": null,
            "_model_name": "LayoutModel",
            "justify_items": null,
            "grid_row": null,
            "max_height": null,
            "align_content": null,
            "visibility": null,
            "align_self": null,
            "height": null,
            "min_height": null,
            "padding": null,
            "grid_auto_rows": null,
            "grid_gap": null,
            "max_width": null,
            "order": null,
            "_view_module_version": "1.2.0",
            "grid_template_areas": null,
            "object_position": null,
            "object_fit": null,
            "grid_auto_columns": null,
            "margin": null,
            "display": null,
            "left": null
          }
        },
        "dbd5732346b742158982a25c57e99b3b": {
          "model_module": "@jupyter-widgets/controls",
          "model_name": "VBoxModel",
          "state": {
            "_view_name": "VBoxView",
            "_dom_classes": [
              "widget-interact"
            ],
            "_model_name": "VBoxModel",
            "_view_module": "@jupyter-widgets/controls",
            "_model_module_version": "1.5.0",
            "_view_count": null,
            "_view_module_version": "1.5.0",
            "box_style": "",
            "layout": "IPY_MODEL_520b456dd14f4dd0b175216391b4f5f2",
            "_model_module": "@jupyter-widgets/controls",
            "children": [
              "IPY_MODEL_b8f0fe5b85f7490ea58a2041632926f4",
              "IPY_MODEL_353f762c975a4e1a97a04e2111d42dd3"
            ]
          }
        },
        "520b456dd14f4dd0b175216391b4f5f2": {
          "model_module": "@jupyter-widgets/base",
          "model_name": "LayoutModel",
          "state": {
            "_view_name": "LayoutView",
            "grid_template_rows": null,
            "right": null,
            "justify_content": null,
            "_view_module": "@jupyter-widgets/base",
            "overflow": null,
            "_model_module_version": "1.2.0",
            "_view_count": null,
            "flex_flow": null,
            "width": null,
            "min_width": null,
            "border": null,
            "align_items": null,
            "bottom": null,
            "_model_module": "@jupyter-widgets/base",
            "top": null,
            "grid_column": null,
            "overflow_y": null,
            "overflow_x": null,
            "grid_auto_flow": null,
            "grid_area": null,
            "grid_template_columns": null,
            "flex": null,
            "_model_name": "LayoutModel",
            "justify_items": null,
            "grid_row": null,
            "max_height": null,
            "align_content": null,
            "visibility": null,
            "align_self": null,
            "height": null,
            "min_height": null,
            "padding": null,
            "grid_auto_rows": null,
            "grid_gap": null,
            "max_width": null,
            "order": null,
            "_view_module_version": "1.2.0",
            "grid_template_areas": null,
            "object_position": null,
            "object_fit": null,
            "grid_auto_columns": null,
            "margin": null,
            "display": null,
            "left": null
          }
        },
        "b8f0fe5b85f7490ea58a2041632926f4": {
          "model_module": "@jupyter-widgets/controls",
          "model_name": "CheckboxModel",
          "state": {
            "_view_name": "CheckboxView",
            "style": "IPY_MODEL_8fde7fdd99984846977684f08c8b1a8f",
            "_dom_classes": [],
            "description": "x",
            "_model_name": "CheckboxModel",
            "_view_module": "@jupyter-widgets/controls",
            "_model_module_version": "1.5.0",
            "value": true,
            "_view_count": null,
            "disabled": false,
            "_view_module_version": "1.5.0",
            "indent": true,
            "description_tooltip": null,
            "_model_module": "@jupyter-widgets/controls",
            "layout": "IPY_MODEL_41ba41bbca0a4047a6f1d705cb33f3cc"
          }
        },
        "353f762c975a4e1a97a04e2111d42dd3": {
          "model_module": "@jupyter-widgets/output",
          "model_name": "OutputModel",
          "state": {
            "_view_name": "OutputView",
            "msg_id": "",
            "_dom_classes": [],
            "_model_name": "OutputModel",
            "outputs": [
              {
                "output_type": "display_data",
                "metadata": {
                  "tags": []
                },
                "text/plain": "3"
              }
            ],
            "_view_module": "@jupyter-widgets/output",
            "_model_module_version": "1.0.0",
            "_view_count": null,
            "_view_module_version": "1.0.0",
            "layout": "IPY_MODEL_b1a1e81c900142688a6285fd6c624fca",
            "_model_module": "@jupyter-widgets/output"
          }
        },
        "8fde7fdd99984846977684f08c8b1a8f": {
          "model_module": "@jupyter-widgets/controls",
          "model_name": "DescriptionStyleModel",
          "state": {
            "_view_name": "StyleView",
            "_model_name": "DescriptionStyleModel",
            "description_width": "",
            "_view_module": "@jupyter-widgets/base",
            "_model_module_version": "1.5.0",
            "_view_count": null,
            "_view_module_version": "1.2.0",
            "_model_module": "@jupyter-widgets/controls"
          }
        },
        "41ba41bbca0a4047a6f1d705cb33f3cc": {
          "model_module": "@jupyter-widgets/base",
          "model_name": "LayoutModel",
          "state": {
            "_view_name": "LayoutView",
            "grid_template_rows": null,
            "right": null,
            "justify_content": null,
            "_view_module": "@jupyter-widgets/base",
            "overflow": null,
            "_model_module_version": "1.2.0",
            "_view_count": null,
            "flex_flow": null,
            "width": null,
            "min_width": null,
            "border": null,
            "align_items": null,
            "bottom": null,
            "_model_module": "@jupyter-widgets/base",
            "top": null,
            "grid_column": null,
            "overflow_y": null,
            "overflow_x": null,
            "grid_auto_flow": null,
            "grid_area": null,
            "grid_template_columns": null,
            "flex": null,
            "_model_name": "LayoutModel",
            "justify_items": null,
            "grid_row": null,
            "max_height": null,
            "align_content": null,
            "visibility": null,
            "align_self": null,
            "height": null,
            "min_height": null,
            "padding": null,
            "grid_auto_rows": null,
            "grid_gap": null,
            "max_width": null,
            "order": null,
            "_view_module_version": "1.2.0",
            "grid_template_areas": null,
            "object_position": null,
            "object_fit": null,
            "grid_auto_columns": null,
            "margin": null,
            "display": null,
            "left": null
          }
        },
        "dc8882d51dfe42c4abf2dfb1f2d79039": {
          "model_module": "@jupyter-widgets/controls",
          "model_name": "VBoxModel",
          "state": {
            "_view_name": "VBoxView",
            "_dom_classes": [
              "widget-interact"
            ],
            "_model_name": "VBoxModel",
            "_view_module": "@jupyter-widgets/controls",
            "_model_module_version": "1.5.0",
            "_view_count": null,
            "_view_module_version": "1.5.0",
            "box_style": "",
            "layout": "IPY_MODEL_1918ffc3a6d74e00904319ee073179fb",
            "_model_module": "@jupyter-widgets/controls",
            "children": [
              "IPY_MODEL_b70baf31e49c47408fae8244a261c5de",
              "IPY_MODEL_6e2cc0a7811f4772a88bc24ea3cc8e9b"
            ]
          }
        },
        "1918ffc3a6d74e00904319ee073179fb": {
          "model_module": "@jupyter-widgets/base",
          "model_name": "LayoutModel",
          "state": {
            "_view_name": "LayoutView",
            "grid_template_rows": null,
            "right": null,
            "justify_content": null,
            "_view_module": "@jupyter-widgets/base",
            "overflow": null,
            "_model_module_version": "1.2.0",
            "_view_count": null,
            "flex_flow": null,
            "width": null,
            "min_width": null,
            "border": null,
            "align_items": null,
            "bottom": null,
            "_model_module": "@jupyter-widgets/base",
            "top": null,
            "grid_column": null,
            "overflow_y": null,
            "overflow_x": null,
            "grid_auto_flow": null,
            "grid_area": null,
            "grid_template_columns": null,
            "flex": null,
            "_model_name": "LayoutModel",
            "justify_items": null,
            "grid_row": null,
            "max_height": null,
            "align_content": null,
            "visibility": null,
            "align_self": null,
            "height": null,
            "min_height": null,
            "padding": null,
            "grid_auto_rows": null,
            "grid_gap": null,
            "max_width": null,
            "order": null,
            "_view_module_version": "1.2.0",
            "grid_template_areas": null,
            "object_position": null,
            "object_fit": null,
            "grid_auto_columns": null,
            "margin": null,
            "display": null,
            "left": null
          }
        },
        "b70baf31e49c47408fae8244a261c5de": {
          "model_module": "@jupyter-widgets/controls",
          "model_name": "TextModel",
          "state": {
            "_view_name": "TextView",
            "style": "IPY_MODEL_bb61b3e5399b4085b28d039df6b1f661",
            "_dom_classes": [],
            "description": "x",
            "_model_name": "TextModel",
            "placeholder": "​",
            "_view_module": "@jupyter-widgets/controls",
            "_model_module_version": "1.5.0",
            "value": "hi",
            "_view_count": null,
            "disabled": false,
            "_view_module_version": "1.5.0",
            "continuous_update": true,
            "description_tooltip": null,
            "_model_module": "@jupyter-widgets/controls",
            "layout": "IPY_MODEL_b3f880b669e8449b919a03ca8557d993"
          }
        },
        "6e2cc0a7811f4772a88bc24ea3cc8e9b": {
          "model_module": "@jupyter-widgets/output",
          "model_name": "OutputModel",
          "state": {
            "_view_name": "OutputView",
            "msg_id": "",
            "_dom_classes": [],
            "_model_name": "OutputModel",
            "outputs": [
              {
                "output_type": "display_data",
                "metadata": {
                  "tags": []
                },
                "text/plain": "'hihihi'"
              }
            ],
            "_view_module": "@jupyter-widgets/output",
            "_model_module_version": "1.0.0",
            "_view_count": null,
            "_view_module_version": "1.0.0",
            "layout": "IPY_MODEL_d51e6786fec443daaf7906d50a947a24",
            "_model_module": "@jupyter-widgets/output"
          }
        },
        "bb61b3e5399b4085b28d039df6b1f661": {
          "model_module": "@jupyter-widgets/controls",
          "model_name": "DescriptionStyleModel",
          "state": {
            "_view_name": "StyleView",
            "_model_name": "DescriptionStyleModel",
            "description_width": "",
            "_view_module": "@jupyter-widgets/base",
            "_model_module_version": "1.5.0",
            "_view_count": null,
            "_view_module_version": "1.2.0",
            "_model_module": "@jupyter-widgets/controls"
          }
        },
        "b3f880b669e8449b919a03ca8557d993": {
          "model_module": "@jupyter-widgets/base",
          "model_name": "LayoutModel",
          "state": {
            "_view_name": "LayoutView",
            "grid_template_rows": null,
            "right": null,
            "justify_content": null,
            "_view_module": "@jupyter-widgets/base",
            "overflow": null,
            "_model_module_version": "1.2.0",
            "_view_count": null,
            "flex_flow": null,
            "width": null,
            "min_width": null,
            "border": null,
            "align_items": null,
            "bottom": null,
            "_model_module": "@jupyter-widgets/base",
            "top": null,
            "grid_column": null,
            "overflow_y": null,
            "overflow_x": null,
            "grid_auto_flow": null,
            "grid_area": null,
            "grid_template_columns": null,
            "flex": null,
            "_model_name": "LayoutModel",
            "justify_items": null,
            "grid_row": null,
            "max_height": null,
            "align_content": null,
            "visibility": null,
            "align_self": null,
            "height": null,
            "min_height": null,
            "padding": null,
            "grid_auto_rows": null,
            "grid_gap": null,
            "max_width": null,
            "order": null,
            "_view_module_version": "1.2.0",
            "grid_template_areas": null,
            "object_position": null,
            "object_fit": null,
            "grid_auto_columns": null,
            "margin": null,
            "display": null,
            "left": null
          }
        },
        "f8a8724f416b4b38a00d41ccea75270f": {
          "model_module": "@jupyter-widgets/controls",
          "model_name": "VBoxModel",
          "state": {
            "_view_name": "VBoxView",
            "_dom_classes": [
              "widget-interact"
            ],
            "_model_name": "VBoxModel",
            "_view_module": "@jupyter-widgets/controls",
            "_model_module_version": "1.5.0",
            "_view_count": null,
            "_view_module_version": "1.5.0",
            "box_style": "",
            "layout": "IPY_MODEL_db49197ab92f4c35a41284c2887c5e8c",
            "_model_module": "@jupyter-widgets/controls",
            "children": [
              "IPY_MODEL_9c0a2c35872e4f7c8e522bb98007539b",
              "IPY_MODEL_c7026fd8569043d0be523572538eb43b"
            ]
          }
        },
        "db49197ab92f4c35a41284c2887c5e8c": {
          "model_module": "@jupyter-widgets/base",
          "model_name": "LayoutModel",
          "state": {
            "_view_name": "LayoutView",
            "grid_template_rows": null,
            "right": null,
            "justify_content": null,
            "_view_module": "@jupyter-widgets/base",
            "overflow": null,
            "_model_module_version": "1.2.0",
            "_view_count": null,
            "flex_flow": null,
            "width": null,
            "min_width": null,
            "border": null,
            "align_items": null,
            "bottom": null,
            "_model_module": "@jupyter-widgets/base",
            "top": null,
            "grid_column": null,
            "overflow_y": null,
            "overflow_x": null,
            "grid_auto_flow": null,
            "grid_area": null,
            "grid_template_columns": null,
            "flex": null,
            "_model_name": "LayoutModel",
            "justify_items": null,
            "grid_row": null,
            "max_height": null,
            "align_content": null,
            "visibility": null,
            "align_self": null,
            "height": null,
            "min_height": null,
            "padding": null,
            "grid_auto_rows": null,
            "grid_gap": null,
            "max_width": null,
            "order": null,
            "_view_module_version": "1.2.0",
            "grid_template_areas": null,
            "object_position": null,
            "object_fit": null,
            "grid_auto_columns": null,
            "margin": null,
            "display": null,
            "left": null
          }
        },
        "9c0a2c35872e4f7c8e522bb98007539b": {
          "model_module": "@jupyter-widgets/controls",
          "model_name": "IntSliderModel",
          "state": {
            "_view_name": "IntSliderView",
            "style": "IPY_MODEL_57cf2367431a49819ca4d6d34c492f93",
            "_dom_classes": [],
            "description": "x",
            "step": 1,
            "_model_name": "IntSliderModel",
            "orientation": "horizontal",
            "max": 30,
            "_view_module": "@jupyter-widgets/controls",
            "_model_module_version": "1.5.0",
            "value": 14,
            "_view_count": null,
            "disabled": false,
            "_view_module_version": "1.5.0",
            "min": -10,
            "continuous_update": true,
            "readout_format": "d",
            "description_tooltip": null,
            "readout": true,
            "_model_module": "@jupyter-widgets/controls",
            "layout": "IPY_MODEL_380ffb55abab4976bd6e4a3d4fe8eb01"
          }
        },
        "c7026fd8569043d0be523572538eb43b": {
          "model_module": "@jupyter-widgets/output",
          "model_name": "OutputModel",
          "state": {
            "_view_name": "OutputView",
            "msg_id": "",
            "_dom_classes": [],
            "_model_name": "OutputModel",
            "outputs": [
              {
                "output_type": "display_data",
                "metadata": {
                  "tags": []
                },
                "text/plain": "42"
              }
            ],
            "_view_module": "@jupyter-widgets/output",
            "_model_module_version": "1.0.0",
            "_view_count": null,
            "_view_module_version": "1.0.0",
            "layout": "IPY_MODEL_667f12b0a6d748b6a158b0433acf0737",
            "_model_module": "@jupyter-widgets/output"
          }
        },
        "57cf2367431a49819ca4d6d34c492f93": {
          "model_module": "@jupyter-widgets/controls",
          "model_name": "SliderStyleModel",
          "state": {
            "_view_name": "StyleView",
            "handle_color": null,
            "_model_name": "SliderStyleModel",
            "description_width": "",
            "_view_module": "@jupyter-widgets/base",
            "_model_module_version": "1.5.0",
            "_view_count": null,
            "_view_module_version": "1.2.0",
            "_model_module": "@jupyter-widgets/controls"
          }
        },
        "380ffb55abab4976bd6e4a3d4fe8eb01": {
          "model_module": "@jupyter-widgets/base",
          "model_name": "LayoutModel",
          "state": {
            "_view_name": "LayoutView",
            "grid_template_rows": null,
            "right": null,
            "justify_content": null,
            "_view_module": "@jupyter-widgets/base",
            "overflow": null,
            "_model_module_version": "1.2.0",
            "_view_count": null,
            "flex_flow": null,
            "width": null,
            "min_width": null,
            "border": null,
            "align_items": null,
            "bottom": null,
            "_model_module": "@jupyter-widgets/base",
            "top": null,
            "grid_column": null,
            "overflow_y": null,
            "overflow_x": null,
            "grid_auto_flow": null,
            "grid_area": null,
            "grid_template_columns": null,
            "flex": null,
            "_model_name": "LayoutModel",
            "justify_items": null,
            "grid_row": null,
            "max_height": null,
            "align_content": null,
            "visibility": null,
            "align_self": null,
            "height": null,
            "min_height": null,
            "padding": null,
            "grid_auto_rows": null,
            "grid_gap": null,
            "max_width": null,
            "order": null,
            "_view_module_version": "1.2.0",
            "grid_template_areas": null,
            "object_position": null,
            "object_fit": null,
            "grid_auto_columns": null,
            "margin": null,
            "display": null,
            "left": null
          }
        },
        "544b2f25989d4c0da84df0387c198780": {
          "model_module": "@jupyter-widgets/controls",
          "model_name": "VBoxModel",
          "state": {
            "_view_name": "VBoxView",
            "_dom_classes": [
              "widget-interact"
            ],
            "_model_name": "VBoxModel",
            "_view_module": "@jupyter-widgets/controls",
            "_model_module_version": "1.5.0",
            "_view_count": null,
            "_view_module_version": "1.5.0",
            "box_style": "",
            "layout": "IPY_MODEL_b7465eb79fd24e61a35ae9f8b610e49d",
            "_model_module": "@jupyter-widgets/controls",
            "children": [
              "IPY_MODEL_89bc8fd98ec442b8bb0d1a9836065c22",
              "IPY_MODEL_14218b5a9fab47efad395cfca097636b"
            ]
          }
        },
        "b7465eb79fd24e61a35ae9f8b610e49d": {
          "model_module": "@jupyter-widgets/base",
          "model_name": "LayoutModel",
          "state": {
            "_view_name": "LayoutView",
            "grid_template_rows": null,
            "right": null,
            "justify_content": null,
            "_view_module": "@jupyter-widgets/base",
            "overflow": null,
            "_model_module_version": "1.2.0",
            "_view_count": null,
            "flex_flow": null,
            "width": null,
            "min_width": null,
            "border": null,
            "align_items": null,
            "bottom": null,
            "_model_module": "@jupyter-widgets/base",
            "top": null,
            "grid_column": null,
            "overflow_y": null,
            "overflow_x": null,
            "grid_auto_flow": null,
            "grid_area": null,
            "grid_template_columns": null,
            "flex": null,
            "_model_name": "LayoutModel",
            "justify_items": null,
            "grid_row": null,
            "max_height": null,
            "align_content": null,
            "visibility": null,
            "align_self": null,
            "height": null,
            "min_height": null,
            "padding": null,
            "grid_auto_rows": null,
            "grid_gap": null,
            "max_width": null,
            "order": null,
            "_view_module_version": "1.2.0",
            "grid_template_areas": null,
            "object_position": null,
            "object_fit": null,
            "grid_auto_columns": null,
            "margin": null,
            "display": null,
            "left": null
          }
        },
        "89bc8fd98ec442b8bb0d1a9836065c22": {
          "model_module": "@jupyter-widgets/controls",
          "model_name": "IntSliderModel",
          "state": {
            "_view_name": "IntSliderView",
            "style": "IPY_MODEL_bddffa61a8f84971bf14bc9a6db35c87",
            "_dom_classes": [],
            "description": "x",
            "step": 1,
            "_model_name": "IntSliderModel",
            "orientation": "horizontal",
            "max": 4,
            "_view_module": "@jupyter-widgets/controls",
            "_model_module_version": "1.5.0",
            "value": 0,
            "_view_count": null,
            "disabled": false,
            "_view_module_version": "1.5.0",
            "min": 0,
            "continuous_update": true,
            "readout_format": "d",
            "description_tooltip": null,
            "readout": true,
            "_model_module": "@jupyter-widgets/controls",
            "layout": "IPY_MODEL_bc841b9e3cf24ae48d38cafe115bb201"
          }
        },
        "14218b5a9fab47efad395cfca097636b": {
          "model_module": "@jupyter-widgets/output",
          "model_name": "OutputModel",
          "state": {
            "_view_name": "OutputView",
            "msg_id": "",
            "_dom_classes": [],
            "_model_name": "OutputModel",
            "outputs": [
              {
                "output_type": "display_data",
                "metadata": {
                  "tags": []
                },
                "text/plain": "0"
              }
            ],
            "_view_module": "@jupyter-widgets/output",
            "_model_module_version": "1.0.0",
            "_view_count": null,
            "_view_module_version": "1.0.0",
            "layout": "IPY_MODEL_e9ab5c80e11e4af8b945a810e082026d",
            "_model_module": "@jupyter-widgets/output"
          }
        },
        "bddffa61a8f84971bf14bc9a6db35c87": {
          "model_module": "@jupyter-widgets/controls",
          "model_name": "SliderStyleModel",
          "state": {
            "_view_name": "StyleView",
            "handle_color": null,
            "_model_name": "SliderStyleModel",
            "description_width": "",
            "_view_module": "@jupyter-widgets/base",
            "_model_module_version": "1.5.0",
            "_view_count": null,
            "_view_module_version": "1.2.0",
            "_model_module": "@jupyter-widgets/controls"
          }
        },
        "bc841b9e3cf24ae48d38cafe115bb201": {
          "model_module": "@jupyter-widgets/base",
          "model_name": "LayoutModel",
          "state": {
            "_view_name": "LayoutView",
            "grid_template_rows": null,
            "right": null,
            "justify_content": null,
            "_view_module": "@jupyter-widgets/base",
            "overflow": null,
            "_model_module_version": "1.2.0",
            "_view_count": null,
            "flex_flow": null,
            "width": null,
            "min_width": null,
            "border": null,
            "align_items": null,
            "bottom": null,
            "_model_module": "@jupyter-widgets/base",
            "top": null,
            "grid_column": null,
            "overflow_y": null,
            "overflow_x": null,
            "grid_auto_flow": null,
            "grid_area": null,
            "grid_template_columns": null,
            "flex": null,
            "_model_name": "LayoutModel",
            "justify_items": null,
            "grid_row": null,
            "max_height": null,
            "align_content": null,
            "visibility": null,
            "align_self": null,
            "height": null,
            "min_height": null,
            "padding": null,
            "grid_auto_rows": null,
            "grid_gap": null,
            "max_width": null,
            "order": null,
            "_view_module_version": "1.2.0",
            "grid_template_areas": null,
            "object_position": null,
            "object_fit": null,
            "grid_auto_columns": null,
            "margin": null,
            "display": null,
            "left": null
          }
        },
        "2a834f9004c24258a8995d3775ceceb4": {
          "model_module": "@jupyter-widgets/controls",
          "model_name": "VBoxModel",
          "state": {
            "_view_name": "VBoxView",
            "_dom_classes": [
              "widget-interact"
            ],
            "_model_name": "VBoxModel",
            "_view_module": "@jupyter-widgets/controls",
            "_model_module_version": "1.5.0",
            "_view_count": null,
            "_view_module_version": "1.5.0",
            "box_style": "",
            "layout": "IPY_MODEL_102176d0a0c3461999984862d3eb2612",
            "_model_module": "@jupyter-widgets/controls",
            "children": [
              "IPY_MODEL_35ec25f094254d86a819edc191dd5465",
              "IPY_MODEL_aed7f14f87154b008cb5791162094d2b"
            ]
          }
        },
        "102176d0a0c3461999984862d3eb2612": {
          "model_module": "@jupyter-widgets/base",
          "model_name": "LayoutModel",
          "state": {
            "_view_name": "LayoutView",
            "grid_template_rows": null,
            "right": null,
            "justify_content": null,
            "_view_module": "@jupyter-widgets/base",
            "overflow": null,
            "_model_module_version": "1.2.0",
            "_view_count": null,
            "flex_flow": null,
            "width": null,
            "min_width": null,
            "border": null,
            "align_items": null,
            "bottom": null,
            "_model_module": "@jupyter-widgets/base",
            "top": null,
            "grid_column": null,
            "overflow_y": null,
            "overflow_x": null,
            "grid_auto_flow": null,
            "grid_area": null,
            "grid_template_columns": null,
            "flex": null,
            "_model_name": "LayoutModel",
            "justify_items": null,
            "grid_row": null,
            "max_height": null,
            "align_content": null,
            "visibility": null,
            "align_self": null,
            "height": null,
            "min_height": null,
            "padding": null,
            "grid_auto_rows": null,
            "grid_gap": null,
            "max_width": null,
            "order": null,
            "_view_module_version": "1.2.0",
            "grid_template_areas": null,
            "object_position": null,
            "object_fit": null,
            "grid_auto_columns": null,
            "margin": null,
            "display": null,
            "left": null
          }
        },
        "35ec25f094254d86a819edc191dd5465": {
          "model_module": "@jupyter-widgets/controls",
          "model_name": "FloatSliderModel",
          "state": {
            "_view_name": "FloatSliderView",
            "style": "IPY_MODEL_71c80d754a46416787468ce7a94df23c",
            "_dom_classes": [],
            "description": "x",
            "step": 0.01,
            "_model_name": "FloatSliderModel",
            "orientation": "horizontal",
            "max": 10,
            "_view_module": "@jupyter-widgets/controls",
            "_model_module_version": "1.5.0",
            "value": 6.73,
            "_view_count": null,
            "disabled": false,
            "_view_module_version": "1.5.0",
            "min": 0,
            "continuous_update": true,
            "readout_format": ".2f",
            "description_tooltip": null,
            "readout": true,
            "_model_module": "@jupyter-widgets/controls",
            "layout": "IPY_MODEL_d37e8529b1054a1a96c17e6b83a7ba75"
          }
        },
        "aed7f14f87154b008cb5791162094d2b": {
          "model_module": "@jupyter-widgets/output",
          "model_name": "OutputModel",
          "state": {
            "_view_name": "OutputView",
            "msg_id": "",
            "_dom_classes": [],
            "_model_name": "OutputModel",
            "outputs": [
              {
                "output_type": "display_data",
                "metadata": {
                  "tags": []
                },
                "text/plain": "20.19"
              }
            ],
            "_view_module": "@jupyter-widgets/output",
            "_model_module_version": "1.0.0",
            "_view_count": null,
            "_view_module_version": "1.0.0",
            "layout": "IPY_MODEL_12616f825cce47798263ab77fa08af49",
            "_model_module": "@jupyter-widgets/output"
          }
        },
        "71c80d754a46416787468ce7a94df23c": {
          "model_module": "@jupyter-widgets/controls",
          "model_name": "SliderStyleModel",
          "state": {
            "_view_name": "StyleView",
            "handle_color": null,
            "_model_name": "SliderStyleModel",
            "description_width": "",
            "_view_module": "@jupyter-widgets/base",
            "_model_module_version": "1.5.0",
            "_view_count": null,
            "_view_module_version": "1.2.0",
            "_model_module": "@jupyter-widgets/controls"
          }
        },
        "d37e8529b1054a1a96c17e6b83a7ba75": {
          "model_module": "@jupyter-widgets/base",
          "model_name": "LayoutModel",
          "state": {
            "_view_name": "LayoutView",
            "grid_template_rows": null,
            "right": null,
            "justify_content": null,
            "_view_module": "@jupyter-widgets/base",
            "overflow": null,
            "_model_module_version": "1.2.0",
            "_view_count": null,
            "flex_flow": null,
            "width": null,
            "min_width": null,
            "border": null,
            "align_items": null,
            "bottom": null,
            "_model_module": "@jupyter-widgets/base",
            "top": null,
            "grid_column": null,
            "overflow_y": null,
            "overflow_x": null,
            "grid_auto_flow": null,
            "grid_area": null,
            "grid_template_columns": null,
            "flex": null,
            "_model_name": "LayoutModel",
            "justify_items": null,
            "grid_row": null,
            "max_height": null,
            "align_content": null,
            "visibility": null,
            "align_self": null,
            "height": null,
            "min_height": null,
            "padding": null,
            "grid_auto_rows": null,
            "grid_gap": null,
            "max_width": null,
            "order": null,
            "_view_module_version": "1.2.0",
            "grid_template_areas": null,
            "object_position": null,
            "object_fit": null,
            "grid_auto_columns": null,
            "margin": null,
            "display": null,
            "left": null
          }
        },
        "40161cd01f9f44bb81be3a384ae34705": {
          "model_module": "@jupyter-widgets/controls",
          "model_name": "VBoxModel",
          "state": {
            "_view_name": "VBoxView",
            "_dom_classes": [
              "widget-interact"
            ],
            "_model_name": "VBoxModel",
            "_view_module": "@jupyter-widgets/controls",
            "_model_module_version": "1.5.0",
            "_view_count": null,
            "_view_module_version": "1.5.0",
            "box_style": "",
            "layout": "IPY_MODEL_f1db9f1d2adb4edf90c32c784ea5d73f",
            "_model_module": "@jupyter-widgets/controls",
            "children": [
              "IPY_MODEL_f49916adfa8c4c028e97238eee2398a3",
              "IPY_MODEL_53941ce5cdc84107bf33959e8235728a"
            ]
          }
        },
        "f1db9f1d2adb4edf90c32c784ea5d73f": {
          "model_module": "@jupyter-widgets/base",
          "model_name": "LayoutModel",
          "state": {
            "_view_name": "LayoutView",
            "grid_template_rows": null,
            "right": null,
            "justify_content": null,
            "_view_module": "@jupyter-widgets/base",
            "overflow": null,
            "_model_module_version": "1.2.0",
            "_view_count": null,
            "flex_flow": null,
            "width": null,
            "min_width": null,
            "border": null,
            "align_items": null,
            "bottom": null,
            "_model_module": "@jupyter-widgets/base",
            "top": null,
            "grid_column": null,
            "overflow_y": null,
            "overflow_x": null,
            "grid_auto_flow": null,
            "grid_area": null,
            "grid_template_columns": null,
            "flex": null,
            "_model_name": "LayoutModel",
            "justify_items": null,
            "grid_row": null,
            "max_height": null,
            "align_content": null,
            "visibility": null,
            "align_self": null,
            "height": null,
            "min_height": null,
            "padding": null,
            "grid_auto_rows": null,
            "grid_gap": null,
            "max_width": null,
            "order": null,
            "_view_module_version": "1.2.0",
            "grid_template_areas": null,
            "object_position": null,
            "object_fit": null,
            "grid_auto_columns": null,
            "margin": null,
            "display": null,
            "left": null
          }
        },
        "f49916adfa8c4c028e97238eee2398a3": {
          "model_module": "@jupyter-widgets/controls",
          "model_name": "DropdownModel",
          "state": {
            "_options_labels": [
              "apples",
              "oranges"
            ],
            "_view_name": "DropdownView",
            "style": "IPY_MODEL_8d252d38542a492ca2a1c1c55b627cc0",
            "_dom_classes": [],
            "description": "x",
            "_model_name": "DropdownModel",
            "index": 0,
            "_view_module": "@jupyter-widgets/controls",
            "_model_module_version": "1.5.0",
            "_view_count": null,
            "disabled": false,
            "_view_module_version": "1.5.0",
            "description_tooltip": null,
            "_model_module": "@jupyter-widgets/controls",
            "layout": "IPY_MODEL_6d2592dc1f1c4aee985bfab7befecc91"
          }
        },
        "53941ce5cdc84107bf33959e8235728a": {
          "model_module": "@jupyter-widgets/output",
          "model_name": "OutputModel",
          "state": {
            "_view_name": "OutputView",
            "msg_id": "",
            "_dom_classes": [],
            "_model_name": "OutputModel",
            "outputs": [
              {
                "output_type": "display_data",
                "metadata": {
                  "tags": []
                },
                "text/plain": "6"
              }
            ],
            "_view_module": "@jupyter-widgets/output",
            "_model_module_version": "1.0.0",
            "_view_count": null,
            "_view_module_version": "1.0.0",
            "layout": "IPY_MODEL_80261e371b0b449a8620a27194b25cd1",
            "_model_module": "@jupyter-widgets/output"
          }
        },
        "8d252d38542a492ca2a1c1c55b627cc0": {
          "model_module": "@jupyter-widgets/controls",
          "model_name": "DescriptionStyleModel",
          "state": {
            "_view_name": "StyleView",
            "_model_name": "DescriptionStyleModel",
            "description_width": "",
            "_view_module": "@jupyter-widgets/base",
            "_model_module_version": "1.5.0",
            "_view_count": null,
            "_view_module_version": "1.2.0",
            "_model_module": "@jupyter-widgets/controls"
          }
        },
        "6d2592dc1f1c4aee985bfab7befecc91": {
          "model_module": "@jupyter-widgets/base",
          "model_name": "LayoutModel",
          "state": {
            "_view_name": "LayoutView",
            "grid_template_rows": null,
            "right": null,
            "justify_content": null,
            "_view_module": "@jupyter-widgets/base",
            "overflow": null,
            "_model_module_version": "1.2.0",
            "_view_count": null,
            "flex_flow": null,
            "width": null,
            "min_width": null,
            "border": null,
            "align_items": null,
            "bottom": null,
            "_model_module": "@jupyter-widgets/base",
            "top": null,
            "grid_column": null,
            "overflow_y": null,
            "overflow_x": null,
            "grid_auto_flow": null,
            "grid_area": null,
            "grid_template_columns": null,
            "flex": null,
            "_model_name": "LayoutModel",
            "justify_items": null,
            "grid_row": null,
            "max_height": null,
            "align_content": null,
            "visibility": null,
            "align_self": null,
            "height": null,
            "min_height": null,
            "padding": null,
            "grid_auto_rows": null,
            "grid_gap": null,
            "max_width": null,
            "order": null,
            "_view_module_version": "1.2.0",
            "grid_template_areas": null,
            "object_position": null,
            "object_fit": null,
            "grid_auto_columns": null,
            "margin": null,
            "display": null,
            "left": null
          }
        },
        "ed84dd179ff54e578347690043306930": {
          "model_module": "@jupyter-widgets/controls",
          "model_name": "VBoxModel",
          "state": {
            "_view_name": "VBoxView",
            "_dom_classes": [
              "widget-interact"
            ],
            "_model_name": "VBoxModel",
            "_view_module": "@jupyter-widgets/controls",
            "_model_module_version": "1.5.0",
            "_view_count": null,
            "_view_module_version": "1.5.0",
            "box_style": "",
            "layout": "IPY_MODEL_d57722037edc404cb1122ba6d17c2ead",
            "_model_module": "@jupyter-widgets/controls",
            "children": [
              "IPY_MODEL_cf9e06d1ab4f48ee99cce5a43d35b896",
              "IPY_MODEL_351c867bfc5c4d4bb1c21dd4b94d4fdc"
            ]
          }
        },
        "d57722037edc404cb1122ba6d17c2ead": {
          "model_module": "@jupyter-widgets/base",
          "model_name": "LayoutModel",
          "state": {
            "_view_name": "LayoutView",
            "grid_template_rows": null,
            "right": null,
            "justify_content": null,
            "_view_module": "@jupyter-widgets/base",
            "overflow": null,
            "_model_module_version": "1.2.0",
            "_view_count": null,
            "flex_flow": null,
            "width": null,
            "min_width": null,
            "border": null,
            "align_items": null,
            "bottom": null,
            "_model_module": "@jupyter-widgets/base",
            "top": null,
            "grid_column": null,
            "overflow_y": null,
            "overflow_x": null,
            "grid_auto_flow": null,
            "grid_area": null,
            "grid_template_columns": null,
            "flex": null,
            "_model_name": "LayoutModel",
            "justify_items": null,
            "grid_row": null,
            "max_height": null,
            "align_content": null,
            "visibility": null,
            "align_self": null,
            "height": null,
            "min_height": null,
            "padding": null,
            "grid_auto_rows": null,
            "grid_gap": null,
            "max_width": null,
            "order": null,
            "_view_module_version": "1.2.0",
            "grid_template_areas": null,
            "object_position": null,
            "object_fit": null,
            "grid_auto_columns": null,
            "margin": null,
            "display": null,
            "left": null
          }
        },
        "cf9e06d1ab4f48ee99cce5a43d35b896": {
          "model_module": "@jupyter-widgets/controls",
          "model_name": "DropdownModel",
          "state": {
            "_options_labels": [
              "one",
              "two"
            ],
            "_view_name": "DropdownView",
            "style": "IPY_MODEL_c05428eb33874c9f9a59383633a5143c",
            "_dom_classes": [],
            "description": "x",
            "_model_name": "DropdownModel",
            "index": 1,
            "_view_module": "@jupyter-widgets/controls",
            "_model_module_version": "1.5.0",
            "_view_count": null,
            "disabled": false,
            "_view_module_version": "1.5.0",
            "description_tooltip": null,
            "_model_module": "@jupyter-widgets/controls",
            "layout": "IPY_MODEL_a80492a7a6294e6e8cc933f04dc4652b"
          }
        },
        "351c867bfc5c4d4bb1c21dd4b94d4fdc": {
          "model_module": "@jupyter-widgets/output",
          "model_name": "OutputModel",
          "state": {
            "_view_name": "OutputView",
            "msg_id": "",
            "_dom_classes": [],
            "_model_name": "OutputModel",
            "outputs": [
              {
                "output_type": "display_data",
                "metadata": {
                  "tags": []
                },
                "text/plain": "21"
              }
            ],
            "_view_module": "@jupyter-widgets/output",
            "_model_module_version": "1.0.0",
            "_view_count": null,
            "_view_module_version": "1.0.0",
            "layout": "IPY_MODEL_fffa794e07a1475982e797cce3e571b6",
            "_model_module": "@jupyter-widgets/output"
          }
        },
        "c05428eb33874c9f9a59383633a5143c": {
          "model_module": "@jupyter-widgets/controls",
          "model_name": "DescriptionStyleModel",
          "state": {
            "_view_name": "StyleView",
            "_model_name": "DescriptionStyleModel",
            "description_width": "",
            "_view_module": "@jupyter-widgets/base",
            "_model_module_version": "1.5.0",
            "_view_count": null,
            "_view_module_version": "1.2.0",
            "_model_module": "@jupyter-widgets/controls"
          }
        },
        "a80492a7a6294e6e8cc933f04dc4652b": {
          "model_module": "@jupyter-widgets/base",
          "model_name": "LayoutModel",
          "state": {
            "_view_name": "LayoutView",
            "grid_template_rows": null,
            "right": null,
            "justify_content": null,
            "_view_module": "@jupyter-widgets/base",
            "overflow": null,
            "_model_module_version": "1.2.0",
            "_view_count": null,
            "flex_flow": null,
            "width": null,
            "min_width": null,
            "border": null,
            "align_items": null,
            "bottom": null,
            "_model_module": "@jupyter-widgets/base",
            "top": null,
            "grid_column": null,
            "overflow_y": null,
            "overflow_x": null,
            "grid_auto_flow": null,
            "grid_area": null,
            "grid_template_columns": null,
            "flex": null,
            "_model_name": "LayoutModel",
            "justify_items": null,
            "grid_row": null,
            "max_height": null,
            "align_content": null,
            "visibility": null,
            "align_self": null,
            "height": null,
            "min_height": null,
            "padding": null,
            "grid_auto_rows": null,
            "grid_gap": null,
            "max_width": null,
            "order": null,
            "_view_module_version": "1.2.0",
            "grid_template_areas": null,
            "object_position": null,
            "object_fit": null,
            "grid_auto_columns": null,
            "margin": null,
            "display": null,
            "left": null
          }
        },
        "bd1a0c2381204a45b442c2f2f1dea43a": {
          "model_module": "@jupyter-widgets/controls",
          "model_name": "VBoxModel",
          "state": {
            "_view_name": "VBoxView",
            "_dom_classes": [
              "widget-interact"
            ],
            "_model_name": "VBoxModel",
            "_view_module": "@jupyter-widgets/controls",
            "_model_module_version": "1.5.0",
            "_view_count": null,
            "_view_module_version": "1.5.0",
            "box_style": "",
            "layout": "IPY_MODEL_7a4bdd828f494fadae594b6216486991",
            "_model_module": "@jupyter-widgets/controls",
            "children": [
              "IPY_MODEL_644b6dbd0738445e83ccd2e99be83721",
              "IPY_MODEL_a83a77b23d494c91afb1a00ebd4572ae",
              "IPY_MODEL_17fb151548814d6382cd78e3c790b23a"
            ]
          }
        },
        "7a4bdd828f494fadae594b6216486991": {
          "model_module": "@jupyter-widgets/base",
          "model_name": "LayoutModel",
          "state": {
            "_view_name": "LayoutView",
            "grid_template_rows": null,
            "right": null,
            "justify_content": null,
            "_view_module": "@jupyter-widgets/base",
            "overflow": null,
            "_model_module_version": "1.2.0",
            "_view_count": null,
            "flex_flow": null,
            "width": null,
            "min_width": null,
            "border": null,
            "align_items": null,
            "bottom": null,
            "_model_module": "@jupyter-widgets/base",
            "top": null,
            "grid_column": null,
            "overflow_y": null,
            "overflow_x": null,
            "grid_auto_flow": null,
            "grid_area": null,
            "grid_template_columns": null,
            "flex": null,
            "_model_name": "LayoutModel",
            "justify_items": null,
            "grid_row": null,
            "max_height": null,
            "align_content": null,
            "visibility": null,
            "align_self": null,
            "height": null,
            "min_height": null,
            "padding": null,
            "grid_auto_rows": null,
            "grid_gap": null,
            "max_width": null,
            "order": null,
            "_view_module_version": "1.2.0",
            "grid_template_areas": null,
            "object_position": null,
            "object_fit": null,
            "grid_auto_columns": null,
            "margin": null,
            "display": null,
            "left": null
          }
        },
        "644b6dbd0738445e83ccd2e99be83721": {
          "model_module": "@jupyter-widgets/controls",
          "model_name": "IntSliderModel",
          "state": {
            "_view_name": "IntSliderView",
            "style": "IPY_MODEL_951f3d30207442b1a574a33a236c9363",
            "_dom_classes": [],
            "description": "a",
            "step": 1,
            "_model_name": "IntSliderModel",
            "orientation": "horizontal",
            "max": 30,
            "_view_module": "@jupyter-widgets/controls",
            "_model_module_version": "1.5.0",
            "value": 3,
            "_view_count": null,
            "disabled": false,
            "_view_module_version": "1.5.0",
            "min": -10,
            "continuous_update": true,
            "readout_format": "d",
            "description_tooltip": null,
            "readout": true,
            "_model_module": "@jupyter-widgets/controls",
            "layout": "IPY_MODEL_e94ffaeb5e62410b8420f6ae77544db7"
          }
        },
        "a83a77b23d494c91afb1a00ebd4572ae": {
          "model_module": "@jupyter-widgets/controls",
          "model_name": "IntSliderModel",
          "state": {
            "_view_name": "IntSliderView",
            "style": "IPY_MODEL_e1aa430926e441caa6c4bc6288d0dbdf",
            "_dom_classes": [],
            "description": "b",
            "step": 1,
            "_model_name": "IntSliderModel",
            "orientation": "horizontal",
            "max": 60,
            "_view_module": "@jupyter-widgets/controls",
            "_model_module_version": "1.5.0",
            "value": 14,
            "_view_count": null,
            "disabled": false,
            "_view_module_version": "1.5.0",
            "min": -20,
            "continuous_update": true,
            "readout_format": "d",
            "description_tooltip": null,
            "readout": true,
            "_model_module": "@jupyter-widgets/controls",
            "layout": "IPY_MODEL_3285cd2900704e0083326d034b619e65"
          }
        },
        "17fb151548814d6382cd78e3c790b23a": {
          "model_module": "@jupyter-widgets/output",
          "model_name": "OutputModel",
          "state": {
            "_view_name": "OutputView",
            "msg_id": "",
            "_dom_classes": [],
            "_model_name": "OutputModel",
            "outputs": [
              {
                "output_type": "display_data",
                "metadata": {
                  "tags": []
                },
                "text/plain": "17"
              }
            ],
            "_view_module": "@jupyter-widgets/output",
            "_model_module_version": "1.0.0",
            "_view_count": null,
            "_view_module_version": "1.0.0",
            "layout": "IPY_MODEL_1b515abcae034b098ac5ac0f372e8662",
            "_model_module": "@jupyter-widgets/output"
          }
        },
        "951f3d30207442b1a574a33a236c9363": {
          "model_module": "@jupyter-widgets/controls",
          "model_name": "SliderStyleModel",
          "state": {
            "_view_name": "StyleView",
            "handle_color": null,
            "_model_name": "SliderStyleModel",
            "description_width": "",
            "_view_module": "@jupyter-widgets/base",
            "_model_module_version": "1.5.0",
            "_view_count": null,
            "_view_module_version": "1.2.0",
            "_model_module": "@jupyter-widgets/controls"
          }
        },
        "e94ffaeb5e62410b8420f6ae77544db7": {
          "model_module": "@jupyter-widgets/base",
          "model_name": "LayoutModel",
          "state": {
            "_view_name": "LayoutView",
            "grid_template_rows": null,
            "right": null,
            "justify_content": null,
            "_view_module": "@jupyter-widgets/base",
            "overflow": null,
            "_model_module_version": "1.2.0",
            "_view_count": null,
            "flex_flow": null,
            "width": null,
            "min_width": null,
            "border": null,
            "align_items": null,
            "bottom": null,
            "_model_module": "@jupyter-widgets/base",
            "top": null,
            "grid_column": null,
            "overflow_y": null,
            "overflow_x": null,
            "grid_auto_flow": null,
            "grid_area": null,
            "grid_template_columns": null,
            "flex": null,
            "_model_name": "LayoutModel",
            "justify_items": null,
            "grid_row": null,
            "max_height": null,
            "align_content": null,
            "visibility": null,
            "align_self": null,
            "height": null,
            "min_height": null,
            "padding": null,
            "grid_auto_rows": null,
            "grid_gap": null,
            "max_width": null,
            "order": null,
            "_view_module_version": "1.2.0",
            "grid_template_areas": null,
            "object_position": null,
            "object_fit": null,
            "grid_auto_columns": null,
            "margin": null,
            "display": null,
            "left": null
          }
        },
        "e1aa430926e441caa6c4bc6288d0dbdf": {
          "model_module": "@jupyter-widgets/controls",
          "model_name": "SliderStyleModel",
          "state": {
            "_view_name": "StyleView",
            "handle_color": null,
            "_model_name": "SliderStyleModel",
            "description_width": "",
            "_view_module": "@jupyter-widgets/base",
            "_model_module_version": "1.5.0",
            "_view_count": null,
            "_view_module_version": "1.2.0",
            "_model_module": "@jupyter-widgets/controls"
          }
        },
        "3285cd2900704e0083326d034b619e65": {
          "model_module": "@jupyter-widgets/base",
          "model_name": "LayoutModel",
          "state": {
            "_view_name": "LayoutView",
            "grid_template_rows": null,
            "right": null,
            "justify_content": null,
            "_view_module": "@jupyter-widgets/base",
            "overflow": null,
            "_model_module_version": "1.2.0",
            "_view_count": null,
            "flex_flow": null,
            "width": null,
            "min_width": null,
            "border": null,
            "align_items": null,
            "bottom": null,
            "_model_module": "@jupyter-widgets/base",
            "top": null,
            "grid_column": null,
            "overflow_y": null,
            "overflow_x": null,
            "grid_auto_flow": null,
            "grid_area": null,
            "grid_template_columns": null,
            "flex": null,
            "_model_name": "LayoutModel",
            "justify_items": null,
            "grid_row": null,
            "max_height": null,
            "align_content": null,
            "visibility": null,
            "align_self": null,
            "height": null,
            "min_height": null,
            "padding": null,
            "grid_auto_rows": null,
            "grid_gap": null,
            "max_width": null,
            "order": null,
            "_view_module_version": "1.2.0",
            "grid_template_areas": null,
            "object_position": null,
            "object_fit": null,
            "grid_auto_columns": null,
            "margin": null,
            "display": null,
            "left": null
          }
        },
        "887a539a5ce74aa0b4cab1c379c0f743": {
          "model_module": "@jupyter-widgets/controls",
          "model_name": "VBoxModel",
          "state": {
            "_view_name": "VBoxView",
            "_dom_classes": [
              "widget-interact"
            ],
            "_model_name": "VBoxModel",
            "_view_module": "@jupyter-widgets/controls",
            "_model_module_version": "1.5.0",
            "_view_count": null,
            "_view_module_version": "1.5.0",
            "box_style": "",
            "layout": "IPY_MODEL_76aaeb1adbc245e29a5c46c66609592e",
            "_model_module": "@jupyter-widgets/controls",
            "children": [
              "IPY_MODEL_f62cb3e870b8432e8acc2c9c8f3ed090",
              "IPY_MODEL_1fcc3858b8d3476da79a078a132b61aa",
              "IPY_MODEL_d1daa3a343a74c6c9437399ac62f521e"
            ]
          }
        },
        "76aaeb1adbc245e29a5c46c66609592e": {
          "model_module": "@jupyter-widgets/base",
          "model_name": "LayoutModel",
          "state": {
            "_view_name": "LayoutView",
            "grid_template_rows": null,
            "right": null,
            "justify_content": null,
            "_view_module": "@jupyter-widgets/base",
            "overflow": null,
            "_model_module_version": "1.2.0",
            "_view_count": null,
            "flex_flow": null,
            "width": null,
            "min_width": null,
            "border": null,
            "align_items": null,
            "bottom": null,
            "_model_module": "@jupyter-widgets/base",
            "top": null,
            "grid_column": null,
            "overflow_y": null,
            "overflow_x": null,
            "grid_auto_flow": null,
            "grid_area": null,
            "grid_template_columns": null,
            "flex": null,
            "_model_name": "LayoutModel",
            "justify_items": null,
            "grid_row": null,
            "max_height": null,
            "align_content": null,
            "visibility": null,
            "align_self": null,
            "height": null,
            "min_height": null,
            "padding": null,
            "grid_auto_rows": null,
            "grid_gap": null,
            "max_width": null,
            "order": null,
            "_view_module_version": "1.2.0",
            "grid_template_areas": null,
            "object_position": null,
            "object_fit": null,
            "grid_auto_columns": null,
            "margin": null,
            "display": null,
            "left": null
          }
        },
        "f62cb3e870b8432e8acc2c9c8f3ed090": {
          "model_module": "@jupyter-widgets/controls",
          "model_name": "IntSliderModel",
          "state": {
            "_view_name": "IntSliderView",
            "style": "IPY_MODEL_8cf096d1edbe4c4daf4b9890cd912fdc",
            "_dom_classes": [],
            "description": "a",
            "step": 1,
            "_model_name": "IntSliderModel",
            "orientation": "horizontal",
            "max": 30,
            "_view_module": "@jupyter-widgets/controls",
            "_model_module_version": "1.5.0",
            "value": 9,
            "_view_count": null,
            "disabled": false,
            "_view_module_version": "1.5.0",
            "min": -10,
            "continuous_update": true,
            "readout_format": "d",
            "description_tooltip": null,
            "readout": true,
            "_model_module": "@jupyter-widgets/controls",
            "layout": "IPY_MODEL_452e326392e34438b6a27d76a1b28a12"
          }
        },
        "1fcc3858b8d3476da79a078a132b61aa": {
          "model_module": "@jupyter-widgets/controls",
          "model_name": "IntSliderModel",
          "state": {
            "_view_name": "IntSliderView",
            "style": "IPY_MODEL_c157d695aa0e4204b6b9764779ed44c4",
            "_dom_classes": [],
            "description": "b",
            "step": 1,
            "_model_name": "IntSliderModel",
            "orientation": "horizontal",
            "max": 60,
            "_view_module": "@jupyter-widgets/controls",
            "_model_module_version": "1.5.0",
            "value": 23,
            "_view_count": null,
            "disabled": false,
            "_view_module_version": "1.5.0",
            "min": -20,
            "continuous_update": true,
            "readout_format": "d",
            "description_tooltip": null,
            "readout": true,
            "_model_module": "@jupyter-widgets/controls",
            "layout": "IPY_MODEL_0f2fc825ed9b4867b6e3bfc26835f291"
          }
        },
        "d1daa3a343a74c6c9437399ac62f521e": {
          "model_module": "@jupyter-widgets/output",
          "model_name": "OutputModel",
          "state": {
            "_view_name": "OutputView",
            "msg_id": "",
            "_dom_classes": [],
            "_model_name": "OutputModel",
            "outputs": [
              {
                "output_type": "display_data",
                "metadata": {
                  "tags": []
                },
                "text/plain": "32"
              }
            ],
            "_view_module": "@jupyter-widgets/output",
            "_model_module_version": "1.0.0",
            "_view_count": null,
            "_view_module_version": "1.0.0",
            "layout": "IPY_MODEL_0bd8fc591e8c42f58ff3098ad3939943",
            "_model_module": "@jupyter-widgets/output"
          }
        },
        "8cf096d1edbe4c4daf4b9890cd912fdc": {
          "model_module": "@jupyter-widgets/controls",
          "model_name": "SliderStyleModel",
          "state": {
            "_view_name": "StyleView",
            "handle_color": null,
            "_model_name": "SliderStyleModel",
            "description_width": "",
            "_view_module": "@jupyter-widgets/base",
            "_model_module_version": "1.5.0",
            "_view_count": null,
            "_view_module_version": "1.2.0",
            "_model_module": "@jupyter-widgets/controls"
          }
        },
        "452e326392e34438b6a27d76a1b28a12": {
          "model_module": "@jupyter-widgets/base",
          "model_name": "LayoutModel",
          "state": {
            "_view_name": "LayoutView",
            "grid_template_rows": null,
            "right": null,
            "justify_content": null,
            "_view_module": "@jupyter-widgets/base",
            "overflow": null,
            "_model_module_version": "1.2.0",
            "_view_count": null,
            "flex_flow": null,
            "width": null,
            "min_width": null,
            "border": null,
            "align_items": null,
            "bottom": null,
            "_model_module": "@jupyter-widgets/base",
            "top": null,
            "grid_column": null,
            "overflow_y": null,
            "overflow_x": null,
            "grid_auto_flow": null,
            "grid_area": null,
            "grid_template_columns": null,
            "flex": null,
            "_model_name": "LayoutModel",
            "justify_items": null,
            "grid_row": null,
            "max_height": null,
            "align_content": null,
            "visibility": null,
            "align_self": null,
            "height": null,
            "min_height": null,
            "padding": null,
            "grid_auto_rows": null,
            "grid_gap": null,
            "max_width": null,
            "order": null,
            "_view_module_version": "1.2.0",
            "grid_template_areas": null,
            "object_position": null,
            "object_fit": null,
            "grid_auto_columns": null,
            "margin": null,
            "display": null,
            "left": null
          }
        },
        "c157d695aa0e4204b6b9764779ed44c4": {
          "model_module": "@jupyter-widgets/controls",
          "model_name": "SliderStyleModel",
          "state": {
            "_view_name": "StyleView",
            "handle_color": null,
            "_model_name": "SliderStyleModel",
            "description_width": "",
            "_view_module": "@jupyter-widgets/base",
            "_model_module_version": "1.5.0",
            "_view_count": null,
            "_view_module_version": "1.2.0",
            "_model_module": "@jupyter-widgets/controls"
          }
        },
        "0f2fc825ed9b4867b6e3bfc26835f291": {
          "model_module": "@jupyter-widgets/base",
          "model_name": "LayoutModel",
          "state": {
            "_view_name": "LayoutView",
            "grid_template_rows": null,
            "right": null,
            "justify_content": null,
            "_view_module": "@jupyter-widgets/base",
            "overflow": null,
            "_model_module_version": "1.2.0",
            "_view_count": null,
            "flex_flow": null,
            "width": null,
            "min_width": null,
            "border": null,
            "align_items": null,
            "bottom": null,
            "_model_module": "@jupyter-widgets/base",
            "top": null,
            "grid_column": null,
            "overflow_y": null,
            "overflow_x": null,
            "grid_auto_flow": null,
            "grid_area": null,
            "grid_template_columns": null,
            "flex": null,
            "_model_name": "LayoutModel",
            "justify_items": null,
            "grid_row": null,
            "max_height": null,
            "align_content": null,
            "visibility": null,
            "align_self": null,
            "height": null,
            "min_height": null,
            "padding": null,
            "grid_auto_rows": null,
            "grid_gap": null,
            "max_width": null,
            "order": null,
            "_view_module_version": "1.2.0",
            "grid_template_areas": null,
            "object_position": null,
            "object_fit": null,
            "grid_auto_columns": null,
            "margin": null,
            "display": null,
            "left": null
          }
        },
        "b2b99ba7959f4f8fa08614f5665a0015": {
          "model_module": "@jupyter-widgets/controls",
          "model_name": "VBoxModel",
          "state": {
            "_view_name": "VBoxView",
            "_dom_classes": [
              "widget-interact"
            ],
            "_model_name": "VBoxModel",
            "_view_module": "@jupyter-widgets/controls",
            "_model_module_version": "1.5.0",
            "_view_count": null,
            "_view_module_version": "1.5.0",
            "box_style": "",
            "layout": "IPY_MODEL_8934758fe8104dcdbc44e2ced1fbd9b1",
            "_model_module": "@jupyter-widgets/controls",
            "children": [
              "IPY_MODEL_14507a77e33448e79f988685527fdead",
              "IPY_MODEL_730b3000a886407caea99748d8779f38",
              "IPY_MODEL_d1e1555ebe4446a58a7ff1115bcc564f"
            ]
          }
        },
        "8934758fe8104dcdbc44e2ced1fbd9b1": {
          "model_module": "@jupyter-widgets/base",
          "model_name": "LayoutModel",
          "state": {
            "_view_name": "LayoutView",
            "grid_template_rows": null,
            "right": null,
            "justify_content": null,
            "_view_module": "@jupyter-widgets/base",
            "overflow": null,
            "_model_module_version": "1.2.0",
            "_view_count": null,
            "flex_flow": null,
            "width": null,
            "min_width": null,
            "border": null,
            "align_items": null,
            "bottom": null,
            "_model_module": "@jupyter-widgets/base",
            "top": null,
            "grid_column": null,
            "overflow_y": null,
            "overflow_x": null,
            "grid_auto_flow": null,
            "grid_area": null,
            "grid_template_columns": null,
            "flex": null,
            "_model_name": "LayoutModel",
            "justify_items": null,
            "grid_row": null,
            "max_height": null,
            "align_content": null,
            "visibility": null,
            "align_self": null,
            "height": null,
            "min_height": null,
            "padding": null,
            "grid_auto_rows": null,
            "grid_gap": null,
            "max_width": null,
            "order": null,
            "_view_module_version": "1.2.0",
            "grid_template_areas": null,
            "object_position": null,
            "object_fit": null,
            "grid_auto_columns": null,
            "margin": null,
            "display": null,
            "left": null
          }
        },
        "14507a77e33448e79f988685527fdead": {
          "model_module": "@jupyter-widgets/controls",
          "model_name": "FloatSliderModel",
          "state": {
            "_view_name": "FloatSliderView",
            "style": "IPY_MODEL_a02a9b635d4b4cc1843893eeb4e0ef61",
            "_dom_classes": [],
            "description": "m",
            "step": 0.1,
            "_model_name": "FloatSliderModel",
            "orientation": "horizontal",
            "max": 2,
            "_view_module": "@jupyter-widgets/controls",
            "_model_module_version": "1.5.0",
            "value": 1.3,
            "_view_count": null,
            "disabled": false,
            "_view_module_version": "1.5.0",
            "min": -2,
            "continuous_update": true,
            "readout_format": ".2f",
            "description_tooltip": null,
            "readout": true,
            "_model_module": "@jupyter-widgets/controls",
            "layout": "IPY_MODEL_040c72c885a8415b9510706fce994185"
          }
        },
        "730b3000a886407caea99748d8779f38": {
          "model_module": "@jupyter-widgets/controls",
          "model_name": "FloatSliderModel",
          "state": {
            "_view_name": "FloatSliderView",
            "style": "IPY_MODEL_7ed925ed3dea420a9f26a1109120f90f",
            "_dom_classes": [],
            "description": "b",
            "step": 0.5,
            "_model_name": "FloatSliderModel",
            "orientation": "horizontal",
            "max": 3,
            "_view_module": "@jupyter-widgets/controls",
            "_model_module_version": "1.5.0",
            "value": 0,
            "_view_count": null,
            "disabled": false,
            "_view_module_version": "1.5.0",
            "min": -3,
            "continuous_update": true,
            "readout_format": ".2f",
            "description_tooltip": null,
            "readout": true,
            "_model_module": "@jupyter-widgets/controls",
            "layout": "IPY_MODEL_6b2428c141ed41e3a189a9079d0477c7"
          }
        },
        "d1e1555ebe4446a58a7ff1115bcc564f": {
          "model_module": "@jupyter-widgets/output",
          "model_name": "OutputModel",
          "state": {
            "_view_name": "OutputView",
            "msg_id": "",
            "_dom_classes": [],
            "_model_name": "OutputModel",
            "outputs": [
              {
                "output_type": "display_data",
                "metadata": {
                  "tags": []
                },
                "image/png": "iVBORw0KGgoAAAANSUhEUgAAAXIAAAD4CAYAAADxeG0DAAAABHNCSVQICAgIfAhkiAAAAAlwSFlz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\nnCPIASDn/h8QiLDjGRLouAAAAABJRU5ErkJggg==\n",
                "text/plain": "<Figure size 432x288 with 1 Axes>"
              }
            ],
            "_view_module": "@jupyter-widgets/output",
            "_model_module_version": "1.0.0",
            "_view_count": null,
            "_view_module_version": "1.0.0",
            "layout": "IPY_MODEL_1fe958da6f1d44528c203f79f7185933",
            "_model_module": "@jupyter-widgets/output"
          }
        },
        "a02a9b635d4b4cc1843893eeb4e0ef61": {
          "model_module": "@jupyter-widgets/controls",
          "model_name": "SliderStyleModel",
          "state": {
            "_view_name": "StyleView",
            "handle_color": null,
            "_model_name": "SliderStyleModel",
            "description_width": "",
            "_view_module": "@jupyter-widgets/base",
            "_model_module_version": "1.5.0",
            "_view_count": null,
            "_view_module_version": "1.2.0",
            "_model_module": "@jupyter-widgets/controls"
          }
        },
        "040c72c885a8415b9510706fce994185": {
          "model_module": "@jupyter-widgets/base",
          "model_name": "LayoutModel",
          "state": {
            "_view_name": "LayoutView",
            "grid_template_rows": null,
            "right": null,
            "justify_content": null,
            "_view_module": "@jupyter-widgets/base",
            "overflow": null,
            "_model_module_version": "1.2.0",
            "_view_count": null,
            "flex_flow": null,
            "width": null,
            "min_width": null,
            "border": null,
            "align_items": null,
            "bottom": null,
            "_model_module": "@jupyter-widgets/base",
            "top": null,
            "grid_column": null,
            "overflow_y": null,
            "overflow_x": null,
            "grid_auto_flow": null,
            "grid_area": null,
            "grid_template_columns": null,
            "flex": null,
            "_model_name": "LayoutModel",
            "justify_items": null,
            "grid_row": null,
            "max_height": null,
            "align_content": null,
            "visibility": null,
            "align_self": null,
            "height": null,
            "min_height": null,
            "padding": null,
            "grid_auto_rows": null,
            "grid_gap": null,
            "max_width": null,
            "order": null,
            "_view_module_version": "1.2.0",
            "grid_template_areas": null,
            "object_position": null,
            "object_fit": null,
            "grid_auto_columns": null,
            "margin": null,
            "display": null,
            "left": null
          }
        },
        "7ed925ed3dea420a9f26a1109120f90f": {
          "model_module": "@jupyter-widgets/controls",
          "model_name": "SliderStyleModel",
          "state": {
            "_view_name": "StyleView",
            "handle_color": null,
            "_model_name": "SliderStyleModel",
            "description_width": "",
            "_view_module": "@jupyter-widgets/base",
            "_model_module_version": "1.5.0",
            "_view_count": null,
            "_view_module_version": "1.2.0",
            "_model_module": "@jupyter-widgets/controls"
          }
        },
        "6b2428c141ed41e3a189a9079d0477c7": {
          "model_module": "@jupyter-widgets/base",
          "model_name": "LayoutModel",
          "state": {
            "_view_name": "LayoutView",
            "grid_template_rows": null,
            "right": null,
            "justify_content": null,
            "_view_module": "@jupyter-widgets/base",
            "overflow": null,
            "_model_module_version": "1.2.0",
            "_view_count": null,
            "flex_flow": null,
            "width": null,
            "min_width": null,
            "border": null,
            "align_items": null,
            "bottom": null,
            "_model_module": "@jupyter-widgets/base",
            "top": null,
            "grid_column": null,
            "overflow_y": null,
            "overflow_x": null,
            "grid_auto_flow": null,
            "grid_area": null,
            "grid_template_columns": null,
            "flex": null,
            "_model_name": "LayoutModel",
            "justify_items": null,
            "grid_row": null,
            "max_height": null,
            "align_content": null,
            "visibility": null,
            "align_self": null,
            "height": null,
            "min_height": null,
            "padding": null,
            "grid_auto_rows": null,
            "grid_gap": null,
            "max_width": null,
            "order": null,
            "_view_module_version": "1.2.0",
            "grid_template_areas": null,
            "object_position": null,
            "object_fit": null,
            "grid_auto_columns": null,
            "margin": null,
            "display": null,
            "left": null
          }
        },
        "0fa8e84017574366b2aa208232d2d7e4": {
          "model_module": "@jupyter-widgets/controls",
          "model_name": "VBoxModel",
          "state": {
            "_view_name": "VBoxView",
            "_dom_classes": [
              "widget-interact"
            ],
            "_model_name": "VBoxModel",
            "_view_module": "@jupyter-widgets/controls",
            "_model_module_version": "1.5.0",
            "_view_count": null,
            "_view_module_version": "1.5.0",
            "box_style": "",
            "layout": "IPY_MODEL_0b595dada5fb434098fd3f76234b8f82",
            "_model_module": "@jupyter-widgets/controls",
            "children": [
              "IPY_MODEL_5969dd5d311048afbae26d0770703407",
              "IPY_MODEL_5849ac8817ba44eb884bc2661a09eef2",
              "IPY_MODEL_1c058e9cf81f4fdbb4805e400924c815"
            ]
          }
        },
        "0b595dada5fb434098fd3f76234b8f82": {
          "model_module": "@jupyter-widgets/base",
          "model_name": "LayoutModel",
          "state": {
            "_view_name": "LayoutView",
            "grid_template_rows": null,
            "right": null,
            "justify_content": null,
            "_view_module": "@jupyter-widgets/base",
            "overflow": null,
            "_model_module_version": "1.2.0",
            "_view_count": null,
            "flex_flow": null,
            "width": null,
            "min_width": null,
            "border": null,
            "align_items": null,
            "bottom": null,
            "_model_module": "@jupyter-widgets/base",
            "top": null,
            "grid_column": null,
            "overflow_y": null,
            "overflow_x": null,
            "grid_auto_flow": null,
            "grid_area": null,
            "grid_template_columns": null,
            "flex": null,
            "_model_name": "LayoutModel",
            "justify_items": null,
            "grid_row": null,
            "max_height": null,
            "align_content": null,
            "visibility": null,
            "align_self": null,
            "height": null,
            "min_height": null,
            "padding": null,
            "grid_auto_rows": null,
            "grid_gap": null,
            "max_width": null,
            "order": null,
            "_view_module_version": "1.2.0",
            "grid_template_areas": null,
            "object_position": null,
            "object_fit": null,
            "grid_auto_columns": null,
            "margin": null,
            "display": null,
            "left": null
          }
        },
        "5969dd5d311048afbae26d0770703407": {
          "model_module": "@jupyter-widgets/controls",
          "model_name": "FloatSliderModel",
          "state": {
            "_view_name": "FloatSliderView",
            "style": "IPY_MODEL_4deb84e3ca3649e6bab9c3d749a39664",
            "_dom_classes": [],
            "description": "i",
            "step": 10000,
            "_model_name": "FloatSliderModel",
            "orientation": "horizontal",
            "max": 1000000,
            "_view_module": "@jupyter-widgets/controls",
            "_model_module_version": "1.5.0",
            "value": 400000,
            "_view_count": null,
            "disabled": false,
            "_view_module_version": "1.5.0",
            "min": 10000,
            "continuous_update": true,
            "readout_format": ".2f",
            "description_tooltip": null,
            "readout": true,
            "_model_module": "@jupyter-widgets/controls",
            "layout": "IPY_MODEL_e80b6183c467424196c1b08cd529b6fa"
          }
        },
        "5849ac8817ba44eb884bc2661a09eef2": {
          "model_module": "@jupyter-widgets/controls",
          "model_name": "ButtonModel",
          "state": {
            "_view_name": "ButtonView",
            "style": "IPY_MODEL_a83ecf2f718f4ee9be16245ce2e25895",
            "_dom_classes": [],
            "description": "Run Interact",
            "_model_name": "ButtonModel",
            "button_style": "",
            "_view_module": "@jupyter-widgets/controls",
            "_model_module_version": "1.5.0",
            "tooltip": "",
            "_view_count": null,
            "disabled": false,
            "_view_module_version": "1.5.0",
            "layout": "IPY_MODEL_f331586c1e724330bb2ab79d7e51009b",
            "_model_module": "@jupyter-widgets/controls",
            "icon": ""
          }
        },
        "1c058e9cf81f4fdbb4805e400924c815": {
          "model_module": "@jupyter-widgets/output",
          "model_name": "OutputModel",
          "state": {
            "_view_name": "OutputView",
            "msg_id": "",
            "_dom_classes": [],
            "_model_name": "OutputModel",
            "outputs": [
              {
                "output_type": "stream",
                "metadata": {
                  "tags": []
                },
                "text": "Sleeping...\n",
                "stream": "stdout"
              },
              {
                "output_type": "stream",
                "metadata": {
                  "tags": []
                },
                "text": "400000.0\n",
                "stream": "stdout"
              }
            ],
            "_view_module": "@jupyter-widgets/output",
            "_model_module_version": "1.0.0",
            "_view_count": null,
            "_view_module_version": "1.0.0",
            "layout": "IPY_MODEL_ba7424e9ed244a02a6d94fd513b2b989",
            "_model_module": "@jupyter-widgets/output"
          }
        },
        "4deb84e3ca3649e6bab9c3d749a39664": {
          "model_module": "@jupyter-widgets/controls",
          "model_name": "SliderStyleModel",
          "state": {
            "_view_name": "StyleView",
            "handle_color": null,
            "_model_name": "SliderStyleModel",
            "description_width": "",
            "_view_module": "@jupyter-widgets/base",
            "_model_module_version": "1.5.0",
            "_view_count": null,
            "_view_module_version": "1.2.0",
            "_model_module": "@jupyter-widgets/controls"
          }
        },
        "e80b6183c467424196c1b08cd529b6fa": {
          "model_module": "@jupyter-widgets/base",
          "model_name": "LayoutModel",
          "state": {
            "_view_name": "LayoutView",
            "grid_template_rows": null,
            "right": null,
            "justify_content": null,
            "_view_module": "@jupyter-widgets/base",
            "overflow": null,
            "_model_module_version": "1.2.0",
            "_view_count": null,
            "flex_flow": null,
            "width": null,
            "min_width": null,
            "border": null,
            "align_items": null,
            "bottom": null,
            "_model_module": "@jupyter-widgets/base",
            "top": null,
            "grid_column": null,
            "overflow_y": null,
            "overflow_x": null,
            "grid_auto_flow": null,
            "grid_area": null,
            "grid_template_columns": null,
            "flex": null,
            "_model_name": "LayoutModel",
            "justify_items": null,
            "grid_row": null,
            "max_height": null,
            "align_content": null,
            "visibility": null,
            "align_self": null,
            "height": null,
            "min_height": null,
            "padding": null,
            "grid_auto_rows": null,
            "grid_gap": null,
            "max_width": null,
            "order": null,
            "_view_module_version": "1.2.0",
            "grid_template_areas": null,
            "object_position": null,
            "object_fit": null,
            "grid_auto_columns": null,
            "margin": null,
            "display": null,
            "left": null
          }
        },
        "a83ecf2f718f4ee9be16245ce2e25895": {
          "model_module": "@jupyter-widgets/controls",
          "model_name": "ButtonStyleModel",
          "state": {
            "_view_name": "StyleView",
            "_model_name": "ButtonStyleModel",
            "_view_module": "@jupyter-widgets/base",
            "_model_module_version": "1.5.0",
            "_view_count": null,
            "button_color": null,
            "font_weight": "",
            "_view_module_version": "1.2.0",
            "_model_module": "@jupyter-widgets/controls"
          }
        },
        "f331586c1e724330bb2ab79d7e51009b": {
          "model_module": "@jupyter-widgets/base",
          "model_name": "LayoutModel",
          "state": {
            "_view_name": "LayoutView",
            "grid_template_rows": null,
            "right": null,
            "justify_content": null,
            "_view_module": "@jupyter-widgets/base",
            "overflow": null,
            "_model_module_version": "1.2.0",
            "_view_count": null,
            "flex_flow": null,
            "width": null,
            "min_width": null,
            "border": null,
            "align_items": null,
            "bottom": null,
            "_model_module": "@jupyter-widgets/base",
            "top": null,
            "grid_column": null,
            "overflow_y": null,
            "overflow_x": null,
            "grid_auto_flow": null,
            "grid_area": null,
            "grid_template_columns": null,
            "flex": null,
            "_model_name": "LayoutModel",
            "justify_items": null,
            "grid_row": null,
            "max_height": null,
            "align_content": null,
            "visibility": null,
            "align_self": null,
            "height": null,
            "min_height": null,
            "padding": null,
            "grid_auto_rows": null,
            "grid_gap": null,
            "max_width": null,
            "order": null,
            "_view_module_version": "1.2.0",
            "grid_template_areas": null,
            "object_position": null,
            "object_fit": null,
            "grid_auto_columns": null,
            "margin": null,
            "display": null,
            "left": null
          }
        },
        "7f4f8ceb4653472c9ab7335106ebc9fe": {
          "model_module": "@jupyter-widgets/controls",
          "model_name": "VBoxModel",
          "state": {
            "_view_name": "VBoxView",
            "_dom_classes": [
              "widget-interact"
            ],
            "_model_name": "VBoxModel",
            "_view_module": "@jupyter-widgets/controls",
            "_model_module_version": "1.5.0",
            "_view_count": null,
            "_view_module_version": "1.5.0",
            "box_style": "",
            "layout": "IPY_MODEL_95fcb4e91283402f9e4c4ce1a39297dc",
            "_model_module": "@jupyter-widgets/controls",
            "children": [
              "IPY_MODEL_2c89adf06e0845cb9adcdbbe91355ac3",
              "IPY_MODEL_c93fb48cb889460ba30614f7d9ec8cc4",
              "IPY_MODEL_2757c6a8d83d42bdb6a5b6576e98cd8c",
              "IPY_MODEL_25936067495a46b9837258c24863f22a"
            ]
          }
        },
        "95fcb4e91283402f9e4c4ce1a39297dc": {
          "model_module": "@jupyter-widgets/base",
          "model_name": "LayoutModel",
          "state": {
            "_view_name": "LayoutView",
            "grid_template_rows": null,
            "right": null,
            "justify_content": null,
            "_view_module": "@jupyter-widgets/base",
            "overflow": null,
            "_model_module_version": "1.2.0",
            "_view_count": null,
            "flex_flow": null,
            "width": null,
            "min_width": null,
            "border": null,
            "align_items": null,
            "bottom": null,
            "_model_module": "@jupyter-widgets/base",
            "top": null,
            "grid_column": null,
            "overflow_y": null,
            "overflow_x": null,
            "grid_auto_flow": null,
            "grid_area": null,
            "grid_template_columns": null,
            "flex": null,
            "_model_name": "LayoutModel",
            "justify_items": null,
            "grid_row": null,
            "max_height": null,
            "align_content": null,
            "visibility": null,
            "align_self": null,
            "height": null,
            "min_height": null,
            "padding": null,
            "grid_auto_rows": null,
            "grid_gap": null,
            "max_width": null,
            "order": null,
            "_view_module_version": "1.2.0",
            "grid_template_areas": null,
            "object_position": null,
            "object_fit": null,
            "grid_auto_columns": null,
            "margin": null,
            "display": null,
            "left": null
          }
        },
        "2c89adf06e0845cb9adcdbbe91355ac3": {
          "model_module": "@jupyter-widgets/controls",
          "model_name": "FloatSliderModel",
          "state": {
            "_view_name": "FloatSliderView",
            "style": "IPY_MODEL_2f08d10ed3734c589583b03ba93148ce",
            "_dom_classes": [],
            "description": "m",
            "step": 0.1,
            "_model_name": "FloatSliderModel",
            "orientation": "horizontal",
            "max": 2,
            "_view_module": "@jupyter-widgets/controls",
            "_model_module_version": "1.5.0",
            "value": 1.2,
            "_view_count": null,
            "disabled": false,
            "_view_module_version": "1.5.0",
            "min": -2,
            "continuous_update": true,
            "readout_format": ".2f",
            "description_tooltip": null,
            "readout": true,
            "_model_module": "@jupyter-widgets/controls",
            "layout": "IPY_MODEL_decd7b1970704418a4b7942de06611a5"
          }
        },
        "c93fb48cb889460ba30614f7d9ec8cc4": {
          "model_module": "@jupyter-widgets/controls",
          "model_name": "FloatSliderModel",
          "state": {
            "_view_name": "FloatSliderView",
            "style": "IPY_MODEL_efa27b2ba9eb4a3c9002a86b793402e0",
            "_dom_classes": [],
            "description": "b",
            "step": 0.5,
            "_model_name": "FloatSliderModel",
            "orientation": "horizontal",
            "max": 3,
            "_view_module": "@jupyter-widgets/controls",
            "_model_module_version": "1.5.0",
            "value": 0,
            "_view_count": null,
            "disabled": false,
            "_view_module_version": "1.5.0",
            "min": -3,
            "continuous_update": true,
            "readout_format": ".2f",
            "description_tooltip": null,
            "readout": true,
            "_model_module": "@jupyter-widgets/controls",
            "layout": "IPY_MODEL_804967b145cb474dafb58954cf34cf60"
          }
        },
        "2757c6a8d83d42bdb6a5b6576e98cd8c": {
          "model_module": "@jupyter-widgets/controls",
          "model_name": "ButtonModel",
          "state": {
            "_view_name": "ButtonView",
            "style": "IPY_MODEL_b568c26053554ec492ab76a82b3616aa",
            "_dom_classes": [],
            "description": "Run Interact",
            "_model_name": "ButtonModel",
            "button_style": "",
            "_view_module": "@jupyter-widgets/controls",
            "_model_module_version": "1.5.0",
            "tooltip": "",
            "_view_count": null,
            "disabled": false,
            "_view_module_version": "1.5.0",
            "layout": "IPY_MODEL_027ef2b907ba47b7a48da5800de89457",
            "_model_module": "@jupyter-widgets/controls",
            "icon": ""
          }
        },
        "25936067495a46b9837258c24863f22a": {
          "model_module": "@jupyter-widgets/output",
          "model_name": "OutputModel",
          "state": {
            "_view_name": "OutputView",
            "msg_id": "",
            "_dom_classes": [],
            "_model_name": "OutputModel",
            "outputs": [],
            "_view_module": "@jupyter-widgets/output",
            "_model_module_version": "1.0.0",
            "_view_count": null,
            "_view_module_version": "1.0.0",
            "layout": "IPY_MODEL_8a619acfc5a447319e25fd5520d9b871",
            "_model_module": "@jupyter-widgets/output"
          }
        },
        "2f08d10ed3734c589583b03ba93148ce": {
          "model_module": "@jupyter-widgets/controls",
          "model_name": "SliderStyleModel",
          "state": {
            "_view_name": "StyleView",
            "handle_color": null,
            "_model_name": "SliderStyleModel",
            "description_width": "",
            "_view_module": "@jupyter-widgets/base",
            "_model_module_version": "1.5.0",
            "_view_count": null,
            "_view_module_version": "1.2.0",
            "_model_module": "@jupyter-widgets/controls"
          }
        },
        "decd7b1970704418a4b7942de06611a5": {
          "model_module": "@jupyter-widgets/base",
          "model_name": "LayoutModel",
          "state": {
            "_view_name": "LayoutView",
            "grid_template_rows": null,
            "right": null,
            "justify_content": null,
            "_view_module": "@jupyter-widgets/base",
            "overflow": null,
            "_model_module_version": "1.2.0",
            "_view_count": null,
            "flex_flow": null,
            "width": null,
            "min_width": null,
            "border": null,
            "align_items": null,
            "bottom": null,
            "_model_module": "@jupyter-widgets/base",
            "top": null,
            "grid_column": null,
            "overflow_y": null,
            "overflow_x": null,
            "grid_auto_flow": null,
            "grid_area": null,
            "grid_template_columns": null,
            "flex": null,
            "_model_name": "LayoutModel",
            "justify_items": null,
            "grid_row": null,
            "max_height": null,
            "align_content": null,
            "visibility": null,
            "align_self": null,
            "height": null,
            "min_height": null,
            "padding": null,
            "grid_auto_rows": null,
            "grid_gap": null,
            "max_width": null,
            "order": null,
            "_view_module_version": "1.2.0",
            "grid_template_areas": null,
            "object_position": null,
            "object_fit": null,
            "grid_auto_columns": null,
            "margin": null,
            "display": null,
            "left": null
          }
        },
        "efa27b2ba9eb4a3c9002a86b793402e0": {
          "model_module": "@jupyter-widgets/controls",
          "model_name": "SliderStyleModel",
          "state": {
            "_view_name": "StyleView",
            "handle_color": null,
            "_model_name": "SliderStyleModel",
            "description_width": "",
            "_view_module": "@jupyter-widgets/base",
            "_model_module_version": "1.5.0",
            "_view_count": null,
            "_view_module_version": "1.2.0",
            "_model_module": "@jupyter-widgets/controls"
          }
        },
        "804967b145cb474dafb58954cf34cf60": {
          "model_module": "@jupyter-widgets/base",
          "model_name": "LayoutModel",
          "state": {
            "_view_name": "LayoutView",
            "grid_template_rows": null,
            "right": null,
            "justify_content": null,
            "_view_module": "@jupyter-widgets/base",
            "overflow": null,
            "_model_module_version": "1.2.0",
            "_view_count": null,
            "flex_flow": null,
            "width": null,
            "min_width": null,
            "border": null,
            "align_items": null,
            "bottom": null,
            "_model_module": "@jupyter-widgets/base",
            "top": null,
            "grid_column": null,
            "overflow_y": null,
            "overflow_x": null,
            "grid_auto_flow": null,
            "grid_area": null,
            "grid_template_columns": null,
            "flex": null,
            "_model_name": "LayoutModel",
            "justify_items": null,
            "grid_row": null,
            "max_height": null,
            "align_content": null,
            "visibility": null,
            "align_self": null,
            "height": null,
            "min_height": null,
            "padding": null,
            "grid_auto_rows": null,
            "grid_gap": null,
            "max_width": null,
            "order": null,
            "_view_module_version": "1.2.0",
            "grid_template_areas": null,
            "object_position": null,
            "object_fit": null,
            "grid_auto_columns": null,
            "margin": null,
            "display": null,
            "left": null
          }
        },
        "b568c26053554ec492ab76a82b3616aa": {
          "model_module": "@jupyter-widgets/controls",
          "model_name": "ButtonStyleModel",
          "state": {
            "_view_name": "StyleView",
            "_model_name": "ButtonStyleModel",
            "_view_module": "@jupyter-widgets/base",
            "_model_module_version": "1.5.0",
            "_view_count": null,
            "button_color": null,
            "font_weight": "",
            "_view_module_version": "1.2.0",
            "_model_module": "@jupyter-widgets/controls"
          }
        },
        "027ef2b907ba47b7a48da5800de89457": {
          "model_module": "@jupyter-widgets/base",
          "model_name": "LayoutModel",
          "state": {
            "_view_name": "LayoutView",
            "grid_template_rows": null,
            "right": null,
            "justify_content": null,
            "_view_module": "@jupyter-widgets/base",
            "overflow": null,
            "_model_module_version": "1.2.0",
            "_view_count": null,
            "flex_flow": null,
            "width": null,
            "min_width": null,
            "border": null,
            "align_items": null,
            "bottom": null,
            "_model_module": "@jupyter-widgets/base",
            "top": null,
            "grid_column": null,
            "overflow_y": null,
            "overflow_x": null,
            "grid_auto_flow": null,
            "grid_area": null,
            "grid_template_columns": null,
            "flex": null,
            "_model_name": "LayoutModel",
            "justify_items": null,
            "grid_row": null,
            "max_height": null,
            "align_content": null,
            "visibility": null,
            "align_self": null,
            "height": null,
            "min_height": null,
            "padding": null,
            "grid_auto_rows": null,
            "grid_gap": null,
            "max_width": null,
            "order": null,
            "_view_module_version": "1.2.0",
            "grid_template_areas": null,
            "object_position": null,
            "object_fit": null,
            "grid_auto_columns": null,
            "margin": null,
            "display": null,
            "left": null
          }
        },
        "a64933c3408548e8a53e9ad66b0b34ac": {
          "model_module": "@jupyter-widgets/controls",
          "model_name": "VBoxModel",
          "state": {
            "_view_name": "VBoxView",
            "_dom_classes": [
              "widget-interact"
            ],
            "_model_name": "VBoxModel",
            "_view_module": "@jupyter-widgets/controls",
            "_model_module_version": "1.5.0",
            "_view_count": null,
            "_view_module_version": "1.5.0",
            "box_style": "",
            "layout": "IPY_MODEL_43850041df0a4f16a2b02453469dc185",
            "_model_module": "@jupyter-widgets/controls",
            "children": [
              "IPY_MODEL_3bc59470b3e14db4af086566a96e6c21",
              "IPY_MODEL_88b9e2a8a34d47dcb1b5dded79dc73ef"
            ]
          }
        },
        "43850041df0a4f16a2b02453469dc185": {
          "model_module": "@jupyter-widgets/base",
          "model_name": "LayoutModel",
          "state": {
            "_view_name": "LayoutView",
            "grid_template_rows": null,
            "right": null,
            "justify_content": null,
            "_view_module": "@jupyter-widgets/base",
            "overflow": null,
            "_model_module_version": "1.2.0",
            "_view_count": null,
            "flex_flow": null,
            "width": null,
            "min_width": null,
            "border": null,
            "align_items": null,
            "bottom": null,
            "_model_module": "@jupyter-widgets/base",
            "top": null,
            "grid_column": null,
            "overflow_y": null,
            "overflow_x": null,
            "grid_auto_flow": null,
            "grid_area": null,
            "grid_template_columns": null,
            "flex": null,
            "_model_name": "LayoutModel",
            "justify_items": null,
            "grid_row": null,
            "max_height": null,
            "align_content": null,
            "visibility": null,
            "align_self": null,
            "height": null,
            "min_height": null,
            "padding": null,
            "grid_auto_rows": null,
            "grid_gap": null,
            "max_width": null,
            "order": null,
            "_view_module_version": "1.2.0",
            "grid_template_areas": null,
            "object_position": null,
            "object_fit": null,
            "grid_auto_columns": null,
            "margin": null,
            "display": null,
            "left": null
          }
        },
        "3bc59470b3e14db4af086566a96e6c21": {
          "model_module": "@jupyter-widgets/controls",
          "model_name": "FloatSliderModel",
          "state": {
            "_view_name": "FloatSliderView",
            "style": "IPY_MODEL_af308dd6bbc44d14960b7dbeb28a0e18",
            "_dom_classes": [],
            "description": "i",
            "step": 10000,
            "_model_name": "FloatSliderModel",
            "orientation": "horizontal",
            "max": 1000000,
            "_view_module": "@jupyter-widgets/controls",
            "_model_module_version": "1.5.0",
            "value": 830000,
            "_view_count": null,
            "disabled": false,
            "_view_module_version": "1.5.0",
            "min": 10000,
            "continuous_update": true,
            "readout_format": ".2f",
            "description_tooltip": null,
            "readout": true,
            "_model_module": "@jupyter-widgets/controls",
            "layout": "IPY_MODEL_a149e493bb524ab2a6ac27531a0fc125"
          }
        },
        "88b9e2a8a34d47dcb1b5dded79dc73ef": {
          "model_module": "@jupyter-widgets/output",
          "model_name": "OutputModel",
          "state": {
            "_view_name": "OutputView",
            "msg_id": "",
            "_dom_classes": [],
            "_model_name": "OutputModel",
            "outputs": [
              {
                "output_type": "stream",
                "metadata": {
                  "tags": []
                },
                "text": "Sleeping...\n",
                "stream": "stdout"
              },
              {
                "output_type": "stream",
                "metadata": {
                  "tags": []
                },
                "text": "830000.0\n",
                "stream": "stdout"
              }
            ],
            "_view_module": "@jupyter-widgets/output",
            "_model_module_version": "1.0.0",
            "_view_count": null,
            "_view_module_version": "1.0.0",
            "layout": "IPY_MODEL_072a39bfe1e74a958ef192624cc8db07",
            "_model_module": "@jupyter-widgets/output"
          }
        },
        "af308dd6bbc44d14960b7dbeb28a0e18": {
          "model_module": "@jupyter-widgets/controls",
          "model_name": "SliderStyleModel",
          "state": {
            "_view_name": "StyleView",
            "handle_color": null,
            "_model_name": "SliderStyleModel",
            "description_width": "",
            "_view_module": "@jupyter-widgets/base",
            "_model_module_version": "1.5.0",
            "_view_count": null,
            "_view_module_version": "1.2.0",
            "_model_module": "@jupyter-widgets/controls"
          }
        },
        "a149e493bb524ab2a6ac27531a0fc125": {
          "model_module": "@jupyter-widgets/base",
          "model_name": "LayoutModel",
          "state": {
            "_view_name": "LayoutView",
            "grid_template_rows": null,
            "right": null,
            "justify_content": null,
            "_view_module": "@jupyter-widgets/base",
            "overflow": null,
            "_model_module_version": "1.2.0",
            "_view_count": null,
            "flex_flow": null,
            "width": null,
            "min_width": null,
            "border": null,
            "align_items": null,
            "bottom": null,
            "_model_module": "@jupyter-widgets/base",
            "top": null,
            "grid_column": null,
            "overflow_y": null,
            "overflow_x": null,
            "grid_auto_flow": null,
            "grid_area": null,
            "grid_template_columns": null,
            "flex": null,
            "_model_name": "LayoutModel",
            "justify_items": null,
            "grid_row": null,
            "max_height": null,
            "align_content": null,
            "visibility": null,
            "align_self": null,
            "height": null,
            "min_height": null,
            "padding": null,
            "grid_auto_rows": null,
            "grid_gap": null,
            "max_width": null,
            "order": null,
            "_view_module_version": "1.2.0",
            "grid_template_areas": null,
            "object_position": null,
            "object_fit": null,
            "grid_auto_columns": null,
            "margin": null,
            "display": null,
            "left": null
          }
        },
        "616da7625403407f9a1d619f6fd54110": {
          "model_module": "@jupyter-widgets/controls",
          "model_name": "VBoxModel",
          "state": {
            "_view_name": "VBoxView",
            "_dom_classes": [
              "widget-interact"
            ],
            "_model_name": "VBoxModel",
            "_view_module": "@jupyter-widgets/controls",
            "_model_module_version": "1.5.0",
            "_view_count": null,
            "_view_module_version": "1.5.0",
            "box_style": "",
            "layout": "IPY_MODEL_b362216db1ac46d1a83f6995b61527fd",
            "_model_module": "@jupyter-widgets/controls",
            "children": [
              "IPY_MODEL_0034abec19934b139b6ead2364a5fc0a",
              "IPY_MODEL_5fd1361ceaa549c792e34280ce81ed59"
            ]
          }
        },
        "b362216db1ac46d1a83f6995b61527fd": {
          "model_module": "@jupyter-widgets/base",
          "model_name": "LayoutModel",
          "state": {
            "_view_name": "LayoutView",
            "grid_template_rows": null,
            "right": null,
            "justify_content": null,
            "_view_module": "@jupyter-widgets/base",
            "overflow": null,
            "_model_module_version": "1.2.0",
            "_view_count": null,
            "flex_flow": null,
            "width": null,
            "min_width": null,
            "border": null,
            "align_items": null,
            "bottom": null,
            "_model_module": "@jupyter-widgets/base",
            "top": null,
            "grid_column": null,
            "overflow_y": null,
            "overflow_x": null,
            "grid_auto_flow": null,
            "grid_area": null,
            "grid_template_columns": null,
            "flex": null,
            "_model_name": "LayoutModel",
            "justify_items": null,
            "grid_row": null,
            "max_height": null,
            "align_content": null,
            "visibility": null,
            "align_self": null,
            "height": null,
            "min_height": null,
            "padding": null,
            "grid_auto_rows": null,
            "grid_gap": null,
            "max_width": null,
            "order": null,
            "_view_module_version": "1.2.0",
            "grid_template_areas": null,
            "object_position": null,
            "object_fit": null,
            "grid_auto_columns": null,
            "margin": null,
            "display": null,
            "left": null
          }
        },
        "0034abec19934b139b6ead2364a5fc0a": {
          "model_module": "@jupyter-widgets/controls",
          "model_name": "FloatSliderModel",
          "state": {
            "_view_name": "FloatSliderView",
            "style": "IPY_MODEL_07e748d758d041e98360f53735eef292",
            "_dom_classes": [],
            "description": "i",
            "step": 50000,
            "_model_name": "FloatSliderModel",
            "orientation": "horizontal",
            "max": 1000000,
            "_view_module": "@jupyter-widgets/controls",
            "_model_module_version": "1.5.0",
            "value": 660000,
            "_view_count": null,
            "disabled": false,
            "_view_module_version": "1.5.0",
            "min": 10000,
            "continuous_update": false,
            "readout_format": ".2f",
            "description_tooltip": null,
            "readout": true,
            "_model_module": "@jupyter-widgets/controls",
            "layout": "IPY_MODEL_c51b215291324c259afe3100f79290e1"
          }
        },
        "5fd1361ceaa549c792e34280ce81ed59": {
          "model_module": "@jupyter-widgets/output",
          "model_name": "OutputModel",
          "state": {
            "_view_name": "OutputView",
            "msg_id": "",
            "_dom_classes": [],
            "_model_name": "OutputModel",
            "outputs": [
              {
                "output_type": "stream",
                "metadata": {
                  "tags": []
                },
                "text": "Sleeping...\n",
                "stream": "stdout"
              },
              {
                "output_type": "stream",
                "metadata": {
                  "tags": []
                },
                "text": "660000.0\n",
                "stream": "stdout"
              }
            ],
            "_view_module": "@jupyter-widgets/output",
            "_model_module_version": "1.0.0",
            "_view_count": null,
            "_view_module_version": "1.0.0",
            "layout": "IPY_MODEL_75ab2eb59cab4226ae821ae6f861789d",
            "_model_module": "@jupyter-widgets/output"
          }
        },
        "07e748d758d041e98360f53735eef292": {
          "model_module": "@jupyter-widgets/controls",
          "model_name": "SliderStyleModel",
          "state": {
            "_view_name": "StyleView",
            "handle_color": null,
            "_model_name": "SliderStyleModel",
            "description_width": "",
            "_view_module": "@jupyter-widgets/base",
            "_model_module_version": "1.5.0",
            "_view_count": null,
            "_view_module_version": "1.2.0",
            "_model_module": "@jupyter-widgets/controls"
          }
        },
        "c51b215291324c259afe3100f79290e1": {
          "model_module": "@jupyter-widgets/base",
          "model_name": "LayoutModel",
          "state": {
            "_view_name": "LayoutView",
            "grid_template_rows": null,
            "right": null,
            "justify_content": null,
            "_view_module": "@jupyter-widgets/base",
            "overflow": null,
            "_model_module_version": "1.2.0",
            "_view_count": null,
            "flex_flow": null,
            "width": null,
            "min_width": null,
            "border": null,
            "align_items": null,
            "bottom": null,
            "_model_module": "@jupyter-widgets/base",
            "top": null,
            "grid_column": null,
            "overflow_y": null,
            "overflow_x": null,
            "grid_auto_flow": null,
            "grid_area": null,
            "grid_template_columns": null,
            "flex": null,
            "_model_name": "LayoutModel",
            "justify_items": null,
            "grid_row": null,
            "max_height": null,
            "align_content": null,
            "visibility": null,
            "align_self": null,
            "height": null,
            "min_height": null,
            "padding": null,
            "grid_auto_rows": null,
            "grid_gap": null,
            "max_width": null,
            "order": null,
            "_view_module_version": "1.2.0",
            "grid_template_areas": null,
            "object_position": null,
            "object_fit": null,
            "grid_auto_columns": null,
            "margin": null,
            "display": null,
            "left": null
          }
        },
        "f77b7dadc93449c9801f4b679923fedb": {
          "model_module": "@jupyter-widgets/controls",
          "model_name": "HBoxModel",
          "state": {
            "_view_name": "HBoxView",
            "_dom_classes": [],
            "_model_name": "HBoxModel",
            "_view_module": "@jupyter-widgets/controls",
            "_model_module_version": "1.5.0",
            "_view_count": null,
            "_view_module_version": "1.5.0",
            "box_style": "",
            "layout": "IPY_MODEL_7b14ce6f677143fd920b06d0803f5888",
            "_model_module": "@jupyter-widgets/controls",
            "children": [
              "IPY_MODEL_b206b843a3b0435792609dae595d1824",
              "IPY_MODEL_7427d2861c2340319a9a3c34fa171419",
              "IPY_MODEL_a77f4cab914c4f8fb60abd824eb7955f"
            ]
          }
        },
        "7b14ce6f677143fd920b06d0803f5888": {
          "model_module": "@jupyter-widgets/base",
          "model_name": "LayoutModel",
          "state": {
            "_view_name": "LayoutView",
            "grid_template_rows": null,
            "right": null,
            "justify_content": null,
            "_view_module": "@jupyter-widgets/base",
            "overflow": null,
            "_model_module_version": "1.2.0",
            "_view_count": null,
            "flex_flow": null,
            "width": null,
            "min_width": null,
            "border": null,
            "align_items": null,
            "bottom": null,
            "_model_module": "@jupyter-widgets/base",
            "top": null,
            "grid_column": null,
            "overflow_y": null,
            "overflow_x": null,
            "grid_auto_flow": null,
            "grid_area": null,
            "grid_template_columns": null,
            "flex": null,
            "_model_name": "LayoutModel",
            "justify_items": null,
            "grid_row": null,
            "max_height": null,
            "align_content": null,
            "visibility": null,
            "align_self": null,
            "height": null,
            "min_height": null,
            "padding": null,
            "grid_auto_rows": null,
            "grid_gap": null,
            "max_width": null,
            "order": null,
            "_view_module_version": "1.2.0",
            "grid_template_areas": null,
            "object_position": null,
            "object_fit": null,
            "grid_auto_columns": null,
            "margin": null,
            "display": null,
            "left": null
          }
        },
        "b206b843a3b0435792609dae595d1824": {
          "model_module": "@jupyter-widgets/controls",
          "model_name": "IntSliderModel",
          "state": {
            "_view_name": "IntSliderView",
            "style": "IPY_MODEL_08375dc383084a288a0f230eedfa033d",
            "_dom_classes": [],
            "description": "",
            "step": 1,
            "_model_name": "IntSliderModel",
            "orientation": "horizontal",
            "max": 100,
            "_view_module": "@jupyter-widgets/controls",
            "_model_module_version": "1.5.0",
            "value": 56,
            "_view_count": null,
            "disabled": false,
            "_view_module_version": "1.5.0",
            "min": 0,
            "continuous_update": true,
            "readout_format": "d",
            "description_tooltip": null,
            "readout": true,
            "_model_module": "@jupyter-widgets/controls",
            "layout": "IPY_MODEL_95cf4536319943429b42e128c24310bf"
          }
        },
        "7427d2861c2340319a9a3c34fa171419": {
          "model_module": "@jupyter-widgets/controls",
          "model_name": "IntSliderModel",
          "state": {
            "_view_name": "IntSliderView",
            "style": "IPY_MODEL_dd60d36ab4b94c18affac4e7c70f7701",
            "_dom_classes": [],
            "description": "",
            "step": 1,
            "_model_name": "IntSliderModel",
            "orientation": "horizontal",
            "max": 100,
            "_view_module": "@jupyter-widgets/controls",
            "_model_module_version": "1.5.0",
            "value": 0,
            "_view_count": null,
            "disabled": false,
            "_view_module_version": "1.5.0",
            "min": 0,
            "continuous_update": true,
            "readout_format": "d",
            "description_tooltip": null,
            "readout": true,
            "_model_module": "@jupyter-widgets/controls",
            "layout": "IPY_MODEL_32ea29aeb83a49dfa1a1547791af8fae"
          }
        },
        "a77f4cab914c4f8fb60abd824eb7955f": {
          "model_module": "@jupyter-widgets/controls",
          "model_name": "IntSliderModel",
          "state": {
            "_view_name": "IntSliderView",
            "style": "IPY_MODEL_6d9a5cd2354e4a3dac91d7dcf23e5140",
            "_dom_classes": [],
            "description": "",
            "step": 1,
            "_model_name": "IntSliderModel",
            "orientation": "horizontal",
            "max": 100,
            "_view_module": "@jupyter-widgets/controls",
            "_model_module_version": "1.5.0",
            "value": 0,
            "_view_count": null,
            "disabled": false,
            "_view_module_version": "1.5.0",
            "min": 0,
            "continuous_update": true,
            "readout_format": "d",
            "description_tooltip": null,
            "readout": true,
            "_model_module": "@jupyter-widgets/controls",
            "layout": "IPY_MODEL_c088f5750253496daf85cc7c21766b8b"
          }
        },
        "08375dc383084a288a0f230eedfa033d": {
          "model_module": "@jupyter-widgets/controls",
          "model_name": "SliderStyleModel",
          "state": {
            "_view_name": "StyleView",
            "handle_color": null,
            "_model_name": "SliderStyleModel",
            "description_width": "",
            "_view_module": "@jupyter-widgets/base",
            "_model_module_version": "1.5.0",
            "_view_count": null,
            "_view_module_version": "1.2.0",
            "_model_module": "@jupyter-widgets/controls"
          }
        },
        "95cf4536319943429b42e128c24310bf": {
          "model_module": "@jupyter-widgets/base",
          "model_name": "LayoutModel",
          "state": {
            "_view_name": "LayoutView",
            "grid_template_rows": null,
            "right": null,
            "justify_content": null,
            "_view_module": "@jupyter-widgets/base",
            "overflow": null,
            "_model_module_version": "1.2.0",
            "_view_count": null,
            "flex_flow": null,
            "width": null,
            "min_width": null,
            "border": null,
            "align_items": null,
            "bottom": null,
            "_model_module": "@jupyter-widgets/base",
            "top": null,
            "grid_column": null,
            "overflow_y": null,
            "overflow_x": null,
            "grid_auto_flow": null,
            "grid_area": null,
            "grid_template_columns": null,
            "flex": null,
            "_model_name": "LayoutModel",
            "justify_items": null,
            "grid_row": null,
            "max_height": null,
            "align_content": null,
            "visibility": null,
            "align_self": null,
            "height": null,
            "min_height": null,
            "padding": null,
            "grid_auto_rows": null,
            "grid_gap": null,
            "max_width": null,
            "order": null,
            "_view_module_version": "1.2.0",
            "grid_template_areas": null,
            "object_position": null,
            "object_fit": null,
            "grid_auto_columns": null,
            "margin": null,
            "display": null,
            "left": null
          }
        },
        "dd60d36ab4b94c18affac4e7c70f7701": {
          "model_module": "@jupyter-widgets/controls",
          "model_name": "SliderStyleModel",
          "state": {
            "_view_name": "StyleView",
            "handle_color": null,
            "_model_name": "SliderStyleModel",
            "description_width": "",
            "_view_module": "@jupyter-widgets/base",
            "_model_module_version": "1.5.0",
            "_view_count": null,
            "_view_module_version": "1.2.0",
            "_model_module": "@jupyter-widgets/controls"
          }
        },
        "32ea29aeb83a49dfa1a1547791af8fae": {
          "model_module": "@jupyter-widgets/base",
          "model_name": "LayoutModel",
          "state": {
            "_view_name": "LayoutView",
            "grid_template_rows": null,
            "right": null,
            "justify_content": null,
            "_view_module": "@jupyter-widgets/base",
            "overflow": null,
            "_model_module_version": "1.2.0",
            "_view_count": null,
            "flex_flow": null,
            "width": null,
            "min_width": null,
            "border": null,
            "align_items": null,
            "bottom": null,
            "_model_module": "@jupyter-widgets/base",
            "top": null,
            "grid_column": null,
            "overflow_y": null,
            "overflow_x": null,
            "grid_auto_flow": null,
            "grid_area": null,
            "grid_template_columns": null,
            "flex": null,
            "_model_name": "LayoutModel",
            "justify_items": null,
            "grid_row": null,
            "max_height": null,
            "align_content": null,
            "visibility": null,
            "align_self": null,
            "height": null,
            "min_height": null,
            "padding": null,
            "grid_auto_rows": null,
            "grid_gap": null,
            "max_width": null,
            "order": null,
            "_view_module_version": "1.2.0",
            "grid_template_areas": null,
            "object_position": null,
            "object_fit": null,
            "grid_auto_columns": null,
            "margin": null,
            "display": null,
            "left": null
          }
        },
        "6d9a5cd2354e4a3dac91d7dcf23e5140": {
          "model_module": "@jupyter-widgets/controls",
          "model_name": "SliderStyleModel",
          "state": {
            "_view_name": "StyleView",
            "handle_color": null,
            "_model_name": "SliderStyleModel",
            "description_width": "",
            "_view_module": "@jupyter-widgets/base",
            "_model_module_version": "1.5.0",
            "_view_count": null,
            "_view_module_version": "1.2.0",
            "_model_module": "@jupyter-widgets/controls"
          }
        },
        "c088f5750253496daf85cc7c21766b8b": {
          "model_module": "@jupyter-widgets/base",
          "model_name": "LayoutModel",
          "state": {
            "_view_name": "LayoutView",
            "grid_template_rows": null,
            "right": null,
            "justify_content": null,
            "_view_module": "@jupyter-widgets/base",
            "overflow": null,
            "_model_module_version": "1.2.0",
            "_view_count": null,
            "flex_flow": null,
            "width": null,
            "min_width": null,
            "border": null,
            "align_items": null,
            "bottom": null,
            "_model_module": "@jupyter-widgets/base",
            "top": null,
            "grid_column": null,
            "overflow_y": null,
            "overflow_x": null,
            "grid_auto_flow": null,
            "grid_area": null,
            "grid_template_columns": null,
            "flex": null,
            "_model_name": "LayoutModel",
            "justify_items": null,
            "grid_row": null,
            "max_height": null,
            "align_content": null,
            "visibility": null,
            "align_self": null,
            "height": null,
            "min_height": null,
            "padding": null,
            "grid_auto_rows": null,
            "grid_gap": null,
            "max_width": null,
            "order": null,
            "_view_module_version": "1.2.0",
            "grid_template_areas": null,
            "object_position": null,
            "object_fit": null,
            "grid_auto_columns": null,
            "margin": null,
            "display": null,
            "left": null
          }
        },
        "5ea10b4cca7d4c7196e296e88aa8c565": {
          "model_module": "@jupyter-widgets/output",
          "model_name": "OutputModel",
          "state": {
            "_view_name": "OutputView",
            "msg_id": "",
            "_dom_classes": [],
            "_model_name": "OutputModel",
            "outputs": [
              {
                "output_type": "stream",
                "metadata": {
                  "tags": []
                },
                "text": "(56, 0, 0)\nSUM: 56\n",
                "stream": "stdout"
              }
            ],
            "_view_module": "@jupyter-widgets/output",
            "_model_module_version": "1.0.0",
            "_view_count": null,
            "_view_module_version": "1.0.0",
            "layout": "IPY_MODEL_28365d75554647b28311bdf5e6aecfa4",
            "_model_module": "@jupyter-widgets/output"
          }
        },
        "0f1a5112c4e74711970ef87588261cdb": {
          "model_module": "@jupyter-widgets/controls",
          "model_name": "VBoxModel",
          "state": {
            "_view_name": "VBoxView",
            "_dom_classes": [
              "widget-interact"
            ],
            "_model_name": "VBoxModel",
            "_view_module": "@jupyter-widgets/controls",
            "_model_module_version": "1.5.0",
            "_view_count": null,
            "_view_module_version": "1.5.0",
            "box_style": "",
            "layout": "IPY_MODEL_416ad2f3ea0b43398d9f1dba91f1d844",
            "_model_module": "@jupyter-widgets/controls",
            "children": [
              "IPY_MODEL_5b5e06a41389472497a5b548dde9837d",
              "IPY_MODEL_60e8b56914be4a7282094ced6239f70a"
            ]
          }
        },
        "416ad2f3ea0b43398d9f1dba91f1d844": {
          "model_module": "@jupyter-widgets/base",
          "model_name": "LayoutModel",
          "state": {
            "_view_name": "LayoutView",
            "grid_template_rows": null,
            "right": null,
            "justify_content": null,
            "_view_module": "@jupyter-widgets/base",
            "overflow": null,
            "_model_module_version": "1.2.0",
            "_view_count": null,
            "flex_flow": null,
            "width": null,
            "min_width": null,
            "border": null,
            "align_items": null,
            "bottom": null,
            "_model_module": "@jupyter-widgets/base",
            "top": null,
            "grid_column": null,
            "overflow_y": null,
            "overflow_x": null,
            "grid_auto_flow": null,
            "grid_area": null,
            "grid_template_columns": null,
            "flex": null,
            "_model_name": "LayoutModel",
            "justify_items": null,
            "grid_row": null,
            "max_height": null,
            "align_content": null,
            "visibility": null,
            "align_self": null,
            "height": null,
            "min_height": null,
            "padding": null,
            "grid_auto_rows": null,
            "grid_gap": null,
            "max_width": null,
            "order": null,
            "_view_module_version": "1.2.0",
            "grid_template_areas": null,
            "object_position": null,
            "object_fit": null,
            "grid_auto_columns": null,
            "margin": null,
            "display": null,
            "left": null
          }
        },
        "5b5e06a41389472497a5b548dde9837d": {
          "model_module": "@jupyter-widgets/controls",
          "model_name": "TextModel",
          "state": {
            "_view_name": "TextView",
            "style": "IPY_MODEL_2ebebb008f6e4724be8baa33bcb2cc30",
            "_dom_classes": [],
            "description": "x",
            "_model_name": "TextModel",
            "placeholder": "​",
            "_view_module": "@jupyter-widgets/controls",
            "_model_module_version": "1.5.0",
            "value": "Hellowow",
            "_view_count": null,
            "disabled": false,
            "_view_module_version": "1.5.0",
            "continuous_update": true,
            "description_tooltip": null,
            "_model_module": "@jupyter-widgets/controls",
            "layout": "IPY_MODEL_fa0fcb8797d74ed5a34e6b2e2c95b200"
          }
        },
        "60e8b56914be4a7282094ced6239f70a": {
          "model_module": "@jupyter-widgets/output",
          "model_name": "OutputModel",
          "state": {
            "_view_name": "OutputView",
            "msg_id": "",
            "_dom_classes": [],
            "_model_name": "OutputModel",
            "outputs": [
              {
                "output_type": "display_data",
                "metadata": {
                  "tags": []
                },
                "text/plain": "'wowolleH'"
              }
            ],
            "_view_module": "@jupyter-widgets/output",
            "_model_module_version": "1.0.0",
            "_view_count": null,
            "_view_module_version": "1.0.0",
            "layout": "IPY_MODEL_e09cb7b9d6e64a0799a81d9047328646",
            "_model_module": "@jupyter-widgets/output"
          }
        },
        "2ebebb008f6e4724be8baa33bcb2cc30": {
          "model_module": "@jupyter-widgets/controls",
          "model_name": "DescriptionStyleModel",
          "state": {
            "_view_name": "StyleView",
            "_model_name": "DescriptionStyleModel",
            "description_width": "",
            "_view_module": "@jupyter-widgets/base",
            "_model_module_version": "1.5.0",
            "_view_count": null,
            "_view_module_version": "1.2.0",
            "_model_module": "@jupyter-widgets/controls"
          }
        },
        "fa0fcb8797d74ed5a34e6b2e2c95b200": {
          "model_module": "@jupyter-widgets/base",
          "model_name": "LayoutModel",
          "state": {
            "_view_name": "LayoutView",
            "grid_template_rows": null,
            "right": null,
            "justify_content": null,
            "_view_module": "@jupyter-widgets/base",
            "overflow": null,
            "_model_module_version": "1.2.0",
            "_view_count": null,
            "flex_flow": null,
            "width": null,
            "min_width": null,
            "border": null,
            "align_items": null,
            "bottom": null,
            "_model_module": "@jupyter-widgets/base",
            "top": null,
            "grid_column": null,
            "overflow_y": null,
            "overflow_x": null,
            "grid_auto_flow": null,
            "grid_area": null,
            "grid_template_columns": null,
            "flex": null,
            "_model_name": "LayoutModel",
            "justify_items": null,
            "grid_row": null,
            "max_height": null,
            "align_content": null,
            "visibility": null,
            "align_self": null,
            "height": null,
            "min_height": null,
            "padding": null,
            "grid_auto_rows": null,
            "grid_gap": null,
            "max_width": null,
            "order": null,
            "_view_module_version": "1.2.0",
            "grid_template_areas": null,
            "object_position": null,
            "object_fit": null,
            "grid_auto_columns": null,
            "margin": null,
            "display": null,
            "left": null
          }
        },
        "51811ab5e1f947ed833389ae1c813804": {
          "model_module": "@jupyter-widgets/controls",
          "model_name": "VBoxModel",
          "state": {
            "_view_name": "VBoxView",
            "_dom_classes": [
              "widget-interact"
            ],
            "_model_name": "VBoxModel",
            "_view_module": "@jupyter-widgets/controls",
            "_model_module_version": "1.5.0",
            "_view_count": null,
            "_view_module_version": "1.5.0",
            "box_style": "",
            "layout": "IPY_MODEL_3e14d07a87f344f9969f1ccc9572e76a",
            "_model_module": "@jupyter-widgets/controls",
            "children": [
              "IPY_MODEL_45353a9c5608466cb34006f12bc0b115",
              "IPY_MODEL_a189eaf4a2e049ea9bf899d533eb4682",
              "IPY_MODEL_236c33f17c124bd79d9179776435e901"
            ]
          }
        },
        "3e14d07a87f344f9969f1ccc9572e76a": {
          "model_module": "@jupyter-widgets/base",
          "model_name": "LayoutModel",
          "state": {
            "_view_name": "LayoutView",
            "grid_template_rows": null,
            "right": null,
            "justify_content": null,
            "_view_module": "@jupyter-widgets/base",
            "overflow": null,
            "_model_module_version": "1.2.0",
            "_view_count": null,
            "flex_flow": null,
            "width": null,
            "min_width": null,
            "border": null,
            "align_items": null,
            "bottom": null,
            "_model_module": "@jupyter-widgets/base",
            "top": null,
            "grid_column": null,
            "overflow_y": null,
            "overflow_x": null,
            "grid_auto_flow": null,
            "grid_area": null,
            "grid_template_columns": null,
            "flex": null,
            "_model_name": "LayoutModel",
            "justify_items": null,
            "grid_row": null,
            "max_height": null,
            "align_content": null,
            "visibility": null,
            "align_self": null,
            "height": null,
            "min_height": null,
            "padding": null,
            "grid_auto_rows": null,
            "grid_gap": null,
            "max_width": null,
            "order": null,
            "_view_module_version": "1.2.0",
            "grid_template_areas": null,
            "object_position": null,
            "object_fit": null,
            "grid_auto_columns": null,
            "margin": null,
            "display": null,
            "left": null
          }
        },
        "45353a9c5608466cb34006f12bc0b115": {
          "model_module": "@jupyter-widgets/controls",
          "model_name": "FloatSliderModel",
          "state": {
            "_view_name": "FloatSliderView",
            "style": "IPY_MODEL_4e104b257dd14e3c9aadf87e66df1fd5",
            "_dom_classes": [],
            "description": "k",
            "step": 0.1,
            "_model_name": "FloatSliderModel",
            "orientation": "horizontal",
            "max": 2,
            "_view_module": "@jupyter-widgets/controls",
            "_model_module_version": "1.5.0",
            "value": 1.5,
            "_view_count": null,
            "disabled": false,
            "_view_module_version": "1.5.0",
            "min": 0.5,
            "continuous_update": true,
            "readout_format": ".2f",
            "description_tooltip": null,
            "readout": true,
            "_model_module": "@jupyter-widgets/controls",
            "layout": "IPY_MODEL_bc46bd5804e14189842ad0cb1061848a"
          }
        },
        "a189eaf4a2e049ea9bf899d533eb4682": {
          "model_module": "@jupyter-widgets/controls",
          "model_name": "FloatSliderModel",
          "state": {
            "_view_name": "FloatSliderView",
            "style": "IPY_MODEL_50277e99a9234ec39dab8865e37dc517",
            "_dom_classes": [],
            "description": "p",
            "step": 0.1,
            "_model_name": "FloatSliderModel",
            "orientation": "horizontal",
            "max": 6.283185307179586,
            "_view_module": "@jupyter-widgets/controls",
            "_model_module_version": "1.5.0",
            "value": 1.9,
            "_view_count": null,
            "disabled": false,
            "_view_module_version": "1.5.0",
            "min": 0,
            "continuous_update": true,
            "readout_format": ".2f",
            "description_tooltip": null,
            "readout": true,
            "_model_module": "@jupyter-widgets/controls",
            "layout": "IPY_MODEL_dd3a122ddf68419f9100f1ac3c344b19"
          }
        },
        "236c33f17c124bd79d9179776435e901": {
          "model_module": "@jupyter-widgets/output",
          "model_name": "OutputModel",
          "state": {
            "_view_name": "OutputView",
            "msg_id": "",
            "_dom_classes": [],
            "_model_name": "OutputModel",
            "outputs": [
              {
                "output_type": "display_data",
                "metadata": {
                  "tags": []
                },
                "image/png": "iVBORw0KGgoAAAANSUhEUgAAAYIAAAD4CAYAAADhNOGaAAAABHNCSVQICAgIfAhkiAAAAAlwSFlz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\n",
                "text/plain": "<Figure size 432x288 with 1 Axes>"
              }
            ],
            "_view_module": "@jupyter-widgets/output",
            "_model_module_version": "1.0.0",
            "_view_count": null,
            "_view_module_version": "1.0.0",
            "layout": "IPY_MODEL_895feed0a862429bb23b89ff5ec1949d",
            "_model_module": "@jupyter-widgets/output"
          }
        },
        "4e104b257dd14e3c9aadf87e66df1fd5": {
          "model_module": "@jupyter-widgets/controls",
          "model_name": "SliderStyleModel",
          "state": {
            "_view_name": "StyleView",
            "handle_color": null,
            "_model_name": "SliderStyleModel",
            "description_width": "",
            "_view_module": "@jupyter-widgets/base",
            "_model_module_version": "1.5.0",
            "_view_count": null,
            "_view_module_version": "1.2.0",
            "_model_module": "@jupyter-widgets/controls"
          }
        },
        "bc46bd5804e14189842ad0cb1061848a": {
          "model_module": "@jupyter-widgets/base",
          "model_name": "LayoutModel",
          "state": {
            "_view_name": "LayoutView",
            "grid_template_rows": null,
            "right": null,
            "justify_content": null,
            "_view_module": "@jupyter-widgets/base",
            "overflow": null,
            "_model_module_version": "1.2.0",
            "_view_count": null,
            "flex_flow": null,
            "width": null,
            "min_width": null,
            "border": null,
            "align_items": null,
            "bottom": null,
            "_model_module": "@jupyter-widgets/base",
            "top": null,
            "grid_column": null,
            "overflow_y": null,
            "overflow_x": null,
            "grid_auto_flow": null,
            "grid_area": null,
            "grid_template_columns": null,
            "flex": null,
            "_model_name": "LayoutModel",
            "justify_items": null,
            "grid_row": null,
            "max_height": null,
            "align_content": null,
            "visibility": null,
            "align_self": null,
            "height": null,
            "min_height": null,
            "padding": null,
            "grid_auto_rows": null,
            "grid_gap": null,
            "max_width": null,
            "order": null,
            "_view_module_version": "1.2.0",
            "grid_template_areas": null,
            "object_position": null,
            "object_fit": null,
            "grid_auto_columns": null,
            "margin": null,
            "display": null,
            "left": null
          }
        },
        "50277e99a9234ec39dab8865e37dc517": {
          "model_module": "@jupyter-widgets/controls",
          "model_name": "SliderStyleModel",
          "state": {
            "_view_name": "StyleView",
            "handle_color": null,
            "_model_name": "SliderStyleModel",
            "description_width": "",
            "_view_module": "@jupyter-widgets/base",
            "_model_module_version": "1.5.0",
            "_view_count": null,
            "_view_module_version": "1.2.0",
            "_model_module": "@jupyter-widgets/controls"
          }
        },
        "dd3a122ddf68419f9100f1ac3c344b19": {
          "model_module": "@jupyter-widgets/base",
          "model_name": "LayoutModel",
          "state": {
            "_view_name": "LayoutView",
            "grid_template_rows": null,
            "right": null,
            "justify_content": null,
            "_view_module": "@jupyter-widgets/base",
            "overflow": null,
            "_model_module_version": "1.2.0",
            "_view_count": null,
            "flex_flow": null,
            "width": null,
            "min_width": null,
            "border": null,
            "align_items": null,
            "bottom": null,
            "_model_module": "@jupyter-widgets/base",
            "top": null,
            "grid_column": null,
            "overflow_y": null,
            "overflow_x": null,
            "grid_auto_flow": null,
            "grid_area": null,
            "grid_template_columns": null,
            "flex": null,
            "_model_name": "LayoutModel",
            "justify_items": null,
            "grid_row": null,
            "max_height": null,
            "align_content": null,
            "visibility": null,
            "align_self": null,
            "height": null,
            "min_height": null,
            "padding": null,
            "grid_auto_rows": null,
            "grid_gap": null,
            "max_width": null,
            "order": null,
            "_view_module_version": "1.2.0",
            "grid_template_areas": null,
            "object_position": null,
            "object_fit": null,
            "grid_auto_columns": null,
            "margin": null,
            "display": null,
            "left": null
          }
        },
        "83646120c1d3473e9935f893ce2a5cbf": {
          "model_module": "@jupyter-widgets/controls",
          "model_name": "FloatTextModel",
          "state": {
            "_view_name": "FloatTextView",
            "style": "IPY_MODEL_890c427ad995492db8fea0e70921433c",
            "_dom_classes": [],
            "description": "",
            "_model_name": "FloatTextModel",
            "_view_module": "@jupyter-widgets/controls",
            "_model_module_version": "1.5.0",
            "value": 0,
            "_view_count": null,
            "disabled": false,
            "_view_module_version": "1.5.0",
            "continuous_update": false,
            "step": null,
            "description_tooltip": null,
            "_model_module": "@jupyter-widgets/controls",
            "layout": "IPY_MODEL_ecc1533bc3834820b79dd63ede6a45a4"
          }
        },
        "890c427ad995492db8fea0e70921433c": {
          "model_module": "@jupyter-widgets/controls",
          "model_name": "DescriptionStyleModel",
          "state": {
            "_view_name": "StyleView",
            "_model_name": "DescriptionStyleModel",
            "description_width": "",
            "_view_module": "@jupyter-widgets/base",
            "_model_module_version": "1.5.0",
            "_view_count": null,
            "_view_module_version": "1.2.0",
            "_model_module": "@jupyter-widgets/controls"
          }
        },
        "ecc1533bc3834820b79dd63ede6a45a4": {
          "model_module": "@jupyter-widgets/base",
          "model_name": "LayoutModel",
          "state": {
            "_view_name": "LayoutView",
            "grid_template_rows": null,
            "right": null,
            "justify_content": null,
            "_view_module": "@jupyter-widgets/base",
            "overflow": null,
            "_model_module_version": "1.2.0",
            "_view_count": null,
            "flex_flow": null,
            "width": null,
            "min_width": null,
            "border": null,
            "align_items": null,
            "bottom": null,
            "_model_module": "@jupyter-widgets/base",
            "top": null,
            "grid_column": null,
            "overflow_y": null,
            "overflow_x": null,
            "grid_auto_flow": null,
            "grid_area": null,
            "grid_template_columns": null,
            "flex": null,
            "_model_name": "LayoutModel",
            "justify_items": null,
            "grid_row": null,
            "max_height": null,
            "align_content": null,
            "visibility": null,
            "align_self": null,
            "height": null,
            "min_height": null,
            "padding": null,
            "grid_auto_rows": null,
            "grid_gap": null,
            "max_width": null,
            "order": null,
            "_view_module_version": "1.2.0",
            "grid_template_areas": null,
            "object_position": null,
            "object_fit": null,
            "grid_auto_columns": null,
            "margin": null,
            "display": null,
            "left": null
          }
        },
        "9e3c6e9cb2b84f71ac74ea29d46c41ad": {
          "model_module": "@jupyter-widgets/controls",
          "model_name": "FloatSliderModel",
          "state": {
            "_view_name": "FloatSliderView",
            "style": "IPY_MODEL_83b0fe3cf0214256889834a81b0c53b8",
            "_dom_classes": [],
            "description": "",
            "step": 0.1,
            "_model_name": "FloatSliderModel",
            "orientation": "horizontal",
            "max": 100,
            "_view_module": "@jupyter-widgets/controls",
            "_model_module_version": "1.5.0",
            "value": 0,
            "_view_count": null,
            "disabled": false,
            "_view_module_version": "1.5.0",
            "min": 0,
            "continuous_update": true,
            "readout_format": ".2f",
            "description_tooltip": null,
            "readout": true,
            "_model_module": "@jupyter-widgets/controls",
            "layout": "IPY_MODEL_a6e7ada81a654d71a42698d74faa5ea1"
          }
        },
        "83b0fe3cf0214256889834a81b0c53b8": {
          "model_module": "@jupyter-widgets/controls",
          "model_name": "SliderStyleModel",
          "state": {
            "_view_name": "StyleView",
            "handle_color": null,
            "_model_name": "SliderStyleModel",
            "description_width": "",
            "_view_module": "@jupyter-widgets/base",
            "_model_module_version": "1.5.0",
            "_view_count": null,
            "_view_module_version": "1.2.0",
            "_model_module": "@jupyter-widgets/controls"
          }
        },
        "a6e7ada81a654d71a42698d74faa5ea1": {
          "model_module": "@jupyter-widgets/base",
          "model_name": "LayoutModel",
          "state": {
            "_view_name": "LayoutView",
            "grid_template_rows": null,
            "right": null,
            "justify_content": null,
            "_view_module": "@jupyter-widgets/base",
            "overflow": null,
            "_model_module_version": "1.2.0",
            "_view_count": null,
            "flex_flow": null,
            "width": null,
            "min_width": null,
            "border": null,
            "align_items": null,
            "bottom": null,
            "_model_module": "@jupyter-widgets/base",
            "top": null,
            "grid_column": null,
            "overflow_y": null,
            "overflow_x": null,
            "grid_auto_flow": null,
            "grid_area": null,
            "grid_template_columns": null,
            "flex": null,
            "_model_name": "LayoutModel",
            "justify_items": null,
            "grid_row": null,
            "max_height": null,
            "align_content": null,
            "visibility": null,
            "align_self": null,
            "height": null,
            "min_height": null,
            "padding": null,
            "grid_auto_rows": null,
            "grid_gap": null,
            "max_width": null,
            "order": null,
            "_view_module_version": "1.2.0",
            "grid_template_areas": null,
            "object_position": null,
            "object_fit": null,
            "grid_auto_columns": null,
            "margin": null,
            "display": null,
            "left": null
          }
        },
        "c3c5951375654790a0ab58be5f0e9b09": {
          "model_module": "@jupyter-widgets/output",
          "model_name": "OutputModel",
          "state": {
            "_view_name": "OutputView",
            "msg_id": "",
            "_dom_classes": [],
            "_model_name": "OutputModel",
            "outputs": [
              {
                "output_type": "stream",
                "metadata": {
                  "tags": []
                },
                "text": "0 Hello world!\n1 Hello world!\n2 Hello world!\n3 Hello world!\n4 Hello world!\n",
                "stream": "stdout"
              },
              {
                "output_type": "display_data",
                "metadata": {
                  "tags": []
                },
                "text/html": "\n        <iframe\n            width=\"400\"\n            height=\"300\"\n            src=\"https://www.youtube.com/embed/J_Cy_QjG6NE\"\n            frameborder=\"0\"\n            allowfullscreen\n        ></iframe>\n        ",
                "text/plain": "<IPython.lib.display.YouTubeVideo at 0x7f0979a21e10>",
                "image/jpeg": "/9j/4AAQSkZJRgABAQAAAQABAAD/2wCEABALDA4MChAODQ4SERATGCgaGBYWGDEjJR0oOjM9PDkz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\nAAAAAAAAAAAAAAAAAAAAAP/Z\n"
              },
              {
                "output_type": "display_data",
                "metadata": {
                  "tags": []
                },
                "application/vnd.jupyter.widget-view+json": {
                  "model_id": "ed8b8fb1846545cc8a40413ca6d4141a",
                  "version_minor": 0,
                  "version_major": 2
                },
                "text/plain": "IntSlider(value=0)"
              }
            ],
            "_view_module": "@jupyter-widgets/output",
            "_model_module_version": "1.0.0",
            "_view_count": null,
            "_view_module_version": "1.0.0",
            "layout": "IPY_MODEL_f788238df35847aabbe7f2bd8f092b42",
            "_model_module": "@jupyter-widgets/output"
          }
        },
        "ed8b8fb1846545cc8a40413ca6d4141a": {
          "model_module": "@jupyter-widgets/controls",
          "model_name": "IntSliderModel",
          "state": {
            "_view_name": "IntSliderView",
            "style": "IPY_MODEL_51d89e0f80c24468b4e4102cf7113d9a",
            "_dom_classes": [],
            "description": "",
            "step": 1,
            "_model_name": "IntSliderModel",
            "orientation": "horizontal",
            "max": 100,
            "_view_module": "@jupyter-widgets/controls",
            "_model_module_version": "1.5.0",
            "value": 38,
            "_view_count": null,
            "disabled": false,
            "_view_module_version": "1.5.0",
            "min": 0,
            "continuous_update": true,
            "readout_format": "d",
            "description_tooltip": null,
            "readout": true,
            "_model_module": "@jupyter-widgets/controls",
            "layout": "IPY_MODEL_2393d051b1f0474194dac474e0ec0c05"
          }
        },
        "51d89e0f80c24468b4e4102cf7113d9a": {
          "model_module": "@jupyter-widgets/controls",
          "model_name": "SliderStyleModel",
          "state": {
            "_view_name": "StyleView",
            "handle_color": null,
            "_model_name": "SliderStyleModel",
            "description_width": "",
            "_view_module": "@jupyter-widgets/base",
            "_model_module_version": "1.5.0",
            "_view_count": null,
            "_view_module_version": "1.2.0",
            "_model_module": "@jupyter-widgets/controls"
          }
        },
        "2393d051b1f0474194dac474e0ec0c05": {
          "model_module": "@jupyter-widgets/base",
          "model_name": "LayoutModel",
          "state": {
            "_view_name": "LayoutView",
            "grid_template_rows": null,
            "right": null,
            "justify_content": null,
            "_view_module": "@jupyter-widgets/base",
            "overflow": null,
            "_model_module_version": "1.2.0",
            "_view_count": null,
            "flex_flow": null,
            "width": null,
            "min_width": null,
            "border": null,
            "align_items": null,
            "bottom": null,
            "_model_module": "@jupyter-widgets/base",
            "top": null,
            "grid_column": null,
            "overflow_y": null,
            "overflow_x": null,
            "grid_auto_flow": null,
            "grid_area": null,
            "grid_template_columns": null,
            "flex": null,
            "_model_name": "LayoutModel",
            "justify_items": null,
            "grid_row": null,
            "max_height": null,
            "align_content": null,
            "visibility": null,
            "align_self": null,
            "height": null,
            "min_height": null,
            "padding": null,
            "grid_auto_rows": null,
            "grid_gap": null,
            "max_width": null,
            "order": null,
            "_view_module_version": "1.2.0",
            "grid_template_areas": null,
            "object_position": null,
            "object_fit": null,
            "grid_auto_columns": null,
            "margin": null,
            "display": null,
            "left": null
          }
        },
        "8bb9216024f44f288a68f9869d66ef46": {
          "model_module": "@jupyter-widgets/controls",
          "model_name": "VBoxModel",
          "state": {
            "_view_name": "VBoxView",
            "_dom_classes": [],
            "_model_name": "VBoxModel",
            "_view_module": "@jupyter-widgets/controls",
            "_model_module_version": "1.5.0",
            "_view_count": null,
            "_view_module_version": "1.5.0",
            "box_style": "",
            "layout": "IPY_MODEL_faba4c045a044e548ccb3e40532921bd",
            "_model_module": "@jupyter-widgets/controls",
            "children": [
              "IPY_MODEL_8d01e889c7c845329acf1ac5965454e4",
              "IPY_MODEL_b730f87576a94bc88e7e0f732b29396b",
              "IPY_MODEL_a5bbe88f13cf430bb24990a2450768f0"
            ]
          }
        },
        "faba4c045a044e548ccb3e40532921bd": {
          "model_module": "@jupyter-widgets/base",
          "model_name": "LayoutModel",
          "state": {
            "_view_name": "LayoutView",
            "grid_template_rows": null,
            "right": null,
            "justify_content": null,
            "_view_module": "@jupyter-widgets/base",
            "overflow": null,
            "_model_module_version": "1.2.0",
            "_view_count": null,
            "flex_flow": null,
            "width": null,
            "min_width": null,
            "border": null,
            "align_items": null,
            "bottom": null,
            "_model_module": "@jupyter-widgets/base",
            "top": null,
            "grid_column": null,
            "overflow_y": null,
            "overflow_x": null,
            "grid_auto_flow": null,
            "grid_area": null,
            "grid_template_columns": null,
            "flex": null,
            "_model_name": "LayoutModel",
            "justify_items": null,
            "grid_row": null,
            "max_height": null,
            "align_content": null,
            "visibility": null,
            "align_self": null,
            "height": null,
            "min_height": null,
            "padding": null,
            "grid_auto_rows": null,
            "grid_gap": null,
            "max_width": null,
            "order": null,
            "_view_module_version": "1.2.0",
            "grid_template_areas": null,
            "object_position": null,
            "object_fit": null,
            "grid_auto_columns": null,
            "margin": null,
            "display": null,
            "left": null
          }
        },
        "8d01e889c7c845329acf1ac5965454e4": {
          "model_module": "@jupyter-widgets/controls",
          "model_name": "IntSliderModel",
          "state": {
            "_view_name": "IntSliderView",
            "style": "IPY_MODEL_6fe87bb942074a4a837024b4f99b8944",
            "_dom_classes": [],
            "description": "",
            "step": 1,
            "_model_name": "IntSliderModel",
            "orientation": "horizontal",
            "max": 100,
            "_view_module": "@jupyter-widgets/controls",
            "_model_module_version": "1.5.0",
            "value": 0,
            "_view_count": null,
            "disabled": false,
            "_view_module_version": "1.5.0",
            "min": 0,
            "continuous_update": true,
            "readout_format": "d",
            "description_tooltip": null,
            "readout": true,
            "_model_module": "@jupyter-widgets/controls",
            "layout": "IPY_MODEL_03b222e038b843bb8fdd07413bf3ed14"
          }
        },
        "b730f87576a94bc88e7e0f732b29396b": {
          "model_module": "@jupyter-widgets/controls",
          "model_name": "IntSliderModel",
          "state": {
            "_view_name": "IntSliderView",
            "style": "IPY_MODEL_191457643d924b8db55292b4ee471626",
            "_dom_classes": [],
            "description": "",
            "step": 1,
            "_model_name": "IntSliderModel",
            "orientation": "horizontal",
            "max": 100,
            "_view_module": "@jupyter-widgets/controls",
            "_model_module_version": "1.5.0",
            "value": 12,
            "_view_count": null,
            "disabled": false,
            "_view_module_version": "1.5.0",
            "min": 0,
            "continuous_update": true,
            "readout_format": "d",
            "description_tooltip": null,
            "readout": true,
            "_model_module": "@jupyter-widgets/controls",
            "layout": "IPY_MODEL_fefc286e1e594283ac65e843b9d4049b"
          }
        },
        "a5bbe88f13cf430bb24990a2450768f0": {
          "model_module": "@jupyter-widgets/controls",
          "model_name": "IntSliderModel",
          "state": {
            "_view_name": "IntSliderView",
            "style": "IPY_MODEL_a7526877c1af4abab2b35b642b306a9d",
            "_dom_classes": [],
            "description": "",
            "step": 1,
            "_model_name": "IntSliderModel",
            "orientation": "horizontal",
            "max": 100,
            "_view_module": "@jupyter-widgets/controls",
            "_model_module_version": "1.5.0",
            "value": 62,
            "_view_count": null,
            "disabled": false,
            "_view_module_version": "1.5.0",
            "min": 0,
            "continuous_update": true,
            "readout_format": "d",
            "description_tooltip": null,
            "readout": true,
            "_model_module": "@jupyter-widgets/controls",
            "layout": "IPY_MODEL_a6bf57659e884fa08cb9fbb4135c6e21"
          }
        },
        "6fe87bb942074a4a837024b4f99b8944": {
          "model_module": "@jupyter-widgets/controls",
          "model_name": "SliderStyleModel",
          "state": {
            "_view_name": "StyleView",
            "handle_color": null,
            "_model_name": "SliderStyleModel",
            "description_width": "",
            "_view_module": "@jupyter-widgets/base",
            "_model_module_version": "1.5.0",
            "_view_count": null,
            "_view_module_version": "1.2.0",
            "_model_module": "@jupyter-widgets/controls"
          }
        },
        "03b222e038b843bb8fdd07413bf3ed14": {
          "model_module": "@jupyter-widgets/base",
          "model_name": "LayoutModel",
          "state": {
            "_view_name": "LayoutView",
            "grid_template_rows": null,
            "right": null,
            "justify_content": null,
            "_view_module": "@jupyter-widgets/base",
            "overflow": null,
            "_model_module_version": "1.2.0",
            "_view_count": null,
            "flex_flow": null,
            "width": null,
            "min_width": null,
            "border": null,
            "align_items": null,
            "bottom": null,
            "_model_module": "@jupyter-widgets/base",
            "top": null,
            "grid_column": null,
            "overflow_y": null,
            "overflow_x": null,
            "grid_auto_flow": null,
            "grid_area": null,
            "grid_template_columns": null,
            "flex": null,
            "_model_name": "LayoutModel",
            "justify_items": null,
            "grid_row": null,
            "max_height": null,
            "align_content": null,
            "visibility": null,
            "align_self": null,
            "height": null,
            "min_height": null,
            "padding": null,
            "grid_auto_rows": null,
            "grid_gap": null,
            "max_width": null,
            "order": null,
            "_view_module_version": "1.2.0",
            "grid_template_areas": null,
            "object_position": null,
            "object_fit": null,
            "grid_auto_columns": null,
            "margin": null,
            "display": null,
            "left": null
          }
        },
        "191457643d924b8db55292b4ee471626": {
          "model_module": "@jupyter-widgets/controls",
          "model_name": "SliderStyleModel",
          "state": {
            "_view_name": "StyleView",
            "handle_color": null,
            "_model_name": "SliderStyleModel",
            "description_width": "",
            "_view_module": "@jupyter-widgets/base",
            "_model_module_version": "1.5.0",
            "_view_count": null,
            "_view_module_version": "1.2.0",
            "_model_module": "@jupyter-widgets/controls"
          }
        },
        "fefc286e1e594283ac65e843b9d4049b": {
          "model_module": "@jupyter-widgets/base",
          "model_name": "LayoutModel",
          "state": {
            "_view_name": "LayoutView",
            "grid_template_rows": null,
            "right": null,
            "justify_content": null,
            "_view_module": "@jupyter-widgets/base",
            "overflow": null,
            "_model_module_version": "1.2.0",
            "_view_count": null,
            "flex_flow": null,
            "width": null,
            "min_width": null,
            "border": null,
            "align_items": null,
            "bottom": null,
            "_model_module": "@jupyter-widgets/base",
            "top": null,
            "grid_column": null,
            "overflow_y": null,
            "overflow_x": null,
            "grid_auto_flow": null,
            "grid_area": null,
            "grid_template_columns": null,
            "flex": null,
            "_model_name": "LayoutModel",
            "justify_items": null,
            "grid_row": null,
            "max_height": null,
            "align_content": null,
            "visibility": null,
            "align_self": null,
            "height": null,
            "min_height": null,
            "padding": null,
            "grid_auto_rows": null,
            "grid_gap": null,
            "max_width": null,
            "order": null,
            "_view_module_version": "1.2.0",
            "grid_template_areas": null,
            "object_position": null,
            "object_fit": null,
            "grid_auto_columns": null,
            "margin": null,
            "display": null,
            "left": null
          }
        },
        "a7526877c1af4abab2b35b642b306a9d": {
          "model_module": "@jupyter-widgets/controls",
          "model_name": "SliderStyleModel",
          "state": {
            "_view_name": "StyleView",
            "handle_color": null,
            "_model_name": "SliderStyleModel",
            "description_width": "",
            "_view_module": "@jupyter-widgets/base",
            "_model_module_version": "1.5.0",
            "_view_count": null,
            "_view_module_version": "1.2.0",
            "_model_module": "@jupyter-widgets/controls"
          }
        },
        "a6bf57659e884fa08cb9fbb4135c6e21": {
          "model_module": "@jupyter-widgets/base",
          "model_name": "LayoutModel",
          "state": {
            "_view_name": "LayoutView",
            "grid_template_rows": null,
            "right": null,
            "justify_content": null,
            "_view_module": "@jupyter-widgets/base",
            "overflow": null,
            "_model_module_version": "1.2.0",
            "_view_count": null,
            "flex_flow": null,
            "width": null,
            "min_width": null,
            "border": null,
            "align_items": null,
            "bottom": null,
            "_model_module": "@jupyter-widgets/base",
            "top": null,
            "grid_column": null,
            "overflow_y": null,
            "overflow_x": null,
            "grid_auto_flow": null,
            "grid_area": null,
            "grid_template_columns": null,
            "flex": null,
            "_model_name": "LayoutModel",
            "justify_items": null,
            "grid_row": null,
            "max_height": null,
            "align_content": null,
            "visibility": null,
            "align_self": null,
            "height": null,
            "min_height": null,
            "padding": null,
            "grid_auto_rows": null,
            "grid_gap": null,
            "max_width": null,
            "order": null,
            "_view_module_version": "1.2.0",
            "grid_template_areas": null,
            "object_position": null,
            "object_fit": null,
            "grid_auto_columns": null,
            "margin": null,
            "display": null,
            "left": null
          }
        },
        "145df0a44c19475485d5dfa936a6563a": {
          "model_module": "@jupyter-widgets/output",
          "model_name": "OutputModel",
          "state": {
            "_view_name": "OutputView",
            "msg_id": "",
            "_dom_classes": [],
            "_model_name": "OutputModel",
            "outputs": [
              {
                "output_type": "stream",
                "metadata": {
                  "tags": []
                },
                "text": "0 + 12 + 62 = 74\n74 is not a prime number\n",
                "stream": "stdout"
              }
            ],
            "_view_module": "@jupyter-widgets/output",
            "_model_module_version": "1.0.0",
            "_view_count": null,
            "_view_module_version": "1.0.0",
            "layout": "IPY_MODEL_b729ab4f3b3b49f59be501c93f7ca86f",
            "_model_module": "@jupyter-widgets/output"
          }
        },
        "c0412ff45b954b069fa8b5bd861718a7": {
          "model_module": "@jupyter-widgets/controls",
          "model_name": "VBoxModel",
          "state": {
            "_view_name": "VBoxView",
            "_dom_classes": [
              "widget-interact"
            ],
            "_model_name": "VBoxModel",
            "_view_module": "@jupyter-widgets/controls",
            "_model_module_version": "1.5.0",
            "_view_count": null,
            "_view_module_version": "1.5.0",
            "box_style": "",
            "layout": "IPY_MODEL_7a0737d8c17b478189246732eb4785fc",
            "_model_module": "@jupyter-widgets/controls",
            "children": [
              "IPY_MODEL_eb88d34954344152883dbbc2c743806a",
              "IPY_MODEL_211cc9eb73394253b3b5c7a1b0e06a9e"
            ]
          }
        },
        "7a0737d8c17b478189246732eb4785fc": {
          "model_module": "@jupyter-widgets/base",
          "model_name": "LayoutModel",
          "state": {
            "_view_name": "LayoutView",
            "grid_template_rows": null,
            "right": null,
            "justify_content": null,
            "_view_module": "@jupyter-widgets/base",
            "overflow": null,
            "_model_module_version": "1.2.0",
            "_view_count": null,
            "flex_flow": null,
            "width": null,
            "min_width": null,
            "border": null,
            "align_items": null,
            "bottom": null,
            "_model_module": "@jupyter-widgets/base",
            "top": null,
            "grid_column": null,
            "overflow_y": null,
            "overflow_x": null,
            "grid_auto_flow": null,
            "grid_area": null,
            "grid_template_columns": null,
            "flex": null,
            "_model_name": "LayoutModel",
            "justify_items": null,
            "grid_row": null,
            "max_height": null,
            "align_content": null,
            "visibility": null,
            "align_self": null,
            "height": null,
            "min_height": null,
            "padding": null,
            "grid_auto_rows": null,
            "grid_gap": null,
            "max_width": null,
            "order": null,
            "_view_module_version": "1.2.0",
            "grid_template_areas": null,
            "object_position": null,
            "object_fit": null,
            "grid_auto_columns": null,
            "margin": null,
            "display": null,
            "left": null
          }
        },
        "eb88d34954344152883dbbc2c743806a": {
          "model_module": "@jupyter-widgets/controls",
          "model_name": "IntSliderModel",
          "state": {
            "_view_name": "IntSliderView",
            "style": "IPY_MODEL_d723f7bd2cfb42ddb66782062ec946b5",
            "_dom_classes": [],
            "description": "size",
            "step": 1,
            "_model_name": "IntSliderModel",
            "orientation": "horizontal",
            "max": 12,
            "_view_module": "@jupyter-widgets/controls",
            "_model_module_version": "1.5.0",
            "value": 9,
            "_view_count": null,
            "disabled": false,
            "_view_module_version": "1.5.0",
            "min": 1,
            "continuous_update": true,
            "readout_format": "d",
            "description_tooltip": null,
            "readout": true,
            "_model_module": "@jupyter-widgets/controls",
            "layout": "IPY_MODEL_178f300bee504261ace3e0ac8a5cf4f5"
          }
        },
        "211cc9eb73394253b3b5c7a1b0e06a9e": {
          "model_module": "@jupyter-widgets/output",
          "model_name": "OutputModel",
          "state": {
            "_view_name": "OutputView",
            "msg_id": "",
            "_dom_classes": [],
            "_model_name": "OutputModel",
            "outputs": [
              {
                "output_type": "display_data",
                "metadata": {
                  "tags": []
                },
                "image/png": "iVBORw0KGgoAAAANSUhEUgAAAXQAAAD8CAYAAABn919SAAAABHNCSVQICAgIfAhkiAAAAAlwSFlz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\n/jAVIIoIez8AAAAASUVORK5CYII=\n",
                "text/plain": "<Figure size 432x288 with 1 Axes>"
              }
            ],
            "_view_module": "@jupyter-widgets/output",
            "_model_module_version": "1.0.0",
            "_view_count": null,
            "_view_module_version": "1.0.0",
            "layout": "IPY_MODEL_e992c9fb8fd54bc2a57b04c581d581ed",
            "_model_module": "@jupyter-widgets/output"
          }
        },
        "d723f7bd2cfb42ddb66782062ec946b5": {
          "model_module": "@jupyter-widgets/controls",
          "model_name": "SliderStyleModel",
          "state": {
            "_view_name": "StyleView",
            "handle_color": null,
            "_model_name": "SliderStyleModel",
            "description_width": "",
            "_view_module": "@jupyter-widgets/base",
            "_model_module_version": "1.5.0",
            "_view_count": null,
            "_view_module_version": "1.2.0",
            "_model_module": "@jupyter-widgets/controls"
          }
        },
        "178f300bee504261ace3e0ac8a5cf4f5": {
          "model_module": "@jupyter-widgets/base",
          "model_name": "LayoutModel",
          "state": {
            "_view_name": "LayoutView",
            "grid_template_rows": null,
            "right": null,
            "justify_content": null,
            "_view_module": "@jupyter-widgets/base",
            "overflow": null,
            "_model_module_version": "1.2.0",
            "_view_count": null,
            "flex_flow": null,
            "width": null,
            "min_width": null,
            "border": null,
            "align_items": null,
            "bottom": null,
            "_model_module": "@jupyter-widgets/base",
            "top": null,
            "grid_column": null,
            "overflow_y": null,
            "overflow_x": null,
            "grid_auto_flow": null,
            "grid_area": null,
            "grid_template_columns": null,
            "flex": null,
            "_model_name": "LayoutModel",
            "justify_items": null,
            "grid_row": null,
            "max_height": null,
            "align_content": null,
            "visibility": null,
            "align_self": null,
            "height": null,
            "min_height": null,
            "padding": null,
            "grid_auto_rows": null,
            "grid_gap": null,
            "max_width": null,
            "order": null,
            "_view_module_version": "1.2.0",
            "grid_template_areas": null,
            "object_position": null,
            "object_fit": null,
            "grid_auto_columns": null,
            "margin": null,
            "display": null,
            "left": null
          }
        }
      }
    }
  },
  "cells": [
    {
      "cell_type": "markdown",
      "metadata": {
        "id": "WSoLZOAkVeKo",
        "colab_type": "text"
      },
      "source": [
        "# Week11 \n",
        "## Python Interactive Visualization Tutorial 1\n",
        "\n",
        "Zongcheng Chu 3/25/2020"
      ]
    },
    {
      "cell_type": "markdown",
      "metadata": {
        "id": "zMvhXsIgVeKu",
        "colab_type": "text"
      },
      "source": [
        "## 0. Introduction"
      ]
    },
    {
      "cell_type": "markdown",
      "metadata": {
        "id": "BYUJk45YVeKy",
        "colab_type": "text"
      },
      "source": [
        "ipywidgets are **interactive HTML widgets** for Jupyter notebooks.\n",
        "\n",
        "Notebooks come alive when interactive widgets are used. Users gain control of their data and can visualize changes in the data.\n",
        "\n",
        "Learning becomes an immersive, fun experience. Researchers can easily see how changing inputs to a model impact the results. We hope you will add ipywidgets to your notebooks, and we're here to help you get started."
      ]
    },
    {
      "cell_type": "code",
      "metadata": {
        "id": "mNTIz00-VeK1",
        "colab_type": "code",
        "colab": {}
      },
      "source": [
        "def f(x):\n",
        "    print(x * x)"
      ],
      "execution_count": 0,
      "outputs": []
    },
    {
      "cell_type": "code",
      "metadata": {
        "id": "1NFFTLIeVeK-",
        "colab_type": "code",
        "outputId": "b9edcbb3-4178-4e43-cbbd-eba4fb75bd5f",
        "colab": {
          "base_uri": "https://localhost:8080/",
          "height": 35
        }
      },
      "source": [
        "f(9)"
      ],
      "execution_count": 0,
      "outputs": [
        {
          "output_type": "stream",
          "text": [
            "81\n"
          ],
          "name": "stdout"
        }
      ]
    },
    {
      "cell_type": "code",
      "metadata": {
        "id": "GF-NEbg8VeLI",
        "colab_type": "code",
        "colab": {}
      },
      "source": [
        "# import * means i imported every function/object from the \"ipywidgets\" library\n",
        "from ipywidgets import *"
      ],
      "execution_count": 0,
      "outputs": []
    },
    {
      "cell_type": "code",
      "metadata": {
        "id": "elR1I1zsVeLP",
        "colab_type": "code",
        "outputId": "99a5c0cf-2088-4ee9-9e6b-6835a32eeaef",
        "colab": {
          "base_uri": "https://localhost:8080/",
          "height": 166
        }
      },
      "source": [
        "interact(f, x=(0, 100));"
      ],
      "execution_count": 2,
      "outputs": [
        {
          "output_type": "error",
          "ename": "NameError",
          "evalue": "ignored",
          "traceback": [
            "\u001b[0;31m---------------------------------------------------------------------------\u001b[0m",
            "\u001b[0;31mNameError\u001b[0m                                 Traceback (most recent call last)",
            "\u001b[0;32m<ipython-input-2-5f9391b4ee2e>\u001b[0m in \u001b[0;36m<module>\u001b[0;34m()\u001b[0m\n\u001b[0;32m----> 1\u001b[0;31m \u001b[0minteract\u001b[0m\u001b[0;34m(\u001b[0m\u001b[0mf\u001b[0m\u001b[0;34m,\u001b[0m \u001b[0mx\u001b[0m\u001b[0;34m=\u001b[0m\u001b[0;34m(\u001b[0m\u001b[0;36m0\u001b[0m\u001b[0;34m,\u001b[0m \u001b[0;36m100\u001b[0m\u001b[0;34m)\u001b[0m\u001b[0;34m)\u001b[0m\u001b[0;34m;\u001b[0m\u001b[0;34m\u001b[0m\u001b[0;34m\u001b[0m\u001b[0m\n\u001b[0m",
            "\u001b[0;31mNameError\u001b[0m: name 'f' is not defined"
          ]
        }
      ]
    },
    {
      "cell_type": "markdown",
      "metadata": {
        "id": "qKhubEWGVeLV",
        "colab_type": "text"
      },
      "source": [
        "Interactive Python widgets:<br>\n",
        "    A Python widget is an object that represents a control on the front end, like a slider."
      ]
    },
    {
      "cell_type": "code",
      "metadata": {
        "id": "SpMtr95vVeLY",
        "colab_type": "code",
        "colab": {}
      },
      "source": [
        "slider = FloatSlider(\n",
        "    value=7.5,\n",
        "    min=5.0,\n",
        "    max=10.0,\n",
        "    step=0.1,\n",
        "    description='Value:',\n",
        ")"
      ],
      "execution_count": 0,
      "outputs": []
    },
    {
      "cell_type": "code",
      "metadata": {
        "id": "B8vewvgwVeLd",
        "colab_type": "code",
        "outputId": "ad3e0f28-9e10-4e8e-c7d7-7d907a62d5ed",
        "colab": {
          "base_uri": "https://localhost:8080/",
          "height": 49,
          "referenced_widgets": [
            "e933e2ffa2d34114a8d62f2563c0d418",
            "988e781c427b405590b44332cbd70739",
            "cdc3653d99af4611a9aa2c7b54783e80"
          ]
        }
      },
      "source": [
        "slider"
      ],
      "execution_count": 4,
      "outputs": [
        {
          "output_type": "display_data",
          "data": {
            "application/vnd.jupyter.widget-view+json": {
              "model_id": "e933e2ffa2d34114a8d62f2563c0d418",
              "version_minor": 0,
              "version_major": 2
            },
            "text/plain": [
              "FloatSlider(value=7.5, description='Value:', max=10.0, min=5.0)"
            ]
          },
          "metadata": {
            "tags": []
          }
        }
      ]
    },
    {
      "cell_type": "code",
      "metadata": {
        "id": "mPnZXxW3VeLi",
        "colab_type": "code",
        "outputId": "8b514a61-7c2b-4ea3-ba53-be45f6a31724",
        "colab": {
          "base_uri": "https://localhost:8080/",
          "height": 35
        }
      },
      "source": [
        "slider.value"
      ],
      "execution_count": 0,
      "outputs": [
        {
          "output_type": "execute_result",
          "data": {
            "text/plain": [
              "7.7"
            ]
          },
          "metadata": {
            "tags": []
          },
          "execution_count": 6
        }
      ]
    },
    {
      "cell_type": "markdown",
      "metadata": {
        "id": "aCOosMtfVeLn",
        "colab_type": "text"
      },
      "source": [
        "You can trigger actions in the kernel when a control value changes by \"observing\" the value. Here we set a global variable when the slider value changes."
      ]
    },
    {
      "cell_type": "code",
      "metadata": {
        "id": "MVVrzhnJVeLp",
        "colab_type": "code",
        "colab": {}
      },
      "source": [
        "output = slider.value\n",
        "def handle_change(change):\n",
        "    output = slider.value\n",
        "slider.observe(handle_change, 'value')"
      ],
      "execution_count": 0,
      "outputs": []
    },
    {
      "cell_type": "code",
      "metadata": {
        "id": "V3pw7cb8VeLv",
        "colab_type": "code",
        "outputId": "80e56364-1db6-427e-cb4b-6aa9ce45c2ee",
        "colab": {
          "base_uri": "https://localhost:8080/",
          "height": 35
        }
      },
      "source": [
        "output"
      ],
      "execution_count": 0,
      "outputs": [
        {
          "output_type": "execute_result",
          "data": {
            "text/plain": [
              "9.2"
            ]
          },
          "metadata": {
            "tags": []
          },
          "execution_count": 11
        }
      ]
    },
    {
      "cell_type": "code",
      "metadata": {
        "id": "RZQsMPAaVeLz",
        "colab_type": "code",
        "outputId": "f2574c58-262a-40df-fc26-d3b0b8a2c724",
        "colab": {
          "base_uri": "https://localhost:8080/",
          "height": 81,
          "referenced_widgets": [
            "8ffd4e4669e94d2d8271bd0a469a21c3",
            "a31cac1396f749c68c19bf6b29967a0c",
            "e933e2ffa2d34114a8d62f2563c0d418",
            "b22272d490de4506a994fcbb0787e6e4",
            "988e781c427b405590b44332cbd70739",
            "cdc3653d99af4611a9aa2c7b54783e80",
            "b646ae3ba42f45a4bb83d8d2910baf4f",
            "d52c510f15594db19b657d16cda2bf11"
          ]
        }
      },
      "source": [
        "text = FloatText(description='Value')\n",
        "link((slider, 'value'), (text, 'value'))\n",
        "VBox([slider, text])"
      ],
      "execution_count": 12,
      "outputs": [
        {
          "output_type": "display_data",
          "data": {
            "application/vnd.jupyter.widget-view+json": {
              "model_id": "8ffd4e4669e94d2d8271bd0a469a21c3",
              "version_minor": 0,
              "version_major": 2
            },
            "text/plain": [
              "VBox(children=(FloatSlider(value=9.0, description='Value:', max=10.0, min=5.0), FloatText(value=9.0, descripti…"
            ]
          },
          "metadata": {
            "tags": []
          }
        }
      ]
    },
    {
      "cell_type": "markdown",
      "metadata": {
        "id": "nfPMqmTFVeL5",
        "colab_type": "text"
      },
      "source": [
        "## 1. Using interact\n",
        "The interact function (ipywidgets.interact) automatically creates user interface (UI) controls for exploring code and data interactively."
      ]
    },
    {
      "cell_type": "code",
      "metadata": {
        "id": "TGx78vMDVeL7",
        "colab_type": "code",
        "colab": {}
      },
      "source": [
        "from ipywidgets import interact, interactive, fixed, interact_manual\n",
        "import ipywidgets as widgets"
      ],
      "execution_count": 0,
      "outputs": []
    },
    {
      "cell_type": "code",
      "metadata": {
        "id": "j7-kWlD8VeL_",
        "colab_type": "code",
        "outputId": "a2d9cb57-0c2f-4f26-a02e-9673e8fe2823",
        "colab": {
          "base_uri": "https://localhost:8080/",
          "height": 67,
          "referenced_widgets": [
            "ac210df1d8a647569ee27567a2b55c62",
            "70d62a53c66b4e469102fac7b8ad9fde",
            "be79a9dc47934f9495401a0f6de042f4",
            "9949b464433a4f0a91e723c3506152e6",
            "c6abf8dd033b4a9d9268643228d7cae8",
            "ea870bb51bf44ed4844e34fe112224a8"
          ]
        }
      },
      "source": [
        "def f(x):\n",
        "    return 3 * x\n",
        "\n",
        "#When you pass this function as the first argument to interact along with an integer keyword argument (x=10), \n",
        "# a slider is generated and bound to the function parameter.\n",
        "\n",
        "interact(f, x=10);"
      ],
      "execution_count": 13,
      "outputs": [
        {
          "output_type": "display_data",
          "data": {
            "application/vnd.jupyter.widget-view+json": {
              "model_id": "ac210df1d8a647569ee27567a2b55c62",
              "version_minor": 0,
              "version_major": 2
            },
            "text/plain": [
              "interactive(children=(IntSlider(value=10, description='x', max=30, min=-10), Output()), _dom_classes=('widget-…"
            ]
          },
          "metadata": {
            "tags": []
          }
        }
      ]
    },
    {
      "cell_type": "code",
      "metadata": {
        "id": "wdJ6YZ2jVeMC",
        "colab_type": "code",
        "outputId": "445b1da2-ef0e-4dc2-ff10-303d3ed307dc",
        "colab": {
          "base_uri": "https://localhost:8080/",
          "height": 67,
          "referenced_widgets": [
            "dbd5732346b742158982a25c57e99b3b",
            "520b456dd14f4dd0b175216391b4f5f2",
            "b8f0fe5b85f7490ea58a2041632926f4",
            "353f762c975a4e1a97a04e2111d42dd3",
            "8fde7fdd99984846977684f08c8b1a8f",
            "41ba41bbca0a4047a6f1d705cb33f3cc"
          ]
        }
      },
      "source": [
        "# If you pass True or False, interact will generate a checkbox:\n",
        "\n",
        "interact(f, x=True);"
      ],
      "execution_count": 0,
      "outputs": [
        {
          "output_type": "display_data",
          "data": {
            "application/vnd.jupyter.widget-view+json": {
              "model_id": "dbd5732346b742158982a25c57e99b3b",
              "version_minor": 0,
              "version_major": 2
            },
            "text/plain": [
              "interactive(children=(Checkbox(value=True, description='x'), Output()), _dom_classes=('widget-interact',))"
            ]
          },
          "metadata": {
            "tags": []
          }
        }
      ]
    },
    {
      "cell_type": "code",
      "metadata": {
        "id": "8aGQsWGiVeMI",
        "colab_type": "code",
        "outputId": "705ac40d-b850-4cdd-bc41-2c198b014a1d",
        "colab": {
          "base_uri": "https://localhost:8080/",
          "height": 67,
          "referenced_widgets": [
            "dc8882d51dfe42c4abf2dfb1f2d79039",
            "1918ffc3a6d74e00904319ee073179fb",
            "b70baf31e49c47408fae8244a261c5de",
            "6e2cc0a7811f4772a88bc24ea3cc8e9b",
            "bb61b3e5399b4085b28d039df6b1f661",
            "b3f880b669e8449b919a03ca8557d993"
          ]
        }
      },
      "source": [
        "# If you pass a string, interact will generate a Text field.\n",
        "interact(f, x='3');"
      ],
      "execution_count": 0,
      "outputs": [
        {
          "output_type": "display_data",
          "data": {
            "application/vnd.jupyter.widget-view+json": {
              "model_id": "dc8882d51dfe42c4abf2dfb1f2d79039",
              "version_minor": 0,
              "version_major": 2
            },
            "text/plain": [
              "interactive(children=(Text(value='3', description='x'), Output()), _dom_classes=('widget-interact',))"
            ]
          },
          "metadata": {
            "tags": []
          }
        }
      ]
    },
    {
      "cell_type": "code",
      "metadata": {
        "id": "Vgb6ssryVeMP",
        "colab_type": "code",
        "outputId": "17106661-ff8a-45e3-cba9-6b531daff51a",
        "colab": {
          "base_uri": "https://localhost:8080/",
          "height": 67,
          "referenced_widgets": [
            "f8a8724f416b4b38a00d41ccea75270f",
            "db49197ab92f4c35a41284c2887c5e8c",
            "9c0a2c35872e4f7c8e522bb98007539b",
            "c7026fd8569043d0be523572538eb43b",
            "57cf2367431a49819ca4d6d34c492f93",
            "380ffb55abab4976bd6e4a3d4fe8eb01"
          ]
        }
      },
      "source": [
        "interact(f, x=widgets.IntSlider(min=-10, max=30, step=1, value=10));"
      ],
      "execution_count": 0,
      "outputs": [
        {
          "output_type": "display_data",
          "data": {
            "application/vnd.jupyter.widget-view+json": {
              "model_id": "f8a8724f416b4b38a00d41ccea75270f",
              "version_minor": 0,
              "version_major": 2
            },
            "text/plain": [
              "interactive(children=(IntSlider(value=10, description='x', max=30, min=-10), Output()), _dom_classes=('widget-…"
            ]
          },
          "metadata": {
            "tags": []
          }
        }
      ]
    },
    {
      "cell_type": "markdown",
      "metadata": {
        "id": "DjQfMcCcVeMZ",
        "colab_type": "text"
      },
      "source": [
        "If a 2-tuple of integers is passed (min, max), an integer-valued slider is produced with those minimum and maximum values (inclusively). In this case, the default step size of 1 is used."
      ]
    },
    {
      "cell_type": "code",
      "metadata": {
        "id": "t3TfcrdyVeMb",
        "colab_type": "code",
        "outputId": "3d739afd-4cd7-4a45-b55c-149504b18a26",
        "colab": {
          "base_uri": "https://localhost:8080/",
          "height": 67,
          "referenced_widgets": [
            "544b2f25989d4c0da84df0387c198780",
            "b7465eb79fd24e61a35ae9f8b610e49d",
            "89bc8fd98ec442b8bb0d1a9836065c22",
            "14218b5a9fab47efad395cfca097636b",
            "bddffa61a8f84971bf14bc9a6db35c87",
            "bc841b9e3cf24ae48d38cafe115bb201"
          ]
        }
      },
      "source": [
        "interact(f, x=(0, 4));"
      ],
      "execution_count": 0,
      "outputs": [
        {
          "output_type": "display_data",
          "data": {
            "application/vnd.jupyter.widget-view+json": {
              "model_id": "544b2f25989d4c0da84df0387c198780",
              "version_minor": 0,
              "version_major": 2
            },
            "text/plain": [
              "interactive(children=(IntSlider(value=2, description='x', max=4), Output()), _dom_classes=('widget-interact',)…"
            ]
          },
          "metadata": {
            "tags": []
          }
        }
      ]
    },
    {
      "cell_type": "markdown",
      "metadata": {
        "id": "M7ztMxqeVeMj",
        "colab_type": "text"
      },
      "source": [
        "\n",
        "A FloatSlider is generated if any of the values are floating point. The step size can be changed by passing a third element in the tuple."
      ]
    },
    {
      "cell_type": "code",
      "metadata": {
        "id": "fEDuys44VeMl",
        "colab_type": "code",
        "outputId": "65fa399d-c9c2-4d2d-bb57-13c9a099820a",
        "colab": {
          "base_uri": "https://localhost:8080/",
          "height": 67,
          "referenced_widgets": [
            "2a834f9004c24258a8995d3775ceceb4",
            "102176d0a0c3461999984862d3eb2612",
            "35ec25f094254d86a819edc191dd5465",
            "aed7f14f87154b008cb5791162094d2b",
            "71c80d754a46416787468ce7a94df23c",
            "d37e8529b1054a1a96c17e6b83a7ba75"
          ]
        }
      },
      "source": [
        "interact(f, x=(0, 10, 0.01));"
      ],
      "execution_count": 0,
      "outputs": [
        {
          "output_type": "display_data",
          "data": {
            "application/vnd.jupyter.widget-view+json": {
              "model_id": "2a834f9004c24258a8995d3775ceceb4",
              "version_minor": 0,
              "version_major": 2
            },
            "text/plain": [
              "interactive(children=(FloatSlider(value=5.0, description='x', max=10.0, step=0.01), Output()), _dom_classes=('…"
            ]
          },
          "metadata": {
            "tags": []
          }
        }
      ]
    },
    {
      "cell_type": "markdown",
      "metadata": {
        "id": "YKhXEbfPVeMp",
        "colab_type": "text"
      },
      "source": [
        "Dropdown menus are constructed by passing a list of strings. In this case, the strings are both used as the names in the dropdown menu UI and passed to the underlying Python function."
      ]
    },
    {
      "cell_type": "code",
      "metadata": {
        "id": "j3G6IcmYVeMr",
        "colab_type": "code",
        "outputId": "0bba0d2c-d5c3-41fb-873d-395907af8397",
        "colab": {
          "base_uri": "https://localhost:8080/",
          "height": 67,
          "referenced_widgets": [
            "40161cd01f9f44bb81be3a384ae34705",
            "f1db9f1d2adb4edf90c32c784ea5d73f",
            "f49916adfa8c4c028e97238eee2398a3",
            "53941ce5cdc84107bf33959e8235728a",
            "8d252d38542a492ca2a1c1c55b627cc0",
            "6d2592dc1f1c4aee985bfab7befecc91"
          ]
        }
      },
      "source": [
        "def count_word(x):\n",
        "    return len(x)\n",
        "\n",
        "interact(count_word, x=['apples','oranges']);"
      ],
      "execution_count": 0,
      "outputs": [
        {
          "output_type": "display_data",
          "data": {
            "application/vnd.jupyter.widget-view+json": {
              "model_id": "40161cd01f9f44bb81be3a384ae34705",
              "version_minor": 0,
              "version_major": 2
            },
            "text/plain": [
              "interactive(children=(Dropdown(description='x', options=('apples', 'oranges'), value='apples'), Output()), _do…"
            ]
          },
          "metadata": {
            "tags": []
          }
        }
      ]
    },
    {
      "cell_type": "markdown",
      "metadata": {
        "id": "a3NbGjkNVeMy",
        "colab_type": "text"
      },
      "source": [
        "If you want a dropdown menu that passes non-string values to the Python function, you can pass a list of tuples of the form ('label', value). **The first items** are the names in the dropdown menu UI and **the second items** are values that are the arguments passed to the underlying Python function."
      ]
    },
    {
      "cell_type": "code",
      "metadata": {
        "id": "qkgVRmAeVeMz",
        "colab_type": "code",
        "outputId": "211a3739-c822-41b2-991d-84c35f1d6df0",
        "colab": {
          "base_uri": "https://localhost:8080/",
          "height": 67,
          "referenced_widgets": [
            "ed84dd179ff54e578347690043306930",
            "d57722037edc404cb1122ba6d17c2ead",
            "cf9e06d1ab4f48ee99cce5a43d35b896",
            "351c867bfc5c4d4bb1c21dd4b94d4fdc",
            "c05428eb33874c9f9a59383633a5143c",
            "a80492a7a6294e6e8cc933f04dc4652b"
          ]
        }
      },
      "source": [
        "def f(x):\n",
        "    return x+1\n",
        "\n",
        "interact(f, x=[('one', 10), ('two', 20)]);"
      ],
      "execution_count": 0,
      "outputs": [
        {
          "output_type": "display_data",
          "data": {
            "application/vnd.jupyter.widget-view+json": {
              "model_id": "ed84dd179ff54e578347690043306930",
              "version_minor": 0,
              "version_major": 2
            },
            "text/plain": [
              "interactive(children=(Dropdown(description='x', options=(('one', 10), ('two', 20)), value=10), Output()), _dom…"
            ]
          },
          "metadata": {
            "tags": []
          }
        }
      ]
    },
    {
      "cell_type": "markdown",
      "metadata": {
        "id": "ymeplMyUVeM4",
        "colab_type": "text"
      },
      "source": [
        "## 2. Use interactive"
      ]
    },
    {
      "cell_type": "markdown",
      "metadata": {
        "id": "Xj0EsGcDVeM6",
        "colab_type": "text"
      },
      "source": [
        "IPython provides another function, interactive, that is useful when you want to reuse the widgets that are produced or access the data that is bound to the UI controls.<br>\n",
        "\n",
        "unlike interact, the return value of the function will not be displayed automatically, but you can display a value inside the function with IPython.display.display.<br>\n",
        "\n",
        "Here is a function that displays the sum of its two arguments and returns the sum. The display line may be omitted if you don't want to show the result of the function."
      ]
    },
    {
      "cell_type": "code",
      "metadata": {
        "id": "g9mAOs6sVeM8",
        "colab_type": "code",
        "colab": {}
      },
      "source": [
        "from IPython.display import display\n",
        "\n",
        "def f(a, b):\n",
        "    display(a + b) # uncomment it of you don't want to see the results.\n",
        "    return a+b"
      ],
      "execution_count": 0,
      "outputs": []
    },
    {
      "cell_type": "code",
      "metadata": {
        "id": "oGhzMMV-VeNB",
        "colab_type": "code",
        "outputId": "7b32fbe6-4b2e-4eb6-87aa-0f1f4b43c60b",
        "colab": {
          "base_uri": "https://localhost:8080/",
          "height": 99,
          "referenced_widgets": [
            "bd1a0c2381204a45b442c2f2f1dea43a",
            "7a4bdd828f494fadae594b6216486991",
            "644b6dbd0738445e83ccd2e99be83721",
            "a83a77b23d494c91afb1a00ebd4572ae",
            "17fb151548814d6382cd78e3c790b23a",
            "951f3d30207442b1a574a33a236c9363",
            "e94ffaeb5e62410b8420f6ae77544db7",
            "e1aa430926e441caa6c4bc6288d0dbdf",
            "3285cd2900704e0083326d034b619e65"
          ]
        }
      },
      "source": [
        "interactive(f, a=10, b=20)"
      ],
      "execution_count": 0,
      "outputs": [
        {
          "output_type": "display_data",
          "data": {
            "application/vnd.jupyter.widget-view+json": {
              "model_id": "bd1a0c2381204a45b442c2f2f1dea43a",
              "version_minor": 0,
              "version_major": 2
            },
            "text/plain": [
              "interactive(children=(IntSlider(value=10, description='a', max=30, min=-10), IntSlider(value=20, description='…"
            ]
          },
          "metadata": {
            "tags": []
          }
        }
      ]
    },
    {
      "cell_type": "markdown",
      "metadata": {
        "id": "TCOcZXblVeNF",
        "colab_type": "text"
      },
      "source": [
        "The widget is an interactive, a subclass of VBox, which is a container for other widgets."
      ]
    },
    {
      "cell_type": "code",
      "metadata": {
        "id": "5O6PcBBiVeNG",
        "colab_type": "code",
        "outputId": "dc23b4ff-3b53-48aa-819b-05ff311d919b",
        "colab": {
          "base_uri": "https://localhost:8080/",
          "height": 35
        }
      },
      "source": [
        "type(interactive(f, a=10, b=20))"
      ],
      "execution_count": 0,
      "outputs": [
        {
          "output_type": "execute_result",
          "data": {
            "text/plain": [
              "ipywidgets.widgets.interaction.interactive"
            ]
          },
          "metadata": {
            "tags": []
          },
          "execution_count": 25
        }
      ]
    },
    {
      "cell_type": "code",
      "metadata": {
        "id": "99cLV5huVeNL",
        "colab_type": "code",
        "outputId": "ce5c520f-1f99-4ef2-e7be-d640d99ea150",
        "colab": {
          "base_uri": "https://localhost:8080/",
          "height": 99,
          "referenced_widgets": [
            "887a539a5ce74aa0b4cab1c379c0f743",
            "76aaeb1adbc245e29a5c46c66609592e",
            "f62cb3e870b8432e8acc2c9c8f3ed090",
            "1fcc3858b8d3476da79a078a132b61aa",
            "d1daa3a343a74c6c9437399ac62f521e",
            "8cf096d1edbe4c4daf4b9890cd912fdc",
            "452e326392e34438b6a27d76a1b28a12",
            "c157d695aa0e4204b6b9764779ed44c4",
            "0f2fc825ed9b4867b6e3bfc26835f291"
          ]
        }
      },
      "source": [
        "w = interactive(f, a=10, b=20)\n",
        "display(w)"
      ],
      "execution_count": 0,
      "outputs": [
        {
          "output_type": "display_data",
          "data": {
            "application/vnd.jupyter.widget-view+json": {
              "model_id": "887a539a5ce74aa0b4cab1c379c0f743",
              "version_minor": 0,
              "version_major": 2
            },
            "text/plain": [
              "interactive(children=(IntSlider(value=10, description='a', max=30, min=-10), IntSlider(value=20, description='…"
            ]
          },
          "metadata": {
            "tags": []
          }
        }
      ]
    },
    {
      "cell_type": "code",
      "metadata": {
        "id": "A4lLGXtCVeNO",
        "colab_type": "code",
        "outputId": "30f4e3b4-ceaa-467f-e050-c3bd8144cdc8",
        "colab": {
          "base_uri": "https://localhost:8080/",
          "height": 35
        }
      },
      "source": [
        "# current return value of the function\n",
        "w.result"
      ],
      "execution_count": 0,
      "outputs": [
        {
          "output_type": "execute_result",
          "data": {
            "text/plain": [
              "32"
            ]
          },
          "metadata": {
            "tags": []
          },
          "execution_count": 27
        }
      ]
    },
    {
      "cell_type": "markdown",
      "metadata": {
        "id": "b2QrJAwxVeNS",
        "colab_type": "text"
      },
      "source": [
        "## 3. Basic interactive plot"
      ]
    },
    {
      "cell_type": "markdown",
      "metadata": {
        "id": "_UiuVJIjVeNS",
        "colab_type": "text"
      },
      "source": [
        "The function below plots a straight line whose slope and intercept are given by its arguments."
      ]
    },
    {
      "cell_type": "code",
      "metadata": {
        "id": "GH7VtuFkVeNT",
        "colab_type": "code",
        "colab": {}
      },
      "source": [
        "%matplotlib inline\n",
        "import matplotlib.pyplot as plt\n",
        "import numpy as np\n",
        "\n",
        "def line_plot(m, b):\n",
        "    plt.figure(2)\n",
        "    x = np.linspace(-10, 10, num=1000)\n",
        "    plt.plot(x, m * x + b)\n",
        "    plt.ylim(-5, 5)\n",
        "    plt.show()"
      ],
      "execution_count": 0,
      "outputs": []
    },
    {
      "cell_type": "code",
      "metadata": {
        "id": "sQfez-uTVeNZ",
        "colab_type": "code",
        "outputId": "5ce1098c-dca7-4353-8b5f-2cddf3090557",
        "colab": {
          "base_uri": "https://localhost:8080/",
          "height": 329,
          "referenced_widgets": [
            "b2b99ba7959f4f8fa08614f5665a0015",
            "8934758fe8104dcdbc44e2ced1fbd9b1",
            "14507a77e33448e79f988685527fdead",
            "730b3000a886407caea99748d8779f38",
            "d1e1555ebe4446a58a7ff1115bcc564f",
            "a02a9b635d4b4cc1843893eeb4e0ef61",
            "040c72c885a8415b9510706fce994185",
            "7ed925ed3dea420a9f26a1109120f90f",
            "6b2428c141ed41e3a189a9079d0477c7"
          ]
        }
      },
      "source": [
        "interactive_plot = interactive(line_plot, m=(-2.0, 2.0), b=(-3, 3, 0.5), continuous_update=False)\n",
        "interactive_plot"
      ],
      "execution_count": 27,
      "outputs": [
        {
          "output_type": "display_data",
          "data": {
            "application/vnd.jupyter.widget-view+json": {
              "model_id": "b2b99ba7959f4f8fa08614f5665a0015",
              "version_minor": 0,
              "version_major": 2
            },
            "text/plain": [
              "interactive(children=(FloatSlider(value=0.0, description='m', max=2.0, min=-2.0), FloatSlider(value=0.0, descr…"
            ]
          },
          "metadata": {
            "tags": []
          }
        }
      ]
    },
    {
      "cell_type": "markdown",
      "metadata": {
        "id": "AgpV1KQsVeNg",
        "colab_type": "text"
      },
      "source": [
        "## 4. Disabling continuous updates\n",
        "\n",
        "When interacting with long running functions, or even with short functions whose results take some to display, realtime feedback is a burden instead of being helpful. You might have noticed the output of some of the widgets above \"flickering\" as you adjusted the controls. By default, interact and interactive call the function for every update of the widgets value.\n",
        "\n",
        "There are two ways to mitigate this. You can either only execute on demand, or restrict execution to mouse release events."
      ]
    },
    {
      "cell_type": "markdown",
      "metadata": {
        "id": "u_5YXO6CVeNi",
        "colab_type": "text"
      },
      "source": [
        "### interact_manual\n",
        "\n",
        "The interact_manual function provides a variant of interaction that allows you to restrict execution so it is only done on demand. A **button** is added to the interact controls that allows you to trigger an execute event."
      ]
    },
    {
      "cell_type": "code",
      "metadata": {
        "id": "0ifzk5uFVeNj",
        "colab_type": "code",
        "outputId": "504240a9-939d-4a1a-ecda-07235798712d",
        "colab": {
          "base_uri": "https://localhost:8080/",
          "height": 116,
          "referenced_widgets": [
            "0fa8e84017574366b2aa208232d2d7e4",
            "0b595dada5fb434098fd3f76234b8f82",
            "5969dd5d311048afbae26d0770703407",
            "5849ac8817ba44eb884bc2661a09eef2",
            "1c058e9cf81f4fdbb4805e400924c815",
            "4deb84e3ca3649e6bab9c3d749a39664",
            "e80b6183c467424196c1b08cd529b6fa",
            "a83ecf2f718f4ee9be16245ce2e25895",
            "f331586c1e724330bb2ab79d7e51009b"
          ]
        }
      },
      "source": [
        "def slow_function(i):\n",
        "    \"\"\"\n",
        "    Sleep for 1 second then print the argument\n",
        "    \"\"\"\n",
        "    from time import sleep\n",
        "    print('Sleeping...')\n",
        "    sleep(1)\n",
        "    print(i)\n",
        "\n",
        "interact_manual(slow_function, i=widgets.FloatSlider(min=1e4, max=1e6, step=1e4));"
      ],
      "execution_count": 0,
      "outputs": [
        {
          "output_type": "display_data",
          "data": {
            "application/vnd.jupyter.widget-view+json": {
              "model_id": "0fa8e84017574366b2aa208232d2d7e4",
              "version_minor": 0,
              "version_major": 2
            },
            "text/plain": [
              "interactive(children=(FloatSlider(value=10000.0, description='i', max=1000000.0, min=10000.0, step=10000.0), B…"
            ]
          },
          "metadata": {
            "tags": []
          }
        }
      ]
    },
    {
      "cell_type": "markdown",
      "metadata": {
        "id": "mAw4xLmrVeNo",
        "colab_type": "text"
      },
      "source": [
        "Let's try this on line_plot"
      ]
    },
    {
      "cell_type": "code",
      "metadata": {
        "id": "r6i3PNufVeNp",
        "colab_type": "code",
        "outputId": "ec6ebcf5-d7c8-405b-9c6e-fc0ef104c91f",
        "colab": {
          "base_uri": "https://localhost:8080/",
          "height": 131,
          "referenced_widgets": [
            "7f4f8ceb4653472c9ab7335106ebc9fe",
            "95fcb4e91283402f9e4c4ce1a39297dc",
            "2c89adf06e0845cb9adcdbbe91355ac3",
            "c93fb48cb889460ba30614f7d9ec8cc4",
            "2757c6a8d83d42bdb6a5b6576e98cd8c",
            "25936067495a46b9837258c24863f22a",
            "2f08d10ed3734c589583b03ba93148ce",
            "decd7b1970704418a4b7942de06611a5",
            "efa27b2ba9eb4a3c9002a86b793402e0",
            "804967b145cb474dafb58954cf34cf60",
            "b568c26053554ec492ab76a82b3616aa",
            "027ef2b907ba47b7a48da5800de89457"
          ]
        }
      },
      "source": [
        "interact_manual(line_plot, m=(-2.0, 2.0), b=(-3, 3, 0.5))"
      ],
      "execution_count": 61,
      "outputs": [
        {
          "output_type": "display_data",
          "data": {
            "application/vnd.jupyter.widget-view+json": {
              "model_id": "7f4f8ceb4653472c9ab7335106ebc9fe",
              "version_minor": 0,
              "version_major": 2
            },
            "text/plain": [
              "interactive(children=(FloatSlider(value=0.0, description='m', max=2.0, min=-2.0), FloatSlider(value=0.0, descr…"
            ]
          },
          "metadata": {
            "tags": []
          }
        },
        {
          "output_type": "execute_result",
          "data": {
            "text/plain": [
              "<function __main__.line_plot>"
            ]
          },
          "metadata": {
            "tags": []
          },
          "execution_count": 61
        }
      ]
    },
    {
      "cell_type": "markdown",
      "metadata": {
        "id": "cg3CE50xVeNu",
        "colab_type": "text"
      },
      "source": [
        "## 5. Continuous updates\n",
        "Let's see the difference only using interactive\n",
        "\n",
        "continuous_update is a keyword argument of slider widgets that restricts executions to mouse release events."
      ]
    },
    {
      "cell_type": "code",
      "metadata": {
        "id": "p2AcLHVxVeNu",
        "colab_type": "code",
        "outputId": "4f2b7a5e-9b30-46a7-cfab-6f5332bfbe21",
        "colab": {
          "base_uri": "https://localhost:8080/",
          "height": 84,
          "referenced_widgets": [
            "a64933c3408548e8a53e9ad66b0b34ac",
            "43850041df0a4f16a2b02453469dc185",
            "3bc59470b3e14db4af086566a96e6c21",
            "88b9e2a8a34d47dcb1b5dded79dc73ef",
            "af308dd6bbc44d14960b7dbeb28a0e18",
            "a149e493bb524ab2a6ac27531a0fc125"
          ]
        }
      },
      "source": [
        "foo1 = interactive(slow_function,i=widgets.FloatSlider(min=1e4, max=1e6, step=1e4))\n",
        "foo1"
      ],
      "execution_count": 0,
      "outputs": [
        {
          "output_type": "display_data",
          "data": {
            "application/vnd.jupyter.widget-view+json": {
              "model_id": "a64933c3408548e8a53e9ad66b0b34ac",
              "version_minor": 0,
              "version_major": 2
            },
            "text/plain": [
              "interactive(children=(FloatSlider(value=10000.0, description='i', max=1000000.0, min=10000.0, step=10000.0), O…"
            ]
          },
          "metadata": {
            "tags": []
          }
        }
      ]
    },
    {
      "cell_type": "code",
      "metadata": {
        "id": "FCaB6qKPVeNx",
        "colab_type": "code",
        "outputId": "8ffefb3d-7f43-4db8-8eaf-bd35e20860dc",
        "colab": {
          "base_uri": "https://localhost:8080/",
          "height": 84,
          "referenced_widgets": [
            "616da7625403407f9a1d619f6fd54110",
            "b362216db1ac46d1a83f6995b61527fd",
            "0034abec19934b139b6ead2364a5fc0a",
            "5fd1361ceaa549c792e34280ce81ed59",
            "07e748d758d041e98360f53735eef292",
            "c51b215291324c259afe3100f79290e1"
          ]
        }
      },
      "source": [
        "foo2 = interactive(slow_function,i=widgets.FloatSlider(min=1e4, max=1e6, step=5e4, continuous_update=False))\n",
        "foo2"
      ],
      "execution_count": 0,
      "outputs": [
        {
          "output_type": "display_data",
          "data": {
            "application/vnd.jupyter.widget-view+json": {
              "model_id": "616da7625403407f9a1d619f6fd54110",
              "version_minor": 0,
              "version_major": 2
            },
            "text/plain": [
              "interactive(children=(FloatSlider(value=10000.0, continuous_update=False, description='i', max=1000000.0, min=…"
            ]
          },
          "metadata": {
            "tags": []
          }
        }
      ]
    },
    {
      "cell_type": "markdown",
      "metadata": {
        "id": "g_EsiUYnVeN1",
        "colab_type": "text"
      },
      "source": [
        "## 6. interactive_output\n",
        "\n",
        "interactive_output provides additional flexibility: you can control how the UI elements are laid out."
      ]
    },
    {
      "cell_type": "code",
      "metadata": {
        "id": "_lry3VkvVeN3",
        "colab_type": "code",
        "outputId": "645275b5-633e-4072-be20-a6dd0064f00f",
        "colab": {
          "base_uri": "https://localhost:8080/",
          "height": 84,
          "referenced_widgets": [
            "f77b7dadc93449c9801f4b679923fedb",
            "7b14ce6f677143fd920b06d0803f5888",
            "b206b843a3b0435792609dae595d1824",
            "7427d2861c2340319a9a3c34fa171419",
            "a77f4cab914c4f8fb60abd824eb7955f",
            "08375dc383084a288a0f230eedfa033d",
            "95cf4536319943429b42e128c24310bf",
            "dd60d36ab4b94c18affac4e7c70f7701",
            "32ea29aeb83a49dfa1a1547791af8fae",
            "6d9a5cd2354e4a3dac91d7dcf23e5140",
            "c088f5750253496daf85cc7c21766b8b",
            "5ea10b4cca7d4c7196e296e88aa8c565"
          ]
        }
      },
      "source": [
        "a = widgets.IntSlider()\n",
        "b = widgets.IntSlider()\n",
        "c = widgets.IntSlider()\n",
        "\n",
        "# An HBox lays out its children horizontally\n",
        "ui = widgets.HBox([a, b, c])\n",
        "\n",
        "def f(a, b, c):\n",
        "    # You can use print here instead of display because interactive_output generates a normal notebook \n",
        "    # output area.\n",
        "    print((a, b, c))\n",
        "    print(\"SUM:\",a+b+c)\n",
        "\n",
        "out = widgets.interactive_output(f, {'a': a, 'b': b, 'c': c})\n",
        "\n",
        "display(ui, out)"
      ],
      "execution_count": 51,
      "outputs": [
        {
          "output_type": "display_data",
          "data": {
            "application/vnd.jupyter.widget-view+json": {
              "model_id": "f77b7dadc93449c9801f4b679923fedb",
              "version_minor": 0,
              "version_major": 2
            },
            "text/plain": [
              "HBox(children=(IntSlider(value=0), IntSlider(value=0), IntSlider(value=0)))"
            ]
          },
          "metadata": {
            "tags": []
          }
        },
        {
          "output_type": "display_data",
          "data": {
            "application/vnd.jupyter.widget-view+json": {
              "model_id": "5ea10b4cca7d4c7196e296e88aa8c565",
              "version_minor": 0,
              "version_major": 2
            },
            "text/plain": [
              "Output()"
            ]
          },
          "metadata": {
            "tags": []
          }
        }
      ]
    },
    {
      "cell_type": "markdown",
      "metadata": {
        "id": "mcSPR8SQVeN8",
        "colab_type": "text"
      },
      "source": [
        "## 7. Exercise 1"
      ]
    },
    {
      "cell_type": "markdown",
      "metadata": {
        "id": "no2tPrpEVeN-",
        "colab_type": "text"
      },
      "source": [
        "**Reverse some text**:\n",
        "\n",
        "Here is a function that takes text as an input and returns the text backwards."
      ]
    },
    {
      "cell_type": "code",
      "metadata": {
        "id": "kDG8C1bGVeN_",
        "colab_type": "code",
        "outputId": "89c32bea-e9c7-4e42-de74-166b03f31b6e",
        "colab": {
          "base_uri": "https://localhost:8080/",
          "height": 35
        }
      },
      "source": [
        "def reverse(x):\n",
        "    return x[::-1]\n",
        "\n",
        "reverse('I am printed backwards.')"
      ],
      "execution_count": 59,
      "outputs": [
        {
          "output_type": "execute_result",
          "data": {
            "text/plain": [
              "'.sdrawkcab detnirp ma I'"
            ]
          },
          "metadata": {
            "tags": []
          },
          "execution_count": 59
        }
      ]
    },
    {
      "cell_type": "code",
      "metadata": {
        "id": "yxfUvtt7VeOC",
        "colab_type": "code",
        "outputId": "e306fba3-6665-4001-d19c-c23a230c2cd8",
        "colab": {
          "base_uri": "https://localhost:8080/",
          "height": 84,
          "referenced_widgets": [
            "0f1a5112c4e74711970ef87588261cdb",
            "416ad2f3ea0b43398d9f1dba91f1d844",
            "5b5e06a41389472497a5b548dde9837d",
            "60e8b56914be4a7282094ced6239f70a",
            "2ebebb008f6e4724be8baa33bcb2cc30",
            "fa0fcb8797d74ed5a34e6b2e2c95b200"
          ]
        }
      },
      "source": [
        "interact(reverse, x='Hello')"
      ],
      "execution_count": 60,
      "outputs": [
        {
          "output_type": "display_data",
          "data": {
            "application/vnd.jupyter.widget-view+json": {
              "model_id": "0f1a5112c4e74711970ef87588261cdb",
              "version_minor": 0,
              "version_major": 2
            },
            "text/plain": [
              "interactive(children=(Text(value='Hello', description='x'), Output()), _dom_classes=('widget-interact',))"
            ]
          },
          "metadata": {
            "tags": []
          }
        },
        {
          "output_type": "execute_result",
          "data": {
            "text/plain": [
              "<function __main__.reverse>"
            ]
          },
          "metadata": {
            "tags": []
          },
          "execution_count": 60
        }
      ]
    },
    {
      "cell_type": "markdown",
      "metadata": {
        "id": "CXbj_Fm8VeOE",
        "colab_type": "text"
      },
      "source": [
        "## 8. Exercise 2"
      ]
    },
    {
      "cell_type": "markdown",
      "metadata": {
        "id": "rr79NSZaVeOF",
        "colab_type": "text"
      },
      "source": [
        "**Make a plot**:\n",
        "\n",
        "Here is a python function that, given $k$ and $p$, plots $f(x) = \\sin(k x + p)$."
      ]
    },
    {
      "cell_type": "code",
      "metadata": {
        "id": "D99CLKk1VeOH",
        "colab_type": "code",
        "outputId": "efd63cc5-33b1-496f-d583-a66a536fe83a",
        "colab": {
          "base_uri": "https://localhost:8080/",
          "height": 265
        }
      },
      "source": [
        "def plot_f(k, p):\n",
        "    x = np.linspace(0, 4 * np.pi)\n",
        "    y = np.sin(k*x + p)\n",
        "    plt.plot(x, y)\n",
        "    plt.show()\n",
        "    \n",
        "plot_f(1.3, 3)"
      ],
      "execution_count": 0,
      "outputs": [
        {
          "output_type": "display_data",
          "data": {
            "image/png": "[encoded data removed]",
            "text/plain": [
              "<Figure size 432x288 with 1 Axes>"
            ]
          },
          "metadata": {
            "tags": []
          }
        }
      ]
    },
    {
      "cell_type": "code",
      "metadata": {
        "id": "Tz-lG5tpVeOQ",
        "colab_type": "code",
        "outputId": "bea1482d-ee8c-4001-c378-38feb19b1f2e",
        "colab": {
          "base_uri": "https://localhost:8080/",
          "height": 347,
          "referenced_widgets": [
            "51811ab5e1f947ed833389ae1c813804",
            "3e14d07a87f344f9969f1ccc9572e76a",
            "45353a9c5608466cb34006f12bc0b115",
            "a189eaf4a2e049ea9bf899d533eb4682",
            "236c33f17c124bd79d9179776435e901",
            "4e104b257dd14e3c9aadf87e66df1fd5",
            "bc46bd5804e14189842ad0cb1061848a",
            "50277e99a9234ec39dab8865e37dc517",
            "dd3a122ddf68419f9100f1ac3c344b19"
          ]
        }
      },
      "source": [
        "interact(plot_f, k=(0.5, 2), p=(0, 2 * np.pi))"
      ],
      "execution_count": 0,
      "outputs": [
        {
          "output_type": "display_data",
          "data": {
            "application/vnd.jupyter.widget-view+json": {
              "model_id": "51811ab5e1f947ed833389ae1c813804",
              "version_minor": 0,
              "version_major": 2
            },
            "text/plain": [
              "interactive(children=(FloatSlider(value=1.25, description='k', max=2.0, min=0.5), FloatSlider(value=3.14159265…"
            ]
          },
          "metadata": {
            "tags": []
          }
        },
        {
          "output_type": "execute_result",
          "data": {
            "text/plain": [
              "<function __main__.plot_f>"
            ]
          },
          "metadata": {
            "tags": []
          },
          "execution_count": 41
        }
      ]
    },
    {
      "cell_type": "markdown",
      "metadata": {
        "id": "cGw9srv4VeOT",
        "colab_type": "text"
      },
      "source": [
        "## 9. Widgets"
      ]
    },
    {
      "cell_type": "markdown",
      "metadata": {
        "id": "4ynKrySIVeOW",
        "colab_type": "text"
      },
      "source": [
        "**What are widgets?**\n",
        "\n",
        "Widgets are eventful python objects that have a representation in the browser, often as a control like a slider, textbox, etc."
      ]
    },
    {
      "cell_type": "markdown",
      "metadata": {
        "id": "6MTH1IfiVeOX",
        "colab_type": "text"
      },
      "source": [
        "Using widgets:\n",
        "\n",
        "To use the widget framework, you need to import ipywidgets."
      ]
    },
    {
      "cell_type": "code",
      "metadata": {
        "id": "05gnlKbDVeOX",
        "colab_type": "code",
        "colab": {}
      },
      "source": [
        "import ipywidgets as widgets"
      ],
      "execution_count": 0,
      "outputs": []
    },
    {
      "cell_type": "code",
      "metadata": {
        "id": "mjQQsbUEVeOd",
        "colab_type": "code",
        "outputId": "5044bb5b-1a98-4d0a-dbd8-39128a8c6276",
        "colab": {
          "referenced_widgets": [
            "cb17d51257134db993fdb32db1de3682"
          ]
        }
      },
      "source": [
        "widgets.IntSlider()"
      ],
      "execution_count": 0,
      "outputs": [
        {
          "output_type": "display_data",
          "data": {
            "application/vnd.jupyter.widget-view+json": {
              "model_id": "cb17d51257134db993fdb32db1de3682",
              "version_major": 2,
              "version_minor": 0
            },
            "text/plain": [
              "IntSlider(value=0)"
            ]
          },
          "metadata": {
            "tags": []
          }
        }
      ]
    },
    {
      "cell_type": "markdown",
      "metadata": {
        "id": "2thlA9ENVeOh",
        "colab_type": "text"
      },
      "source": [
        "display()\n",
        "\n",
        "You can also explicitly display the widget using display(...)."
      ]
    },
    {
      "cell_type": "code",
      "metadata": {
        "id": "KFJht20XVeOi",
        "colab_type": "code",
        "outputId": "35e66241-8cae-4763-d13b-1c7cde555db8",
        "colab": {
          "referenced_widgets": [
            "abac562d05294f4c96ecc2821c0d9ab5"
          ]
        }
      },
      "source": [
        "from IPython.display import display\n",
        "w = widgets.IntSlider()\n",
        "display(w)"
      ],
      "execution_count": 0,
      "outputs": [
        {
          "output_type": "display_data",
          "data": {
            "application/vnd.jupyter.widget-view+json": {
              "model_id": "abac562d05294f4c96ecc2821c0d9ab5",
              "version_major": 2,
              "version_minor": 0
            },
            "text/plain": [
              "IntSlider(value=0)"
            ]
          },
          "metadata": {
            "tags": []
          }
        }
      ]
    },
    {
      "cell_type": "markdown",
      "metadata": {
        "id": "0LQU-hKWVeOl",
        "colab_type": "text"
      },
      "source": [
        "If you display the same widget twice, the displayed instances in the front-end will remain in sync with each other. Try dragging the slider below and watch the slider above."
      ]
    },
    {
      "cell_type": "code",
      "metadata": {
        "id": "23aYNJ6xVeOl",
        "colab_type": "code",
        "outputId": "a176b05e-4c90-485f-d8e8-714893e36687",
        "colab": {
          "referenced_widgets": [
            "abac562d05294f4c96ecc2821c0d9ab5"
          ]
        }
      },
      "source": [
        "display(w)"
      ],
      "execution_count": 0,
      "outputs": [
        {
          "output_type": "display_data",
          "data": {
            "application/vnd.jupyter.widget-view+json": {
              "model_id": "abac562d05294f4c96ecc2821c0d9ab5",
              "version_major": 2,
              "version_minor": 0
            },
            "text/plain": [
              "IntSlider(value=32)"
            ]
          },
          "metadata": {
            "tags": []
          }
        }
      ]
    },
    {
      "cell_type": "markdown",
      "metadata": {
        "id": "InhDFcUZVeOq",
        "colab_type": "text"
      },
      "source": [
        "## 10. Link two similar widgets"
      ]
    },
    {
      "cell_type": "markdown",
      "metadata": {
        "id": "L89CJQkiVeOr",
        "colab_type": "text"
      },
      "source": [
        "If you need to display the same value two different ways, you'll have to use two different widgets. Instead of attempting to manually synchronize the values of the two widgets, you can use the link or jslink function to link two properties together."
      ]
    },
    {
      "cell_type": "code",
      "metadata": {
        "id": "O3YrDsL8VeOv",
        "colab_type": "code",
        "outputId": "b82352cf-0f97-4635-ecb4-a964858c5f00",
        "colab": {
          "base_uri": "https://localhost:8080/",
          "height": 263,
          "referenced_widgets": [
            "83646120c1d3473e9935f893ce2a5cbf",
            "890c427ad995492db8fea0e70921433c",
            "ecc1533bc3834820b79dd63ede6a45a4",
            "9e3c6e9cb2b84f71ac74ea29d46c41ad",
            "83b0fe3cf0214256889834a81b0c53b8",
            "a6e7ada81a654d71a42698d74faa5ea1"
          ]
        }
      },
      "source": [
        "a = widgets.FloatText()\n",
        "b = widgets.FloatSlider()\n",
        "\n",
        "display(a,b)\n",
        "\n",
        "mylink = widgets.link((a, 'value'), (b, 'value'))"
      ],
      "execution_count": 57,
      "outputs": [
        {
          "output_type": "display_data",
          "data": {
            "application/vnd.jupyter.widget-view+json": {
              "model_id": "83646120c1d3473e9935f893ce2a5cbf",
              "version_minor": 0,
              "version_major": 2
            },
            "text/plain": [
              "FloatText(value=0.0)"
            ]
          },
          "metadata": {
            "tags": []
          }
        },
        {
          "output_type": "display_data",
          "data": {
            "application/vnd.jupyter.widget-view+json": {
              "model_id": "9e3c6e9cb2b84f71ac74ea29d46c41ad",
              "version_minor": 0,
              "version_major": 2
            },
            "text/plain": [
              "FloatSlider(value=0.0)"
            ]
          },
          "metadata": {
            "tags": []
          }
        },
        {
          "output_type": "error",
          "ename": "AttributeError",
          "evalue": "ignored",
          "traceback": [
            "\u001b[0;31m---------------------------------------------------------------------------\u001b[0m",
            "\u001b[0;31mAttributeError\u001b[0m                            Traceback (most recent call last)",
            "\u001b[0;32m<ipython-input-57-c458d9ced3a1>\u001b[0m in \u001b[0;36m<module>\u001b[0;34m()\u001b[0m\n\u001b[1;32m      4\u001b[0m \u001b[0mdisplay\u001b[0m\u001b[0;34m(\u001b[0m\u001b[0ma\u001b[0m\u001b[0;34m,\u001b[0m\u001b[0mb\u001b[0m\u001b[0;34m)\u001b[0m\u001b[0;34m\u001b[0m\u001b[0;34m\u001b[0m\u001b[0m\n\u001b[1;32m      5\u001b[0m \u001b[0;34m\u001b[0m\u001b[0m\n\u001b[0;32m----> 6\u001b[0;31m \u001b[0mmylink\u001b[0m \u001b[0;34m=\u001b[0m \u001b[0mwidgets\u001b[0m\u001b[0;34m.\u001b[0m\u001b[0mlink\u001b[0m\u001b[0;34m(\u001b[0m\u001b[0;34m(\u001b[0m\u001b[0ma\u001b[0m\u001b[0;34m,\u001b[0m \u001b[0;34m'value'\u001b[0m\u001b[0;34m)\u001b[0m\u001b[0;34m,\u001b[0m \u001b[0;34m(\u001b[0m\u001b[0mb\u001b[0m\u001b[0;34m,\u001b[0m \u001b[0;34m'value'\u001b[0m\u001b[0;34m)\u001b[0m\u001b[0;34m)\u001b[0m\u001b[0;34m\u001b[0m\u001b[0;34m\u001b[0m\u001b[0m\n\u001b[0m",
            "\u001b[0;31mAttributeError\u001b[0m: module 'ipywidgets.widgets' has no attribute 'link'"
          ]
        }
      ]
    },
    {
      "cell_type": "markdown",
      "metadata": {
        "id": "iTuyg1AAVeO1",
        "colab_type": "text"
      },
      "source": [
        "## 11. Widget output"
      ]
    },
    {
      "cell_type": "code",
      "metadata": {
        "id": "dzLFCjFOVeO2",
        "colab_type": "code",
        "outputId": "e4efafe2-7513-42d6-879d-7e52f2c309b7",
        "colab": {
          "base_uri": "https://localhost:8080/",
          "height": 440,
          "referenced_widgets": [
            "c3c5951375654790a0ab58be5f0e9b09",
            "ed8b8fb1846545cc8a40413ca6d4141a",
            "51d89e0f80c24468b4e4102cf7113d9a",
            "2393d051b1f0474194dac474e0ec0c05"
          ]
        }
      },
      "source": [
        "out1 = widgets.Output(layout={'border': '1px solid black'})\n",
        "out1"
      ],
      "execution_count": 0,
      "outputs": [
        {
          "output_type": "display_data",
          "data": {
            "application/vnd.jupyter.widget-view+json": {
              "model_id": "c3c5951375654790a0ab58be5f0e9b09",
              "version_minor": 0,
              "version_major": 2
            },
            "text/plain": [
              "Output(layout=Layout(border='1px solid black'))"
            ]
          },
          "metadata": {
            "tags": []
          }
        }
      ]
    },
    {
      "cell_type": "code",
      "metadata": {
        "id": "gkm8L_S9VeO9",
        "colab_type": "code",
        "colab": {}
      },
      "source": [
        "with out1:\n",
        "    for i in range(5):\n",
        "        print(i, 'Hello world!')"
      ],
      "execution_count": 0,
      "outputs": []
    },
    {
      "cell_type": "markdown",
      "metadata": {
        "id": "uE3qBSUzVePC",
        "colab_type": "text"
      },
      "source": [
        "Rich output can also be directed to the output area. Anything which displays nicely in a Jupyter notebook will also display well in the Output widget."
      ]
    },
    {
      "cell_type": "code",
      "metadata": {
        "id": "V0fK7ZZoVePD",
        "colab_type": "code",
        "colab": {}
      },
      "source": [
        "from IPython.display import YouTubeVideo\n",
        "with out1:\n",
        "    display(YouTubeVideo('J_Cy_QjG6NE'))"
      ],
      "execution_count": 0,
      "outputs": []
    },
    {
      "cell_type": "code",
      "metadata": {
        "id": "mqAC4Om5VePH",
        "colab_type": "code",
        "colab": {}
      },
      "source": [
        "with out1:\n",
        "    display(widgets.IntSlider())"
      ],
      "execution_count": 0,
      "outputs": []
    },
    {
      "cell_type": "markdown",
      "metadata": {
        "id": "-9LA7B-iVePJ",
        "colab_type": "text"
      },
      "source": [
        "We can also append outputs to the output widget directly with the convenience methods append_stdout, append_stderr"
      ]
    },
    {
      "cell_type": "code",
      "metadata": {
        "id": "-8aUHQYqVePK",
        "colab_type": "code",
        "outputId": "bce4094a-0a4b-45bb-ccf3-64b1ee1b3dfd",
        "colab": {
          "referenced_widgets": [
            "c2704b59738146618758472db9724e65"
          ]
        }
      },
      "source": [
        "out2 = widgets.Output(layout={'border': '1px solid black'})\n",
        "out2.append_stdout('Output appended with append_stdout')\n",
        "out2.append_display_data(YouTubeVideo('eWzY2nGfkXk'))\n",
        "out2"
      ],
      "execution_count": 0,
      "outputs": [
        {
          "output_type": "display_data",
          "data": {
            "application/vnd.jupyter.widget-view+json": {
              "model_id": "c2704b59738146618758472db9724e65",
              "version_major": 2,
              "version_minor": 0
            },
            "text/plain": [
              "Output(layout=Layout(border='1px solid black'), outputs=({'output_type': 'stream', 'name': 'stdout', 'text': '…"
            ]
          },
          "metadata": {
            "tags": []
          }
        }
      ]
    },
    {
      "cell_type": "markdown",
      "metadata": {
        "id": "gjN4kUp1VePM",
        "colab_type": "text"
      },
      "source": [
        "clear output"
      ]
    },
    {
      "cell_type": "code",
      "metadata": {
        "id": "41FAu1LLVePP",
        "colab_type": "code",
        "colab": {}
      },
      "source": [
        "out2.clear_output()"
      ],
      "execution_count": 0,
      "outputs": []
    },
    {
      "cell_type": "markdown",
      "metadata": {
        "id": "HDsr5CzJVePS",
        "colab_type": "text"
      },
      "source": [
        "## 12. Assignment"
      ]
    },
    {
      "cell_type": "markdown",
      "metadata": {
        "id": "_1KrqMCjVePT",
        "colab_type": "text"
      },
      "source": [
        "Try to implement the same output as the picture shows below.\n",
        "\n",
        "For scatterplot, use the given scatter_plot function.\n",
        "Note: when you drag the sliding bar, all the circles should be increased simultaneously."
      ]
    },
    {
      "cell_type": "code",
      "metadata": {
        "id": "kfrcdIl1VePU",
        "colab_type": "code",
        "outputId": "a4916f07-a6d5-4574-80d6-04120949f9ea",
        "colab": {}
      },
      "source": [
        "from IPython.display import Image\n",
        "Image(filename='Assign11.png') "
      ],
      "execution_count": 0,
      "outputs": [
        {
          "output_type": "execute_result",
          "data": {
            "image/png": "[encoded data removed]",
            "text/plain": [
              "<IPython.core.display.Image object>"
            ]
          },
          "metadata": {
            "tags": []
          },
          "execution_count": 111
        }
      ]
    },
    {
      "cell_type": "code",
      "metadata": {
        "id": "6Tyy8EpC5SMw",
        "colab_type": "code",
        "colab": {}
      },
      "source": [
        "import matplotlib.pyplot as plt\n",
        "import numpy as np"
      ],
      "execution_count": 0,
      "outputs": []
    },
    {
      "cell_type": "code",
      "metadata": {
        "id": "aaHbeU_4703D",
        "colab_type": "code",
        "colab": {
          "base_uri": "https://localhost:8080/",
          "height": 148,
          "referenced_widgets": [
            "8bb9216024f44f288a68f9869d66ef46",
            "faba4c045a044e548ccb3e40532921bd",
            "8d01e889c7c845329acf1ac5965454e4",
            "b730f87576a94bc88e7e0f732b29396b",
            "a5bbe88f13cf430bb24990a2450768f0",
            "6fe87bb942074a4a837024b4f99b8944",
            "03b222e038b843bb8fdd07413bf3ed14",
            "191457643d924b8db55292b4ee471626",
            "fefc286e1e594283ac65e843b9d4049b",
            "a7526877c1af4abab2b35b642b306a9d",
            "a6bf57659e884fa08cb9fbb4135c6e21",
            "145df0a44c19475485d5dfa936a6563a"
          ]
        },
        "outputId": "8f5ef9c6-0cb4-44b9-903c-7394a587aa31"
      },
      "source": [
        "a = widgets.IntSlider()\n",
        "b = widgets.IntSlider()\n",
        "c = widgets.IntSlider()\n",
        "\n",
        "ui = widgets.VBox([a, b, c])\n",
        "\n",
        "def f(a, b, c):\n",
        "    sum = a + b + c\n",
        "    print(a,\"+\",b,\"+\",c,\"=\",sum)\n",
        "\n",
        "    def isPrime(n):\n",
        "      if n%2==0 or n<2: return (str(n) + \" is not a prime number\") \n",
        "      if n==2 or n==3: return (str(n) + \"is a prime number\")\n",
        "      for i in range(3,int(n**0.5)+1,2):\n",
        "          if n%i==0:\n",
        "              return (str(n) + \" is not a prime number\")  \n",
        "      return (str(n) + \" is a prime number\")\n",
        "\n",
        "    print (isPrime(sum))\n",
        "\n",
        "out = widgets.interactive_output(f, {'a': a, 'b': b, 'c': c})\n",
        "\n",
        "display(ui, out)"
      ],
      "execution_count": 99,
      "outputs": [
        {
          "output_type": "display_data",
          "data": {
            "application/vnd.jupyter.widget-view+json": {
              "model_id": "8bb9216024f44f288a68f9869d66ef46",
              "version_minor": 0,
              "version_major": 2
            },
            "text/plain": [
              "VBox(children=(IntSlider(value=0), IntSlider(value=0), IntSlider(value=0)))"
            ]
          },
          "metadata": {
            "tags": []
          }
        },
        {
          "output_type": "display_data",
          "data": {
            "application/vnd.jupyter.widget-view+json": {
              "model_id": "145df0a44c19475485d5dfa936a6563a",
              "version_minor": 0,
              "version_major": 2
            },
            "text/plain": [
              "Output()"
            ]
          },
          "metadata": {
            "tags": []
          }
        }
      ]
    },
    {
      "cell_type": "code",
      "metadata": {
        "id": "598OUYCdVePX",
        "colab_type": "code",
        "colab": {}
      },
      "source": [
        "def scatter_plot(size):\n",
        "        # Fixing random state for reproducibility\n",
        "        np.random.seed(19680801)\n",
        "    \n",
        "        N = 50\n",
        "        x = np.random.rand(N)\n",
        "        y = np.random.rand(N)\n",
        "        colors = np.random.rand(N)\n",
        "        area = (30 * np.random.rand(N))**2   # 0 to 15 point radii\n",
        "\n",
        "        plt.scatter(x, y, s=area*size/3, c=colors, alpha=0.5)\n",
        "        plt.show()"
      ],
      "execution_count": 0,
      "outputs": []
    },
    {
      "cell_type": "code",
      "metadata": {
        "id": "7V_DP1WqVePb",
        "colab_type": "code",
        "colab": {
          "base_uri": "https://localhost:8080/",
          "height": 301,
          "referenced_widgets": [
            "c0412ff45b954b069fa8b5bd861718a7",
            "7a0737d8c17b478189246732eb4785fc",
            "eb88d34954344152883dbbc2c743806a",
            "211cc9eb73394253b3b5c7a1b0e06a9e",
            "d723f7bd2cfb42ddb66782062ec946b5",
            "178f300bee504261ace3e0ac8a5cf4f5"
          ]
        },
        "outputId": "b6fa62c4-7157-416d-df6f-48ac8ad4b528"
      },
      "source": [
        "interactive_plot = interactive(scatter_plot, size=(1,12), continuous_update=False)\n",
        "interactive_plot"
      ],
      "execution_count": 101,
      "outputs": [
        {
          "output_type": "display_data",
          "data": {
            "application/vnd.jupyter.widget-view+json": {
              "model_id": "c0412ff45b954b069fa8b5bd861718a7",
              "version_minor": 0,
              "version_major": 2
            },
            "text/plain": [
              "interactive(children=(IntSlider(value=6, description='size', max=12, min=1), Output()), _dom_classes=('widget-…"
            ]
          },
          "metadata": {
            "tags": []
          }
        }
      ]
    }
  ]
}